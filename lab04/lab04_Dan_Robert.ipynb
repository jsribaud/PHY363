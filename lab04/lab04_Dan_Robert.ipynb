{
 "cells": [
  {
   "cell_type": "markdown",
   "metadata": {},
   "source": [
    "# The Pi-Mu-e Experiment: Dan & Robert"
   ]
  },
  {
   "cell_type": "markdown",
   "metadata": {},
   "source": [
    "# Introduction / Abstract\n"
   ]
  },
  {
   "cell_type": "markdown",
   "metadata": {},
   "source": [
    "# Procedure\n"
   ]
  },
  {
   "cell_type": "markdown",
   "metadata": {},
   "source": [
    "# Data\n",
    "\n"
   ]
  },
  {
   "cell_type": "code",
   "execution_count": 3,
   "metadata": {
    "scrolled": true
   },
   "outputs": [
    {
     "data": {
      "text/html": [
       "&lt;Table masked=True length=440&gt;\n",
       "<table id=\"table796230472200\" class=\"table-striped table-bordered table-condensed\">\n",
       "<thead><tr><th>page</th><th>length</th><th>radius</th></tr></thead>\n",
       "<thead><tr><th>float64</th><th>float64</th><th>float64</th></tr></thead>\n",
       "<tr><td>5771.0</td><td>0.65</td><td>9.0</td></tr>\n",
       "<tr><td>5771.0</td><td>0.75</td><td>15.0</td></tr>\n",
       "<tr><td>5771.0</td><td>0.55</td><td>16.0</td></tr>\n",
       "<tr><td>5917.0</td><td>1.3</td><td>16.0</td></tr>\n",
       "<tr><td>5917.0</td><td>1.2</td><td>17.0</td></tr>\n",
       "<tr><td>5917.0</td><td>1.3</td><td>18.0</td></tr>\n",
       "<tr><td>5780.0</td><td>1.0</td><td>14.0</td></tr>\n",
       "<tr><td>5780.0</td><td>0.75</td><td>15.0</td></tr>\n",
       "<tr><td>5780.0</td><td>0.5</td><td>11.0</td></tr>\n",
       "<tr><td>5800.0</td><td>1.0</td><td>12.0</td></tr>\n",
       "<tr><td>...</td><td>...</td><td>...</td></tr>\n",
       "<tr><td>5894.0</td><td>1.2</td><td>9.0</td></tr>\n",
       "<tr><td>5894.0</td><td>0.85</td><td>9.0</td></tr>\n",
       "<tr><td>5880.0</td><td>1.05</td><td>3.0</td></tr>\n",
       "<tr><td>5880.0</td><td>1.15</td><td>16.0</td></tr>\n",
       "<tr><td>5826.0</td><td>1.25</td><td>11.0</td></tr>\n",
       "<tr><td>5826.0</td><td>1.2</td><td>10.0</td></tr>\n",
       "<tr><td>5859.0</td><td>1.1</td><td>13.0</td></tr>\n",
       "<tr><td>5859.0</td><td>0.95</td><td>12.0</td></tr>\n",
       "<tr><td>5985.0</td><td>0.9</td><td>10.0</td></tr>\n",
       "<tr><td>5985.0</td><td>1.2</td><td>10.0</td></tr>\n",
       "</table>"
      ],
      "text/plain": [
       "<Table masked=True length=440>\n",
       "  page   length  radius\n",
       "float64 float64 float64\n",
       "------- ------- -------\n",
       " 5771.0    0.65     9.0\n",
       " 5771.0    0.75    15.0\n",
       " 5771.0    0.55    16.0\n",
       " 5917.0     1.3    16.0\n",
       " 5917.0     1.2    17.0\n",
       " 5917.0     1.3    18.0\n",
       " 5780.0     1.0    14.0\n",
       " 5780.0    0.75    15.0\n",
       " 5780.0     0.5    11.0\n",
       " 5800.0     1.0    12.0\n",
       "    ...     ...     ...\n",
       " 5894.0     1.2     9.0\n",
       " 5894.0    0.85     9.0\n",
       " 5880.0    1.05     3.0\n",
       " 5880.0    1.15    16.0\n",
       " 5826.0    1.25    11.0\n",
       " 5826.0     1.2    10.0\n",
       " 5859.0     1.1    13.0\n",
       " 5859.0    0.95    12.0\n",
       " 5985.0     0.9    10.0\n",
       " 5985.0     1.2    10.0"
      ]
     },
     "execution_count": 3,
     "metadata": {},
     "output_type": "execute_result"
    }
   ],
   "source": [
    "from astropy.io import ascii\n",
    "data = ascii.read('data.csv')\n",
    "data"
   ]
  },
  {
   "cell_type": "markdown",
   "metadata": {},
   "source": [
    "# Analysis / Calculations\n"
   ]
  },
  {
   "cell_type": "code",
   "execution_count": 19,
   "metadata": {
    "collapsed": true
   },
   "outputs": [],
   "source": [
    "import numpy as np\n",
    "import matplotlib.pyplot as plt\n",
    "from astropy import units as u\n",
    "from scipy.optimize import curve_fit\n",
    "from matplotlib import pyplot\n",
    "%matplotlib inline"
   ]
  },
  {
   "cell_type": "code",
   "execution_count": 41,
   "metadata": {
    "scrolled": true
   },
   "outputs": [
    {
     "name": "stdout",
     "output_type": "stream",
     "text": [
      "13.9\n",
      "1.29839316734\n",
      "146.769664374\n"
     ]
    },
    {
     "name": "stderr",
     "output_type": "stream",
     "text": [
      "C:\\Users\\Dan\\Anaconda3\\lib\\site-packages\\ipykernel_launcher.py:2: FutureWarning: np.average currently does not preserve subclasses, but will do so in the future to match the behavior of most other numpy functions such as np.mean. In particular, this means calls which returned a scalar may return a 0-d subclass object instead.\n",
      "  \n"
     ]
    }
   ],
   "source": [
    "R = 13.9 # np.average(data['radius']/.785) = 11.2345\n",
    "L = np.average(data['length']/.785)\n",
    "print(R)\n",
    "print(L)\n",
    "\n",
    "c = 1 #2.998 * 10**8 m/s\n",
    "rho = 0.07 # kg/m^3\n",
    "e = 3 * 10**-4 \n",
    "B = 8800 # Gauss\n",
    "m = (3*R*B*e)/c #kg\n",
    "T = np.sqrt(2.1*m*(c**2)*rho*L)\n",
    "P = np.sqrt((T**2) + (2*T*m*(c**2)))/c\n",
    "\n",
    "mp = (np.sqrt(((P*c)**2) + (m*(c**2))**2) + (P*c)) / (c**2)\n",
    "print(mp)"
   ]
  },
  {
   "cell_type": "code",
   "execution_count": 42,
   "metadata": {},
   "outputs": [
    {
     "data": {
      "text/html": [
       "&lt;Table length=91180&gt;\n",
       "<table id=\"table796274703384\" class=\"table-striped table-bordered table-condensed\">\n",
       "<thead><tr><th>delta_t</th><th>timestamp</th></tr></thead>\n",
       "<thead><tr><th>int32</th><th>int32</th></tr></thead>\n",
       "<tr><td>5320</td><td>1506433771</td></tr>\n",
       "<tr><td>12240</td><td>1506433773</td></tr>\n",
       "<tr><td>3980</td><td>1506433788</td></tr>\n",
       "<tr><td>16940</td><td>1506433809</td></tr>\n",
       "<tr><td>15740</td><td>1506433813</td></tr>\n",
       "<tr><td>18940</td><td>1506433814</td></tr>\n",
       "<tr><td>19220</td><td>1506433816</td></tr>\n",
       "<tr><td>3320</td><td>1506433817</td></tr>\n",
       "<tr><td>17520</td><td>1506433818</td></tr>\n",
       "<tr><td>8800</td><td>1506433830</td></tr>\n",
       "<tr><td>...</td><td>...</td></tr>\n",
       "<tr><td>9040</td><td>1506412712</td></tr>\n",
       "<tr><td>1300</td><td>1506412714</td></tr>\n",
       "<tr><td>3440</td><td>1506412720</td></tr>\n",
       "<tr><td>10940</td><td>1506412725</td></tr>\n",
       "<tr><td>6860</td><td>1506412751</td></tr>\n",
       "<tr><td>2540</td><td>1506412752</td></tr>\n",
       "<tr><td>1620</td><td>1506412752</td></tr>\n",
       "<tr><td>1100</td><td>1506412763</td></tr>\n",
       "<tr><td>280</td><td>1506412783</td></tr>\n",
       "<tr><td>6580</td><td>1506412794</td></tr>\n",
       "</table>"
      ],
      "text/plain": [
       "<Table length=91180>\n",
       "delta_t timestamp \n",
       " int32    int32   \n",
       "------- ----------\n",
       "   5320 1506433771\n",
       "  12240 1506433773\n",
       "   3980 1506433788\n",
       "  16940 1506433809\n",
       "  15740 1506433813\n",
       "  18940 1506433814\n",
       "  19220 1506433816\n",
       "   3320 1506433817\n",
       "  17520 1506433818\n",
       "   8800 1506433830\n",
       "    ...        ...\n",
       "   9040 1506412712\n",
       "   1300 1506412714\n",
       "   3440 1506412720\n",
       "  10940 1506412725\n",
       "   6860 1506412751\n",
       "   2540 1506412752\n",
       "   1620 1506412752\n",
       "   1100 1506412763\n",
       "    280 1506412783\n",
       "   6580 1506412794"
      ]
     },
     "execution_count": 42,
     "metadata": {},
     "output_type": "execute_result"
    }
   ],
   "source": [
    "data2 = ascii.read('exp_data.csv')\n",
    "data2"
   ]
  },
  {
   "cell_type": "code",
   "execution_count": 46,
   "metadata": {},
   "outputs": [
    {
     "data": {
      "text/plain": [
       "(array([ 19638.,  11045.,   8623.,   7865.,   7458.,   7378.,   7215.,\n",
       "          7231.,   7376.,   7351.]),\n",
       " array([    40.,   2034.,   4028.,   6022.,   8016.,  10010.,  12004.,\n",
       "         13998.,  15992.,  17986.,  19980.]),\n",
       " <a list of 10 Patch objects>)"
      ]
     },
     "execution_count": 46,
     "metadata": {},
     "output_type": "execute_result"
    },
    {
     "data": {
      "image/png": "[encoded data removed]",
      "text/plain": [
       "<matplotlib.figure.Figure at 0xb96af82898>"
      ]
     },
     "metadata": {},
     "output_type": "display_data"
    }
   ],
   "source": [
    "x = data2['delta_t']\n",
    "plt.hist(x)"
   ]
  },
  {
   "cell_type": "code",
   "execution_count": 47,
   "metadata": {},
   "outputs": [
    {
     "ename": "NameError",
     "evalue": "name 'y' is not defined",
     "output_type": "error",
     "traceback": [
      "\u001b[1;31m---------------------------------------------------------------------------\u001b[0m",
      "\u001b[1;31mNameError\u001b[0m                                 Traceback (most recent call last)",
      "\u001b[1;32m<ipython-input-47-1cd500033f85>\u001b[0m in \u001b[0;36m<module>\u001b[1;34m()\u001b[0m\n\u001b[0;32m      4\u001b[0m \u001b[1;33m\u001b[0m\u001b[0m\n\u001b[0;32m      5\u001b[0m \u001b[1;33m\u001b[0m\u001b[0m\n\u001b[1;32m----> 6\u001b[1;33m \u001b[0mplt\u001b[0m\u001b[1;33m.\u001b[0m\u001b[0mplot\u001b[0m\u001b[1;33m(\u001b[0m\u001b[0mx\u001b[0m\u001b[1;33m,\u001b[0m \u001b[0my\u001b[0m\u001b[1;33m,\u001b[0m \u001b[1;34m'-'\u001b[0m\u001b[1;33m)\u001b[0m\u001b[1;33m\u001b[0m\u001b[0m\n\u001b[0m\u001b[0;32m      7\u001b[0m \u001b[0mplt\u001b[0m\u001b[1;33m.\u001b[0m\u001b[0mtext\u001b[0m\u001b[1;33m(\u001b[0m\u001b[1;36m0.5\u001b[0m\u001b[1;33m*\u001b[0m\u001b[1;36m10\u001b[0m\u001b[1;33m**\u001b[0m\u001b[1;33m-\u001b[0m\u001b[1;36m8\u001b[0m\u001b[1;33m,\u001b[0m \u001b[1;36m30\u001b[0m\u001b[1;33m,\u001b[0m \u001b[1;34mr\"a = {0:.3f} +/- {1:.3f}\"\u001b[0m\u001b[1;33m.\u001b[0m\u001b[0mformat\u001b[0m\u001b[1;33m(\u001b[0m\u001b[0mpopt\u001b[0m\u001b[1;33m[\u001b[0m\u001b[1;36m0\u001b[0m\u001b[1;33m]\u001b[0m\u001b[1;33m,\u001b[0m \u001b[0mpcov\u001b[0m\u001b[1;33m[\u001b[0m\u001b[1;36m0\u001b[0m\u001b[1;33m,\u001b[0m\u001b[1;36m0\u001b[0m\u001b[1;33m]\u001b[0m\u001b[1;33m**\u001b[0m\u001b[1;36m0.5\u001b[0m\u001b[1;33m)\u001b[0m\u001b[1;33m)\u001b[0m\u001b[1;33m\u001b[0m\u001b[0m\n\u001b[0;32m      8\u001b[0m \u001b[0mplt\u001b[0m\u001b[1;33m.\u001b[0m\u001b[0mtext\u001b[0m\u001b[1;33m(\u001b[0m\u001b[1;36m0.5\u001b[0m\u001b[1;33m*\u001b[0m\u001b[1;36m10\u001b[0m\u001b[1;33m**\u001b[0m\u001b[1;33m-\u001b[0m\u001b[1;36m8\u001b[0m\u001b[1;33m,\u001b[0m \u001b[1;36m20\u001b[0m\u001b[1;33m,\u001b[0m \u001b[1;34mr\"b = {0:.3f} +/- {1:.3f}\"\u001b[0m\u001b[1;33m.\u001b[0m\u001b[0mformat\u001b[0m\u001b[1;33m(\u001b[0m\u001b[0mpopt\u001b[0m\u001b[1;33m[\u001b[0m\u001b[1;36m1\u001b[0m\u001b[1;33m]\u001b[0m\u001b[1;33m,\u001b[0m \u001b[0mpcov\u001b[0m\u001b[1;33m[\u001b[0m\u001b[1;36m1\u001b[0m\u001b[1;33m,\u001b[0m\u001b[1;36m1\u001b[0m\u001b[1;33m]\u001b[0m\u001b[1;33m**\u001b[0m\u001b[1;36m0.5\u001b[0m\u001b[1;33m)\u001b[0m\u001b[1;33m)\u001b[0m\u001b[1;33m\u001b[0m\u001b[0m\n",
      "\u001b[1;31mNameError\u001b[0m: name 'y' is not defined"
     ]
    }
   ],
   "source": [
    "def func(x, a, b):\n",
    "\n",
    "return a*x + b\n",
    "\n",
    "popt, pcov = curve_fit(func, r, l)\n",
    "\n",
    "\n",
    "plt.plot(x, y, '-')\n",
    "plt.text(0.5*10**-8, 30, r\"a = {0:.3f} +/- {1:.3f}\".format(popt[0], pcov[0,0]**0.5))\n",
    "plt.text(0.5*10**-8, 20, r\"b = {0:.3f} +/- {1:.3f}\".format(popt[1], pcov[1,1]**0.5))\n",
    "plt.grid()\n",
    "plt.title('Change in Time vs Change in Distance Travelled')\n",
    "plt.plot(r, l, 'rs')\n",
    "plt.xlabel('Change in Distance (m)')\n",
    "plt.ylabel('Change in Time (ns)')\n",
    "plt.show()"
   ]
  },
  {
   "cell_type": "markdown",
   "metadata": {},
   "source": [
    "# Conclusion"
   ]
  },
  {
   "cell_type": "code",
   "execution_count": null,
   "metadata": {
    "collapsed": true
   },
   "outputs": [],
   "source": []
  }
 ],
 "metadata": {
  "kernelspec": {
   "display_name": "Python 3",
   "language": "python",
   "name": "python3"
  },
  "language_info": {
   "codemirror_mode": {
    "name": "ipython",
    "version": 3
   },
   "file_extension": ".py",
   "mimetype": "text/x-python",
   "name": "python",
   "nbconvert_exporter": "python",
   "pygments_lexer": "ipython3",
   "version": "3.6.1"
  }
 },
 "nbformat": 4,
 "nbformat_minor": 1
}
