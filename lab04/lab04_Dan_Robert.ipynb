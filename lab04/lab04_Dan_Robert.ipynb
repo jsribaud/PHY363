{
 "cells": [
  {
   "cell_type": "markdown",
   "metadata": {},
   "source": [
    "# The Pi-Mu-e Experiment: Dan & Robert"
   ]
  },
  {
   "cell_type": "markdown",
   "metadata": {},
   "source": [
    "# Introduction / Abstract\n",
    "   During the collision of particles. Unstable 'elementary' particles may be produced from the interaction with cosmic rays or other large accelerators. These interactions have brought what we thought to be mass less objects, to a scale more precise and meaningful. Using their properties of mass, charge, mean life until decay, decay products, interaction with other particles, distances traveled and other properties that are relevant. Also using the muon to find it mean life demonstrates how time dilation effect of special relativity. We have concluded that the mass of a Pion is approximatlly 146 Mev/c^2"
   ]
  },
  {
   "cell_type": "markdown",
   "metadata": {},
   "source": [
    "# Procedure\n",
    "   To start off the experiment, we are required to approximate the mass of the Pion from analysis of photographs of a bubble chamber, in which the pion decayed in. We were given that the pion decays into a muon and a neutrino, from there the muon decays into a neutrino and a positron. We know from the conservation of energy that the total energy in the system must equal the energy from the sum of each particles energy. Using the relativistic Energy equation, we can determine that the energy from the muon and the momentum from the neutrino from the decay of the pion, can both be used to find the mass of the pion by measuring the radius that the pion traveled and the track left by the muon in the bubble chamber after solving the equation in terms that have known values."
   ]
  },
  {
   "cell_type": "markdown",
   "metadata": {},
   "source": [
    "# Data\n",
    "\n",
    "The following data below is in tables that sort the lengths and radius to give us a mean value for each quantity to then be inserted into a function to find the mass of the pion. Also"
   ]
  },
  {
   "cell_type": "code",
   "execution_count": 10,
   "metadata": {
    "scrolled": true
   },
   "outputs": [
    {
     "data": {
      "text/html": [
       "&lt;Table masked=True length=440&gt;\n",
       "<table id=\"table1656979507464\" class=\"table-striped table-bordered table-condensed\">\n",
       "<thead><tr><th>page</th><th>length</th><th>radius</th></tr></thead>\n",
       "<thead><tr><th>float64</th><th>float64</th><th>float64</th></tr></thead>\n",
       "<tr><td>5771.0</td><td>0.65</td><td>9.0</td></tr>\n",
       "<tr><td>5771.0</td><td>0.75</td><td>15.0</td></tr>\n",
       "<tr><td>5771.0</td><td>0.55</td><td>16.0</td></tr>\n",
       "<tr><td>5917.0</td><td>1.3</td><td>16.0</td></tr>\n",
       "<tr><td>5917.0</td><td>1.2</td><td>17.0</td></tr>\n",
       "<tr><td>5917.0</td><td>1.3</td><td>18.0</td></tr>\n",
       "<tr><td>5780.0</td><td>1.0</td><td>14.0</td></tr>\n",
       "<tr><td>5780.0</td><td>0.75</td><td>15.0</td></tr>\n",
       "<tr><td>5780.0</td><td>0.5</td><td>11.0</td></tr>\n",
       "<tr><td>5800.0</td><td>1.0</td><td>12.0</td></tr>\n",
       "<tr><td>...</td><td>...</td><td>...</td></tr>\n",
       "<tr><td>5894.0</td><td>1.2</td><td>9.0</td></tr>\n",
       "<tr><td>5894.0</td><td>0.85</td><td>9.0</td></tr>\n",
       "<tr><td>5880.0</td><td>1.05</td><td>3.0</td></tr>\n",
       "<tr><td>5880.0</td><td>1.15</td><td>16.0</td></tr>\n",
       "<tr><td>5826.0</td><td>1.25</td><td>11.0</td></tr>\n",
       "<tr><td>5826.0</td><td>1.2</td><td>10.0</td></tr>\n",
       "<tr><td>5859.0</td><td>1.1</td><td>13.0</td></tr>\n",
       "<tr><td>5859.0</td><td>0.95</td><td>12.0</td></tr>\n",
       "<tr><td>5985.0</td><td>0.9</td><td>10.0</td></tr>\n",
       "<tr><td>5985.0</td><td>1.2</td><td>10.0</td></tr>\n",
       "</table>"
      ],
      "text/plain": [
       "<Table masked=True length=440>\n",
       "  page   length  radius\n",
       "float64 float64 float64\n",
       "------- ------- -------\n",
       " 5771.0    0.65     9.0\n",
       " 5771.0    0.75    15.0\n",
       " 5771.0    0.55    16.0\n",
       " 5917.0     1.3    16.0\n",
       " 5917.0     1.2    17.0\n",
       " 5917.0     1.3    18.0\n",
       " 5780.0     1.0    14.0\n",
       " 5780.0    0.75    15.0\n",
       " 5780.0     0.5    11.0\n",
       " 5800.0     1.0    12.0\n",
       "    ...     ...     ...\n",
       " 5894.0     1.2     9.0\n",
       " 5894.0    0.85     9.0\n",
       " 5880.0    1.05     3.0\n",
       " 5880.0    1.15    16.0\n",
       " 5826.0    1.25    11.0\n",
       " 5826.0     1.2    10.0\n",
       " 5859.0     1.1    13.0\n",
       " 5859.0    0.95    12.0\n",
       " 5985.0     0.9    10.0\n",
       " 5985.0     1.2    10.0"
      ]
     },
     "execution_count": 10,
     "metadata": {},
     "output_type": "execute_result"
    }
   ],
   "source": [
    "from astropy.io import ascii\n",
    "data = ascii.read('data.csv')\n",
    "data"
   ]
  },
  {
   "cell_type": "markdown",
   "metadata": {},
   "source": [
    "# Analysis / Calculations\n"
   ]
  },
  {
   "cell_type": "code",
   "execution_count": 11,
   "metadata": {
    "collapsed": true
   },
   "outputs": [],
   "source": [
    "import numpy as np\n",
    "import matplotlib.pyplot as plt\n",
    "from astropy import units as u\n",
    "from scipy.optimize import curve_fit\n",
    "from matplotlib import pyplot\n",
    "%matplotlib inline"
   ]
  },
  {
   "cell_type": "code",
   "execution_count": 12,
   "metadata": {
    "scrolled": true
   },
   "outputs": [
    {
     "name": "stdout",
     "output_type": "stream",
     "text": [
      "13.8853503185\n",
      "1.29839316734\n",
      "146.62602013\n"
     ]
    }
   ],
   "source": [
    "R = np.mean(data['radius']/.785) #13.9\n",
    "L = np.mean(data['length']/.785)\n",
    "print(R)\n",
    "print(L)\n",
    "\n",
    "c = 1 #2.998 * 10**8 m/s\n",
    "rho = 0.07 # kg/m^3\n",
    "e = 3 * 10**-4 \n",
    "B = 8800 # Gauss\n",
    "m = (3*R*B*e)/c #kg\n",
    "T = np.sqrt(2.1*m*(c**2)*rho*L)\n",
    "P = np.sqrt((T**2) + (2*T*m*(c**2)))/c\n",
    "\n",
    "mp = (np.sqrt(((P*c)**2) + (m*(c**2))**2) + (P*c)) / (c**2)\n",
    "print(mp)"
   ]
  },
  {
   "cell_type": "code",
   "execution_count": 13,
   "metadata": {},
   "outputs": [
    {
     "data": {
      "text/html": [
       "&lt;Table length=91180&gt;\n",
       "<table id=\"table1656979479744\" class=\"table-striped table-bordered table-condensed\">\n",
       "<thead><tr><th>delta_t</th><th>timestamp</th></tr></thead>\n",
       "<thead><tr><th>int32</th><th>int32</th></tr></thead>\n",
       "<tr><td>900</td><td>1442521310</td></tr>\n",
       "<tr><td>5420</td><td>1442521318</td></tr>\n",
       "<tr><td>1860</td><td>1442521320</td></tr>\n",
       "<tr><td>8100</td><td>1442521322</td></tr>\n",
       "<tr><td>2880</td><td>1442521331</td></tr>\n",
       "<tr><td>6700</td><td>1442521344</td></tr>\n",
       "<tr><td>3140</td><td>1442521360</td></tr>\n",
       "<tr><td>5640</td><td>1442521361</td></tr>\n",
       "<tr><td>7100</td><td>1442521367</td></tr>\n",
       "<tr><td>17340</td><td>1442521367</td></tr>\n",
       "<tr><td>...</td><td>...</td></tr>\n",
       "<tr><td>10100</td><td>1506625604</td></tr>\n",
       "<tr><td>360</td><td>1506625604</td></tr>\n",
       "<tr><td>240</td><td>1506625626</td></tr>\n",
       "<tr><td>11500</td><td>1506625636</td></tr>\n",
       "<tr><td>2040</td><td>1506625638</td></tr>\n",
       "<tr><td>8060</td><td>1506625638</td></tr>\n",
       "<tr><td>13400</td><td>1506625639</td></tr>\n",
       "<tr><td>3860</td><td>1506625663</td></tr>\n",
       "<tr><td>300</td><td>1506625685</td></tr>\n",
       "<tr><td>13380</td><td>1506625693</td></tr>\n",
       "</table>"
      ],
      "text/plain": [
       "<Table length=91180>\n",
       "delta_t timestamp \n",
       " int32    int32   \n",
       "------- ----------\n",
       "    900 1442521310\n",
       "   5420 1442521318\n",
       "   1860 1442521320\n",
       "   8100 1442521322\n",
       "   2880 1442521331\n",
       "   6700 1442521344\n",
       "   3140 1442521360\n",
       "   5640 1442521361\n",
       "   7100 1442521367\n",
       "  17340 1442521367\n",
       "    ...        ...\n",
       "  10100 1506625604\n",
       "    360 1506625604\n",
       "    240 1506625626\n",
       "  11500 1506625636\n",
       "   2040 1506625638\n",
       "   8060 1506625638\n",
       "  13400 1506625639\n",
       "   3860 1506625663\n",
       "    300 1506625685\n",
       "  13380 1506625693"
      ]
     },
     "execution_count": 13,
     "metadata": {},
     "output_type": "execute_result"
    }
   ],
   "source": [
    "data2 = ascii.read('exp_data.csv')\n",
    "data2"
   ]
  },
  {
   "cell_type": "code",
   "execution_count": 14,
   "metadata": {},
   "outputs": [
    {
     "data": {
      "text/plain": [
       "(array([ 19638.,  11045.,   8623.,   7865.,   7458.,   7378.,   7215.,\n",
       "          7231.,   7376.,   7351.]),\n",
       " array([    40.,   2034.,   4028.,   6022.,   8016.,  10010.,  12004.,\n",
       "         13998.,  15992.,  17986.,  19980.]),\n",
       " <a list of 10 Patch objects>)"
      ]
     },
     "execution_count": 14,
     "metadata": {},
     "output_type": "execute_result"
    },
    {
     "data": {
      "image/png": "[encoded data removed]",
      "text/plain": [
       "<matplotlib.figure.Figure at 0x181cbac54e0>"
      ]
     },
     "metadata": {},
     "output_type": "display_data"
    }
   ],
   "source": [
    "x = data2['delta_t']\n",
    "plt.hist(x)"
   ]
  },
  {
   "cell_type": "code",
   "execution_count": 15,
   "metadata": {},
   "outputs": [
    {
     "ename": "IndentationError",
     "evalue": "expected an indented block (<ipython-input-15-81dfa363f5ec>, line 3)",
     "output_type": "error",
     "traceback": [
      "\u001b[1;36m  File \u001b[1;32m\"<ipython-input-15-81dfa363f5ec>\"\u001b[1;36m, line \u001b[1;32m3\u001b[0m\n\u001b[1;33m    return a*x + b\u001b[0m\n\u001b[1;37m         ^\u001b[0m\n\u001b[1;31mIndentationError\u001b[0m\u001b[1;31m:\u001b[0m expected an indented block\n"
     ]
    }
   ],
   "source": [
    "def func(x, a, b):\n",
    "\n",
    "return a*x + b\n",
    "\n",
    "popt, pcov = curve_fit(func, r, l)\n",
    "\n",
    "\n",
    "plt.plot(x, y, '-')\n",
    "plt.text(0.5*10**-8, 30, r\"a = {0:.3f} +/- {1:.3f}\".format(popt[0], pcov[0,0]**0.5))\n",
    "plt.text(0.5*10**-8, 20, r\"b = {0:.3f} +/- {1:.3f}\".format(popt[1], pcov[1,1]**0.5))\n",
    "plt.grid()\n",
    "plt.title('Change in Time vs Change in Distance Travelled')\n",
    "plt.plot(r, l, 'rs')\n",
    "plt.xlabel('Change in Distance (m)')\n",
    "plt.ylabel('Change in Time (ns)')\n",
    "plt.show()"
   ]
  },
  {
   "cell_type": "markdown",
   "metadata": {},
   "source": [
    "# Conclusion\n",
    "   With the accepted value for the mass of a Pion being 139.57018 EE (35) MeV/c^2 and our value for the mass of the pion being 146.62602 EE (35) MeV/c^2, we have a percent error for the measuring of the mass to be approximately 5%. Some of our sources of error could come from the amount of people that we had measuring the lengths and radius of the arcs. The random error in the collective measurements would lead to some uncertainty in the final value of the calculation. Also, some people used different units and then converted at the end to find an average value that was used in the calculation.\n",
    "    \n"
   ]
  },
  {
   "cell_type": "code",
   "execution_count": 27,
   "metadata": {},
   "outputs": [
    {
     "data": {
      "image/png": "[encoded data removed]",
      "text/plain": [
       "<matplotlib.figure.Figure at 0x181cf3b8ba8>"
      ]
     },
     "metadata": {},
     "output_type": "display_data"
    },
    {
     "data": {
      "text/plain": [
       "(array([ 19638.,  11045.,   8623.,   7865.,   7458.,   7378.,   7215.,\n",
       "          7231.,   7376.,   7351.]),\n",
       " array([    40.,   2034.,   4028.,   6022.,   8016.,  10010.,  12004.,\n",
       "         13998.,  15992.,  17986.,  19980.]),\n",
       " <a list of 10 Patch objects>)"
      ]
     },
     "execution_count": 27,
     "metadata": {},
     "output_type": "execute_result"
    },
    {
     "data": {
      "image/png": "[encoded data removed]",
      "text/plain": [
       "<matplotlib.figure.Figure at 0x181d24be438>"
      ]
     },
     "metadata": {},
     "output_type": "display_data"
    }
   ],
   "source": [
    "#create figure\n",
    "fig, ax = plt.subplots(1, 1)\n",
    "\n",
    "#create random data drawn from an exponential\n",
    "r = np.sort(expon.rvs(size=1000))\n",
    "\n",
    "#create expontial function\n",
    "ax.plot(r, expon.pdf(r),'r-', lw=5, alpha=0.6, label='expon pdf')\n",
    "\n",
    "#add histogram to plot\n",
    "ax.hist(x, normal)\n",
    "ax.hist(r, normed=True, histtype='stepfilled', alpha=0.2)\n",
    "ax.legend(loc='best', frameon=False)\n",
    "\n",
    "plt.show()\n",
    "#print(expon.pdf(r))\n",
    "\n"
   ]
  },
  {
   "cell_type": "code",
   "execution_count": null,
   "metadata": {
    "collapsed": true
   },
   "outputs": [],
   "source": []
  },
  {
   "cell_type": "code",
   "execution_count": null,
   "metadata": {
    "collapsed": true
   },
   "outputs": [],
   "source": []
  }
 ],
 "metadata": {
  "kernelspec": {
   "display_name": "Python 3",
   "language": "python",
   "name": "python3"
  },
  "language_info": {
   "codemirror_mode": {
    "name": "ipython",
    "version": 3
   },
   "file_extension": ".py",
   "mimetype": "text/x-python",
   "name": "python",
   "nbconvert_exporter": "python",
   "pygments_lexer": "ipython3",
   "version": "3.6.1"
  }
 },
 "nbformat": 4,
 "nbformat_minor": 1
}
