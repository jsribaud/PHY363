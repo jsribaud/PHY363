{
 "cells": [
  {
   "cell_type": "markdown",
   "metadata": {},
   "source": [
    " # Calculating the Mass of the Muon and the Pion"
   ]
  },
  {
   "cell_type": "markdown",
   "metadata": {},
   "source": [
    "###### Chelsey McMichael and Jelena Colon"
   ]
  },
  {
   "cell_type": "markdown",
   "metadata": {},
   "source": [
    "# Abstract"
   ]
  },
  {
   "cell_type": "markdown",
   "metadata": {},
   "source": [
    "The purpose of this experiment was to determine the masses of a pion and a muon by analyzing photographs of the bubble chamber in which they decayed. The photographs are visual records of a pion being accelerated in an electric field and decaying into a muon. The muon then travels for a short distance and decays into a positron. By measuring the radius of the trajectory of a positron, and the length of the path of the muon, we determined their masses to be 146.63 MeV/c^2 and 109.97 MeV/c^2, respectively. Compared to the theoretical value, our error in measurement for the mass of the muon was calculated to be 3.747% and for the mass of the pion it was calculated to be 6.024%."
   ]
  },
  {
   "cell_type": "markdown",
   "metadata": {},
   "source": [
    "# Introduction"
   ]
  },
  {
   "cell_type": "markdown",
   "metadata": {},
   "source": [
    "The photographs used in this experiment are visual records of the trail of ionization left by a charged particle in a bubble chamber. This allows us to examine the trajectory of the particle which would change when it decays into a new particle. In the photographs we examined, a pion was accelerated through the bubble chamber and followed a curved path due to the electric field. Once decayed into a muon there is an abrupt change in trajectory due to the muon traveling for a short distance making it appear as a straight line until it decays into a positron. The decay into a positron again marks an abrupt change in trajectory and it starts to move in a curved path. By measuring the radius of the path of the position and the length of the path of the muon, we are able to determine their approximate masses."
   ]
  },
  {
   "cell_type": "markdown",
   "metadata": {},
   "source": [
    "# Procedure"
   ]
  },
  {
   "cell_type": "markdown",
   "metadata": {},
   "source": [
    "We began with analyzing several different photographs of pion-muon decays in a bubble chamber. Within a single photograph there were varying amounts of measurable decay processes. For a single decay process, we first determined which trajectory belonged to the pion, which belonged to the muon and which belonged to the positron. This is evident because the pions ionization path was the darkest and emerged from the left of the photo. Then when it decays into the muon its path changes direction and is so short that it appears to be a straight line. Lastly, the muon decays into a positron and the path changes direction again this time the ionization path was much lighter on the paper. Next, we began taking measurements of that process by finding the radius of the path of the positron in centimeters and the length of the path of the muon in centimeters using a ruler. This was repeated for each and every decay process visible in a photograph and then continued for multiple photographs. We then were able to use the radius of the positrons path to calculate the momentum of the muon and consequently calculate its mass as well as the mass of the pion."
   ]
  },
  {
   "cell_type": "markdown",
   "metadata": {},
   "source": [
    "# Data"
   ]
  },
  {
   "cell_type": "markdown",
   "metadata": {},
   "source": [
    "# Calculations "
   ]
  },
  {
   "cell_type": "code",
   "execution_count": 18,
   "metadata": {},
   "outputs": [
    {
     "name": "stdout",
     "output_type": "stream",
     "text": [
      "The average radius is 10.9 cm.\n",
      "The average length is 1.01923863636 cm.\n"
     ]
    }
   ],
   "source": [
    "from astropy.io import ascii\n",
    "data=ascii.read(\"data.csv\") #this is the collection of class data\n",
    "\n",
    "avg = sum(data['radius']) / len(data['radius']) #this takes the radius data, and len prevents blank spaces from being counted\n",
    "print('The average radius is', data['radius'].mean(), \"cm.\")\n",
    "\n",
    "avg1 = sum(data['length']) / len(data['length']) #this is like the statement above\n",
    "print('The average length is', data['length'].mean(), 'cm.')"
   ]
  },
  {
   "cell_type": "code",
   "execution_count": 4,
   "metadata": {},
   "outputs": [
    {
     "name": "stdout",
     "output_type": "stream",
     "text": [
      "The mass of the muon is 109.971974522293 MeV/c^2\n",
      "The mass of the pion is 146.6260201304343 MeV/c^2\n"
     ]
    }
   ],
   "source": [
    "l_avg =1.01923863636  #cm\n",
    "r_avg = 10.9  #cm\n",
    "\n",
    "#c = (3 * 10) ** 10 #cm/s, not needed\n",
    "c = 1\n",
    "r_per = (r_avg) / (0.785) #cm\n",
    "rho = .07 #gm/cm^3\n",
    "\n",
    "l_per = l_avg / .785 #cm\n",
    "\n",
    "m_muon = 3* (2.64 * r_per) /c #MeV/c^2\n",
    "\n",
    "T = (2.1*((m_muon)* c **2) * rho * l_per)**.5\n",
    "\n",
    "p_muon = ((T**2) + (2*T*(m_muon)* (c**2)))**.5\n",
    "\n",
    "m_pion = ((((p_muon * c)**2+ (m_muon * c ** 2) ** 2) **.5) + (p_muon * c ))/ (c **2) #MeV/c^2\n",
    "\n",
    "\n",
    "print('The mass of the muon is',m_muon, 'MeV/c^2')\n",
    "\n",
    "print('The mass of the pion is', m_pion, 'MeV/c^2')"
   ]
  },
  {
   "cell_type": "code",
   "execution_count": 16,
   "metadata": {},
   "outputs": [
    {
     "data": {
      "image/png": "[encoded data removed]",
      "text/plain": [
       "<matplotlib.figure.Figure at 0x21963f3bda0>"
      ]
     },
     "metadata": {},
     "output_type": "display_data"
    }
   ],
   "source": [
    "from astropy.io import ascii\n",
    "import numpy as np\n",
    "import matplotlib.pyplot as plt\n",
    "from scipy.stats import expon\n",
    "\n",
    "\n",
    "data=ascii.read(\"exp_data.csv\")\n",
    "time_change = data['delta_t']\n",
    "plt.hist(time_change,bins =20)\n",
    "plt.title(\"Change in Time Per Sample\", fontsize=20)\n",
    "plt.xlabel(\"Change in Time (s)\", fontsize = 16)\n",
    "plt.ylabel(\"Frequency\", fontsize = 16)\n",
    "plt.grid(True)\n",
    "plt.show()\n",
    "#this should be nongaussian\n"
   ]
  },
  {
   "cell_type": "markdown",
   "metadata": {},
   "source": [
    "###### To determine the accuracy of the mass calculations, we should determine the percent error in both calculations:"
   ]
  },
  {
   "cell_type": "markdown",
   "metadata": {},
   "source": [
    "Find the percent error of the mass of the muon using:\n",
    "\\begin{equation}\n",
    "{\\%~{error}}= \\frac{|Measured~Value - Theoretical~Value|}{Theoretical~Value}\\times 100\n",
    "\\end{equation}\n",
    "\n",
    "Substitute the value of each quantity into the equation:\n",
    "\n",
    "\\begin{equation}\n",
    "{\\%~{error}}= \\frac{|109.971974522293~MeV/c^2 - 106~MeV/c^2|}{106~m/s}\\times 100\n",
    "\\end{equation}\n",
    "\n",
    "\\begin{equation}\n",
    "{\\%~{error}}= \\frac{|3.97197~MeV/c^2|}{106~MeV/c^2}\\times 100\n",
    "\\end{equation}\n",
    "\n",
    "\\begin{equation}\n",
    "{\\%~{error}}= {0.037471}\\times 100\n",
    "\\end{equation}\n",
    "\n",
    "\\begin{equation}\n",
    "{\\%~{error}}= {3.74715\\%}\n",
    "\\end{equation}\n",
    "\n",
    "Thus, the percentage of error is 3.747%\n"
   ]
  },
  {
   "cell_type": "markdown",
   "metadata": {},
   "source": [
    "\n",
    "Find the percent error of the mass of the pion using:\n",
    "\n",
    "\\begin{equation}\n",
    "{\\%~{error}}= \\frac{|Measured~Value - Theoretical~Value|}{Theoretical~Value}\\times 100\n",
    "\\end{equation}\n",
    "\n",
    "Substitute the value of each quantity into the equation:\n",
    "\n",
    "\\begin{equation}\n",
    "{\\%~{error}}= \\frac{|146.626~MeV/c^2 - 140~MeV/c^2|}{140~MeV/c^2}\\times 100\n",
    "\\end{equation}\n",
    "\n",
    "\\begin{equation}\n",
    "{\\%~{error}}= \\frac{|6.6260~MeV/c^2|}{110~MeV/c^2}\\times 100\n",
    "\\end{equation}\n",
    "\n",
    "\\begin{equation}\n",
    "{\\%~{error}}= {0.06023655}\\times 100\n",
    "\\end{equation}\n",
    "\n",
    "\\begin{equation}\n",
    "{\\%~{error}}= {6.02366\\%}\n",
    "\\end{equation}\n",
    "\n",
    "Thus, the percentage of error is 6.024%.\n",
    "\n"
   ]
  },
  {
   "cell_type": "markdown",
   "metadata": {},
   "source": [
    "# Conclusion"
   ]
  },
  {
   "cell_type": "markdown",
   "metadata": {},
   "source": [
    "concoo"
   ]
  },
  {
   "cell_type": "markdown",
   "metadata": {},
   "source": [
    "# References"
   ]
  },
  {
   "cell_type": "markdown",
   "metadata": {},
   "source": []
  }
 ],
 "metadata": {
  "kernelspec": {
   "display_name": "Python 3",
   "language": "python",
   "name": "python3"
  },
  "language_info": {
   "codemirror_mode": {
    "name": "ipython",
    "version": 3
   },
   "file_extension": ".py",
   "mimetype": "text/x-python",
   "name": "python",
   "nbconvert_exporter": "python",
   "pygments_lexer": "ipython3",
   "version": "3.6.1"
  }
 },
 "nbformat": 4,
 "nbformat_minor": 2
}
