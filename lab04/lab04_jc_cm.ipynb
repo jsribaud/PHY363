{
 "cells": [
  {
   "cell_type": "markdown",
   "metadata": {},
   "source": [
    "# Title"
   ]
  },
  {
   "cell_type": "markdown",
   "metadata": {},
   "source": [
    "###### Chelsey McMichael and Jelena Colon"
   ]
  },
  {
   "cell_type": "markdown",
   "metadata": {},
   "source": [
    "# Abstract"
   ]
  },
  {
   "cell_type": "markdown",
   "metadata": {},
   "source": [
    "# Introduction"
   ]
  },
  {
   "cell_type": "markdown",
   "metadata": {},
   "source": [
    "# Experiment "
   ]
  },
  {
   "cell_type": "markdown",
   "metadata": {},
   "source": [
    "# Data"
   ]
  },
  {
   "cell_type": "markdown",
   "metadata": {},
   "source": [
    "# Calculations"
   ]
  },
  {
   "cell_type": "code",
   "execution_count": null,
   "metadata": {
    "collapsed": true
   },
   "outputs": [],
   "source": [
    "data []"
   ]
  },
  {
   "cell_type": "code",
   "execution_count": 28,
   "metadata": {},
   "outputs": [
    {
     "name": "stdout",
     "output_type": "stream",
     "text": [
      "The mass of the muon is 109.971974522293 MeV/c^2\n",
      "The mass of the pion is 146.63384100100498 MeV/c^2\n"
     ]
    }
   ],
   "source": [
    "l_avg =1.02  #cm\n",
    "r_avg = 10.9  #cm\n",
    "\n",
    "#c = (3 * 10) ** 10 #cm/s\n",
    "c = 1\n",
    "r_per = (r_avg) / (0.785) #cm\n",
    "rho = .07 #gm/cm^3\n",
    "\n",
    "l_per = l_avg / .785 #cm\n",
    "\n",
    "m_muon = 3* (2.64 * r_per) /c #MeV/c2\n",
    "\n",
    "T = (2.1*((m_muon)* c **2) * rho * l_per)**.5\n",
    "\n",
    "p_muon = ((T**2) + (2*T*(m_muon)* (c**2)))**.5\n",
    "\n",
    "m_pion = ((((p_muon * c)**2+ (m_muon * c ** 2) ** 2) **.5) + (p_muon * c ))/ (c **2)\n",
    "\n",
    "\n",
    "print('The mass of the muon is',m_muon, 'MeV/c^2')\n",
    "\n",
    "print('The mass of the pion is', m_pion, 'MeV/c^2')\n",
    "\n"
   ]
  },
  {
   "cell_type": "markdown",
   "metadata": {},
   "source": [
    "# Conlusion"
   ]
  },
  {
   "cell_type": "code",
   "execution_count": null,
   "metadata": {
    "collapsed": true
   },
   "outputs": [],
   "source": []
  }
 ],
 "metadata": {
  "kernelspec": {
   "display_name": "Python 3",
   "language": "python",
   "name": "python3"
  },
  "language_info": {
   "codemirror_mode": {
    "name": "ipython",
    "version": 3
   },
   "file_extension": ".py",
   "mimetype": "text/x-python",
   "name": "python",
   "nbconvert_exporter": "python",
   "pygments_lexer": "ipython3",
   "version": "3.6.1"
  }
 },
 "nbformat": 4,
 "nbformat_minor": 2
}
