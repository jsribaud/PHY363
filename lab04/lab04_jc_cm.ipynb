{
 "cells": [
  {
   "cell_type": "markdown",
   "metadata": {},
   "source": [
    " # Decay of Muons and Pions"
   ]
  },
  {
   "cell_type": "markdown",
   "metadata": {},
   "source": [
    "###### Chelsey McMichael and Jelena Colon"
   ]
  },
  {
   "cell_type": "markdown",
   "metadata": {},
   "source": [
    "# Abstract"
   ]
  },
  {
   "cell_type": "markdown",
   "metadata": {},
   "source": [
    "The purpose of this experiment is to determine the masses of a pion and a muon based on photographs of the bubble chamber in which they decayed. The photographs are visual records of a pion being accelerated in an electric field and decaying into a muon. The muon then travels for a short distance and decays into a positron. By measuring the radius of the path of the position and the length of the path of the muon, we determined their masses to be 146.63 MeV/c^2 and 109.97 MeV/c^2, respectively. Compared to the theoretical value, our error in measurement for the mass of the muon was calculated to be 0.02548% and for the mass of the muon it was calculated to be 6.024%."
   ]
  },
  {
   "cell_type": "markdown",
   "metadata": {},
   "source": [
    "# Introduction"
   ]
  },
  {
   "cell_type": "markdown",
   "metadata": {},
   "source": [
    "The photographs used in this experiment are visual records of the trail of ionization left by a charged particle in a bubble chamber. This allows us to examine the trajectory of the particle which would change when it decays into a new particle. In the photographs we examined, a pion was accelerated through the bubble chamber and followed a curved path due to the electric field. Once decayed into a muon there is an abrupt change in trajectory due to the muon traveling for a short distance making it appear as a straight line until it decays into a positron. The decay into a positron again marks an abrupt change in trajectory and it starts to move in a curved path. By measuring the radius of the path of the position and the length of the path of the muon, we are able to determine their approximate masses."
   ]
  },
  {
   "cell_type": "markdown",
   "metadata": {},
   "source": [
    "# Data"
   ]
  },
  {
   "cell_type": "markdown",
   "metadata": {},
   "source": [
    "# Calculations "
   ]
  },
  {
   "cell_type": "code",
   "execution_count": 2,
   "metadata": {},
   "outputs": [
    {
     "name": "stdout",
     "output_type": "stream",
     "text": [
      "The average radius is 10.9\n",
      "The average length is 1.01923863636\n"
     ]
    }
   ],
   "source": [
    "from astropy.io import ascii\n",
    "data=ascii.read(\"data.csv\")\n",
    "avg = sum(data['radius']) / len(data['radius'])\n",
    "print('The average radius is', data['radius'].mean())\n",
    "\n",
    "avg1 = sum(data['length']) / len(data['length'])\n",
    "print('The average length is', data['length'].mean())"
   ]
  },
  {
   "cell_type": "code",
   "execution_count": 4,
   "metadata": {},
   "outputs": [
    {
     "name": "stdout",
     "output_type": "stream",
     "text": [
      "The mass of the muon is 109.971974522293 MeV/c^2\n",
      "The mass of the pion is 146.6260201304343 MeV/c^2\n"
     ]
    }
   ],
   "source": [
    "l_avg =1.01923863636  #cm\n",
    "r_avg = 10.9  #cm\n",
    "\n",
    "#c = (3 * 10) ** 10 #cm/s\n",
    "c = 1\n",
    "r_per = (r_avg) / (0.785) #cm\n",
    "rho = .07 #gm/cm^3\n",
    "\n",
    "l_per = l_avg / .785 #cm\n",
    "\n",
    "m_muon = 3* (2.64 * r_per) /c #MeV/c^2\n",
    "\n",
    "T = (2.1*((m_muon)* c **2) * rho * l_per)**.5\n",
    "\n",
    "p_muon = ((T**2) + (2*T*(m_muon)* (c**2)))**.5\n",
    "\n",
    "m_pion = ((((p_muon * c)**2+ (m_muon * c ** 2) ** 2) **.5) + (p_muon * c ))/ (c **2) #MeV/c^2\n",
    "\n",
    "\n",
    "print('The mass of the muon is',m_muon, 'MeV/c^2')\n",
    "\n",
    "print('The mass of the pion is', m_pion, 'MeV/c^2')"
   ]
  },
  {
   "cell_type": "code",
   "execution_count": 5,
   "metadata": {},
   "outputs": [
    {
     "data": {
      "image/png": "[encoded data removed]",
      "text/plain": [
       "<matplotlib.figure.Figure at 0x2195bb0b550>"
      ]
     },
     "metadata": {},
     "output_type": "display_data"
    }
   ],
   "source": [
    "from astropy.io import ascii\n",
    "import numpy as np\n",
    "import matplotlib.pyplot as plt\n",
    "\n",
    "data=ascii.read(\"exp_data.csv\")\n",
    "time_change = data['delta_t']\n",
    "plt.hist(time_change,bins =20)\n",
    "plt.grid(True)\n",
    "plt.show()\n",
    "#this should be nongaussian\n"
   ]
  },
  {
   "cell_type": "code",
   "execution_count": 6,
   "metadata": {},
   "outputs": [
    {
     "ename": "SyntaxError",
     "evalue": "invalid syntax (<ipython-input-6-33d5036dff70>, line 1)",
     "output_type": "error",
     "traceback": [
      "\u001b[1;36m  File \u001b[1;32m\"<ipython-input-6-33d5036dff70>\"\u001b[1;36m, line \u001b[1;32m1\u001b[0m\n\u001b[1;33m    Find the percent error using equation:\u001b[0m\n\u001b[1;37m           ^\u001b[0m\n\u001b[1;31mSyntaxError\u001b[0m\u001b[1;31m:\u001b[0m invalid syntax\n"
     ]
    }
   ],
   "source": [
    "\n"
   ]
  },
  {
   "cell_type": "markdown",
   "metadata": {},
   "source": [
    "# Conclusion"
   ]
  },
  {
   "cell_type": "code",
   "execution_count": null,
   "metadata": {
    "collapsed": true
   },
   "outputs": [],
   "source": []
  }
 ],
 "metadata": {
  "kernelspec": {
   "display_name": "Python 3",
   "language": "python",
   "name": "python3"
  },
  "language_info": {
   "codemirror_mode": {
    "name": "ipython",
    "version": 3
   },
   "file_extension": ".py",
   "mimetype": "text/x-python",
   "name": "python",
   "nbconvert_exporter": "python",
   "pygments_lexer": "ipython3",
   "version": "3.6.2"
  }
 },
 "nbformat": 4,
 "nbformat_minor": 2
}
