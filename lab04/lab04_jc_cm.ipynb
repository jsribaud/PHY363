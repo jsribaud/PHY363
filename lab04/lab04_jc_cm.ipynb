{
 "cells": [
  {
   "cell_type": "markdown",
   "metadata": {},
   "source": [
    "# The Pi-Mu-e Experiment"
   ]
  },
  {
   "cell_type": "markdown",
   "metadata": {},
   "source": [
    "###### Chelsey McMichael and Jelena Colon"
   ]
  },
  {
   "cell_type": "markdown",
   "metadata": {},
   "source": [
    "# Abstract"
   ]
  },
  {
   "cell_type": "markdown",
   "metadata": {},
   "source": [
    "The purpose of this experiment was to determine the masses of a pion and a muon by analyzing photographs of the bubble chamber in which they decayed. The photographs are visual records of a pion being accelerated in an electric field and decaying into a muon. The muon then travels for a short distance and decays into a positron. By measuring the radius of the trajectory of a positron, and the length of the path of the muon, we determined their masses to be 146.63 MeV/c^2 and 109.97 MeV/c^2, respectively. Compared to the theoretical value, our error in measurement for the mass of the muon was calculated to be 3.747% and for the mass of the pion it was calculated to be 4.734%. We also used the plastic scintillator to measure the averaged mean muon lifetime. "
   ]
  },
  {
   "cell_type": "markdown",
   "metadata": {},
   "source": [
    "# Introduction"
   ]
  },
  {
   "cell_type": "markdown",
   "metadata": {},
   "source": [
    "Prior to 1937, the fundamental particles of matter consisted of neutrons, electrons, and protons. The muon was proven to exist by J. C. Street and E. C. Stevenson. Ultimately, this raised more questions and led to the discovery of the pion. In this experiment, we measured the mass of the pion and the muon.The pion and the muon are found to both decay into different particles. \n",
    "\n",
    "\\begin{equation}\n",
    "\\\\{\\pi^+}{\\rightarrow}{\\mu^+}+{\\upsilon}~~~~~~~~{(1)}\n",
    "\\end{equation}\n",
    "\n",
    "###### Equation 1 shows the decay of the pion into a meson and a neutrino\n",
    "\n",
    "\\begin{equation}\n",
    "\\\\{\\mu^+}{\\rightarrow}{e^+}+{\\upsilon}+{\\upsilon^{'}}~~~{(2)}\n",
    "\\end{equation}\n",
    "\n",
    "###### Equation 2 shows the decay of the muon into a positron and two neutrinos\n",
    "\n",
    "\n",
    "\n",
    "The photographs used in this experiment are visual records of the trail of ionization left by a charged particle in a bubble chamber. This allows us to examine the trajectory of the particle which would change when it decays into a new particle. In the photographs we examined, a pion was accelerated through the bubble chamber and followed a curved path due to the electric field. Once decayed into a muon there is an abrupt change in trajectory due to the muon traveling for a short distance making it appear as a straight line until it decays into a positron. The decay into a positron again marks an abrupt change in trajectory and it starts to move in a curved path. By measuring the radius of the path of the position and the length of the path of the muon, we are able to determine their approximate masses.\n",
    "\n",
    "<img src=\"image_jc_cm.png\" height=\"350\" width=\"350\">\n",
    "###### Fig.1 shows the decays of pions and muons in a hydrogen bubble chamber"
   ]
  },
  {
   "cell_type": "markdown",
   "metadata": {},
   "source": [
    "# Procedure"
   ]
  },
  {
   "cell_type": "markdown",
   "metadata": {},
   "source": [
    "We began with analyzing several different photographs of pion-muon decays in a bubble chamber. Within a single photograph there were varying amounts of measurable decay processes. For a single decay process, we first determined which trajectory belonged to the pion, which belonged to the muon and which belonged to the positron. This is evident because the pions ionization path was the darkest and emerged from the left of the photo. Then when it decays into the muon its path changes direction and is so short that it appears to be a straight line. Lastly, the muon decays into a positron and the path changes direction again this time the ionization path was much lighter on the paper. Next, we began taking measurements of that process by finding the radius of the path of the positron in centimeters and the length of the path of the muon in centimeters using a ruler. This was repeated for each and every decay process visible in a photograph and then continued for multiple photographs. We then were able to use the radius of the positrons path to calculate the momentum of the muon and consequently calculate its mass as well as the mass of the pion. As a whole, this data was combined with the data recorded to use to find the mass of the pion and the muon. \n",
    "\n",
    "For the second half of the experiment, we relied on the data collection from the plastic scintillator, giving us the timestamp as well as the time in between detections per sample. From this data collections, a histogram of the charge averaged mean muon lifetime could be measured. "
   ]
  },
  {
   "cell_type": "markdown",
   "metadata": {},
   "source": [
    "# Data"
   ]
  },
  {
   "cell_type": "markdown",
   "metadata": {},
   "source": [
    "###### Data Part 1:\n",
    "data.csv\n",
    "\n",
    "###### Data Part 2:\n",
    "exp_data.csv\n"
   ]
  },
  {
   "cell_type": "markdown",
   "metadata": {},
   "source": [
    "# Calculations "
   ]
  },
  {
   "cell_type": "code",
   "execution_count": 1,
   "metadata": {},
   "outputs": [
    {
     "name": "stdout",
     "output_type": "stream",
     "text": [
      "The average radius is 10.9 cm.\n",
      "The average length is 1.01923863636 cm.\n"
     ]
    }
   ],
   "source": [
    "from astropy.io import ascii\n",
    "data=ascii.read(\"data.csv\") #this is the collection of class data\n",
    "\n",
    "avg = sum(data['radius']) / len(data['radius']) #this takes the radius data, and len prevents blank spaces from being counted\n",
    "print('The average radius is', data['radius'].mean(), \"cm.\")\n",
    "\n",
    "avg1 = sum(data['length']) / len(data['length']) #this is like the statement above\n",
    "print('The average length is', data['length'].mean(), 'cm.')"
   ]
  },
  {
   "cell_type": "code",
   "execution_count": 2,
   "metadata": {},
   "outputs": [
    {
     "name": "stdout",
     "output_type": "stream",
     "text": [
      "The mass of the muon is 109.971974522293 MeV/c^2\n",
      "The mass of the pion is 146.6260201304343 MeV/c^2\n"
     ]
    }
   ],
   "source": [
    "#this is the average calculated from the combined measuremnts of the whole class\n",
    "l_avg =1.01923863636  #cm\n",
    "r_avg = 10.9  #cm\n",
    "\n",
    "#c = (3 * 10) ** 10 #cm/s, not needed\n",
    "c = 1 #speed of light \n",
    "r_per = (r_avg) / (0.785) #cm #the perpendicular radius \n",
    "rho = .07 #gm/cm^3\n",
    "\n",
    "l_per = l_avg / .785 #cm #the perpendicular length\n",
    "\n",
    "m_muon = 3* (2.64 * r_per) /c #MeV/c^2 #mass of the muon measured from the average postiron momentum\n",
    "\n",
    "T = (2.1*((m_muon)* c **2) * rho * l_per)**.5 #(MeV/cm^2)^.5 #This is used for a nonrelativistic particle \n",
    "\n",
    "p_muon = ((T**2) + (2*T*(m_muon)* (c**2)))**.5 #MeV/cm^2 #the momentum of the muon \n",
    "\n",
    "m_pion = ((((p_muon * c)**2+ (m_muon * c ** 2) ** 2) **.5) + (p_muon * c ))/ (c **2) #MeV/c^2#this is from the muon momentum\n",
    "\n",
    "\n",
    "print('The mass of the muon is',m_muon, 'MeV/c^2')\n",
    "\n",
    "print('The mass of the pion is', m_pion, 'MeV/c^2')"
   ]
  },
  {
   "cell_type": "code",
   "execution_count": 3,
   "metadata": {},
   "outputs": [
    {
     "name": "stderr",
     "output_type": "stream",
     "text": [
      "C:\\Users\\Chelsey\\AppData\\Local\\Continuum\\anaconda3\\lib\\site-packages\\scipy\\optimize\\minpack.py:779: OptimizeWarning: Covariance of the parameters could not be estimated\n",
      "  category=OptimizeWarning)\n"
     ]
    },
    {
     "name": "stdout",
     "output_type": "stream",
     "text": [
      "[  6.04731226e+02   1.61197641e+01   6.53431766e-22]\n"
     ]
    },
    {
     "data": {
      "image/png": "[encoded data removed]",
      "text/plain": [
       "<matplotlib.figure.Figure at 0x18c99c208d0>"
      ]
     },
     "metadata": {},
     "output_type": "display_data"
    }
   ],
   "source": [
    "#these are the fuctions that we need \n",
    "from astropy.io import ascii\n",
    "import numpy as np\n",
    "import matplotlib.pyplot as plt\n",
    "from scipy.stats import expon #eponential fit  \n",
    "from scipy.optimize import curve_fit #curve fit \n",
    "\n",
    "data=ascii.read(\"exp_data.csv\") #import data\n",
    "time_change = data['delta_t']  #variable of histogram\n",
    "\n",
    "fig, ax = plt.subplots(1, 1)\n",
    "\n",
    "\n",
    "time_change = np.sort(time_change)\n",
    "\n",
    "def exponenial_func(x, a, b, c):\n",
    "    return a*np.exp(-b*x)+c\n",
    "popt, pcov = curve_fit(exponenial_func, time_change, expon.pdf(time_change))\n",
    "\n",
    "ax.plot(time_change, expon.pdf(time_change),'r-', lw=5, alpha=0.6, label='expon_pdf')\n",
    "ax.plot(time_change, exponenial_func(time_change, *popt), 'b-', lw=2, alpha=.6, label='curve_fit')\n",
    "\n",
    "#insert histogram\n",
    "\n",
    "ax.hist(time_change, normed=True, histtype='stepfilled', alpha=0.2)\n",
    "ax.legend(loc='best', frameon=False)\n",
    "\n",
    "\n",
    "#final touches on histogram\n",
    "plt.title(\"Time In Between Detections Per Sample\", fontsize=20)\n",
    "plt.xlabel(\"Time In Between Detections\", fontsize = 16)\n",
    "\n",
    "\n",
    "print(popt)\n",
    "\n",
    "plt.show()\n",
    "\n",
    "\n",
    "#this is nongaussian"
   ]
  },
  {
   "cell_type": "markdown",
   "metadata": {},
   "source": [
    "###### To determine the accuracy of the mass calculations, we should determine the percent error in both calculations:"
   ]
  },
  {
   "cell_type": "markdown",
   "metadata": {},
   "source": [
    "Find the percent error of the mass of the muon using:\n",
    "\\begin{equation}\n",
    "{\\%~{error}}= \\frac{|Measured~Value - Theoretical~Value|}{Theoretical~Value}\\times 100\n",
    "\\end{equation}\n",
    "\n",
    "Substitute the value of each quantity into the equation:\n",
    "\n",
    "\\begin{equation}\n",
    "{\\%~{error}}= \\frac{|109.971974522293~MeV/c^2 - 106~MeV/c^2|}{106~m/s}\\times 100\n",
    "\\end{equation}\n",
    "\n",
    "\\begin{equation}\n",
    "{\\%~{error}}= \\frac{|3.97197~MeV/c^2|}{106~MeV/c^2}\\times 100\n",
    "\\end{equation}\n",
    "\n",
    "\\begin{equation}\n",
    "{\\%~{error}}= {0.037471}\\times 100\n",
    "\\end{equation}\n",
    "\n",
    "\\begin{equation}\n",
    "{\\%~{error}}= {3.74715\\%}\n",
    "\\end{equation}\n",
    "\n",
    "Thus, the percentage of error is 3.747%\n"
   ]
  },
  {
   "cell_type": "markdown",
   "metadata": {},
   "source": [
    "Find the percent error of the mass of the pion using:\n",
    "\n",
    "\\begin{equation}\n",
    "{\\%~{error}}= \\frac{|Measured~Value - Theoretical~Value|}{Theoretical~Value}\\times 100\n",
    "\\end{equation}\n",
    "\n",
    "Substitute the value of each quantity into the equation:\n",
    "\n",
    "\\begin{equation}\n",
    "{\\%~{error}}= \\frac{|146.626~MeV/c^2 - 140~MeV/c^2|}{140~MeV/c^2}\\times 100\n",
    "\\end{equation}\n",
    "\n",
    "\\begin{equation}\n",
    "{\\%~{error}}= \\frac{|6.6260~MeV/c^2|}{140~MeV/c^2}\\times 100\n",
    "\\end{equation}\n",
    "\n",
    "\\begin{equation}\n",
    "{\\%~{error}}= {0.047329023655}\\times 100\n",
    "\\end{equation}\n",
    "\n",
    "\\begin{equation}\n",
    "{\\%~{error}}= {4.73286\\%}\n",
    "\\end{equation}\n",
    "\n",
    "Thus, the percentage of error is 4.734%."
   ]
  },
  {
   "cell_type": "markdown",
   "metadata": {},
   "source": [
    "# Conclusion"
   ]
  },
  {
   "cell_type": "markdown",
   "metadata": {},
   "source": [
    "As stated previously, we calculated the mass of the muon and the mass of the pion using the length of the path of the muon, and the radius of curvature of the positron from many different bubble chamber photographs. Using the average curvature of the positrons gave the average positron momentum, thus allowing us to calculate the mass of the muon. Also, the length of the muon path average allowed us to calculate the muon momentum, ultimately giving us the ability to calculate the mass of the pion. In this experiment, we calculated the mass of the the muon to be 109.97 MeV/c^2, giving us a percent error of 3.747%. The mass of the pion was measured to be 146.626 MeV/c^2, which gave a percent error of 4.734% in this measurement. Based on the percent difference of both the pion and the muon, this experiment could be considered successful. Besides having a low percentage in error, both percentages are rather close to each other in magnitude. This expeirment could have been improved if there was an uncertainty in our measurements. For instance, when measuring the radius of curvature and the length of the track, we could have calculated uncertainty in the instruments, and uncertainty in our determinations of data measurements. For the second part of the lab, there could have been an uncertainty in the technology that we used when it calculated the time in between detections. This would have been very difficult to do because of the way the data was collected. Each group collected their data separately, so there would have been many different uncertainties. "
   ]
  },
  {
   "cell_type": "markdown",
   "metadata": {},
   "source": [
    "# References"
   ]
  },
  {
   "cell_type": "markdown",
   "metadata": {},
   "source": [
    "https://www.w3schools.com/tags/att_img_width.asp\n",
    "\n",
    "http://web.ift.uib.no/Teori/KURS/WRK/TeX/symALL.html\n",
    "\n",
    "http://localhost:8888/notebooks/sample_notebook.ipynb\n",
    "\n",
    "http://hyperphysics.phy-astr.gsu.edu/hbase/Particles/muonhist.html"
   ]
  }
 ],
 "metadata": {
  "kernelspec": {
   "display_name": "Python 3",
   "language": "python",
   "name": "python3"
  },
  "language_info": {
   "codemirror_mode": {
    "name": "ipython",
    "version": 3
   },
   "file_extension": ".py",
   "mimetype": "text/x-python",
   "name": "python",
   "nbconvert_exporter": "python",
   "pygments_lexer": "ipython3",
   "version": "3.6.2"
  }
 },
 "nbformat": 4,
 "nbformat_minor": 2
}
