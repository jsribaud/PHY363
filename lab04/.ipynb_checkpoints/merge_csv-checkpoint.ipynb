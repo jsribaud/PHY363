{
 "cells": [
  {
   "cell_type": "code",
   "execution_count": null,
   "metadata": {
    "collapsed": true
   },
   "outputs": [],
   "source": [
    "from os import listdir\n",
    "from os.path import isfile, join\n",
    "from astropy.io import ascii\n",
    "\n",
    "onlyfiles = [f for f in listdir(\"./data/\") if isfile(join(\"./data/\", f))]\n",
    "\n",
    "\n",
    "with open(\"data.csv\", \"w\", newline=\"\") as fout:\n",
    "    fout.write('page,length,radius')\n",
    "    for f in onlyfiles:\n",
    "        data=ascii.read(f)\n",
    "        for i in range(len(data['length'])):\n",
    "            fout.write(\"{0},{1},{2}\".format(data['page'][i],data['length'][i],data['radius'][i]))\n",
    "\n",
    "        "
   ]
  }
 ],
 "metadata": {
  "kernelspec": {
   "display_name": "Python 3",
   "language": "python",
   "name": "python3"
  },
  "language_info": {
   "codemirror_mode": {
    "name": "ipython",
    "version": 3
   },
   "file_extension": ".py",
   "mimetype": "text/x-python",
   "name": "python",
   "nbconvert_exporter": "python",
   "pygments_lexer": "ipython3",
   "version": "3.6.1"
  }
 },
 "nbformat": 4,
 "nbformat_minor": 2
}
