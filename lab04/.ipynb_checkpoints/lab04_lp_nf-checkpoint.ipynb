{
 "cells": [
  {
   "cell_type": "code",
   "execution_count": 91,
   "metadata": {},
   "outputs": [],
   "source": [
    "import math\n",
    "import astropy.units as u\n",
    "\n",
    "global C\n",
    "global B\n",
    "global RHO\n",
    "global E\n",
    "\n",
    "E = 3e-4\n",
    "RHO = 0.07\n",
    "B = 8800\n",
    "C = 3e8 *100 \n",
    "\n",
    "MASS_MUON = 106\n",
    "MASS_PION = 140\n",
    "\n",
    "\n",
    "def massMuon(radius):\n",
    "    global C\n",
    "    global B\n",
    "    global E\n",
    "    return 3*E*B*radius/.785\n",
    "    \n",
    "\n",
    "def kineticEnergyMuon(radius, length):\n",
    "    global RHO\n",
    "    global C\n",
    "    return math.sqrt(2.1*massMuon(radius)*(C**2)*RHO*length)\n",
    "    \n",
    "\n",
    "def massPion(radius,length):\n",
    "    global C\n",
    "    return (math.sqrt(kineticEnergyMuon(radius, length)**2 + 2*kineticEnergyMuon(radius, length)*massMuon(radius)*(C**2) \n",
    "                     + (massMuon(radius)*(C**2))**2) + math.sqrt(kineticEnergyMuon(radius, length)**2 + \n",
    "                     2*kineticEnergyMuon(radius, length)*massMuon(radius)*(C**2)))/(C**2)"
   ]
  },
  {
   "cell_type": "code",
   "execution_count": 94,
   "metadata": {},
   "outputs": [
    {
     "name": "stdout",
     "output_type": "stream",
     "text": [
      "114.14000854208832\n",
      "106\n",
      "114.14019699985649\n",
      "140\n"
     ]
    }
   ],
   "source": [
    "fle = open('data.csv', 'r')\n",
    "raw = fle.read()\n",
    "fle.close()\n",
    "\n",
    "parsed = raw.split('\\n')[1:]\n",
    "data = []\n",
    "for p in parsed:\n",
    "    temp = p.split(',')\n",
    "    if temp[1]:\n",
    "        temp[1] = float(temp[1])\n",
    "    else:\n",
    "        temp[1] = None\n",
    "    if temp[2]:\n",
    "        temp[2] = float(temp[2])\n",
    "    else:\n",
    "        temp[2] = None\n",
    "    data.append(tuple(temp[1:]))\n",
    "\n",
    "sum_radius = 0\n",
    "sum_length = 0\n",
    "count_radius = 0\n",
    "count_length = 0\n",
    "\n",
    "for d in data:\n",
    "    if d[1]:\n",
    "        sum_radius += d[1]\n",
    "        count_radius += 1\n",
    "    if d[0]:\n",
    "        sum_length += d[0]\n",
    "        count_length += 1\n",
    "\n",
    "avg_radius = (sum_radius/count_radius)\n",
    "avg_length = (sum_length/count_length)/.785\n",
    "\n",
    "print(massMuon(avg_radius))\n",
    "print(MASS_MUON)\n",
    "print(massPion(avg_radius, avg_length))\n",
    "print(MASS_PION)"
   ]
  },
  {
   "cell_type": "code",
   "execution_count": null,
   "metadata": {
    "collapsed": true
   },
   "outputs": [],
   "source": []
  }
 ],
 "metadata": {
  "kernelspec": {
   "display_name": "Python 3",
   "language": "python",
   "name": "python3"
  },
  "language_info": {
   "codemirror_mode": {
    "name": "ipython",
    "version": 3
   },
   "file_extension": ".py",
   "mimetype": "text/x-python",
   "name": "python",
   "nbconvert_exporter": "python",
   "pygments_lexer": "ipython3",
   "version": "3.6.1"
  }
 },
 "nbformat": 4,
 "nbformat_minor": 2
}
