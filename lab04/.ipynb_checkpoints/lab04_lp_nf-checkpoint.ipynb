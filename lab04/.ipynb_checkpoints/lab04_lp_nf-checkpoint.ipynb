{
 "cells": [
  {
   "cell_type": "markdown",
   "metadata": {},
   "source": [
    "# The Pi-Mu-e Expermiment"
   ]
  },
  {
   "cell_type": "markdown",
   "metadata": {},
   "source": [
    "Nathaniel Flower, Liam Patterson"
   ]
  },
  {
   "cell_type": "markdown",
   "metadata": {},
   "source": [
    "# Abstract"
   ]
  },
  {
   "cell_type": "markdown",
   "metadata": {},
   "source": [
    "The pion decays into a muon and neutrino. The muon then decays into a positron and two neutrinos. The mass of the pion and muon was measured by measuring the length of the muon tracks and the radius of curvature of the positron tracks. After measuring the lengths and radius of several tracks and finding the averages, equations were formulated to find these masses. The mass of the muon was found to be 114.14 Mev/c^2 (actual = 106 Mev/c^2) with a 7.68% error and the mass of the pion was found to be 146.96 Mev/c^2 (actual = 140 Mev/c^2) with a 4.97% error."
   ]
  },
  {
   "cell_type": "markdown",
   "metadata": {},
   "source": [
    "# Introduction"
   ]
  },
  {
   "cell_type": "markdown",
   "metadata": {},
   "source": [
    "When high energy particles from the sun enter the atmosphere they collide with the nuclei of air molecules, which then produce many particles including the pion. The pions will spontaneously decay into a muon and a neutrino. the muon will decay as well into a positron and two neutrinos afterwards. With the right equipment, one can see the paths of the these particles. For this experiment, the particles will be going through a B-field in liquid hydrogen. The pion will have a curved path then if it suddenly goes into a short straight path then at the beginning of this new path, the pion decayed into the muon. After the short path, if the path goes back into a curved state then at the beginning of this new path, the muon decayed into the positron. By measuring the length of the muon and the radius of the positron, one can figure out the mass of the both the muon and the pion.\n",
    "\n",
    "Pion Decay\n",
    "\\begin{equation}\n",
    "\\pi^+ \\rightarrow \\mu^+ + \\nu\n",
    "\\end{equation}\n",
    "\n",
    "Muon Decay\n",
    "\\begin{equation}\n",
    "\\mu^+ \\rightarrow e^+ + \\nu + \\nu'\n",
    "\\end{equation}"
   ]
  },
  {
   "cell_type": "markdown",
   "metadata": {},
   "source": [
    "# Methods"
   ]
  },
  {
   "cell_type": "markdown",
   "metadata": {},
   "source": [
    "For our experiment, we used the photos of data taken from the (blank) experiment. We separated the photos amongst all groups to measure the lengths of the muon and the radii of the positrons. We used rulers to measure the lengths in cm and a special paper designed for measuring radii in cm. After everyone was finished, we combined all of the data. The average length of the muon and radius of the positron was found with the combined data. Along with this data, we had our own experimental data being processed. This second set of data was to be graphed."
   ]
  },
  {
   "cell_type": "markdown",
   "metadata": {},
   "source": [
    "# Results and Analysis"
   ]
  },
  {
   "cell_type": "markdown",
   "metadata": {},
   "source": [
    "\\begin{equation}\n",
    "p_\\perp = mv = eRB\n",
    "\\end{equation}\n",
    "\n",
    "\\begin{equation}\n",
    "p_e = \\frac{p_\\perp}{sin\\theta} = \\frac{eRB}{sin\\theta} = \\frac{eRB}{.785}\n",
    "\\end{equation}\n",
    "\n",
    "\\begin{equation}\n",
    "E_\\mu = m_\\mu c^2 = E_e+E_\\nu+E_\\nu ' \\approx c(p_e + p_\\nu + p_\\nu')\n",
    "\\end{equation}\n",
    "\n",
    "\\begin{equation}\n",
    "cp_e \\approx cp_\\nu \\approx cp_\\nu' \\approx \\frac{m_\\mu c^2}{3}\n",
    "\\end{equation}\n",
    "\n",
    "\\begin{equation}\n",
    "m_\\mu \\approx \\frac{3eRB}{.785c}\n",
    "\\end{equation}\n",
    "\n",
    "\\begin{equation}\n",
    "T = \\sqrt{2.1m_\\mu c^2pL}\n",
    "\\end{equation}\n",
    "\n",
    "\\begin{equation}\n",
    "(p_\\mu c)^2 = T^2 + 2Tm_\\mu c^2\n",
    "\\end{equation}\n",
    "\n",
    "\\begin{equation}\n",
    "m_\\pi c^2= E_\\mu+E_\\nu\n",
    "\\end{equation}\n",
    "\n",
    "\\begin{equation}\n",
    "m_\\pi c^2 = \\sqrt{(p_\\mu c)^2 + (m_\\mu c^2)^2} + p_\\mu c\n",
    "\\end{equation}"
   ]
  },
  {
   "cell_type": "code",
   "execution_count": 40,
   "metadata": {
    "collapsed": true
   },
   "outputs": [],
   "source": [
    "import math\n",
    "import astropy.units as u\n",
    "from astropy.io import ascii\n",
    "import numpy as np\n",
    "\n",
    "global C\n",
    "global B\n",
    "global RHO\n",
    "global E\n",
    "\n",
    "E = 3e-4\n",
    "RHO = 0.07\n",
    "B = 8800\n",
    "C = 1 \n",
    "\n",
    "MASS_MUON = 106\n",
    "MASS_PION = 140\n",
    "\n",
    "\n",
    "def massMuon(radius):\n",
    "    global C\n",
    "    global B\n",
    "    global E\n",
    "    return (3*E*B*radius)/.785\n",
    "    \n",
    "\n",
    "def kineticEnergyMuon(radius, length):\n",
    "    global RHO\n",
    "    global C\n",
    "    return math.sqrt(2.1*massMuon(radius)*(C**2)*RHO*length)\n",
    "    \n",
    "\n",
    "def massPion(radius,length):\n",
    "    global C\n",
    "    return (math.sqrt(kineticEnergyMuon(radius, length)**2 + 2*kineticEnergyMuon(radius, length)*massMuon(radius)*(C**2) \n",
    "                     + (massMuon(radius)*(C**2))**2) + math.sqrt(kineticEnergyMuon(radius, length)**2 + \n",
    "                     2*kineticEnergyMuon(radius, length)*massMuon(radius)*(C**2)))/(C**2)"
   ]
  },
  {
   "cell_type": "code",
   "execution_count": 41,
   "metadata": {
    "scrolled": false
   },
   "outputs": [
    {
     "name": "stdout",
     "output_type": "stream",
     "text": [
      "10.9\n",
      "0.800102329545\n",
      "\n",
      "109.971974522\n",
      "106\n",
      "3.74714577575\n",
      "\n",
      "141.9224040092914\n",
      "140\n",
      "1.3731457209224271\n"
     ]
    }
   ],
   "source": [
    "fle = ascii.read('data.csv')\n",
    "\n",
    "avg_radius = fle['radius'].mean()\n",
    "avg_length = (fle['length'].mean())*.785\n",
    "\n",
    "p_error_muon = ((massMuon(avg_radius)-MASS_MUON)/MASS_MUON)*100\n",
    "p_error_pion = ((massPion(avg_radius, avg_length)-MASS_PION)/MASS_PION)*100\n",
    "\n",
    "print(avg_radius)\n",
    "print(avg_length)\n",
    "print()\n",
    "print(massMuon(avg_radius))\n",
    "print(MASS_MUON)\n",
    "print(p_error_muon)\n",
    "print()\n",
    "print(massPion(avg_radius, avg_length))\n",
    "print(MASS_PION)\n",
    "print(p_error_pion)"
   ]
  },
  {
   "cell_type": "code",
   "execution_count": 57,
   "metadata": {},
   "outputs": [
    {
     "data": {
      "image/png": "[encoded data removed]",
      "text/plain": [
       "<matplotlib.figure.Figure at 0x1c4c5f693c8>"
      ]
     },
     "metadata": {},
     "output_type": "display_data"
    },
    {
     "data": {
      "image/png": "[encoded data removed]",
      "text/plain": [
       "<matplotlib.figure.Figure at 0x1c4c106a438>"
      ]
     },
     "metadata": {},
     "output_type": "display_data"
    }
   ],
   "source": [
    "from scipy.stats import expon\n",
    "import matplotlib.pyplot as plt\n",
    "\n",
    "data = ascii.read('exp_data.csv', 'r')['delta_t']\n",
    "data = np.sort(data)\n",
    "temp = [4*d/data[-1] for d in data ]\n",
    "\n",
    "param = expon.fit(data)\n",
    "\n",
    "x = np.linspace(expon.ppf(0.01), expon.ppf(0.99), 100)\n",
    "\n",
    "plt.plot(x, expon.pdf(x))\n",
    "plt.hist(temp, bins=90, normed=True)\n",
    "plt.show()\n",
    "    \n",
    "num_bins = 200\n",
    "div = 20000 // num_bins\n",
    "\n",
    "bins = [0] *num_bins\n",
    "max_value = [n*div for n in range(num_bins)]\n",
    "for d in data:\n",
    "    bins[d//div] += 1\n",
    "\n",
    "plt.plot(max_value, bins, 'rs')\n",
    "plt.show()"
   ]
  },
  {
   "cell_type": "code",
   "execution_count": 28,
   "metadata": {},
   "outputs": [
    {
     "data": {
      "image/png": "[encoded data removed]",
      "text/plain": [
       "<matplotlib.figure.Figure at 0x2296d30d9e8>"
      ]
     },
     "metadata": {},
     "output_type": "display_data"
    }
   ],
   "source": [
    "num_bins = 50\n",
    "div = 20000 // num_bins\n",
    "\n",
    "bins = [0] *num_bins\n",
    "max_value = [n*div for n in range(num_bins)]\n",
    "for d in data:\n",
    "    bins[d//div] += 1\n",
    "\n",
    "plt.plot(max_value, bins, 'rs')\n",
    "plt.show()"
   ]
  },
  {
   "cell_type": "code",
   "execution_count": null,
   "metadata": {
    "collapsed": true
   },
   "outputs": [],
   "source": []
  }
 ],
 "metadata": {
  "kernelspec": {
   "display_name": "Python 3",
   "language": "python",
   "name": "python3"
  },
  "language_info": {
   "codemirror_mode": {
    "name": "ipython",
    "version": 3
   },
   "file_extension": ".py",
   "mimetype": "text/x-python",
   "name": "python",
   "nbconvert_exporter": "python",
   "pygments_lexer": "ipython3",
   "version": "3.6.2"
  }
 },
 "nbformat": 4,
 "nbformat_minor": 2
}
