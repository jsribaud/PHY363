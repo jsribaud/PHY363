{
 "cells": [
  {
   "cell_type": "code",
   "execution_count": 11,
   "metadata": {},
   "outputs": [],
   "source": [
    "from os import listdir\n",
    "from os.path import isfile, join\n",
    "from astropy.io import ascii\n",
    "\n",
    "onlyfiles = [f for f in listdir(\"./data/\") if isfile(join(\"./data/\", f))]\n",
    "\n",
    "\n",
    "with open(\"data.csv\", \"w\") as fout:\n",
    "    fout.write('page,length,radius\\n')\n",
    "    total = []\n",
    "    for f in onlyfiles:\n",
    "        with open(\"./data/\"+f, 'r') as fle:\n",
    "            data = fle.read().split(\"\\n\")[1:]\n",
    "            total = total + data\n",
    "            \n",
    "    with open(\"test.csv\", 'r') as fle:\n",
    "        data = fle.read().split(\"\\n\")[1:]\n",
    "        fixed = []\n",
    "        for d in data:\n",
    "            if d != '':\n",
    "                temp = d.split(',')\n",
    "                temp1 = temp[1]\n",
    "                temp[1] = temp[2]\n",
    "                temp[2] = temp1\n",
    "                fixed.append(','.join(temp))\n",
    "        total = total + fixed\n",
    "    final = []\n",
    "    for t in total:\n",
    "        if t not in ['', ' ', '\\n']:\n",
    "            final.append(t)\n",
    "    fout.write(\"\\n\".join(final))\n",
    "        "
   ]
  },
  {
   "cell_type": "code",
   "execution_count": null,
   "metadata": {
    "collapsed": true
   },
   "outputs": [],
   "source": []
  }
 ],
 "metadata": {
  "kernelspec": {
   "display_name": "Python 3",
   "language": "python",
   "name": "python3"
  },
  "language_info": {
   "codemirror_mode": {
    "name": "ipython",
    "version": 3
   },
   "file_extension": ".py",
   "mimetype": "text/x-python",
   "name": "python",
   "nbconvert_exporter": "python",
   "pygments_lexer": "ipython3",
   "version": "3.6.1"
  }
 },
 "nbformat": 4,
 "nbformat_minor": 2
}
