{
 "cells": [
  {
   "cell_type": "markdown",
   "metadata": {},
   "source": [
    "# Lab 4: The Pi-Mu-e Experiment\n",
    "\n",
    "Kollin Schultz, Justin Houle"
   ]
  },
  {
   "cell_type": "markdown",
   "metadata": {},
   "source": [
    "# Abstract\n",
    "For this Pion Muon Positron lab we ran two separate experiments. For these experiments we were expected to measure and calculate the mass of a Pion and a Muon as well as the lifetime of a Muon. To calculate the mass of the particles we analyzed pictures of the visible routes of Pions Muons and Positrons in a hydrogen bubble chamber. The bubble chamber was invented by Donald A. Glaser in the mid 50's. It is a chamber that is filled with superheated transparent liquid (usually liquid hydrogen). Glaser earned the Nobel Prize in Physics in 1960 for this invention. Using the bubble chamber photographs and measurements, we inputed out measurments in jupyter notebook to achieve a Pion mass of 146.6 MeV/c<sup>2</sup> and a Muon mass of 109.9 MeV/c<sup>2</sup>. Both of our values were within a 5% error of the accepted values. While we were measuring the length and curvature of the particle paths another experiment ran a scintillator. This device kept track of the number of muons that entered and measured the decay rate of those muons. This devices works in such a way that incoming particles strick a luminescent material which absorbs the impact energy.  \n"
   ]
  },
  {
   "cell_type": "markdown",
   "metadata": {},
   "source": [
    "# Introduction\n",
    "In our Pi-Mu-e experiment we analyzed bubble tracks that were created by high energy particles. First a pion particle would enter the hydrogen bubble chamber with an initial momentum. As the original pion particle slows and eventually comes to a stop it decays into a muon (and non charged neutrons) which splits into a different path. Eventually the muon itself with decay in a positron which is sent off into different, spiraled path. By measuring these different paths and calculating momentums and energies we can find the mass of the original Pion and Muon particles. \n",
    "Pions and muons have an extremely short lifetime, and we used a scintillator to measure these lifetimes over a few trials that last 8 hours at a time. The device measured over a million interactions but only a small fraction of those interactions were viable for our experiement to determine the lifetime of a muon. \n"
   ]
  },
  {
   "cell_type": "markdown",
   "metadata": {},
   "source": [
    "# Methods\n",
    "\n",
    "###### Determination of Pion and Muon Masses\n",
    "For the determination of the masses of pion and muon particles, photos from a previously completed hydrogen chamber experiment were provided. From the photos the length of each visible path traveled by a muon, and the radius of every visible positron path was measured with a ruler. The measurement data from all four groups in the lab was used for mathematical analysis to determine the mass of a muon and a pion. Mathematical model used is shown in detail in the Results and Analysis section.\n",
    "\n",
    "###### Muon Lifetime Determination\n",
    "To determine the average lifetime of a muon, a scintillator was used. The scintillator was set to measure the number of muons that enter the device, and how long before they decay. The sensor was set up and allowed to run for eight hours. Data collected was analyzed to determine the average lifespan of a muon which is described in detail in the analysis section."
   ]
  },
  {
   "cell_type": "code",
   "execution_count": null,
   "metadata": {},
   "outputs": [],
   "source": [
    "%pylab inline\n",
    "import matplotlib.pyplot as plt\n",
    "import matplotlib.image as mpimg\n",
    "\n",
    "img=mpimg.imread('lab_equipment.jpg')\n",
    "plt.figure(figsize=(20,10))\n",
    "plt.axis('off')\n",
    "imgplot = plt.imshow(img)\n",
    "plt.show()\n",
    "\n",
    "print(\"Lab Equipment used (1)\")"
   ]
  },
  {
   "cell_type": "markdown",
   "metadata": {},
   "source": [
    "# Results and Analysis\n",
    "\n",
    "#### Pion and Muon Mass Determination\n",
    "Measurements from all of the provided liquid hydrogen chamber pictures were averaged to account for differences in angles. The average length of the muon path was calculated as 1.3 cm, and the average rdius of the positron path was calculated to be 13.9 cm. These values were used to determine the mass of a muon. With our average positron radius value (R), the muon mass was calculated to be 109.9 eV/c<sup>2</sup>. With an accepted value of 106 eV/c<sup>2</sup>, our calculation had a 3.75% error. Our value of 109.9 eV/c<sup>2</sup> was used to calculate the mass of a pion. From our muon mass calculation and average muon path length value (L), we calculated the pion mass to be 146.6 eV/c<sup>2</sup>. The accepted value for pion mass is 140 eV/c<sup>2</sup>, so our calculation had a percent error of 4.7%. "
   ]
  },
  {
   "cell_type": "code",
   "execution_count": 2,
   "metadata": {},
   "outputs": [
    {
     "name": "stdout",
     "output_type": "stream",
     "text": [
      "109.971974522\n",
      "146.62602013\n"
     ]
    }
   ],
   "source": [
    "#Imported software and the raw data we collected from a csv file to use for the analysis. \n",
    "import numpy as np\n",
    "from astropy.io import ascii\n",
    "data=ascii.read('data.csv')\n",
    "\n",
    "#Defined the constants needed for our calculations.\n",
    "B=8800\n",
    "c=1\n",
    "e=3*10**-4 \n",
    "rho=0.07\n",
    "\n",
    "#Used numpy to calculate the average values from our collected data.\n",
    "R=(np.mean(data['radius'])/0.785) \n",
    "L=(np.mean(data['length']/0.785))\n",
    "\n",
    "#Defined functions given in the lab manual to calculate the masses of a pion and muon respectively.\n",
    "m=(3*e*R*B)/(c) \n",
    "T=(2.1*m*(c**2)*rho*L)**(1/2) \n",
    "p=np.sqrt((T**2)+(2*T*m*(c**2)))/c\n",
    "mp=(np.sqrt(((p*c)**2)+((m*(c**2))**2))+(p*c)) \n",
    "print(m)\n",
    "print(mp)"
   ]
  },
  {
   "cell_type": "markdown",
   "metadata": {},
   "source": [
    "#### Muon Lifetime Determination\n",
    "Data from a muon detector was plotted "
   ]
  },
  {
   "cell_type": "code",
   "execution_count": 3,
   "metadata": {},
   "outputs": [
    {
     "name": "stdout",
     "output_type": "stream",
     "text": [
      "(39.999999249373474, 8334.5063286236327)\n"
     ]
    },
    {
     "data": {
      "image/png": "[encoded data removed]",
      "text/plain": [
       "<matplotlib.figure.Figure at 0x1f9c0e07ef0>"
      ]
     },
     "metadata": {},
     "output_type": "display_data"
    }
   ],
   "source": [
    "import numpy as np\n",
    "import scipy.stats as ss\n",
    "import matplotlib.pyplot as plt\n",
    "from astropy.io import ascii\n",
    "from scipy.optimize import curve_fit\n",
    "from scipy import stats\n",
    "\n",
    "data2=ascii.read('exp_data.csv')\n",
    "x=data2['delta_t']\n",
    "P = ss.expon.fit(x)\n",
    "\n",
    "rx = np.linspace(0,20000, 500)\n",
    "rP = ss.expon.pdf(rx, *P)\n",
    "\n",
    "print(P)\n",
    "plt.grid()\n",
    "plt.hist(x, normed=True)\n",
    "plt.plot(rx, rP)\n",
    "plt.title('Figure 3')\n",
    "plt.ylabel('Time')\n",
    "plt.xlabel('Muons')\n",
    "plt.show()\n"
   ]
  },
  {
   "cell_type": "code",
   "execution_count": 40,
   "metadata": {},
   "outputs": [
    {
     "data": {
      "image/png": "[encoded data removed]",
      "text/plain": [
       "<matplotlib.figure.Figure at 0x11be23978>"
      ]
     },
     "metadata": {},
     "output_type": "display_data"
    }
   ],
   "source": [
    "import numpy as np\n",
    "import scipy.stats as ss\n",
    "import matplotlib.pyplot as plt\n",
    "from astropy.io import ascii\n",
    "from scipy.optimize import curve_fit\n",
    "from scipy.stats import expon\n",
    "\n",
    "data2=ascii.read('exp_data.csv')\n",
    "x=data2['delta_t']\n",
    "\n",
    "\n",
    "pdf_fitted=expon.pdf(x, loc=0, scale=1)\n",
    "plt.plot(x, expon.pdf(x),'r-', lw=5, alpha=0.2, label='expon pdf')\n",
    "plt.hist(x, normed=True, histtype='stepfilled', alpha=0.2)\n",
    "plt.show()"
   ]
  },
  {
   "cell_type": "markdown",
   "metadata": {},
   "source": [
    "# Conclusion\n",
    "\n",
    "Our analysis accurately determined the muon mass to be 109.9 eV/c<sup>2</sup>, which is only a 3.75% error from the accepted value. This value, however, does not account for any uncertainty. Since our data set came from multiple lab teams/reports we are unable to calculate exact values for an uncertainty. By using the same data as every other lab group, we were able to collaborate with others to determine the accuracy of our calculation. "
   ]
  },
  {
   "cell_type": "markdown",
   "metadata": {
    "collapsed": true
   },
   "source": [
    "# Acknowledgements\n",
    "\n"
   ]
  },
  {
   "cell_type": "code",
   "execution_count": null,
   "metadata": {
    "collapsed": true
   },
   "outputs": [],
   "source": []
  },
  {
   "cell_type": "code",
   "execution_count": null,
   "metadata": {
    "collapsed": true
   },
   "outputs": [],
   "source": []
  }
 ],
 "metadata": {
  "kernelspec": {
   "display_name": "Python 3",
   "language": "python",
   "name": "python3"
  },
  "language_info": {
   "codemirror_mode": {
    "name": "ipython",
    "version": 3
   },
   "file_extension": ".py",
   "mimetype": "text/x-python",
   "name": "python",
   "nbconvert_exporter": "python",
   "pygments_lexer": "ipython3",
   "version": "3.6.1"
  }
 },
 "nbformat": 4,
 "nbformat_minor": 1
}
