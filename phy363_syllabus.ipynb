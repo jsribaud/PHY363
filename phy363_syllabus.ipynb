{
 "cells": [
  {
   "cell_type": "markdown",
   "metadata": {
    "collapsed": false
   },
   "source": [
    "# Utica College - PHY 363: Physics III"
   ]
  },
  {
   "cell_type": "markdown",
   "metadata": {},
   "source": [
    "**Instructor:** Joseph Ribaudo \n",
    "\n",
    "**Contact:** jsribaud@utica.edu, x2516\n",
    "\n",
    "**Office:** Gordon 269\n",
    "\n",
    "**Office Hours:** M 1.30-2.20, T 11.30-1.20, W 10.30-12.20\n",
    "\n",
    "<br></br>\n",
    "\n",
    "**Course Information:** PHY 363: Physics III w/Lab, 4/0 credits\n",
    "\n",
    "**Pre or Co-Requisites:** PHY 262, MAT 302 (or instructor permission)\n",
    "\n",
    "**Meeting Time/Place:** TR 10.00-11.15, Gordon 262"
   ]
  },
  {
   "cell_type": "markdown",
   "metadata": {},
   "source": [
    "## Required Materials\n",
    "\n",
    "**Textbook:** Modern Physics, 3rd ed., Serway, Moses, Moyer\n",
    "\n",
    "**Reading Book:** Quantum, Kumar"
   ]
  },
  {
   "cell_type": "markdown",
   "metadata": {
    "collapsed": false
   },
   "source": [
    "### The Course\n",
    "\n",
    "Physics III is an opportunity to expand your understanding of the universe by leveraging the foundational knowledge you have developed in your introductory physics and mathematics courses. The physics content of the course is focused on the various developments of the late 19th and early 20th centuries, typically referred to as *Modern Physics*. This includes Relativity, atomic and subatomic physics, particle physics, and Quantum Mechanics, among many others. In addition to the content, we will also explore the people and stories behind this myriad of developments through our reading of *Quantum*. This will allow our class meetings to span the detailed and technical treatment neccesary explore Modern Physics, along with thoughtful discussions of the historical, social, and cultural context in which these developments have occurred. "
   ]
  },
  {
   "cell_type": "markdown",
   "metadata": {},
   "source": [
    "In addition to our lecture meetings, the lab meetings will provde you the exciting opportunity to *rediscover* many of the developments discussed and studied in the course. "
   ]
  },
  {
   "cell_type": "markdown",
   "metadata": {},
   "source": [
    "In both lecture and lab, you will be challenged to develop the skills neccesary to analyze problems or experiments and articulate your findings through the modern resources and framework available to professional scientists. This will include, but is not limted to, using Python to analyze your experimental data and evaluate various homework problems."
   ]
  },
  {
   "cell_type": "markdown",
   "metadata": {
    "collapsed": false
   },
   "source": [
    "### Learning Objectives\n",
    "\n",
    "1. **Develop a conceptual understanding of the Modern Physics topics highlighted above**\n",
    "2. **Leverage your understanding of Introductory and Modern Physics concepts, along with advanced mathematical techniques, to solve problems**\n",
    "3. **Develop the ability to visualize/analyze data using modern software and techniques and present the subsequent results in a clear and professional manner**"
   ]
  },
  {
   "cell_type": "markdown",
   "metadata": {
    "collapsed": true
   },
   "source": [
    "### Assignments\n",
    "\n",
    "#### Homework\n",
    "\n",
    "Homework will consist of various assignments aimed at developing your understanding of the primary concepts and techniques in the course. Occassionally you will be asked to present a concept, solution, derivation, or technique during class. During/after each textbook chapter covered, you will be assigned a problem set, designed for you to practice solving standard (but challenging) problems that resemble those you will encounter on Exams. Typically problem sets will be due 1-week after they have been assigned. Further details, including grading, will be discussed in class."
   ]
  },
  {
   "cell_type": "markdown",
   "metadata": {},
   "source": [
    "#### Reading/Writing\n",
    "\n",
    "Most weeks we will be reading a chapter from *Quantum*, with a 1-2 page reflection (based on the reading) due at the beginning of class on Tuesday. We will dedicate time every class meeting to discuss the readings and our thoughts and reactions. "
   ]
  },
  {
   "cell_type": "markdown",
   "metadata": {},
   "source": [
    "#### Exams \n",
    "\n",
    "We will have two exams throughout the semester (a midterm and a final). The midterm will be the week of October 16 and our final exam will be December 12 (at 8:00 am). We will discuss the format as the exam dates approach."
   ]
  },
  {
   "cell_type": "markdown",
   "metadata": {},
   "source": [
    "#### Lab\n",
    "\n",
    "Each week we will meet for a 3 hour lab. Often we will be exploring the hallmark experiments of the modern physics era. The lab format and expectations will be discussed further in lab."
   ]
  },
  {
   "cell_type": "markdown",
   "metadata": {
    "collapsed": true
   },
   "source": [
    "### Grading\n",
    "\n",
    "**Homework:** 20%\n",
    "\n",
    "**Reading/Writing:** 10%\n",
    "\n",
    "**Midterm:** 20%\n",
    "\n",
    "**Final:** 30%\n",
    "\n",
    "**Lab:** 20%\n",
    "\n",
    "Letter Map: **A** [100,92], **A-** (92,88], **B+** (88,84], **B** (84,80], **B-** (80,76], **C+** (76,72], **C** (72,68], **C-** (68,64], **D+** (64,60], **D** (60,55], **F** (55, 0] "
   ]
  },
  {
   "cell_type": "markdown",
   "metadata": {
    "collapsed": true
   },
   "source": [
    "### Intellectual Honesty\n",
    "\n",
    "Academic honesty is necessary for the free exchange of ideas and Utica College expects academic honesty from all students. "
   ]
  },
  {
   "cell_type": "markdown",
   "metadata": {},
   "source": [
    "Academic dishonesty includes both cheating and plagiarism. Plagiarism is the intentional or unintentional use of other people’s ideas, words, and/or factual information without crediting the source. Cheating refers to both the giving and the receiving of unauthorized assistance in the taking of examinations or in the creation of assigned and/or graded class work. "
   ]
  },
  {
   "cell_type": "markdown",
   "metadata": {},
   "source": [
    "Utica College faculty are authorized to assign a wide range of academic penalties for incidents of academic dishonesty. Depending on the nature of the offense, the penalty may include a reduced grade for the particular assignment or course, a grade of F for the course, or the grade of “F for cheating” on the course. "
   ]
  },
  {
   "cell_type": "markdown",
   "metadata": {},
   "source": [
    "Incidents of academic dishonesty are reported to the Vice President for Academic Affairs who will refer any repeat offense, or any particularly egregious first offence, to the Academic Standards Committee which may recommend a more severe penalty than that imposed by the faculty member."
   ]
  },
  {
   "cell_type": "markdown",
   "metadata": {},
   "source": [
    "### Learning Accommodations\n",
    "\n",
    "If you have a disability for which you are requesting an accommodation, you are encouraged to contact both your instructor and Academic Support Services, 315-792-3032 or khenkel@utica.edu. "
   ]
  },
  {
   "cell_type": "markdown",
   "metadata": {},
   "source": [
    "Any student who has need of special adaptations or accommodations due to documented learning or physical disabilities should notify me within the first two weeks of class. Instructors, Academic Support Services, and other appropriate counselors will work with you to adapt and accommodate your special needs. Every effort will be made to help you master the course content in an effective and appropriate way."
   ]
  }
 ],
 "metadata": {
  "kernelspec": {
   "display_name": "Python 2",
   "language": "python",
   "name": "python2"
  },
  "language_info": {
   "codemirror_mode": {
    "name": "ipython",
    "version": 2
   },
   "file_extension": ".py",
   "mimetype": "text/x-python",
   "name": "python",
   "nbconvert_exporter": "python",
   "pygments_lexer": "ipython2",
   "version": "2.7.12"
  }
 },
 "nbformat": 4,
 "nbformat_minor": 0
}
