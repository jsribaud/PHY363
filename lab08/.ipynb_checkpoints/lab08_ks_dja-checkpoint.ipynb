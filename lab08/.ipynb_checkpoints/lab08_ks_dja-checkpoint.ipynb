{
 "cells": [
  {
   "cell_type": "markdown",
   "metadata": {},
   "source": [
    "# Lab 6: Electron Charge-to-Mass Ratio\n",
    "\n",
    "Kollin Schultz, Dan Alfeo"
   ]
  },
  {
   "cell_type": "markdown",
   "metadata": {},
   "source": [
    "# Abstract\n",
    "For this Pion Muon Positron lab we ran two separate experiments. For these experiments we were expected to measure and calculate the mass of a Pion and a Muon as well as the lifetime of a Muon. To calculate the mass of the particles we analyzed pictures of the visible routes of Pions Muons and Positrons in a hydrogen bubble chamber. The bubble chamber was invented by Donald A. Glaser in the mid 50's. It is a chamber that is filled with superheated transparent liquid (usually liquid hydrogen). Glaser earned the Nobel Prize in Physics in 1960 for this invention. Using the bubble chamber photographs and measurements, we inputed out measurments in jupyter notebook to achieve a Pion mass of 146.6 MeV/c<sup>2</sup> and a Muon mass of 109.9 MeV/c<sup>2</sup>. Both of our values were within a 5% error of the accepted values. While we were measuring the length and curvature of the particle paths another experiment ran a scintillator. This device kept track of the number of muons that entered and measured the decay rate of those muons. This devices works in such a way that incoming particles strick a luminescent material which absorbs the impact energy.  \n"
   ]
  },
  {
   "cell_type": "markdown",
   "metadata": {},
   "source": [
    "# Introduction\n",
    "In our Pi-Mu-e experiment we analyzed bubble tracks that were created by high energy particles. First a pion particle would enter the hydrogen bubble chamber with an initial momentum. As the original pion particle slows and eventually comes to a stop it decays into a muon (and non charged neutrons) which splits into a different path. Eventually the muon itself with decay in a positron which is sent off into different, spiraled path. By measuring these different paths and calculating momentums and energies we can find the mass of the original Pion and Muon particles. \n",
    "Pions and muons have an extremely short lifetime, and we used a scintillator to measure these lifetimes over a few trials that last 8 hours at a time. The device measured over a million interactions but only a small fraction of those interactions were viable for our experiement to determine the lifetime of a muon. \n"
   ]
  },
  {
   "cell_type": "markdown",
   "metadata": {},
   "source": [
    "# Methods\n",
    "\n",
    "To determine the charge to mass ratio of an electron, a beam of electrons was sent through a magnetic field perpendicular to its' path. A Tunable DC Constant Voltage Power Supply (BroLight) was used to generate the electron beam with a constant velocity. A current was passed through Hemholtz Coils using a Tunable DC Constant Current Power Supply (BroLight) to generate the magnetic field perpendicular to the electron beam. The voltge was kept at a constant 195 V, while the current was adjusted to produce circles of varying sizes. The radius of the electron beam circle was measured with a ruler for multiple different current values. The equipment used and general setup is pictured in figure 1. A detailed description of the equations used to determine the charge to mass ratio from our measurements is included in the results section.\n",
    "\n",
    "![A local image](lab06_Dan_Kollin_image.jpg)\n",
    "\n",
    "Figure 2: A visual of the lab equipment used, and the basic experimental setup."
   ]
  },
  {
   "cell_type": "markdown",
   "metadata": {},
   "source": [
    "# Results and Analysis\n",
    "\n",
    "Our experiment imitated the original Franck-Hertz experiment, which provided experimental evidence of the quantum theory. We measured the voltage difference between peak minima and maxima on our oscilloscope. This value was in mV, and scaled by a factor of 1/10 by the oscilloscope. To account for the units, the values were scaled by 10<sup>-2</sup> for use in calculations. The frequency, $\\nu$, was calculated for the mercury excitation emission using the equation: \n",
    "\n",
    "\\begin{equation} \\nu=E/h \\end{equation} \n",
    "\n",
    "Where: \n",
    "\n",
    "E= the measured voltage in electron volts\n",
    "\n",
    "h=Planck's constant in electron volts\n",
    "\n",
    "From our experiment, $\\nu$=1.28x10<sup>15</sup>. With this value, the wavelength of the radiation, $\\lambda$, was calculated from the equation:\n",
    "\n",
    "\\begin{equation} \\lambda=c/\\nu \\end{equation}\n",
    "\n",
    "From this equation, $\\lambda$=234.4 nm."
   ]
  },
  {
   "cell_type": "code",
   "execution_count": 12,
   "metadata": {},
   "outputs": [
    {
     "name": "stdout",
     "output_type": "stream",
     "text": [
      "5.2875\n",
      "1.27933704331e+15\n",
      "2.34340122931e-07\n"
     ]
    }
   ],
   "source": [
    "#Imported software with analysis and plotting functions.\n",
    "import numpy as np\n",
    "\n",
    "data=ascii.read('lab08_data_ks_da.csv')\n",
    "\n",
    "#Imported data from a csv file and defined constants for caluculations.\n",
    "e=(data[0][:]*10)/(10**3)\n",
    "E=np.mean(e) #eV\n",
    "h=4.133*10**-15 #eV*s\n",
    "c=2.998*10**8 #m/s\n",
    "\n",
    "#Plugged values into formulas to complete calculations.\n",
    "nu=E/h\n",
    "\n",
    "wl=c/nu\n",
    "\n",
    "print(nu) #Hz\n",
    "print(wl) #m"
   ]
  },
  {
   "cell_type": "markdown",
   "metadata": {},
   "source": [
    "## Conclusion\n",
    "\n",
    "Our cal"
   ]
  },
  {
   "cell_type": "markdown",
   "metadata": {
    "collapsed": true
   },
   "source": [
    "# Acknowledgements\n",
    "\n"
   ]
  },
  {
   "cell_type": "markdown",
   "metadata": {
    "collapsed": true
   },
   "source": [
    "We would like to thank Dr. Ribaudo for his assistance with the oscilloscope."
   ]
  },
  {
   "cell_type": "code",
   "execution_count": null,
   "metadata": {
    "collapsed": true
   },
   "outputs": [],
   "source": []
  }
 ],
 "metadata": {
  "kernelspec": {
   "display_name": "Python 3",
   "language": "python",
   "name": "python3"
  },
  "language_info": {
   "codemirror_mode": {
    "name": "ipython",
    "version": 3
   },
   "file_extension": ".py",
   "mimetype": "text/x-python",
   "name": "python",
   "nbconvert_exporter": "python",
   "pygments_lexer": "ipython3",
   "version": "3.6.1"
  }
 },
 "nbformat": 4,
 "nbformat_minor": 1
}
