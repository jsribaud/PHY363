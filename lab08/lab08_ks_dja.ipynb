{
 "cells": [
  {
   "cell_type": "markdown",
   "metadata": {},
   "source": [
    "# Lab 8: Franck-Hertz Experiment\n",
    "Kollin Schultz, Dan Alfeo"
   ]
  },
  {
   "cell_type": "markdown",
   "metadata": {},
   "source": [
    "# Abstract\n",
    "In this experiment, the energy transitions which are produced by collisions between electrons and mercury atoms are observed. The oven-temperature used to vaporize mercury in the tube was 180°C. As the accelerating voltage for the electrons is increased, more inelastic collisions are observed between electrons and mercury atoms as the current from the collector electrode appears to have many drops on the oscilloscope. This means that the zone in which inelastic collisions between electrons and mercury atoms moves closer to the cathode as the accelerating voltage is increased. Eventually, another inelastic collision zone is formed as accelerating voltage is increased further and the electrons are able to build up more kinetic energy in shorter amounts of time. An accelerating voltage of roughly 60V provides a good graph to retrieve data. The settings of the Operating Unit in Figure 1 provided a clear, desired graph from which to retrieve our data. Our calculation of the mercury radiation wavelength resulted in a value of λ=234.4 nm. This result has a 7.6% error from the accepted value of λ=253.7 nm. The measured E value that results in the accepted wavelength is, E=4.9 eV, but our measured E=5.2874 eV."
   ]
  },
  {
   "cell_type": "markdown",
   "metadata": {},
   "source": [
    "# Introduction\n",
    "This experiment is direct proof of the existence of discrete energy levels in atoms which involves the excitation of these atoms by collision with low energy electrons. The experiment was conducted by German physicists James Franck and Gustav Hertz in 1914 on mercury (Hg) atoms. Mercury in a tube is heated to evaporation. An oxide-coated heated cathode emits electrons, and the kinetic energy of these electrons increases with increasing accelerating voltage so that the electrons fly through the anode into a small opposing voltage to the collector electrode. The current flows from the collector electrode to the anode and is displayed on the oscilloscope. The collisions first take place elastically without much transfer of energy to the mercury atoms. But as the accelerating voltage is increased, the kinetic energy of the electrons increases enough to excite the mercury atoms that are in front of the anode. Electrons then lose their kinetic energy and are unable to reach the collector electrode against the opposing voltage and the current reading on the oscilloscope becomes smaller. As the accelerating voltage is increased, the collision zone moves closer to the cathode and electrons which lose kinetic energy in collisions are reaccelerated and can reach the collector electrode again. Eventually, the kinetic energy becomes so great that another inelastic collision with a mercury atom occurs. This energy transfer reappears periodically with increasing accelerating voltage.\n",
    "\n",
    "This experiment provides clear experimental proof of the existence of quantized energy levels in atoms and showed that the levels deduced from electron bombardment agreed with those deduced from optical line spectra. It also confirms the universality of energy quantization in atoms since the different physical processes of photon emission and electron bombardment yield the same energy levels.\n"
   ]
  },
  {
   "cell_type": "markdown",
   "metadata": {},
   "source": [
    "# Methods\n",
    "\n",
    "This experiment employs use of the Utica College Franck-Hertz experimental set-up which includes a Franck-Hertz-Experiment Box (left side of Figure 1), a Franck-Hertz Operating Unit (center of Figure 1), and an Agilent 54621A Oscilloscope (right side of Figure 1). Follow the instructions of the Klinger Educational Corp. Franck-Hertz Experiment Manual, courtesy of the Utica College physics department. The oven temperature of the Franck-Hertz Box was set to roughly 180°C for this experiment. Follow instructions provided in the Agilent 54621A Oscilloscope manual to set the oscilloscope for X-Y operation. Once this is done, we altered the settings on the Franck-Hertz Operating Unit until a desirable curve is obtained, then change the frame of the oscilloscope until it appears the clearest. In our experiment, a large reverse bias setting on the Operating Unit caused for a distorted graph to appear on the oscilloscope, so the proper settings must be found to produce a desired graph. The settings of the Operating Unit in Figure 1 provided a nice graph for this experiment (although the oscilloscope is off in the photo). Once a clear, desired graph is obtained on the oscilloscope, use the X1 and X2 markers on the oscilloscope screen to find the distance between consecutive peaks and consecutive valleys on the graph. When calculating a final result, remember to account for the output of the accelerating voltage (UB) from the Operating Unit as UB/10.\n",
    "\n",
    "![A local image](lab08_Dan_Kollin_image.jpg)\n",
    "\n",
    "Figure 1: A visual of the lab equipment used, and the basic experimental setup."
   ]
  },
  {
   "cell_type": "markdown",
   "metadata": {},
   "source": [
    "# Results and Analysis\n",
    "\n",
    "Our experiment imitated the original Franck-Hertz experiment, which provided experimental evidence of the quantum theory. We measured the voltage difference between peak minima and maxima on our oscilloscope. This value was in mV, and scaled by a factor of 1/10 by the Operating Unit output voltage (accelerating voltage). To account for the units, the values were scaled by 10<sup>-2</sup> for use in calculations. The frequency, $\\nu$, was calculated for the mercury radiation using the measured E=5.2875 eV and the equation: \n",
    "\n",
    "\\begin{equation} \\nu=E/h \\end{equation} \n",
    "\n",
    "Where: \n",
    "\n",
    "E= the measured voltage in electron volts\n",
    "\n",
    "h=Planck's constant in electron volts\n",
    "\n",
    "From our experiment, $\\nu$=1.28x10<sup>15</sup>. With this value, the wavelength of the radiation, $\\lambda$, was calculated from the equation:\n",
    "\n",
    "\\begin{equation} \\lambda=c/\\nu \\end{equation}\n",
    "\n",
    "From this equation, $\\lambda$=234.4 nm."
   ]
  },
  {
   "cell_type": "code",
   "execution_count": 13,
   "metadata": {},
   "outputs": [
    {
     "name": "stdout",
     "output_type": "stream",
     "text": [
      "1.27933704331e+15\n",
      "2.34340122931e-07\n"
     ]
    }
   ],
   "source": [
    "#Imported software with analysis and plotting functions.\n",
    "import numpy as np\n",
    "\n",
    "data=ascii.read('lab08_data_ks_da.csv')\n",
    "\n",
    "#Imported data from a csv file and defined constants for caluculations.\n",
    "e=(data[0][:]*10)/(10**3)\n",
    "E=np.mean(e) #eV\n",
    "h=4.133*10**-15 #eV*s\n",
    "c=2.998*10**8 #m/s\n",
    "\n",
    "#Plugged values into formulas to complete calculations.\n",
    "nu=E/h\n",
    "\n",
    "wl=c/nu\n",
    "\n",
    "print(nu) #Hz\n",
    "print(wl) #m"
   ]
  },
  {
   "cell_type": "markdown",
   "metadata": {},
   "source": [
    "## Conclusion\n",
    "\n",
    "Our calculation of the mercury radiation wavelength resulted in a value of $\\lambda$=234.4 nm. This result has a 7.6% error from the accepted value of $\\lambda$=253.7 nm. The inaccuracy of this calculation is likely due to the uncertainty in the measurement. The measured E value that results in the accepted wavelength is, E=4.9 eV, but our measured E=5.2874 eV. With the low uncertainty of the equipment used, the high uncertainty in the measurement is likely the reason for the inaccuracy of our experiment."
   ]
  },
  {
   "cell_type": "markdown",
   "metadata": {
    "collapsed": true
   },
   "source": [
    "# Acknowledgements\n",
    "\n"
   ]
  },
  {
   "cell_type": "markdown",
   "metadata": {
    "collapsed": true
   },
   "source": [
    "We would like to thank Dr. Ribaudo for his assistance with the oscilloscope."
   ]
  },
  {
   "cell_type": "code",
   "execution_count": null,
   "metadata": {
    "collapsed": true
   },
   "outputs": [],
   "source": []
  }
 ],
 "metadata": {
  "kernelspec": {
   "display_name": "Python 3",
   "language": "python",
   "name": "python3"
  },
  "language_info": {
   "codemirror_mode": {
    "name": "ipython",
    "version": 3
   },
   "file_extension": ".py",
   "mimetype": "text/x-python",
   "name": "python",
   "nbconvert_exporter": "python",
   "pygments_lexer": "ipython3",
   "version": "3.6.1"
  }
 },
 "nbformat": 4,
 "nbformat_minor": 1
}
