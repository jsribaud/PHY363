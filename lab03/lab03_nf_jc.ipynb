{
 "cells": [
  {
   "cell_type": "markdown",
   "metadata": {},
   "source": [
    "# Estimating the Velocity of Light\n",
    "Nathaniel Flower and Jelena Colon"
   ]
  },
  {
   "cell_type": "markdown",
   "metadata": {},
   "source": [
    "## Abstract"
   ]
  },
  {
   "cell_type": "markdown",
   "metadata": {},
   "source": [
    "This experiment attempts to measure the velocity of light by utilizing a laser as well as an oscilloscope for measurement. The laser is directed along a linear path that leads to a triple mirror which causes a reflection. As the light travels back the voltage is displayed on the oscilloscope with relation to time. The difference between travel times at varying distances is then determined to be the velocity of light. Through the use of several tools an experimental value for the speed of light was obtained."
   ]
  },
  {
   "cell_type": "markdown",
   "metadata": {},
   "source": [
    "## Introduction"
   ]
  },
  {
   "cell_type": "markdown",
   "metadata": {},
   "source": [
    "The velocity of light is the speed at which light propagates through space and through varying objects. It is considered a constant because its value is independent of the observer. In general, to calculate speed, a specific distance is measured and the time it takes the object to reach that distance is recorded. Dividing the distance by the time will give its velocity. Similarly, in this experiment a mirror is used as a marker of distance and an osciloscope is used to measure time. Since the speed of light is extremely fast, it is difficult to track. The oscilloscope resolves this issue by converting the light to voltage to determine the time it takes light to reflect off of the mirror. The following processes outlined in this experiment were used to obtain an experimental value for the speed of light."
   ]
  },
  {
   "cell_type": "markdown",
   "metadata": {},
   "source": [
    "## Experiment"
   ]
  },
  {
   "cell_type": "markdown",
   "metadata": {},
   "source": [
    "To begin, measure a linear distance on the surface that the experiment will be conducted on and mark distances in increments of a meter. Next, connect a laser to the appropriate connecters on the oscilloscope and set the lens of the laser on the zero meter mark. A maginifying glass will be utilized as a window for the laser and should be positioned twenty centimeters away from it. Note that the midpoints of the magnifying glass and the lens of the laser are at equal height. Set the triple mirror at the one meter mark and ensure that the center of the mirror is level with the axis of the laser. Also, take care in ensuring that the surface of the mirror is perpendicular to axis of the laser. Record the travel time displayed on the oscilloscope. Repeate this procedure by sliding the mirror backward in increments of a meter untill the magnitude of the distance no longer yeilds an accurate value for time. Compare the travel time of light with the various distances of the mirror in a graphical representation to obtain an experimental value for the speed of light indicated by the slope."
   ]
  },
  {
   "cell_type": "markdown",
   "metadata": {},
   "source": [
    "## Data"
   ]
  },
  {
   "cell_type": "markdown",
   "metadata": {},
   "source": [
    "//todo Nathaniel"
   ]
  },
  {
   "cell_type": "code",
   "execution_count": 1,
   "metadata": {
    "collapsed": true
   },
   "outputs": [],
   "source": [
    "data = [(.5,493),(1,496.2),(1.5,499),(2,505),(2.5,509.6),(3,513.8),(3.5,518.2),(4,524.4),(4.5,527.4),(5,533.6),\n",
    "       (5.5,538.6),(6,544.2),(6.5,549.4)]#(m,ns)"
   ]
  },
  {
   "cell_type": "markdown",
   "metadata": {},
   "source": [
    "## Calculations"
   ]
  },
  {
   "cell_type": "markdown",
   "metadata": {},
   "source": [
    "//todo Nathaniel"
   ]
  },
  {
   "cell_type": "markdown",
   "metadata": {
    "collapsed": true
   },
   "source": [
    "## Conclusion"
   ]
  },
  {
   "cell_type": "markdown",
   "metadata": {},
   "source": [
    "//todo Jelena"
   ]
  }
 ],
 "metadata": {
  "kernelspec": {
   "display_name": "Python 3",
   "language": "python",
   "name": "python3"
  },
  "language_info": {
   "codemirror_mode": {
    "name": "ipython",
    "version": 3
   },
   "file_extension": ".py",
   "mimetype": "text/x-python",
   "name": "python",
   "nbconvert_exporter": "python",
   "pygments_lexer": "ipython3",
   "version": "3.6.1"
  }
 },
 "nbformat": 4,
 "nbformat_minor": 1
}
