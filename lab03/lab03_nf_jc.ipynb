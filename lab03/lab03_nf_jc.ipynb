{
 "cells": [
  {
   "cell_type": "markdown",
   "metadata": {},
   "source": [
    "# Estimating the Velocity of Light\n",
    "Nathaniel Flower and Jelena Colon"
   ]
  },
  {
   "cell_type": "markdown",
   "metadata": {},
   "source": [
    "## Abstract"
   ]
  },
  {
   "cell_type": "markdown",
   "metadata": {},
   "source": [
    "This experiment attempts to measure the velocity of light by utilizing a laser as well as an oscilloscope for measurement. The laser is directed along a linear path that leads to a triple mirror which causes a reflection. As the light travels back the voltage is displayed on the oscilloscope with relation to time. The difference between travel times at varying distances is then determined to be the velocity of light. Through the use of several tools an experimental value for the speed of light was obtained."
   ]
  },
  {
   "cell_type": "markdown",
   "metadata": {},
   "source": [
    "## Introduction"
   ]
  },
  {
   "cell_type": "markdown",
   "metadata": {},
   "source": [
    "The velocity of light is the speed at which light propagates through space and through varying objects. It is considered a constant because its value is independent of the observer. In general, to calculate speed, a specific distance is measured and the time it takes the object to reach that distance is recorded. Dividing the distance by the time will give its velocity. Similarly, in this experiment a mirror is used as a marker of distance and an osciloscope is used to measure time. Since the speed of light is extremely fast, it is difficult to track. The oscilloscope resolves this issue by converting the light to voltage to determine the time it takes light to reflect off of the mirror. The following processes outlined in this experiment were used to obtain an experimental value for the speed of light."
   ]
  },
  {
   "cell_type": "markdown",
   "metadata": {},
   "source": [
    "## Experiment"
   ]
  },
  {
   "cell_type": "markdown",
   "metadata": {},
   "source": [
    "To begin, measure a linear distance on the surface that the experiment will be conducted on and mark distances in increments of a meter. Next, connect a laser to the appropriate connecters on the oscilloscope and set the lens of the laser on the zero meter mark. A maginifying glass will be utilized as a window for the laser and should be positioned twenty centimeters away from it. Note that the midpoints of the magnifying glass and the lens of the laser are at equal height. Set the triple mirror at the one meter mark and ensure that the center of the mirror is level with the axis of the laser. Also, take care in ensuring that the surface of the mirror is perpendicular to axis of the laser. Record the travel time displayed on the oscilloscope. Repeate this procedure by sliding the mirror backward in increments of a meter untill the magnitude of the distance no longer yeilds an accurate value for time. Compare the travel time of light with the various distances of the mirror in a graphical representation to obtain an experimental value for the speed of light indicated by the slope."
   ]
  },
  {
   "cell_type": "markdown",
   "metadata": {},
   "source": [
    "## Data"
   ]
  },
  {
   "cell_type": "markdown",
   "metadata": {},
   "source": [
    "//todo Nathaniel"
   ]
  },
  {
   "cell_type": "code",
   "execution_count": 1,
   "metadata": {},
   "outputs": [],
   "source": [
    "data = [(.5,493),(1,496.2),(1.5,499),(2,505),(2.5,509.6),(3,513.8),(3.5,518.2),(4,524.4),(4.5,527.4),(5,533.6),\n",
    "       (5.5,538.6),(6,544.2),(6.5,549.4)]#(m,ns)"
   ]
  },
  {
   "cell_type": "markdown",
   "metadata": {},
   "source": [
    "## Calculations"
   ]
  },
  {
   "cell_type": "code",
   "execution_count": 38,
   "metadata": {},
   "outputs": [
    {
     "name": "stdout",
     "output_type": "stream",
     "text": [
      "[0.0, 1.0, 2.0, 3.0, 4.0, 5.0, 6.0, 7.0, 8.0, 9.0, 10.0, 11.0, 12.0]\n",
      "[0.0, 3.199999999999989e-09, 6.000000000000001e-09, 1.2000000000000002e-08, 1.6600000000000023e-08, 2.0799999999999955e-08, 2.5200000000000047e-08, 3.139999999999998e-08, 3.439999999999998e-08, 4.0600000000000026e-08, 4.5600000000000025e-08, 5.120000000000005e-08, 5.639999999999998e-08]\n"
     ]
    }
   ],
   "source": [
    "import math\n",
    "import matplotlib.pyplot as plt\n",
    "from scipy.optimize import curve_fit\n",
    "import numpy as np\n",
    "\n",
    "def func(x, a, b, c):\n",
    "    return a*(x**2) + b*x + c\n",
    "\n",
    "normalized_data = []\n",
    "for d in data:\n",
    "    normalized_data.append((2*(d[0]-data[0][0]), (d[1]-data[0][1])*(10**-9)))\n",
    "\n",
    "normalized_distance = []\n",
    "normalized_time = []\n",
    "for n in normalized_data:\n",
    "    normalized_distance.append(n[0])\n",
    "    normalized_time.append(n[1])\n",
    "print(normalized_distance)\n",
    "print(normalized_time)"
   ]
  },
  {
   "cell_type": "code",
   "execution_count": 44,
   "metadata": {
    "scrolled": true
   },
   "outputs": [
    {
     "name": "stderr",
     "output_type": "stream",
     "text": [
      "/home/nathaniel/anaconda3/lib/python3.6/site-packages/scipy/optimize/minpack.py:779: OptimizeWarning: Covariance of the parameters could not be estimated\n",
      "  category=OptimizeWarning)\n"
     ]
    },
    {
     "data": {
      "image/png": "[encoded data removed]",
      "text/plain": [
       "<matplotlib.figure.Figure at 0x7f52f4303940>"
      ]
     },
     "metadata": {},
     "output_type": "display_data"
    },
    {
     "name": "stdout",
     "output_type": "stream",
     "text": [
      "We found c to be 208751968.079 m/s.\n",
      "The this is 69.5839893595472% the speed of light. Which gives us 30.41601064045279% relative error.\n"
     ]
    }
   ],
   "source": [
    "popt, pcov = curve_fit(func, normalized_time, normalized_distance)\n",
    "plt.plot(normalized_time, np.polyval(popt, normalized_time), '-')\n",
    "\n",
    "plt.text(0, 12, r\"a = {0:.3f} +/- {1:.3f}\".format(popt[0], pcov[0,0]**0.5),color=\"blue\")\n",
    "plt.text(0, 11, r\"b = {0:.3f} +/- {1:.3f}\".format(popt[1], pcov[1,1]**0.5),color=\"blue\")\n",
    "plt.text(0, 10, r\"c = {0:.3f} +/- {1:.3f}\".format(popt[2], pcov[2,2]**0.5),color=\"blue\")\n",
    "plt.grid()\n",
    "plt.plot(normalized_time, normalized_distance, 'ro')\n",
    "plt.title(\"Area of Sqaure vs Distance Squared\")\n",
    "plt.xlabel(\"Distance Squared (cm^2)\")\n",
    "plt.ylabel(\"Area (cm^2)\")\n",
    "plt.show()\n",
    "print(\"We found c to be {0:.3f} m/s.\".format(popt[1]))\n",
    "print(\"The this is {0}% the speed of light. Which gives us {1}% relative error.\".format(popt[1]/3e8 * 100, abs(popt[1]-3e8)/3e8*100))"
   ]
  },
  {
   "cell_type": "markdown",
   "metadata": {
    "collapsed": true
   },
   "source": [
    "## Conclusion"
   ]
  },
  {
   "cell_type": "markdown",
   "metadata": {},
   "source": [
    "//todo Jelena"
   ]
  }
 ],
 "metadata": {
  "kernelspec": {
   "display_name": "Python 3",
   "language": "python",
   "name": "python3"
  },
  "language_info": {
   "codemirror_mode": {
    "name": "ipython",
    "version": 3
   },
   "file_extension": ".py",
   "mimetype": "text/x-python",
   "name": "python",
   "nbconvert_exporter": "python",
   "pygments_lexer": "ipython3",
   "version": "3.6.1"
  }
 },
 "nbformat": 4,
 "nbformat_minor": 1
}
