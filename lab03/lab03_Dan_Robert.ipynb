{
 "cells": [
  {
   "cell_type": "markdown",
   "metadata": {},
   "source": [
    "# Light Velocity Measuring: Dan & Robert"
   ]
  },
  {
   "cell_type": "markdown",
   "metadata": {},
   "source": [
    "# Introduction / Abstract - Robert"
   ]
  },
  {
   "cell_type": "markdown",
   "metadata": {},
   "source": [
    "# Procedure - Robert"
   ]
  },
  {
   "cell_type": "markdown",
   "metadata": {},
   "source": [
    "# Analysis / Calculations - Dan"
   ]
  },
  {
   "cell_type": "markdown",
   "metadata": {},
   "source": [
    "# Data - Dan"
   ]
  },
  {
   "cell_type": "code",
   "execution_count": 2,
   "metadata": {},
   "outputs": [
    {
     "data": {
      "text/html": [
       "&lt;Table length=19&gt;\n",
       "<table id=\"table157816250776\" class=\"table-striped table-bordered table-condensed\">\n",
       "<thead><tr><th>Distance(m)</th><th>Time(ns)</th></tr></thead>\n",
       "<thead><tr><th>float64</th><th>int32</th></tr></thead>\n",
       "<tr><td>0.5</td><td>492</td></tr>\n",
       "<tr><td>0.75</td><td>494</td></tr>\n",
       "<tr><td>1.0</td><td>496</td></tr>\n",
       "<tr><td>1.25</td><td>498</td></tr>\n",
       "<tr><td>1.5</td><td>501</td></tr>\n",
       "<tr><td>1.75</td><td>503</td></tr>\n",
       "<tr><td>2.0</td><td>506</td></tr>\n",
       "<tr><td>2.25</td><td>509</td></tr>\n",
       "<tr><td>2.5</td><td>511</td></tr>\n",
       "<tr><td>2.75</td><td>514</td></tr>\n",
       "<tr><td>3.0</td><td>516</td></tr>\n",
       "<tr><td>3.25</td><td>521</td></tr>\n",
       "<tr><td>3.5</td><td>522</td></tr>\n",
       "<tr><td>3.75</td><td>524</td></tr>\n",
       "<tr><td>4.0</td><td>526</td></tr>\n",
       "<tr><td>4.25</td><td>527</td></tr>\n",
       "<tr><td>4.5</td><td>529</td></tr>\n",
       "<tr><td>4.75</td><td>532</td></tr>\n",
       "<tr><td>5.0</td><td>536</td></tr>\n",
       "</table>"
      ],
      "text/plain": [
       "<Table length=19>\n",
       "Distance(m) Time(ns)\n",
       "  float64    int32  \n",
       "----------- --------\n",
       "        0.5      492\n",
       "       0.75      494\n",
       "        1.0      496\n",
       "       1.25      498\n",
       "        1.5      501\n",
       "       1.75      503\n",
       "        2.0      506\n",
       "       2.25      509\n",
       "        2.5      511\n",
       "       2.75      514\n",
       "        3.0      516\n",
       "       3.25      521\n",
       "        3.5      522\n",
       "       3.75      524\n",
       "        4.0      526\n",
       "       4.25      527\n",
       "        4.5      529\n",
       "       4.75      532\n",
       "        5.0      536"
      ]
     },
     "execution_count": 2,
     "metadata": {},
     "output_type": "execute_result"
    }
   ],
   "source": [
    "from astropy.io import ascii\n",
    "data = ascii.read('Lab03_DR_Data.csv')\n",
    "data"
   ]
  },
  {
   "cell_type": "markdown",
   "metadata": {},
   "source": [
    "# Summary - Combine"
   ]
  },
  {
   "cell_type": "markdown",
   "metadata": {},
   "source": [
    "# Conclusion - Combine"
   ]
  },
  {
   "cell_type": "markdown",
   "metadata": {},
   "source": [
    "<Notice this is 'Markdown'>\n",
    "<This is also how you put in comments.>\n",
    "This is how to enter normal text. You can even use LaTeX in here, just by using standard TeX formatting. For example,\n",
    "\n",
    "\\begin{equation}\n",
    "f(x)=x^2 - 3x +2.\n",
    "\\end{equation}\n",
    "\n",
    "It's terribly easy. You should use this for all text in your report.\n",
    "\n",
    "You can get different Heading/Section styles by using different numbers of # marks (up to six).\n",
    "\n",
    "# One \n",
    "## Two\n",
    "### Three\n",
    "#### Four\n",
    "##### Five\n",
    "###### Six\n",
    "####### Seven - Oops! Not a thing!"
   ]
  },
  {
   "cell_type": "markdown",
   "metadata": {},
   "source": [
    "If you want to enter Python code, switch to code -> "
   ]
  },
  {
   "cell_type": "code",
   "execution_count": 1,
   "metadata": {},
   "outputs": [
    {
     "name": "stderr",
     "output_type": "stream",
     "text": [
      "/Users/jsribaud/anaconda/lib/python2.7/site-packages/matplotlib/font_manager.py:273: UserWarning: Matplotlib is building the font cache using fc-list. This may take a moment.\n",
      "  warnings.warn('Matplotlib is building the font cache using fc-list. This may take a moment.')\n"
     ]
    }
   ],
   "source": [
    "import numpy as np\n",
    "import matplotlib.pyplot as plt\n",
    "from astropy import units as u\n",
    "from scipy.optimize import curve_fit\n",
    "from astropy\n",
    "%matplotlib inline"
   ]
  },
  {
   "cell_type": "code",
   "execution_count": 3,
   "metadata": {},
   "outputs": [
    {
     "data": {
      "image/png": "[encoded data removed]",
      "text/plain": [
       "<matplotlib.figure.Figure at 0x10fd68150>"
      ]
     },
     "metadata": {},
     "output_type": "display_data"
    }
   ],
   "source": [
    "#create a time variable (Note in the code environment, # gives a comment!)\n",
    "time=np.arange(0.,10.,0.2)*u.s\n",
    "\n",
    "#let's look at a basic kinematic equation, setting some initial conditions (and constant acceleration)\n",
    "xi=+20.0*u.m\n",
    "vi=-5.0*u.m/u.s\n",
    "ac=+2.5*u.m/u.s/u.s\n",
    "xf=xi+vi*time+.5*ac*time**2.\n",
    "\n",
    "#and make a plot - what does 'rs' do?\n",
    "plt.plot(time, xf, 'rs')\n",
    "plt.xlabel('time (s)')\n",
    "plt.ylabel('x position (m)')\n",
    "plt.show()"
   ]
  },
  {
   "cell_type": "code",
   "execution_count": 21,
   "metadata": {},
   "outputs": [
    {
     "name": "stdout",
     "output_type": "stream",
     "text": [
      "2.2000000768e-07 m\n"
     ]
    }
   ],
   "source": [
    "v=3.*10**4.*u.m/u.s\n",
    "c=3.*10**8.*u.m/u.s\n",
    "l=11.*u.m\n",
    "t1=(2*l/c)*(1-(v/c)**2.)**(-1.)\n",
    "t2=(2*l/c)*(1-(v/c)**2.)**(-1./2)\n",
    "diff=c*2.*(t1-t2)\n",
    "print(diff)"
   ]
  },
  {
   "cell_type": "code",
   "execution_count": 11,
   "metadata": {},
   "outputs": [
    {
     "data": {
      "image/png": "[encoded data removed]",
      "text/plain": [
       "<matplotlib.figure.Figure at 0x113fd6d90>"
      ]
     },
     "metadata": {},
     "output_type": "display_data"
    }
   ],
   "source": [
    "#define function\n",
    "def func(x, a, b, c):\n",
    "    return a*x**2 + b*x + c\n",
    "\n",
    "#make noisy data\n",
    "yn = xf + 0.1 * xf * np.random.normal(size=len(time))\n",
    "\n",
    "popt, pcov = curve_fit(func, time, yn)\n",
    "\n",
    "fig=plt.figure()\n",
    "ax = fig.add_subplot(111)\n",
    "ax.plot(time,yn,'rs')\n",
    "ax.plot(time, np.polyval(popt, time), '-')\n",
    "ax.text(0.5, 90, r\"a = {0:.3f} +/- {1:.3f}\".format(popt[0], pcov[0,0]**0.5))\n",
    "ax.text(0.5, 80, r\"b = {0:.3f} +/- {1:.3f}\".format(popt[1], pcov[1,1]**0.5))\n",
    "ax.text(0.5, 70, r\"c = {0:.3f} +/- {1:.3f}\".format(popt[2], pcov[2,2]**0.5))\n",
    "ax.grid()\n",
    "plt.show()"
   ]
  },
  {
   "cell_type": "code",
   "execution_count": null,
   "metadata": {
    "collapsed": true
   },
   "outputs": [],
   "source": []
  }
 ],
 "metadata": {
  "kernelspec": {
   "display_name": "Python 3",
   "language": "python",
   "name": "python3"
  },
  "language_info": {
   "codemirror_mode": {
    "name": "ipython",
    "version": 3
   },
   "file_extension": ".py",
   "mimetype": "text/x-python",
   "name": "python",
   "nbconvert_exporter": "python",
   "pygments_lexer": "ipython3",
   "version": "3.6.1"
  }
 },
 "nbformat": 4,
 "nbformat_minor": 1
}
