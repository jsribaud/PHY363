{
 "cells": [
  {
   "cell_type": "markdown",
   "metadata": {
    "collapsed": true
   },
   "source": [
    "# Measuring the Speed of Light"
   ]
  },
  {
   "cell_type": "markdown",
   "metadata": {},
   "source": [
    "#### Justin Houle and Chelsey McMichael"
   ]
  },
  {
   "cell_type": "markdown",
   "metadata": {},
   "source": [
    "# Introduction"
   ]
  },
  {
   "cell_type": "markdown",
   "metadata": {},
   "source": [
    "# Abstract"
   ]
  },
  {
   "cell_type": "markdown",
   "metadata": {},
   "source": [
    "# Experiment \n"
   ]
  },
  {
   "cell_type": "markdown",
   "metadata": {},
   "source": [
    "# Data"
   ]
  },
  {
   "cell_type": "markdown",
   "metadata": {},
   "source": [
    "**∆d (m)**|**∆t (s)**\n",
    ":-----:|:-----:\n",
    "0|0\n",
    "1|3.20E-09\n",
    "2|6.00E-09\n",
    "3|1.20E-08\n",
    "4|1.66E-08\n",
    "5|2.08E-08\n",
    "6|2.52E-08\n",
    "7|3.14E-08\n",
    "8|3.44E-08\n",
    "9|4.06E-08\n",
    "10|4.56E-08\n",
    "11|5.12E-08\n",
    "12|5.64E-08"
   ]
  },
  {
   "cell_type": "markdown",
   "metadata": {},
   "source": [
    "# Calculations"
   ]
  },
  {
   "cell_type": "code",
   "execution_count": 55,
   "metadata": {},
   "outputs": [
    {
     "data": {
      "image/png": "[encoded data removed]",
      "text/plain": [
       "<matplotlib.figure.Figure at 0x30ffb798d0>"
      ]
     },
     "metadata": {},
     "output_type": "display_data"
    },
    {
     "name": "stdout",
     "output_type": "stream",
     "text": [
      "The measured value of the speed of light is 208751968.414 m/s.\n"
     ]
    }
   ],
   "source": [
    "from astropy.io import ascii\n",
    "import numpy as np\n",
    "import matplotlib.pyplot as plt\n",
    "import pandas as pd\n",
    "from scipy.optimize import curve_fit\n",
    "\n",
    "data=ascii.read(\"lab03_cm_jh.csv\")\n",
    "\n",
    "time=data['time']\n",
    "distance=data['distance']\n",
    "\n",
    "fig=plt.figure()\n",
    "ax = fig.add_subplot(111)\n",
    "plt.plot(time, distance, 'bs')\n",
    "plt.axis('tight')\n",
    "ax.grid()\n",
    "\n",
    "plt.title('The Speed of Light', fontsize=20)\n",
    "plt.xlabel('Change in Time (s)', fontsize=14)\n",
    "plt.ylabel('Change in Distance (m)', fontsize=14)\n",
    "\n",
    "def func(x, b, c):\n",
    "    return b*x + c\n",
    "\n",
    "popt, pcov = curve_fit(func, time, distance, bounds =([0.,0.],[3*10**8., 12.5]))\n",
    "\n",
    "\n",
    "\n",
    "ax.plot(time, distance,'gs')\n",
    "ax.plot(time, np.polyval(popt, time), '-')\n",
    "ax.text(0.0000000015, 10, r\"b = {0:.3f} +/- {1:.3f}\".format(popt[0], pcov[0,0]**0.5))\n",
    "ax.text(0.0000000015, 9, r\"c = {0:.3f} +/- {1:.3f}\".format(popt[1], pcov[1,1]**0.5))\n",
    "\n",
    "plt.show()\n",
    "\n",
    "print('The measured value of the speed of light is', popt[0], 'm/s.' ) "
   ]
  },
  {
   "cell_type": "markdown",
   "metadata": {},
   "source": [
    "To determine the success of the experiment, use the following formula:\n",
    "\n",
    "\n",
    "\\begin{equation}\n",
    "{\\%~{error}}= \\frac{|Measured~Value - Theoretical~Value|}{Theoretical~Value}\\times 100\n",
    "\\end{equation}\n",
    "\n",
    "Substitute the value of each quantity into the equation:\n",
    "\n",
    "\\begin{equation}\n",
    "{\\%~{error}}= \\frac{|208751968.383~m/s - 300000000~m/s|}{300000000~m/s}\\times 100\n",
    "\\end{equation}\n",
    "\n",
    "\n",
    "\\begin{equation}\n",
    "{\\%~{error}}= \\frac{|-91248032~m/s|}{300000000~m/s}\\times 100\n",
    "\\end{equation}\n",
    "\n",
    "\\begin{equation}\n",
    "{\\%~{error}}= {0.3041601}\\times 100\n",
    "\\end{equation}\n",
    "\n",
    "\\begin{equation}\n",
    "{\\%~{error}}= {30.416 \\%}\n",
    "\\end{equation}\n",
    "\n",
    "Thus, the percentage of error is 30.416%\n",
    "\n",
    "\n"
   ]
  },
  {
   "cell_type": "markdown",
   "metadata": {},
   "source": [
    "# Conclusion"
   ]
  },
  {
   "cell_type": "markdown",
   "metadata": {
    "collapsed": true
   },
   "source": [
    "mkn"
   ]
  },
  {
   "cell_type": "code",
   "execution_count": null,
   "metadata": {
    "collapsed": true
   },
   "outputs": [],
   "source": []
  }
 ],
 "metadata": {
  "kernelspec": {
   "display_name": "Python 3",
   "language": "python",
   "name": "python3"
  },
  "language_info": {
   "codemirror_mode": {
    "name": "ipython",
    "version": 3
   },
   "file_extension": ".py",
   "mimetype": "text/x-python",
   "name": "python",
   "nbconvert_exporter": "python",
   "pygments_lexer": "ipython3",
   "version": "3.6.1"
  }
 },
 "nbformat": 4,
 "nbformat_minor": 2
}
