{
 "cells": [
  {
   "cell_type": "markdown",
   "metadata": {
    "collapsed": true
   },
   "source": [
    "# Measuring the Speed of Light"
   ]
  },
  {
   "cell_type": "markdown",
   "metadata": {},
   "source": [
    "#### Justin Houle and Chelsey McMichael"
   ]
  },
  {
   "cell_type": "markdown",
   "metadata": {},
   "source": [
    "# Abstract"
   ]
  },
  {
   "cell_type": "markdown",
   "metadata": {},
   "source": [
    "# Introduction"
   ]
  },
  {
   "cell_type": "markdown",
   "metadata": {},
   "source": [
    "# Experiment \n"
   ]
  },
  {
   "cell_type": "markdown",
   "metadata": {},
   "source": [
    "To measure the speed of light, it is important to have a certain experimental setup. This experiment is performed using a light velocity measuring instrument, an oscilloscope, a large triple mirror, a lens, as well as a long tape measure. Initially, the tape measure is strectched across a long, lit hallway, and taped to the floor following the straight tile grout line. This is done as a means to ensure that when reading the tape measure, the value is not skewed because the path is not straight. \n",
    "\n",
    "Measuring from the light velocity measuring instrument, the lens is placed about twenty centimeters from this instrument. The experiment is done by moving the triple mirror away from the light source on 0.5 meter increments, until reaching 6.5 meters. The oscilloscope is appropriately adjusted and  determines the time in which the triple mirror reflects the light back through the lens to the light velocity measuring instrument. \n",
    "\n",
    "As the distance from the light source increases, it becomes more difficult to determine the speed of light. If a paper is held to the light source and moved away from the source, the red light shining on the paper becomes less concentrated and travels upwards. Thus, there were books placed under the triple mirror in order to have the light reflect off of the triple mirror. A greater distance away from the light source requires more books to be stacked underneath the triple mirror.\n",
    "\n",
    "Since the light travels to the triple mirror and relfects back to the light velocity measuring instrument, it is crucial to double the recorded distance in which the triple mirror was placed. This is due to the fact that the oscilloscope measures the time at the light is relfected back from the tripple mirror. Therefore, the time measured on the oscilloscope accounts for the time necessary to reach the triple mirror and return to the light velocity measuring instrument.  "
   ]
  },
  {
   "cell_type": "markdown",
   "metadata": {},
   "source": [
    "# Data"
   ]
  },
  {
   "cell_type": "markdown",
   "metadata": {},
   "source": [
    "**Distance Between Light Source and Triple Mirror (m) **|**Reading on Oscilloscope (ns)**\n",
    ":-----:|:-----:\n",
    "0.5|493.0\n",
    "1|496.2\n",
    "1.5|499.0\n",
    "2|505.0\n",
    "2.5|509.6\n",
    "3|513.8\n",
    "3.5|518.2\n",
    "4|524.4\n",
    "4.5|527.4\n",
    "5|533.6\n",
    "5.5|538.6\n",
    "6|544.2\n",
    "6.5|549.4"
   ]
  },
  {
   "cell_type": "markdown",
   "metadata": {},
   "source": [
    "**∆d (m)**|**∆t (s)**\n",
    ":-----:|:-----:\n",
    "0|0\n",
    "1|3.20E-09\n",
    "2|6.00E-09\n",
    "3|1.20E-08\n",
    "4|1.66E-08\n",
    "5|2.08E-08\n",
    "6|2.52E-08\n",
    "7|3.14E-08\n",
    "8|3.44E-08\n",
    "9|4.06E-08\n",
    "10|4.56E-08\n",
    "11|5.12E-08\n",
    "12|5.64E-08"
   ]
  },
  {
   "cell_type": "markdown",
   "metadata": {},
   "source": [
    "# Calculations"
   ]
  },
  {
   "cell_type": "code",
   "execution_count": 88,
   "metadata": {
    "scrolled": true
   },
   "outputs": [
    {
     "data": {
      "image/png": "[encoded data removed]",
      "text/plain": [
       "<matplotlib.figure.Figure at 0x3080136d68>"
      ]
     },
     "metadata": {},
     "output_type": "display_data"
    },
    {
     "name": "stdout",
     "output_type": "stream",
     "text": [
      "The measured value of the speed of light is 208751968.414 m/s, with an uncertainty of +/- 3728091.257 m/s.\n"
     ]
    }
   ],
   "source": [
    "from astropy.io import ascii\n",
    "import numpy as np\n",
    "import matplotlib.pyplot as plt\n",
    "import pandas as pd\n",
    "from scipy.optimize import curve_fit\n",
    "\n",
    "data=ascii.read(\"lab03_cm_jh.csv\")\n",
    "\n",
    "time=data['time']\n",
    "distance=data['distance']\n",
    "\n",
    "fig=plt.figure()\n",
    "ax = fig.add_subplot(111)\n",
    "plt.plot(time, distance, 'bs')\n",
    "plt.axis('tight')\n",
    "ax.grid(True)\n",
    "\n",
    "plt.title('The Speed of Light', fontsize=20)\n",
    "plt.xlabel('Change in Time (s)', fontsize=14)\n",
    "plt.ylabel('Change in Distance (m)', fontsize=14)\n",
    "\n",
    "def func(x, b, c):\n",
    "    return b*x + c\n",
    "\n",
    "popt, pcov = curve_fit(func, time, distance, bounds =([0.,0.],[3*10**8., 12.5]))\n",
    "\n",
    "\n",
    "\n",
    "ax.plot(time, distance,'gs')\n",
    "ax.plot(time, np.polyval(popt, time), '-')\n",
    "ax.text(0.0000000015, 10.5, r\"b = {0:.3f} +/- {1:.3f}\".format(popt[0], pcov[0,0]**0.5))\n",
    "ax.text(0.0000000015, 9, r\"c = {0:.3f} +/- {1:.3f}\".format(popt[1], pcov[1,1]**0.5))\n",
    "\n",
    "plt.show()\n",
    "\n",
    "print('The measured value of the speed of light is', popt[0], 'm/s, with an uncertainty of +/- 3728091.257 m/s.' ) "
   ]
  },
  {
   "cell_type": "markdown",
   "metadata": {},
   "source": [
    "\n",
    "\n",
    "To determine the success of the experiment, use the following formula:\n",
    "\n",
    "\n",
    "\\begin{equation}\n",
    "{\\%~{error}}= \\frac{|Measured~Value - Theoretical~Value|}{Theoretical~Value}\\times 100\n",
    "\\end{equation}\n",
    "\n",
    "\n",
    "\n",
    "Substitute the value of each quantity into the equation:\n",
    "\n",
    "\n",
    "\\begin{equation}\n",
    "{\\%~{error}}= \\frac{| 208751968.383~m/s - 300000000~m/s |}{300000000~m/s}\\times 100\n",
    "\\end{equation}\n",
    "\n",
    "\n",
    "\n",
    "\\begin{equation}\n",
    "{\\%~{error}}= \\frac{|-91248032~m/s|}{300000000~m/s}\\times 100\n",
    "\\end{equation}\n",
    "\n",
    "\n",
    "\\begin{equation}\n",
    "{\\%~{error}}= {0.3041601}\\times 100\n",
    "\\end{equation}\n",
    "\n",
    "\\begin{equation}\n",
    "{\\%~{error}}= {30.416 \\%}\n",
    "\\end{equation}\n",
    "\n",
    "Thus, the percentage of error is 30.416%\n",
    "\n",
    "\n"
   ]
  },
  {
   "cell_type": "markdown",
   "metadata": {},
   "source": [
    "# Conclusion"
   ]
  },
  {
   "cell_type": "markdown",
   "metadata": {
    "collapsed": true
   },
   "source": [
    "In this experiment, we intended to measure the speed of light and determined this value to be 208751968.383 m/s. Comparing this measured value to the theoretical value of the speed of light yields a percent error of 30.416%. The uncertainty of the measured value was +/- 3728091.257 m/s. Based on the measured value, this experiment was unsuccessful. However, this experiment was difficult to perform under certain circumstances. For instance, it was difficult to have the light reflect off of the triple mirror as the triple mirror was held farther away, due to the fact that the light became less concentrated at greater distances."
   ]
  },
  {
   "cell_type": "code",
   "execution_count": null,
   "metadata": {
    "collapsed": true
   },
   "outputs": [],
   "source": []
  }
 ],
 "metadata": {
  "kernelspec": {
   "display_name": "Python 3",
   "language": "python",
   "name": "python3"
  },
  "language_info": {
   "codemirror_mode": {
    "name": "ipython",
    "version": 3
   },
   "file_extension": ".py",
   "mimetype": "text/x-python",
   "name": "python",
   "nbconvert_exporter": "python",
   "pygments_lexer": "ipython3",
   "version": "3.6.1"
  }
 },
 "nbformat": 4,
 "nbformat_minor": 2
}
