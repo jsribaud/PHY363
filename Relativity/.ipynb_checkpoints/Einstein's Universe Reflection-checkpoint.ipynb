{
 "cells": [
  {
   "cell_type": "markdown",
   "metadata": {},
   "source": [
    "# Einstein's Universe Reflection"
   ]
  },
  {
   "cell_type": "markdown",
   "metadata": {},
   "source": [
    "<p>I found it interesting how all of these great minds in physics only really produced a handful of profound ideas. Michelson and Morely are known for disproving the luminiferous ether. Max Planck came up with the new quantum theory. Einstein had multiple profound ideas but all the big ones came out around the same time. I don't know if its daunting to think about or exilerating. Yes, these people only had a few great ideas that they are known for, or at least great enough for the author to include them in this text, but the vast majority of people don't even have those one.</p>\n",
    "<p>I don't know if this only exists in science or if it also pertains in other fields. From my own experience, it seems as if people can only truly be great at one thing. But in other fields you can continue to do great things your whole life. A great businessman can keep starting new businesses or growing their existing business. A great general can keep leading. Even an artist can keep producing great works of art.</p>\n",
    "<p>Thinking is just a fundamentally different skill it seems. That seems to make sense on the surface. In Computer Science, we would classify coming up with unique solutions to complex problems is at least an NP hard problem. There really isn't a set way to discover new ideas, let alone new ideas that are actually good. It reminds me of a video I once saw about the classic P=NP problem. The scientists discussing the problem said that if it were true, there would be no difference between writing a beautiful symphony and just recognizing one. The other, more economical problem, is of course that if there were a process to creating brilliant ideas then computer scienctists would easily automate every job.</p>\n",
    "<p>I guess that, in the end, a few great ideas are enough. It would only take discovering a grand unifying theory once in order to have a great impact on mankind. So discovering one great thing ought to be enough. Its far better than most people at least. It just seems rough that most people can work their whole lives and never come up with anything nearly as profound as Einstein. Science seems to be rather gruelling at times. I doubt most people get into science in order to discover fundamental truths about the universe. Sure, it would be great if they did but most freshman physics majors won't be thinking to themselves, \"I'm going to disprove centuries of physics and reshape the whole field.\" Any that do probably get their ego checked quickly or leave. Ideas are just interesting. You never know where the next big one will come from. If a random Swiss Patent Clerk can change the way we look at physics, then it really must be anyone's game.</p>"
   ]
  },
  {
   "cell_type": "code",
   "execution_count": null,
   "metadata": {
    "collapsed": true
   },
   "outputs": [],
   "source": []
  }
 ],
 "metadata": {
  "kernelspec": {
   "display_name": "Python 3",
   "language": "python",
   "name": "python3"
  },
  "language_info": {
   "codemirror_mode": {
    "name": "ipython",
    "version": 3
   },
   "file_extension": ".py",
   "mimetype": "text/x-python",
   "name": "python",
   "nbconvert_exporter": "python",
   "pygments_lexer": "ipython3",
   "version": "3.6.1"
  }
 },
 "nbformat": 4,
 "nbformat_minor": 2
}
