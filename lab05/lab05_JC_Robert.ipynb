{
 "cells": [
  {
   "cell_type": "markdown",
   "metadata": {},
   "source": [
    "# The Photoelectric Effect\n",
    "Jelena Colon and Alex Orellano"
   ]
  },
  {
   "cell_type": "markdown",
   "metadata": {},
   "source": [
    "# Abstract\n"
   ]
  },
  {
   "cell_type": "markdown",
   "metadata": {},
   "source": [
    "The purpose of this experiment is to calculate plancks constant by measuring the stopping voltage of photons at various wavelengths. By plotting the stopping voltage vs the reciprical of the wavelength we were able to use the slope to calculate plancks constant as 3.96 x 10^-34. This is a 40% errror from the accepted value."
   ]
  },
  {
   "cell_type": "markdown",
   "metadata": {},
   "source": [
    "# Introduction \n",
    "   "
   ]
  },
  {
   "cell_type": "markdown",
   "metadata": {},
   "source": [
    "# Procedure\n",
    "A Daedalon EP-05 Photoelectric Effect with amplifier was hooked up to a voltage meter. The power supply was hooked up to a light source with wire leads and was placed in line with each other (Figure 1). With each procedure only changing with the filter that is placed on the Photoelectric Effect sensor. The following wave lengths of the filters being used are 436nm, 546nm, and 590nm. During each procedure we calculated the average of 15 individual stopping voltage at each wavelength. Before recording each stopping voltage, we zeroed the Photoelectric Effect away from the light source we set the current reading to 0. After everything being zeroed we moved the Photoelectric Effect with amplifier up to the light source and began reading a current. Using the dial on the Photoelectric Effect with amplifier we increased the voltage to repel the photons that are coming from the light and producing a current on our meter. Using the average of the recorded voltages of each wavelength of different wave lengths we can graph the Stopping voltages verses the frequency to find the slope that is related to a value that mimics Planck’s constant over all wave lengths."
   ]
  },
  {
   "cell_type": "code",
   "execution_count": 15,
   "metadata": {
    "scrolled": true
   },
   "outputs": [
    {
     "data": {
      "text/html": [
       "&lt;Table masked=True length=27&gt;\n",
       "<table id=\"table1610726636792\" class=\"table-striped table-bordered table-condensed\">\n",
       "<thead><tr><th>436 nm\t546 nm\t590 nm</th></tr></thead>\n",
       "<thead><tr><th>str60</th></tr></thead>\n",
       "<tr><td>0.71\t0.502\t0.214</td></tr>\n",
       "<tr><td>0.711\t0.461\t0.189</td></tr>\n",
       "<tr><td>0.678\t0.654\t0.18</td></tr>\n",
       "<tr><td>0.746\t0.491\t0.178\t\t\t(ms)\t2.293577982\t1.831501832\t1.694915254</td></tr>\n",
       "<tr><td>0.653\t0.513\t0.209\t\t\t\t0.716\t0.528\t0.203</td></tr>\n",
       "<tr><td>0.715\t0.623\t0.208</td></tr>\n",
       "<tr><td>0.795\t0.516\t0.212</td></tr>\n",
       "<tr><td>0.725\t0.578\t0.218</td></tr>\n",
       "<tr><td>0.712\t0.59\t0.203</td></tr>\n",
       "<tr><td>0.623\t0.503\t0.216</td></tr>\n",
       "<tr><td>...</td></tr>\n",
       "<tr><td>--</td></tr>\n",
       "<tr><td>--</td></tr>\n",
       "<tr><td>--</td></tr>\n",
       "<tr><td>--</td></tr>\n",
       "<tr><td>--</td></tr>\n",
       "<tr><td>--</td></tr>\n",
       "<tr><td>--</td></tr>\n",
       "<tr><td>expairmental Planck&apos;s constant (J*s)\t3.97E-34</td></tr>\n",
       "<tr><td>Accepted value for h\t6.63E-34</td></tr>\n",
       "<tr><td>Percent error\t4.01E+01</td></tr>\n",
       "</table>"
      ],
      "text/plain": [
       "<Table masked=True length=27>\n",
       "                    436 nm\t546 nm\t590 nm                    \n",
       "                           str60                            \n",
       "------------------------------------------------------------\n",
       "                                            0.71\t0.502\t0.214\n",
       "                                           0.711\t0.461\t0.189\n",
       "                                            0.678\t0.654\t0.18\n",
       "0.746\t0.491\t0.178\t\t\t(ms)\t2.293577982\t1.831501832\t1.694915254\n",
       "                      0.653\t0.513\t0.209\t\t\t\t0.716\t0.528\t0.203\n",
       "                                           0.715\t0.623\t0.208\n",
       "                                           0.795\t0.516\t0.212\n",
       "                                           0.725\t0.578\t0.218\n",
       "                                            0.712\t0.59\t0.203\n",
       "                                           0.623\t0.503\t0.216\n",
       "                                                         ...\n",
       "                                                          --\n",
       "                                                          --\n",
       "                                                          --\n",
       "                                                          --\n",
       "                                                          --\n",
       "                                                          --\n",
       "                                                          --\n",
       "               expairmental Planck's constant (J*s)\t3.97E-34\n",
       "                               Accepted value for h\t6.63E-34\n",
       "                                      Percent error\t4.01E+01"
      ]
     },
     "execution_count": 15,
     "metadata": {},
     "output_type": "execute_result"
    }
   ],
   "source": [
    "\n",
    "\n",
    "from astropy.io import ascii\n",
    "data = ascii.read('Find_H_RO_JC.csv')\n",
    "data\n",
    "\n"
   ]
  },
  {
   "cell_type": "markdown",
   "metadata": {},
   "source": [
    "# Analysis / Calculations\n"
   ]
  },
  {
   "cell_type": "markdown",
   "metadata": {},
   "source": [
    "# Conclusion\n",
    "    \n"
   ]
  }
 ],
 "metadata": {
  "kernelspec": {
   "display_name": "Python 3",
   "language": "python",
   "name": "python3"
  },
  "language_info": {
   "codemirror_mode": {
    "name": "ipython",
    "version": 3
   },
   "file_extension": ".py",
   "mimetype": "text/x-python",
   "name": "python",
   "nbconvert_exporter": "python",
   "pygments_lexer": "ipython3",
   "version": "3.6.1"
  }
 },
 "nbformat": 4,
 "nbformat_minor": 1
}
