{
 "cells": [
  {
   "cell_type": "markdown",
   "metadata": {},
   "source": [
    "# The Photoelectric Effect\n",
    "Jelena Colon and Alex Orellano"
   ]
  },
  {
   "cell_type": "markdown",
   "metadata": {},
   "source": [
    "# Abstract\n"
   ]
  },
  {
   "cell_type": "markdown",
   "metadata": {},
   "source": [
    "The purpose of this experiment is to calculate plancks constant by measuring the stopping voltage of photons at various wavelengths. By plotting the stopping voltage vs the reciprical of the wavelength we were able to use the slope to calculate plancks constant as 3.96 x 10^-34. This is a 40% errror from the accepted value."
   ]
  },
  {
   "cell_type": "markdown",
   "metadata": {},
   "source": [
    "# Introduction \n",
    "   "
   ]
  },
  {
   "cell_type": "markdown",
   "metadata": {},
   "source": [
    "# Procedure\n",
    "A Daedalon EP-05 Photoelectric Effect with amplifier was hooked up to a voltage meter. The power supply was hooked up to a light source with wire leads and was placed in line with each other (Figure 1). With each procedure only changing with the filter that is placed on the Photoelectric Effect sensor. The following wave lengths of the filters being used are 436nm, 546nm, and 590nm. During each procedure we calculated the average of 15 individual stopping voltage at each wavelength. Before recording each stopping voltage, we zeroed the Photoelectric Effect away from the light source we set the current reading to 0. After everything being zeroed we moved the Photoelectric Effect with amplifier up to the light source and began reading a current. Using the dial on the Photoelectric Effect with amplifier we increased the voltage to repel the photons that are coming from the light and producing a current on our meter. Using the average of the recorded voltages of each wavelength of different wave lengths we can graph the Stopping voltages verses the frequency to find the slope that is related to a value that mimics Planck’s constant over all wave lengths."
   ]
  },
  {
   "cell_type": "code",
   "execution_count": 5,
   "metadata": {
    "scrolled": true
   },
   "outputs": [
    {
     "ename": "InconsistentTableError",
     "evalue": "\nERROR: Unable to guess table format with the guesses listed below:\nReader:Ecsv fill_values: [('', '0')] strict_names: True\nReader:FixedWidthTwoLine fill_values: [('', '0')] strict_names: True\nReader:FastBasic fill_values: [('', '0')] strict_names: True\nReader:Basic fill_values: [('', '0')] strict_names: True\nReader:Rdb fill_values: [('', '0')] strict_names: True\nReader:FastTab fill_values: [('', '0')] strict_names: True\nReader:Tab fill_values: [('', '0')] strict_names: True\nReader:Cds fill_values: [('', '0')] strict_names: True\nReader:Daophot fill_values: [('', '0')] strict_names: True\nReader:SExtractor fill_values: [('', '0')] strict_names: True\nReader:Ipac fill_values: [('', '0')] strict_names: True\nReader:Latex fill_values: [('', '0')] strict_names: True\nReader:AASTex fill_values: [('', '0')] strict_names: True\nReader:FastCommentedHeader delimiter: '|' fill_values: [('', '0')] quotechar: '\"' strict_names: True\nReader:FastCommentedHeader delimiter: '|' fill_values: [('', '0')] quotechar: \"'\" strict_names: True\nReader:FastCommentedHeader delimiter: ',' fill_values: [('', '0')] quotechar: '\"' strict_names: True\nReader:FastCommentedHeader delimiter: ',' fill_values: [('', '0')] quotechar: \"'\" strict_names: True\nReader:FastCommentedHeader delimiter: ' ' fill_values: [('', '0')] quotechar: '\"' strict_names: True\nReader:FastCommentedHeader delimiter: ' ' fill_values: [('', '0')] quotechar: \"'\" strict_names: True\nReader:FastCommentedHeader delimiter: '\\\\s' fill_values: [('', '0')] quotechar: '\"' strict_names: True\nReader:FastCommentedHeader delimiter: '\\\\s' fill_values: [('', '0')] quotechar: \"'\" strict_names: True\nReader:CommentedHeader delimiter: '|' fill_values: [('', '0')] quotechar: '\"' strict_names: True\nReader:CommentedHeader delimiter: '|' fill_values: [('', '0')] quotechar: \"'\" strict_names: True\nReader:CommentedHeader delimiter: ',' fill_values: [('', '0')] quotechar: '\"' strict_names: True\nReader:CommentedHeader delimiter: ',' fill_values: [('', '0')] quotechar: \"'\" strict_names: True\nReader:CommentedHeader delimiter: ' ' fill_values: [('', '0')] quotechar: '\"' strict_names: True\nReader:CommentedHeader delimiter: ' ' fill_values: [('', '0')] quotechar: \"'\" strict_names: True\nReader:CommentedHeader delimiter: '\\\\s' fill_values: [('', '0')] quotechar: '\"' strict_names: True\nReader:CommentedHeader delimiter: '\\\\s' fill_values: [('', '0')] quotechar: \"'\" strict_names: True\nReader:FastBasic delimiter: '|' fill_values: [('', '0')] quotechar: '\"' strict_names: True\nReader:FastBasic delimiter: '|' fill_values: [('', '0')] quotechar: \"'\" strict_names: True\nReader:FastBasic delimiter: ',' fill_values: [('', '0')] quotechar: '\"' strict_names: True\nReader:FastBasic delimiter: ',' fill_values: [('', '0')] quotechar: \"'\" strict_names: True\nReader:FastBasic delimiter: ' ' fill_values: [('', '0')] quotechar: '\"' strict_names: True\nReader:FastBasic delimiter: ' ' fill_values: [('', '0')] quotechar: \"'\" strict_names: True\nReader:FastBasic delimiter: '\\\\s' fill_values: [('', '0')] quotechar: '\"' strict_names: True\nReader:FastBasic delimiter: '\\\\s' fill_values: [('', '0')] quotechar: \"'\" strict_names: True\nReader:Basic delimiter: '|' fill_values: [('', '0')] quotechar: '\"' strict_names: True\nReader:Basic delimiter: '|' fill_values: [('', '0')] quotechar: \"'\" strict_names: True\nReader:Basic delimiter: ',' fill_values: [('', '0')] quotechar: '\"' strict_names: True\nReader:Basic delimiter: ',' fill_values: [('', '0')] quotechar: \"'\" strict_names: True\nReader:Basic delimiter: ' ' fill_values: [('', '0')] quotechar: '\"' strict_names: True\nReader:Basic delimiter: ' ' fill_values: [('', '0')] quotechar: \"'\" strict_names: True\nReader:Basic delimiter: '\\\\s' fill_values: [('', '0')] quotechar: '\"' strict_names: True\nReader:Basic delimiter: '\\\\s' fill_values: [('', '0')] quotechar: \"'\" strict_names: True\nReader:FastNoHeader delimiter: '|' fill_values: [('', '0')] quotechar: '\"' strict_names: True\nReader:FastNoHeader delimiter: '|' fill_values: [('', '0')] quotechar: \"'\" strict_names: True\nReader:FastNoHeader delimiter: ',' fill_values: [('', '0')] quotechar: '\"' strict_names: True\nReader:FastNoHeader delimiter: ',' fill_values: [('', '0')] quotechar: \"'\" strict_names: True\nReader:FastNoHeader delimiter: ' ' fill_values: [('', '0')] quotechar: '\"' strict_names: True\nReader:FastNoHeader delimiter: ' ' fill_values: [('', '0')] quotechar: \"'\" strict_names: True\nReader:FastNoHeader delimiter: '\\\\s' fill_values: [('', '0')] quotechar: '\"' strict_names: True\nReader:FastNoHeader delimiter: '\\\\s' fill_values: [('', '0')] quotechar: \"'\" strict_names: True\nReader:NoHeader delimiter: '|' fill_values: [('', '0')] quotechar: '\"' strict_names: True\nReader:NoHeader delimiter: '|' fill_values: [('', '0')] quotechar: \"'\" strict_names: True\nReader:NoHeader delimiter: ',' fill_values: [('', '0')] quotechar: '\"' strict_names: True\nReader:NoHeader delimiter: ',' fill_values: [('', '0')] quotechar: \"'\" strict_names: True\nReader:NoHeader delimiter: ' ' fill_values: [('', '0')] quotechar: '\"' strict_names: True\nReader:NoHeader delimiter: ' ' fill_values: [('', '0')] quotechar: \"'\" strict_names: True\nReader:NoHeader delimiter: '\\\\s' fill_values: [('', '0')] quotechar: '\"' strict_names: True\nReader:NoHeader delimiter: '\\\\s' fill_values: [('', '0')] quotechar: \"'\" strict_names: True\nReader:Basic fill_values: [('', '0')]\n\n************************************************************************\n** ERROR: Unable to guess table format with the guesses listed above. **\n**                                                                    **\n** To figure out why the table did not read, use guess=False and      **\n** appropriate arguments to read().  In particular specify the format **\n** and any known attributes like the delimiter.                       **\n************************************************************************",
     "output_type": "error",
     "traceback": [
      "\u001b[1;31m---------------------------------------------------------------------------\u001b[0m",
      "\u001b[1;31mInconsistentTableError\u001b[0m                    Traceback (most recent call last)",
      "\u001b[1;32mC:\\Users\\rober\\Anaconda3\\lib\\site-packages\\astropy\\io\\ascii\\ui.py\u001b[0m in \u001b[0;36m_guess\u001b[1;34m(table, read_kwargs, format, fast_reader)\u001b[0m\n\u001b[0;32m    484\u001b[0m             \u001b[0mreader\u001b[0m \u001b[1;33m=\u001b[0m \u001b[0mget_reader\u001b[0m\u001b[1;33m(\u001b[0m\u001b[1;33m**\u001b[0m\u001b[0mread_kwargs\u001b[0m\u001b[1;33m)\u001b[0m\u001b[1;33m\u001b[0m\u001b[0m\n\u001b[1;32m--> 485\u001b[1;33m             \u001b[0mdat\u001b[0m \u001b[1;33m=\u001b[0m \u001b[0mreader\u001b[0m\u001b[1;33m.\u001b[0m\u001b[0mread\u001b[0m\u001b[1;33m(\u001b[0m\u001b[0mtable\u001b[0m\u001b[1;33m)\u001b[0m\u001b[1;33m\u001b[0m\u001b[0m\n\u001b[0m\u001b[0;32m    486\u001b[0m             _read_trace.append({'kwargs': read_kwargs,\n",
      "\u001b[1;32mC:\\Users\\rober\\Anaconda3\\lib\\site-packages\\astropy\\io\\ascii\\core.py\u001b[0m in \u001b[0;36mread\u001b[1;34m(self, table)\u001b[0m\n\u001b[0;32m   1178\u001b[0m \u001b[1;33m\u001b[0m\u001b[0m\n\u001b[1;32m-> 1179\u001b[1;33m                     \u001b[1;32mraise\u001b[0m \u001b[0mInconsistentTableError\u001b[0m\u001b[1;33m(\u001b[0m\u001b[0merrmsg\u001b[0m\u001b[1;33m)\u001b[0m\u001b[1;33m\u001b[0m\u001b[0m\n\u001b[0m\u001b[0;32m   1180\u001b[0m \u001b[1;33m\u001b[0m\u001b[0m\n",
      "\u001b[1;31mInconsistentTableError\u001b[0m: Number of header columns (5) inconsistent with data columns (1) at data line 0\nHeader values: ['Wave', 'Length\\t436', 'nm\\t546', 'nm\\t590', 'nm']\nData values: ['0.71\\t0.502\\t0.214']",
      "\nDuring handling of the above exception, another exception occurred:\n",
      "\u001b[1;31mInconsistentTableError\u001b[0m                    Traceback (most recent call last)",
      "\u001b[1;32m<ipython-input-5-246d8ece503c>\u001b[0m in \u001b[0;36m<module>\u001b[1;34m()\u001b[0m\n\u001b[0;32m      1\u001b[0m \u001b[1;31m# Data\u001b[0m\u001b[1;33m\u001b[0m\u001b[1;33m\u001b[0m\u001b[0m\n\u001b[0;32m      2\u001b[0m \u001b[1;32mfrom\u001b[0m \u001b[0mastropy\u001b[0m\u001b[1;33m.\u001b[0m\u001b[0mio\u001b[0m \u001b[1;32mimport\u001b[0m \u001b[0mascii\u001b[0m\u001b[1;33m\u001b[0m\u001b[0m\n\u001b[1;32m----> 3\u001b[1;33m \u001b[0mdata\u001b[0m \u001b[1;33m=\u001b[0m \u001b[0mascii\u001b[0m\u001b[1;33m.\u001b[0m\u001b[0mread\u001b[0m\u001b[1;33m(\u001b[0m\u001b[1;34m'Find_H_RO_JC.csv'\u001b[0m\u001b[1;33m)\u001b[0m\u001b[1;33m\u001b[0m\u001b[0m\n\u001b[0m\u001b[0;32m      4\u001b[0m \u001b[0mdata\u001b[0m\u001b[1;33m\u001b[0m\u001b[0m\n\u001b[0;32m      5\u001b[0m \u001b[1;33m\u001b[0m\u001b[0m\n",
      "\u001b[1;32mC:\\Users\\rober\\Anaconda3\\lib\\site-packages\\astropy\\io\\ascii\\ui.py\u001b[0m in \u001b[0;36mread\u001b[1;34m(table, guess, **kwargs)\u001b[0m\n\u001b[0;32m    320\u001b[0m         \u001b[1;31m# through below to the non-guess way so that any problems result in a\u001b[0m\u001b[1;33m\u001b[0m\u001b[1;33m\u001b[0m\u001b[0m\n\u001b[0;32m    321\u001b[0m         \u001b[1;31m# more useful traceback.\u001b[0m\u001b[1;33m\u001b[0m\u001b[1;33m\u001b[0m\u001b[0m\n\u001b[1;32m--> 322\u001b[1;33m         \u001b[0mdat\u001b[0m \u001b[1;33m=\u001b[0m \u001b[0m_guess\u001b[0m\u001b[1;33m(\u001b[0m\u001b[0mtable\u001b[0m\u001b[1;33m,\u001b[0m \u001b[0mnew_kwargs\u001b[0m\u001b[1;33m,\u001b[0m \u001b[0mformat\u001b[0m\u001b[1;33m,\u001b[0m \u001b[0mfast_reader_param\u001b[0m\u001b[1;33m)\u001b[0m\u001b[1;33m\u001b[0m\u001b[0m\n\u001b[0m\u001b[0;32m    323\u001b[0m         \u001b[1;32mif\u001b[0m \u001b[0mdat\u001b[0m \u001b[1;32mis\u001b[0m \u001b[1;32mNone\u001b[0m\u001b[1;33m:\u001b[0m\u001b[1;33m\u001b[0m\u001b[0m\n\u001b[0;32m    324\u001b[0m             \u001b[0mguess\u001b[0m \u001b[1;33m=\u001b[0m \u001b[1;32mFalse\u001b[0m\u001b[1;33m\u001b[0m\u001b[0m\n",
      "\u001b[1;32mC:\\Users\\rober\\Anaconda3\\lib\\site-packages\\astropy\\io\\ascii\\ui.py\u001b[0m in \u001b[0;36m_guess\u001b[1;34m(table, read_kwargs, format, fast_reader)\u001b[0m\n\u001b[0;32m    513\u001b[0m                    '************************************************************************']\n\u001b[0;32m    514\u001b[0m             \u001b[0mlines\u001b[0m\u001b[1;33m.\u001b[0m\u001b[0mextend\u001b[0m\u001b[1;33m(\u001b[0m\u001b[0mmsg\u001b[0m\u001b[1;33m)\u001b[0m\u001b[1;33m\u001b[0m\u001b[0m\n\u001b[1;32m--> 515\u001b[1;33m             \u001b[1;32mraise\u001b[0m \u001b[0mcore\u001b[0m\u001b[1;33m.\u001b[0m\u001b[0mInconsistentTableError\u001b[0m\u001b[1;33m(\u001b[0m\u001b[1;34m'\\n'\u001b[0m\u001b[1;33m.\u001b[0m\u001b[0mjoin\u001b[0m\u001b[1;33m(\u001b[0m\u001b[0mlines\u001b[0m\u001b[1;33m)\u001b[0m\u001b[1;33m)\u001b[0m\u001b[1;33m\u001b[0m\u001b[0m\n\u001b[0m\u001b[0;32m    516\u001b[0m \u001b[1;33m\u001b[0m\u001b[0m\n\u001b[0;32m    517\u001b[0m \u001b[1;32mdef\u001b[0m \u001b[0m_get_guess_kwargs_list\u001b[0m\u001b[1;33m(\u001b[0m\u001b[0mread_kwargs\u001b[0m\u001b[1;33m)\u001b[0m\u001b[1;33m:\u001b[0m\u001b[1;33m\u001b[0m\u001b[0m\n",
      "\u001b[1;31mInconsistentTableError\u001b[0m: \nERROR: Unable to guess table format with the guesses listed below:\nReader:Ecsv fill_values: [('', '0')] strict_names: True\nReader:FixedWidthTwoLine fill_values: [('', '0')] strict_names: True\nReader:FastBasic fill_values: [('', '0')] strict_names: True\nReader:Basic fill_values: [('', '0')] strict_names: True\nReader:Rdb fill_values: [('', '0')] strict_names: True\nReader:FastTab fill_values: [('', '0')] strict_names: True\nReader:Tab fill_values: [('', '0')] strict_names: True\nReader:Cds fill_values: [('', '0')] strict_names: True\nReader:Daophot fill_values: [('', '0')] strict_names: True\nReader:SExtractor fill_values: [('', '0')] strict_names: True\nReader:Ipac fill_values: [('', '0')] strict_names: True\nReader:Latex fill_values: [('', '0')] strict_names: True\nReader:AASTex fill_values: [('', '0')] strict_names: True\nReader:FastCommentedHeader delimiter: '|' fill_values: [('', '0')] quotechar: '\"' strict_names: True\nReader:FastCommentedHeader delimiter: '|' fill_values: [('', '0')] quotechar: \"'\" strict_names: True\nReader:FastCommentedHeader delimiter: ',' fill_values: [('', '0')] quotechar: '\"' strict_names: True\nReader:FastCommentedHeader delimiter: ',' fill_values: [('', '0')] quotechar: \"'\" strict_names: True\nReader:FastCommentedHeader delimiter: ' ' fill_values: [('', '0')] quotechar: '\"' strict_names: True\nReader:FastCommentedHeader delimiter: ' ' fill_values: [('', '0')] quotechar: \"'\" strict_names: True\nReader:FastCommentedHeader delimiter: '\\\\s' fill_values: [('', '0')] quotechar: '\"' strict_names: True\nReader:FastCommentedHeader delimiter: '\\\\s' fill_values: [('', '0')] quotechar: \"'\" strict_names: True\nReader:CommentedHeader delimiter: '|' fill_values: [('', '0')] quotechar: '\"' strict_names: True\nReader:CommentedHeader delimiter: '|' fill_values: [('', '0')] quotechar: \"'\" strict_names: True\nReader:CommentedHeader delimiter: ',' fill_values: [('', '0')] quotechar: '\"' strict_names: True\nReader:CommentedHeader delimiter: ',' fill_values: [('', '0')] quotechar: \"'\" strict_names: True\nReader:CommentedHeader delimiter: ' ' fill_values: [('', '0')] quotechar: '\"' strict_names: True\nReader:CommentedHeader delimiter: ' ' fill_values: [('', '0')] quotechar: \"'\" strict_names: True\nReader:CommentedHeader delimiter: '\\\\s' fill_values: [('', '0')] quotechar: '\"' strict_names: True\nReader:CommentedHeader delimiter: '\\\\s' fill_values: [('', '0')] quotechar: \"'\" strict_names: True\nReader:FastBasic delimiter: '|' fill_values: [('', '0')] quotechar: '\"' strict_names: True\nReader:FastBasic delimiter: '|' fill_values: [('', '0')] quotechar: \"'\" strict_names: True\nReader:FastBasic delimiter: ',' fill_values: [('', '0')] quotechar: '\"' strict_names: True\nReader:FastBasic delimiter: ',' fill_values: [('', '0')] quotechar: \"'\" strict_names: True\nReader:FastBasic delimiter: ' ' fill_values: [('', '0')] quotechar: '\"' strict_names: True\nReader:FastBasic delimiter: ' ' fill_values: [('', '0')] quotechar: \"'\" strict_names: True\nReader:FastBasic delimiter: '\\\\s' fill_values: [('', '0')] quotechar: '\"' strict_names: True\nReader:FastBasic delimiter: '\\\\s' fill_values: [('', '0')] quotechar: \"'\" strict_names: True\nReader:Basic delimiter: '|' fill_values: [('', '0')] quotechar: '\"' strict_names: True\nReader:Basic delimiter: '|' fill_values: [('', '0')] quotechar: \"'\" strict_names: True\nReader:Basic delimiter: ',' fill_values: [('', '0')] quotechar: '\"' strict_names: True\nReader:Basic delimiter: ',' fill_values: [('', '0')] quotechar: \"'\" strict_names: True\nReader:Basic delimiter: ' ' fill_values: [('', '0')] quotechar: '\"' strict_names: True\nReader:Basic delimiter: ' ' fill_values: [('', '0')] quotechar: \"'\" strict_names: True\nReader:Basic delimiter: '\\\\s' fill_values: [('', '0')] quotechar: '\"' strict_names: True\nReader:Basic delimiter: '\\\\s' fill_values: [('', '0')] quotechar: \"'\" strict_names: True\nReader:FastNoHeader delimiter: '|' fill_values: [('', '0')] quotechar: '\"' strict_names: True\nReader:FastNoHeader delimiter: '|' fill_values: [('', '0')] quotechar: \"'\" strict_names: True\nReader:FastNoHeader delimiter: ',' fill_values: [('', '0')] quotechar: '\"' strict_names: True\nReader:FastNoHeader delimiter: ',' fill_values: [('', '0')] quotechar: \"'\" strict_names: True\nReader:FastNoHeader delimiter: ' ' fill_values: [('', '0')] quotechar: '\"' strict_names: True\nReader:FastNoHeader delimiter: ' ' fill_values: [('', '0')] quotechar: \"'\" strict_names: True\nReader:FastNoHeader delimiter: '\\\\s' fill_values: [('', '0')] quotechar: '\"' strict_names: True\nReader:FastNoHeader delimiter: '\\\\s' fill_values: [('', '0')] quotechar: \"'\" strict_names: True\nReader:NoHeader delimiter: '|' fill_values: [('', '0')] quotechar: '\"' strict_names: True\nReader:NoHeader delimiter: '|' fill_values: [('', '0')] quotechar: \"'\" strict_names: True\nReader:NoHeader delimiter: ',' fill_values: [('', '0')] quotechar: '\"' strict_names: True\nReader:NoHeader delimiter: ',' fill_values: [('', '0')] quotechar: \"'\" strict_names: True\nReader:NoHeader delimiter: ' ' fill_values: [('', '0')] quotechar: '\"' strict_names: True\nReader:NoHeader delimiter: ' ' fill_values: [('', '0')] quotechar: \"'\" strict_names: True\nReader:NoHeader delimiter: '\\\\s' fill_values: [('', '0')] quotechar: '\"' strict_names: True\nReader:NoHeader delimiter: '\\\\s' fill_values: [('', '0')] quotechar: \"'\" strict_names: True\nReader:Basic fill_values: [('', '0')]\n\n************************************************************************\n** ERROR: Unable to guess table format with the guesses listed above. **\n**                                                                    **\n** To figure out why the table did not read, use guess=False and      **\n** appropriate arguments to read().  In particular specify the format **\n** and any known attributes like the delimiter.                       **\n************************************************************************"
     ]
    }
   ],
   "source": [
    "\n",
    "\n",
    "from astropy.io import ascii\n",
    "data = ascii.read('Find_H_RO_JC.csv')\n",
    "data\n",
    "\n",
    "#create a time variable (Note in the code environment, # gives a comment!)\n",
    "time=np.arange(0.,10.,0.2)#*u.s\n",
    "\n",
    "#let's look at a basic kinematic equation, setting some initial conditions (and constant acceleration)\n",
    "xi=+20.0#*u.m\n",
    "vi=-5.0#*u.m/u.s\n",
    "ac=+2.5#*u.m/u.s/u.s\n",
    "xf=xi+vi*time+.5*ac*time**2.\n",
    "\n",
    "#and make a plot - what does 'rs' do?\n",
    "plt.plot(time, xf, 'rs')\n",
    "plt.xlabel('time (s)')\n",
    "plt.ylabel('x position (m)')\n",
    "plt.show()\n"
   ]
  },
  {
   "cell_type": "markdown",
   "metadata": {},
   "source": [
    "# Analysis / Calculations\n"
   ]
  },
  {
   "cell_type": "markdown",
   "metadata": {},
   "source": [
    "# Conclusion\n",
    "    \n"
   ]
  }
 ],
 "metadata": {
  "kernelspec": {
   "display_name": "Python 3",
   "language": "python",
   "name": "python3"
  },
  "language_info": {
   "codemirror_mode": {
    "name": "ipython",
    "version": 3
   },
   "file_extension": ".py",
   "mimetype": "text/x-python",
   "name": "python",
   "nbconvert_exporter": "python",
   "pygments_lexer": "ipython3",
   "version": "3.6.1"
  }
 },
 "nbformat": 4,
 "nbformat_minor": 1
}
