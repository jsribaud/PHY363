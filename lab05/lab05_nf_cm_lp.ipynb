{
 "cells": [
  {
   "cell_type": "markdown",
   "metadata": {},
   "source": [
    "# Title"
   ]
  },
  {
   "cell_type": "markdown",
   "metadata": {},
   "source": [
    "us"
   ]
  },
  {
   "cell_type": "markdown",
   "metadata": {},
   "source": [
    "# Abstract"
   ]
  },
  {
   "cell_type": "code",
   "execution_count": null,
   "metadata": {
    "collapsed": true
   },
   "outputs": [],
   "source": [
    "# todo Nathaniel"
   ]
  },
  {
   "cell_type": "markdown",
   "metadata": {},
   "source": [
    "# Introduction"
   ]
  },
  {
   "cell_type": "markdown",
   "metadata": {
    "collapsed": true
   },
   "source": [
    "The photoelectric effect occurs when light is shined on a metal surface, electrons may be ejected from the surface of the metal. Following the wave theory of light, the kinetic energy of emitted photoelectrons would be proportional to the light intensity. However, Philip Lenard discovered that the maximum kinetic energy of photoelectrons did not depend on the intensity of the light amplitude. In 1905, Albert Einstein published “A Heuristic Point of View About the Generation and Transformation of Light.” Besides creating the theory of light quanta, Einstein explained the photoelectric effect and that light is composed of quanta of energy called photons, each containing energy equivalent to hf.\n",
    "\n",
    "From the relationship between the stopping potential and the reciprocal of the wavelength, we have determined the value of Planck’s constant from the slope of this function. "
   ]
  },
  {
   "cell_type": "markdown",
   "metadata": {},
   "source": [
    "# Procedure"
   ]
  },
  {
   "cell_type": "code",
   "execution_count": 1,
   "metadata": {
    "collapsed": true
   },
   "outputs": [],
   "source": [
    "# todo Nathaniel"
   ]
  },
  {
   "cell_type": "markdown",
   "metadata": {},
   "source": [
    "# Data and Calculations"
   ]
  },
  {
   "cell_type": "code",
   "execution_count": 9,
   "metadata": {},
   "outputs": [
    {
     "name": "stdout",
     "output_type": "stream",
     "text": [
      "0.8336666666666668 V - Average value for stopping voltage for blue filter\n",
      "0.5164444444444444 V - Average value for stopping voltage for green filter\n",
      "0.4242222222222222 V - Average value for stopping voltage for red filter\n"
     ]
    }
   ],
   "source": [
    "bluefilter = [\n",
    "    .904, .964, .611,\n",
    "    .923, .927, .896,\n",
    "    .677, .744, .857\n",
    "]\n",
    "\n",
    "greenfilter = [\n",
    "    .548, .478, .505,\n",
    "    .528, .491, .474,\n",
    "    .493, .548, .583\n",
    "]\n",
    "\n",
    "redfilter = [\n",
    "    .435, .442, .441,\n",
    "    .412, .399, .443,\n",
    "    .391, .434, .421\n",
    "]\n",
    "\n",
    "avgV_blue = (.904 + .964 + .611 + .923 + .927 + .896 + .677 + .744 + .857)/9\n",
    "avgV_green = (.548 + .478 + .505 + .528 + .491 + .474 + .493 + .548 + .583)/9\n",
    "avgV_red = (.435 + .442 + .441 + .412 + .399 + .443 + .391 + .434 + .421)/9\n",
    "\n",
    "print(avgV_blue, \"V - Average value for stopping voltage for blue filter\")\n",
    "print(avgV_green, \"V - Average value for stopping voltage for green filter\")\n",
    "print(avgV_red, \"V - Average value for stopping voltage for red filter\")"
   ]
  },
  {
   "cell_type": "code",
   "execution_count": 10,
   "metadata": {},
   "outputs": [
    {
     "name": "stdout",
     "output_type": "stream",
     "text": [
      "2.101689413656658 eV - Energy of red filter\n",
      "2.2710563261125056 eV - Energy of green filter\n",
      "2.844029252425294 eV - Energy of blue filter\n"
     ]
    }
   ],
   "source": [
    "import numpy as np\n",
    "import matplotlib.pyplot as plt\n",
    "from astropy import units as u\n",
    "from scipy.optimize import curve_fit\n",
    "%matplotlib inline\n",
    "\n",
    "global C\n",
    "global e\n",
    "global H\n",
    "global WL_RED\n",
    "global WL_GREEN \n",
    "global WL_BLUE\n",
    "\n",
    "C = 2.998e8\n",
    "e = 1.602e-19\n",
    "H = 6.626e-34\n",
    "WL_RED = 590e-9\n",
    "WL_GREEN = 546e-9\n",
    "WL_BLUE = 436e-9\n",
    "\n",
    "E_red = (H*C)/WL_RED * 1/e\n",
    "E_green = (H*C)/WL_GREEN * 1/e\n",
    "E_blue = (H*C)/WL_BLUE * 1/e\n",
    "\n",
    "print(E_red, \"eV - Energy of red filter\")\n",
    "print(E_green, \"eV - Energy of green filter\")\n",
    "print(E_blue, \"eV - Energy of blue filter\")"
   ]
  },
  {
   "cell_type": "code",
   "execution_count": 16,
   "metadata": {
    "scrolled": true
   },
   "outputs": [
    {
     "data": {
      "image/png": "[encoded data removed]",
      "text/plain": [
       "<matplotlib.figure.Figure at 0x1dfe3012278>"
      ]
     },
     "metadata": {},
     "output_type": "display_data"
    },
    {
     "name": "stdout",
     "output_type": "stream",
     "text": [
      "5.34356237491661 - Experimental value for h\n",
      "19.354627604639152 - Percent Error for h\n"
     ]
    }
   ],
   "source": [
    "xdata = [E_red,E_green,E_blue]\n",
    "#xdata = [1/WL_RED,1/WL_GREEN,1/WL_BLUE]\n",
    "ydata = [avgV_red,avgV_green,avgV_blue]\n",
    "\n",
    "def func(x, a, b):\n",
    "    return a*x + b\n",
    "\n",
    "popt, pcov = curve_fit(func, xdata, ydata)\n",
    "\n",
    "plt.plot(xdata, ydata, 'ro')\n",
    "plt.xlabel(\"Energy (eV)\")\n",
    "plt.ylabel(\"Stopping Voltage (V)\")\n",
    "plt.plot(xdata, np.polyval(popt, xdata), '-')\n",
    "#plt.text(0.5, 90, r\"a = {0:.3f} +/- {1:.3f}\".format(popt[0], pcov[0,0]**0.5))\n",
    "#plt.text(0.5, 80, r\"b = {0:.3f} +/- {1:.3f}\".format(popt[1], pcov[1,1]**0.5))\n",
    "#plt.text(0.5, 70, r\"c = {0:.3f} +/- {1:.3f}\".format(popt[2], pcov[2,2]**0.5))\n",
    "plt.grid()\n",
    "plt.show()\n",
    "\n",
    "a = 1\n",
    "h = a*(1.602*10/2.998)\n",
    "percent_error = (abs(h - 6.626)/6.626) * 100\n",
    "\n",
    "print(h, \"- Experimental value for h\")\n",
    "print(percent_error, \"- Percent Error for h\")"
   ]
  },
  {
   "cell_type": "markdown",
   "metadata": {},
   "source": [
    "# Conclusion"
   ]
  },
  {
   "cell_type": "markdown",
   "metadata": {
    "collapsed": true
   },
   "source": [
    "The theoretical value of Planck’s constant was 6.626 X 10^-34 Js. Our measured value of Planck’s constant was determined to be 5.344 X 10^-34. The percent error in our measured value was calculated to be 19.35%. Due to the magnitude of the percent error, this experimental outcome can be deemed unsuccessful. To have more accurate results, perhaps the amplifier should have been placed closer to the photodiode."
   ]
  },
  {
   "cell_type": "markdown",
   "metadata": {},
   "source": [
    "# References"
   ]
  },
  {
   "cell_type": "markdown",
   "metadata": {
    "collapsed": true
   },
   "source": [
    "Serway, R. A., Moses, C. J., & Moyer, C. A. (2004). Modern Physics (3rd ed.). Belmont, CA: Brooks/Cole. \n",
    "\n",
    "Photoelectric effect. Retrieved October 11, 2017, from\n",
    "https://www.khanacademy.org/science/physics/quantumphysics/photons/a/photoelectric-effect "
   ]
  }
 ],
 "metadata": {
  "kernelspec": {
   "display_name": "Python 3",
   "language": "python",
   "name": "python3"
  },
  "language_info": {
   "codemirror_mode": {
    "name": "ipython",
    "version": 3
   },
   "file_extension": ".py",
   "mimetype": "text/x-python",
   "name": "python",
   "nbconvert_exporter": "python",
   "pygments_lexer": "ipython3",
   "version": "3.6.1"
  }
 },
 "nbformat": 4,
 "nbformat_minor": 2
}
