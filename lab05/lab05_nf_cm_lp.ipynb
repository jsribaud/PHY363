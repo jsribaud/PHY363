{
 "cells": [
  {
   "cell_type": "markdown",
   "metadata": {},
   "source": [
    "# Title"
   ]
  },
  {
   "cell_type": "markdown",
   "metadata": {},
   "source": [
    "us"
   ]
  },
  {
   "cell_type": "markdown",
   "metadata": {},
   "source": [
    "# Abstract"
   ]
  },
  {
   "cell_type": "code",
   "execution_count": null,
   "metadata": {
    "collapsed": true
   },
   "outputs": [],
   "source": [
    "# todo Nathaniel"
   ]
  },
  {
   "cell_type": "markdown",
   "metadata": {},
   "source": [
    "# Introduction"
   ]
  },
  {
   "cell_type": "markdown",
   "metadata": {
    "collapsed": true
   },
   "source": [
    "The photoelectric effect occurs when light is shined on a metal surface, electrons may be ejected from the surface of the metal. Following the wave theory of light, the kinetic energy of emitted photoelectrons would be proportional to the light intensity. However, Philip Lenard discovered that the maximum kinetic energy of photoelectrons did not depend on the intensity of the light amplitude. In 1905, Albert Einstein published “A Heuristic Point of View About the Generation and Transformation of Light.” Besides creating the theory of light quanta, Einstein explained the photoelectric effect and that light is composed of quanta of energy called photons, each containing energy equivalent to hf.\n",
    "\n",
    "From the relationship between the stopping potential and the reciprocal of the wavelength, we have determined the value of Planck’s constant from the slope of this function. "
   ]
  },
  {
   "cell_type": "markdown",
   "metadata": {},
   "source": [
    "# Procedure"
   ]
  },
  {
   "cell_type": "code",
   "execution_count": 1,
   "metadata": {
    "collapsed": true
   },
   "outputs": [],
   "source": [
    "# todo Nathaniel"
   ]
  },
  {
   "cell_type": "markdown",
   "metadata": {},
   "source": [
    "# Data"
   ]
  },
  {
   "cell_type": "code",
   "execution_count": 2,
   "metadata": {
    "collapsed": true
   },
   "outputs": [],
   "source": [
    "bluefilter = [\n",
    "    .904, .964, .611,\n",
    "    .923, .927, .896,\n",
    "    .677, .744, .857\n",
    "]\n",
    "\n",
    "greenfilter = [\n",
    "    .548, .478, .505,\n",
    "    .528, .491, .474,\n",
    "    .493, .548, .583\n",
    "]\n",
    "\n",
    "redfilter = [\n",
    "    .435, .442, .441,\n",
    "    .412, .399, .443,\n",
    "    .391, .434, .421\n",
    "]"
   ]
  },
  {
   "cell_type": "markdown",
   "metadata": {},
   "source": [
    "# Calculations"
   ]
  },
  {
   "cell_type": "code",
   "execution_count": 3,
   "metadata": {
    "collapsed": true
   },
   "outputs": [],
   "source": [
    "# todo Liam"
   ]
  },
  {
   "cell_type": "markdown",
   "metadata": {},
   "source": [
    "# Conclusion"
   ]
  },
  {
   "cell_type": "markdown",
   "metadata": {
    "collapsed": true
   },
   "source": [
    "The theoretical value of Planck’s constant was 6.626 X 10^-34 Js. Our measured value of Planck’s constant was determined to be 5.344 X 10^-34. The percent error in our measured value was calculated to be 19.35%. Due to the magnitude of the percent error, this experimental outcome can be deemed unsuccessful. To have more accurate results, perhaps the amplifier should have been placed closer to the photodiode."
   ]
  },
  {
   "cell_type": "markdown",
   "metadata": {},
   "source": [
    "# References"
   ]
  },
  {
   "cell_type": "markdown",
   "metadata": {
    "collapsed": true
   },
   "source": [
    "Serway, R. A., Moses, C. J., & Moyer, C. A. (2004). Modern Physics (3rd ed.). Belmont, CA: Brooks/Cole. \n",
    "\n",
    "Photoelectric effect. Retrieved October 11, 2017, from\n",
    "https://www.khanacademy.org/science/physics/quantumphysics/photons/a/photoelectric-effect "
   ]
  }
 ],
 "metadata": {
  "kernelspec": {
   "display_name": "Python 3",
   "language": "python",
   "name": "python3"
  },
  "language_info": {
   "codemirror_mode": {
    "name": "ipython",
    "version": 3
   },
   "file_extension": ".py",
   "mimetype": "text/x-python",
   "name": "python",
   "nbconvert_exporter": "python",
   "pygments_lexer": "ipython3",
   "version": "3.6.2"
  }
 },
 "nbformat": 4,
 "nbformat_minor": 2
}
