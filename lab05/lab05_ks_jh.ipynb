{
 "cells": [
  {
   "cell_type": "markdown",
   "metadata": {},
   "source": [
    "# Lab 5: The Photoelectric Effect\n",
    "\n",
    "Kollin Schultz, Justin Houle"
   ]
  },
  {
   "cell_type": "markdown",
   "metadata": {},
   "source": [
    "# Abstract\n",
    "For this Pion Muon Positron lab we ran two separate experiments. For these experiments we were expected to measure and calculate the mass of a Pion and a Muon as well as the lifetime of a Muon. To calculate the mass of the particles we analyzed pictures of the visible routes of Pions Muons and Positrons in a hydrogen bubble chamber. The bubble chamber was invented by Donald A. Glaser in the mid 50's. It is a chamber that is filled with superheated transparent liquid (usually liquid hydrogen). Glaser earned the Nobel Prize in Physics in 1960 for this invention. Using the bubble chamber photographs and measurements, we inputed out measurments in jupyter notebook to achieve a Pion mass of 146.6 MeV/c<sup>2</sup> and a Muon mass of 109.9 MeV/c<sup>2</sup>. Both of our values were within a 5% error of the accepted values. While we were measuring the length and curvature of the particle paths another experiment ran a scintillator. This device kept track of the number of muons that entered and measured the decay rate of those muons. This devices works in such a way that incoming particles strick a luminescent material which absorbs the impact energy.  \n"
   ]
  },
  {
   "cell_type": "markdown",
   "metadata": {},
   "source": [
    "# Introduction\n",
    "In our Pi-Mu-e experiment we analyzed bubble tracks that were created by high energy particles. First a pion particle would enter the hydrogen bubble chamber with an initial momentum. As the original pion particle slows and eventually comes to a stop it decays into a muon (and non charged neutrons) which splits into a different path. Eventually the muon itself with decay in a positron which is sent off into different, spiraled path. By measuring these different paths and calculating momentums and energies we can find the mass of the original Pion and Muon particles. \n",
    "Pions and muons have an extremely short lifetime, and we used a scintillator to measure these lifetimes over a few trials that last 8 hours at a time. The device measured over a million interactions but only a small fraction of those interactions were viable for our experiement to determine the lifetime of a muon. \n"
   ]
  },
  {
   "cell_type": "markdown",
   "metadata": {},
   "source": [
    "# Methods\n",
    "\n"
   ]
  },
  {
   "cell_type": "markdown",
   "metadata": {},
   "source": [
    "# Results and Analysis\n",
    "\n",
    " "
   ]
  },
  {
   "cell_type": "code",
   "execution_count": 2,
   "metadata": {},
   "outputs": [
    {
     "name": "stdout",
     "output_type": "stream",
     "text": [
      "109.971974522\n",
      "146.62602013\n"
     ]
    }
   ],
   "source": [
    "#Imported software and the raw data we collected from a csv file to use for the analysis. \n",
    "import numpy as np\n",
    "from astropy.io import ascii\n",
    "data=ascii.read('lab05_data_ks_jh.csv')\n",
    "\n",
    "#Defined the constants needed for our calculations.\n",
    "B=8800\n",
    "c=1\n",
    "e=3*10**-4 \n",
    "rho=0.07\n",
    "\n",
    "#Used numpy to calculate the average values from our collected data.\n",
    "R=(np.mean(data['radius'])/0.785) \n",
    "L=(np.mean(data['length']/0.785))\n",
    "\n",
    "#Defined functions given in the lab manual to calculate the masses of a pion and muon respectively.\n",
    "m=(3*e*R*B)/(c) \n",
    "T=(2.1*m*(c**2)*rho*L)**(1/2) \n",
    "p=np.sqrt((T**2)+(2*T*m*(c**2)))/c\n",
    "mp=(np.sqrt(((p*c)**2)+((m*(c**2))**2))+(p*c)) \n",
    "print(m)\n",
    "print(mp)"
   ]
  },
  {
   "cell_type": "markdown",
   "metadata": {},
   "source": [
    "#### Muon Lifetime Determination\n",
    "Data from a muon detector was plotted and an exponential curve was fitted to the graph (figure 3). The average lifetime of a muon was calculated to be 8.3 microseconds. Assuming that the muons travel at 0.95c (as reported in the textbook), our value has 18.2% error from the esimated muon lifetime value of 7.05 microseconds. "
   ]
  },
  {
   "cell_type": "code",
   "execution_count": 3,
   "metadata": {},
   "outputs": [
    {
     "ename": "KeyError",
     "evalue": "'g'",
     "output_type": "error",
     "traceback": [
      "\u001b[0;31m---------------------------------------------------------------------------\u001b[0m",
      "\u001b[0;31mKeyError\u001b[0m                                  Traceback (most recent call last)",
      "\u001b[0;32m<ipython-input-3-7873f2270f4b>\u001b[0m in \u001b[0;36m<module>\u001b[0;34m()\u001b[0m\n\u001b[1;32m      8\u001b[0m \u001b[0;31m#Imported data from csv file.\u001b[0m\u001b[0;34m\u001b[0m\u001b[0;34m\u001b[0m\u001b[0m\n\u001b[1;32m      9\u001b[0m \u001b[0mdata2\u001b[0m\u001b[0;34m=\u001b[0m\u001b[0mascii\u001b[0m\u001b[0;34m.\u001b[0m\u001b[0mread\u001b[0m\u001b[0;34m(\u001b[0m\u001b[0;34m'lab05_data_ks_jh.csv'\u001b[0m\u001b[0;34m)\u001b[0m\u001b[0;34m\u001b[0m\u001b[0m\n\u001b[0;32m---> 10\u001b[0;31m \u001b[0mg\u001b[0m \u001b[0;34m=\u001b[0m \u001b[0mdata2\u001b[0m\u001b[0;34m[\u001b[0m\u001b[0;34m'g'\u001b[0m\u001b[0;34m]\u001b[0m\u001b[0;34m\u001b[0m\u001b[0m\n\u001b[0m\u001b[1;32m     11\u001b[0m \u001b[0mb\u001b[0m \u001b[0;34m=\u001b[0m \u001b[0mdata2\u001b[0m\u001b[0;34m[\u001b[0m\u001b[0;34m'b'\u001b[0m\u001b[0;34m]\u001b[0m\u001b[0;34m\u001b[0m\u001b[0m\n\u001b[1;32m     12\u001b[0m \u001b[0mr\u001b[0m \u001b[0;34m=\u001b[0m \u001b[0mdata2\u001b[0m\u001b[0;34m[\u001b[0m\u001b[0;34m'r'\u001b[0m\u001b[0;34m]\u001b[0m\u001b[0;34m\u001b[0m\u001b[0m\n",
      "\u001b[0;32m/Users/kollinschultz/anaconda/lib/python3.6/site-packages/astropy/table/table.py\u001b[0m in \u001b[0;36m__getitem__\u001b[0;34m(self, item)\u001b[0m\n\u001b[1;32m   1200\u001b[0m     \u001b[0;32mdef\u001b[0m \u001b[0m__getitem__\u001b[0m\u001b[0;34m(\u001b[0m\u001b[0mself\u001b[0m\u001b[0;34m,\u001b[0m \u001b[0mitem\u001b[0m\u001b[0;34m)\u001b[0m\u001b[0;34m:\u001b[0m\u001b[0;34m\u001b[0m\u001b[0m\n\u001b[1;32m   1201\u001b[0m         \u001b[0;32mif\u001b[0m \u001b[0misinstance\u001b[0m\u001b[0;34m(\u001b[0m\u001b[0mitem\u001b[0m\u001b[0;34m,\u001b[0m \u001b[0msix\u001b[0m\u001b[0;34m.\u001b[0m\u001b[0mstring_types\u001b[0m\u001b[0;34m)\u001b[0m\u001b[0;34m:\u001b[0m\u001b[0;34m\u001b[0m\u001b[0m\n\u001b[0;32m-> 1202\u001b[0;31m             \u001b[0;32mreturn\u001b[0m \u001b[0mself\u001b[0m\u001b[0;34m.\u001b[0m\u001b[0mcolumns\u001b[0m\u001b[0;34m[\u001b[0m\u001b[0mitem\u001b[0m\u001b[0;34m]\u001b[0m\u001b[0;34m\u001b[0m\u001b[0m\n\u001b[0m\u001b[1;32m   1203\u001b[0m         \u001b[0;32melif\u001b[0m \u001b[0misinstance\u001b[0m\u001b[0;34m(\u001b[0m\u001b[0mitem\u001b[0m\u001b[0;34m,\u001b[0m \u001b[0;34m(\u001b[0m\u001b[0mint\u001b[0m\u001b[0;34m,\u001b[0m \u001b[0mnp\u001b[0m\u001b[0;34m.\u001b[0m\u001b[0minteger\u001b[0m\u001b[0;34m)\u001b[0m\u001b[0;34m)\u001b[0m\u001b[0;34m:\u001b[0m\u001b[0;34m\u001b[0m\u001b[0m\n\u001b[1;32m   1204\u001b[0m             \u001b[0;32mreturn\u001b[0m \u001b[0mself\u001b[0m\u001b[0;34m.\u001b[0m\u001b[0mRow\u001b[0m\u001b[0;34m(\u001b[0m\u001b[0mself\u001b[0m\u001b[0;34m,\u001b[0m \u001b[0mitem\u001b[0m\u001b[0;34m)\u001b[0m\u001b[0;34m\u001b[0m\u001b[0m\n",
      "\u001b[0;32m/Users/kollinschultz/anaconda/lib/python3.6/site-packages/astropy/table/table.py\u001b[0m in \u001b[0;36m__getitem__\u001b[0;34m(self, item)\u001b[0m\n\u001b[1;32m    108\u001b[0m         \"\"\"\n\u001b[1;32m    109\u001b[0m         \u001b[0;32mif\u001b[0m \u001b[0misinstance\u001b[0m\u001b[0;34m(\u001b[0m\u001b[0mitem\u001b[0m\u001b[0;34m,\u001b[0m \u001b[0msix\u001b[0m\u001b[0;34m.\u001b[0m\u001b[0mstring_types\u001b[0m\u001b[0;34m)\u001b[0m\u001b[0;34m:\u001b[0m\u001b[0;34m\u001b[0m\u001b[0m\n\u001b[0;32m--> 110\u001b[0;31m             \u001b[0;32mreturn\u001b[0m \u001b[0mOrderedDict\u001b[0m\u001b[0;34m.\u001b[0m\u001b[0m__getitem__\u001b[0m\u001b[0;34m(\u001b[0m\u001b[0mself\u001b[0m\u001b[0;34m,\u001b[0m \u001b[0mitem\u001b[0m\u001b[0;34m)\u001b[0m\u001b[0;34m\u001b[0m\u001b[0m\n\u001b[0m\u001b[1;32m    111\u001b[0m         \u001b[0;32melif\u001b[0m \u001b[0misinstance\u001b[0m\u001b[0;34m(\u001b[0m\u001b[0mitem\u001b[0m\u001b[0;34m,\u001b[0m \u001b[0;34m(\u001b[0m\u001b[0mint\u001b[0m\u001b[0;34m,\u001b[0m \u001b[0mnp\u001b[0m\u001b[0;34m.\u001b[0m\u001b[0minteger\u001b[0m\u001b[0;34m)\u001b[0m\u001b[0;34m)\u001b[0m\u001b[0;34m:\u001b[0m\u001b[0;34m\u001b[0m\u001b[0m\n\u001b[1;32m    112\u001b[0m             \u001b[0;32mreturn\u001b[0m \u001b[0mself\u001b[0m\u001b[0;34m.\u001b[0m\u001b[0mvalues\u001b[0m\u001b[0;34m(\u001b[0m\u001b[0;34m)\u001b[0m\u001b[0;34m[\u001b[0m\u001b[0mitem\u001b[0m\u001b[0;34m]\u001b[0m\u001b[0;34m\u001b[0m\u001b[0m\n",
      "\u001b[0;31mKeyError\u001b[0m: 'g'"
     ]
    }
   ],
   "source": [
    "#Imported software was plotting functions.\n",
    "import numpy as np\n",
    "import scipy.stats as ss\n",
    "import matplotlib.pyplot as plt\n",
    "from astropy.io import ascii\n",
    "from scipy.optimize import curve_fit\n",
    "from scipy import stats\n",
    "#Imported data from csv file.\n",
    "data2=ascii.read('lab05_data_ks_jh.csv')\n",
    "g = data2['g']\n",
    "b = data2['b']\n",
    "r = data2['r']\n",
    "x=int()\n",
    "#Formatted the plot for visual representation.\n",
    "plt.grid()\n",
    "plt.plot(x, g)\n",
    "plt.title('Figure 3')\n",
    "plt.ylabel('')\n",
    "plt.xlabel('Time Since Last Detection')\n",
    "plt.show()"
   ]
  },
  {
   "cell_type": "markdown",
   "metadata": {},
   "source": [
    "# Conclusion\n",
    "\n",
    "Our analysis accurately determined the muon mass to be 109.9 eV/c<sup>2</sup>, which is only a 3.75% error from the accepted value. This value, however, does not account for any uncertainty. Since our data set came from multiple lab teams/reports we are unable to calculate exact values for an uncertainty. By using the same data as every other lab group, we were able to collaborate with others to determine the accuracy of our calculation. The muon lifetime value we calculated as 8.3 microseconds. Although there is not an accepted value for there lifetime, an estimated value of 7.05 microseconds was used which assumes the muons were traveling at 0.95c. With this estimated value our caluation resulted in a 18.2% error. The detector only collected data for one day, so if we had been able to increase the number of data points, then we may have been able to reduce the percent error on our calculation."
   ]
  },
  {
   "cell_type": "markdown",
   "metadata": {
    "collapsed": true
   },
   "source": [
    "# Acknowledgements\n",
    "\n"
   ]
  },
  {
   "cell_type": "markdown",
   "metadata": {
    "collapsed": true
   },
   "source": [
    "We would like to thank Dr. Ribaudo for his assistance with the curve fitting to our data."
   ]
  }
 ],
 "metadata": {
  "kernelspec": {
   "display_name": "Python 3",
   "language": "python",
   "name": "python3"
  },
  "language_info": {
   "codemirror_mode": {
    "name": "ipython",
    "version": 3
   },
   "file_extension": ".py",
   "mimetype": "text/x-python",
   "name": "python",
   "nbconvert_exporter": "python",
   "pygments_lexer": "ipython3",
   "version": "3.6.1"
  }
 },
 "nbformat": 4,
 "nbformat_minor": 1
}
