{
 "cells": [
  {
   "cell_type": "markdown",
   "metadata": {},
   "source": [
    "# Lab 5: The Photoelectric Effect\n",
    "\n",
    "Kollin Schultz, Justin Houle"
   ]
  },
  {
   "cell_type": "markdown",
   "metadata": {},
   "source": [
    "# Abstract\n",
    "For this Pion Muon Positron lab we ran two separate experiments. For these experiments we were expected to measure and calculate the mass of a Pion and a Muon as well as the lifetime of a Muon. To calculate the mass of the particles we analyzed pictures of the visible routes of Pions Muons and Positrons in a hydrogen bubble chamber. The bubble chamber was invented by Donald A. Glaser in the mid 50's. It is a chamber that is filled with superheated transparent liquid (usually liquid hydrogen). Glaser earned the Nobel Prize in Physics in 1960 for this invention. Using the bubble chamber photographs and measurements, we inputed out measurments in jupyter notebook to achieve a Pion mass of 146.6 MeV/c<sup>2</sup> and a Muon mass of 109.9 MeV/c<sup>2</sup>. Both of our values were within a 5% error of the accepted values. While we were measuring the length and curvature of the particle paths another experiment ran a scintillator. This device kept track of the number of muons that entered and measured the decay rate of those muons. This devices works in such a way that incoming particles strick a luminescent material which absorbs the impact energy.  \n"
   ]
  },
  {
   "cell_type": "markdown",
   "metadata": {},
   "source": [
    "# Introduction\n",
    "In our Pi-Mu-e experiment we analyzed bubble tracks that were created by high energy particles. First a pion particle would enter the hydrogen bubble chamber with an initial momentum. As the original pion particle slows and eventually comes to a stop it decays into a muon (and non charged neutrons) which splits into a different path. Eventually the muon itself with decay in a positron which is sent off into different, spiraled path. By measuring these different paths and calculating momentums and energies we can find the mass of the original Pion and Muon particles. \n",
    "Pions and muons have an extremely short lifetime, and we used a scintillator to measure these lifetimes over a few trials that last 8 hours at a time. The device measured over a million interactions but only a small fraction of those interactions were viable for our experiement to determine the lifetime of a muon. \n"
   ]
  },
  {
   "cell_type": "markdown",
   "metadata": {},
   "source": [
    "# Methods\n",
    "\n",
    "To estimate the value of Planck's constant (h) using the photoelectric effect, a Photoelectric Effect Apparatus (Daedalon Corporation), a Mercury Arc Power Supply (Daedalon Corporation), a white fluorescent lamp, a DC Regulated Power Supply (Tenma), a Stefan-Boltzman Lamp (Pasco Scientific), a multimeter (MIC-7S), and light filters were used. The light from a lamp was directed through a filter to create monochromatic radiation. The monochromatic radiation then enters the Photoelectric Effect Apparatus where the stopping potential of is measured by slowing increasing the voltage. This was repeated with blue, green, and red filters a total of 15 times per filter. The recorded data has been plotted (figure 2) and analyzed in the results and analysis section."
   ]
  },
  {
   "cell_type": "markdown",
   "metadata": {},
   "source": [
    "# Results and Analysis\n",
    "\n",
    "Our experiment measured the stopping voltage (V) required to negate the photoelectric effect of three separate wavelengths of light . The average V was plotted with the energy of each separate wavelength. A trendline was fitted to the graph and the slope of the line was used to calculate Planck's constant (h). Using the equation: \\begin{equation} e(V+\\phi)=hc/\\lambda \\end{equation} \n",
    "Where: \n",
    "\\begin{equation}\n",
    "e=electronic charge \n",
    "\\end{equation}\n",
    "\\begin{equation}\n",
    "\\phi= the workfunction \n",
    "\\end{equation}\n",
    "\\begin{equation}\n",
    "c= the speed of light\n",
    "\\end{equation}\n",
    "\\begin{equation}\n",
    "\\lambda= wavelength \n",
    "\\end{equation}\n",
    "From this equations we find that: \n",
    "\\begin{equation} slope=V\\lambda \\end{equation} \n",
    "Which allows us to calculate h using: \n",
    "\\begin{equation} h=(slope*e)/c \\end{equation}\n"
   ]
  },
  {
   "cell_type": "code",
   "execution_count": 74,
   "metadata": {},
   "outputs": [
    {
     "name": "stderr",
     "output_type": "stream",
     "text": [
      "/Users/kollinschultz/anaconda/lib/python3.6/site-packages/scipy/optimize/minpack.py:779: OptimizeWarning: Covariance of the parameters could not be estimated\n",
      "  category=OptimizeWarning)\n"
     ]
    },
    {
     "data": {
      "image/png": "[encoded data removed]",
      "text/plain": [
       "<matplotlib.figure.Figure at 0x11738b860>"
      ]
     },
     "metadata": {},
     "output_type": "display_data"
    }
   ],
   "source": [
    "#Imported software with analysis and plotting functions.\n",
    "import numpy as np\n",
    "import matplotlib.pyplot as plt\n",
    "from astropy.io import ascii\n",
    "from scipy.optimize import curve_fit\n",
    "\n",
    "data=ascii.read('lab05_data_ks_jh.csv')\n",
    "\n",
    "#Imported data from csv file.\n",
    "g=(np.mean(data[0][:]))\n",
    "xg=(1/546*10**-9)\n",
    "b=(np.mean(data['blue']))\n",
    "xb=(1/436*10**-9)\n",
    "r=(np.mean(data['red']))\n",
    "xr=(1/590*10**-9)\n",
    "x=(xr, xb, xg)\n",
    "y=(r, b, g)\n",
    "\n",
    "def func (x, a, b):\n",
    "    return a*x + b\n",
    "\n",
    "popt, pcov=curve_fit(func, x, y)\n",
    "\n",
    "#Formatted the plot for visual representation.\n",
    "#plt.grid()\n",
    "plt.plot(x, y, 'ro')\n",
    "plt.plot(x, np.polyval(popt, x), '-')\n",
    "#plt.text(.0017, 0.9, r\"a = {0:.3f} +/- {1:.3f}\".format(popt[0], pcov[0,0]**0.5))\n",
    "#plt.text(.0017, 0.85, r\"b = {0:.3f} +/- {1:.3f}\".format(popt[1], pcov[1,1]**0.5))\n",
    "plt.title('Figure 3')\n",
    "plt.ylabel('Stopping Voltage (V)')\n",
    "plt.xlabel('Energy (J)')\n",
    "plt.show()"
   ]
  },
  {
   "cell_type": "code",
   "execution_count": 73,
   "metadata": {},
   "outputs": [
    {
     "name": "stdout",
     "output_type": "stream",
     "text": [
      "1.0\n",
      "5.34356237492e-28\n"
     ]
    }
   ],
   "source": [
    "#Imported software with analysis and plotting functions.\n",
    "import numpy as np\n",
    "\n",
    "e=1.602*10**-19\n",
    "c=2.998*10**8\n",
    "slope=popt[0]\n",
    "print(popt[0])\n",
    "h=((slope*e)/c)\n",
    "print(h)\n"
   ]
  },
  {
   "cell_type": "markdown",
   "metadata": {},
   "source": [
    "# Conclusion\n",
    "\n",
    "Our analysis accurately determined the muon mass to be 109.9 eV/c<sup>2</sup>, which is only a 3.75% error from the accepted value. This value, however, does not account for any uncertainty. Since our data set came from multiple lab teams/reports we are unable to calculate exact values for an uncertainty. By using the same data as every other lab group, we were able to collaborate with others to determine the accuracy of our calculation. The muon lifetime value we calculated as 8.3 microseconds. Although there is not an accepted value for there lifetime, an estimated value of 7.05 microseconds was used which assumes the muons were traveling at 0.95c. With this estimated value our caluation resulted in a 18.2% error. The detector only collected data for one day, so if we had been able to increase the number of data points, then we may have been able to reduce the percent error on our calculation."
   ]
  },
  {
   "cell_type": "markdown",
   "metadata": {
    "collapsed": true
   },
   "source": [
    "# Acknowledgements\n",
    "\n"
   ]
  },
  {
   "cell_type": "markdown",
   "metadata": {
    "collapsed": true
   },
   "source": [
    "We would like to thank Dr. Ribaudo for his assistance with the curve fitting to our data."
   ]
  }
 ],
 "metadata": {
  "kernelspec": {
   "display_name": "Python 3",
   "language": "python",
   "name": "python3"
  },
  "language_info": {
   "codemirror_mode": {
    "name": "ipython",
    "version": 3
   },
   "file_extension": ".py",
   "mimetype": "text/x-python",
   "name": "python",
   "nbconvert_exporter": "python",
   "pygments_lexer": "ipython3",
   "version": "3.6.1"
  }
 },
 "nbformat": 4,
 "nbformat_minor": 1
}
