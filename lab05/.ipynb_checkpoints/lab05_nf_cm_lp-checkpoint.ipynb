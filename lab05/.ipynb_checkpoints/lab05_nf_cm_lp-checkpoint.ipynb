{
 "cells": [
  {
   "cell_type": "code",
   "execution_count": null,
   "metadata": {
    "collapsed": true
   },
   "outputs": [],
   "source": [
    "bluefilter = [\n",
    "    .904, .964, .611,\n",
    "    .923, .927, .896,\n",
    "    .677, .744, .857\n",
    "]\n",
    "\n",
    "greenfilter = [\n",
    "    .548, .478, .505,\n",
    "    .528, .491, .474,\n",
    "    .493, .548, .583\n",
    "]\n",
    "\n",
    "redfilter = [\n",
    "    .435, .442, .441,\n",
    "    .412, .399, .443,\n",
    "    .391, .434, .421\n",
    "]"
   ]
  }
 ],
 "metadata": {
  "kernelspec": {
   "display_name": "Python 3",
   "language": "python",
   "name": "python3"
  },
  "language_info": {
   "codemirror_mode": {
    "name": "ipython",
    "version": 3
   },
   "file_extension": ".py",
   "mimetype": "text/x-python",
   "name": "python",
   "nbconvert_exporter": "python",
   "pygments_lexer": "ipython3",
   "version": "3.6.2"
  }
 },
 "nbformat": 4,
 "nbformat_minor": 2
}
