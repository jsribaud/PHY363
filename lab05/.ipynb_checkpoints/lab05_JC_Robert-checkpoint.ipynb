{
 "cells": [
  {
   "cell_type": "markdown",
   "metadata": {},
   "source": [
    "# The Photoelectric Effect\n",
    "Jelena Colon and Alex Orellano"
   ]
  },
  {
   "cell_type": "markdown",
   "metadata": {},
   "source": [
    "# Abstract\n"
   ]
  },
  {
   "cell_type": "markdown",
   "metadata": {},
   "source": [
    "The purpose of this experiment is to calculate plancks constant by measuring the stopping voltage of photons at various wavelengths. By plotting the stopping voltage vs the reciprical of the wavelength we were able to use the slope to calculate plancks constant as 3.96 x 10^-34. This is a 40% errror from the accepted value."
   ]
  },
  {
   "cell_type": "markdown",
   "metadata": {},
   "source": [
    "# Introduction \n",
    "   "
   ]
  },
  {
   "cell_type": "markdown",
   "metadata": {},
   "source": [
    "# Procedure\n",
    "A Daedalon EP-05 Photoelectric Effect with amplifier was hooked up to a volt mete. The power supply was hooked up to a light source with wire leads and was placed inline with each other(Figure 1). With each procudure only changing with the filter that is placed on the Photoelectric Effect sencer. The following wave lengths of the filters being used are 436nm, 546nm, and 590nm. During each procedure we calculated the average of 15 individual stoping voltage at each wavelength. Before recording each stopping voltage we zeroed the Photoelectric Effect away from the light source we set the current reading to 0. After everything being zeroed we moved the Photoelectric Effect with amplifier up to the light source and begain reading a current. Using the dial on the Photoelectric Effect with amplifier we increased the voltage to repel the photons that are coming from the light and producing a current on our meter. Using the average of the recored voltages of each wavelength of different wave lenghts we can graph the Stopping voltages verses the frequencys to find the slope that is related to a value that mimics plancks constant over all wave lengths."
   ]
  },
  {
   "cell_type": "markdown",
   "metadata": {},
   "source": [
    "# Data\n",
    "\n"
   ]
  },
  {
   "cell_type": "markdown",
   "metadata": {},
   "source": [
    "# Analysis / Calculations\n"
   ]
  },
  {
   "cell_type": "markdown",
   "metadata": {},
   "source": [
    "# Conclusion\n",
    "    \n"
   ]
  }
 ],
 "metadata": {
  "kernelspec": {
   "display_name": "Python 3",
   "language": "python",
   "name": "python3"
  },
  "language_info": {
   "codemirror_mode": {
    "name": "ipython",
    "version": 3
   },
   "file_extension": ".py",
   "mimetype": "text/x-python",
   "name": "python",
   "nbconvert_exporter": "python",
   "pygments_lexer": "ipython3",
   "version": "3.6.1"
  }
 },
 "nbformat": 4,
 "nbformat_minor": 1
}
