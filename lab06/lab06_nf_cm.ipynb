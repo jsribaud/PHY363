{
 "cells": [
  {
   "cell_type": "markdown",
   "metadata": {},
   "source": [
    "# Electron Charge-to-Mass Ratio"
   ]
  },
  {
   "cell_type": "markdown",
   "metadata": {},
   "source": [
    "###### Nathaniel Flower and Chelsey McMichael"
   ]
  },
  {
   "cell_type": "markdown",
   "metadata": {},
   "source": [
    "# Abstract"
   ]
  },
  {
   "cell_type": "markdown",
   "metadata": {},
   "source": [
    "chelsey"
   ]
  },
  {
   "cell_type": "markdown",
   "metadata": {},
   "source": [
    "# Introduction"
   ]
  },
  {
   "cell_type": "markdown",
   "metadata": {},
   "source": [
    "In 1897, Sir Joseph John Tomson determined the the electron charge to mass ratio as well as the fact that the electron is a negatively charged particle present in all atoms. Thomson measured the deflection of an electron beam by an electric field and applied a magnetic field to cancel out the deflection from the electric field. This allowed him to determine the velocity of the electron. It was also determined that the charge to mass ratio was independent of the electrodes and gas used. "
   ]
  },
  {
   "cell_type": "markdown",
   "metadata": {},
   "source": [
    "# Procedure"
   ]
  },
  {
   "cell_type": "markdown",
   "metadata": {},
   "source": [
    "Initially, we made sure that the cables and cords were connected properly between the Tunable DC Power Supply II, the Tunable DC Power supply, and the Helmholtz coils, making sure the that all power supplies were off before we connected any cords. \n",
    "\n",
    "To ensure the electron beam was easily visible, the lights were turned off revealing the bright green beam, and when the current was added it created a circle. Before making any measurements, we allowed the e/m tube to warm up. \n",
    "\n",
    "When the current was increased, the size of the circle became smaller. In this experiment, we performed twenty trials in which we changed the current coming from the Turnable DC Power Supply, but kept the voltage at a constant value. For each different current, we measured the diameter four times. For example, a new current was selected, and we would adjust the mirrored scale so that the ticked scale would go through the center of the circle. For each end of the circle, we measured from the middle of the part where the laser was perpendicular over the scale. We measured the diameter and halfed it to find the radius because it would have been diffcult to know when the radius length because we would have to designated a spot each time where the center of the circle existed. Oftentimes, we would measure the diamteter of a circle with a high current, and once that trial was complete, we would switch it to a circle with a low current. All in all, we measured the diameter using a current of 0.75 A to 3.0 A because this was the range of currents that formed a closed circle. "
   ]
  },
  {
   "cell_type": "markdown",
   "metadata": {},
   "source": [
    "# Data"
   ]
  },
  {
   "cell_type": "markdown",
   "metadata": {},
   "source": [
    "**Trial **|**Voltage (V)**|**Current (A)**|**Radius 1 (cm)**|**Radius 2 (cm)**|**Radius 3 (cm)**|**Radius 4 (cm)**|**Radius Average (cm)**\n",
    ":-----:|:-----:|:-----:|:-----:|:-----:|:-----:|:-----:|:-----:\n",
    "1|120|0.75|6.35|6.50|6.25|6.60|6.425\n",
    "2|120|0.81|6.625|6.00|6.125|5.95|6.175\n",
    "3|120|0.97|5.82|5.75|5.25|5.15|5.4925\n",
    "4|120|1.05|4.625|5.075|4.70|4.625|4.75625\n",
    "5|120|1.15|4.75|4.40|4.625|4.75|4.63125\n",
    "6|120|1.25|3.85|3.875|4.25|4.375|4.0875\n",
    "7|120|1.30|3.75|4.00|3.675|3.75|3.79375\n",
    "8|120|1.38|4.00|3.875|3.25|3.25|3.59375\n",
    "9|120|1.44|3.35|3.625|3.65|3.375|3.50\n",
    "10|120|1.60|3.375|3.375|3.175|3.225|3.2875\n",
    "11|120|1.75|2.50|2.75|2.85|3.00|2.775\n",
    "12|120|1.90|2.875|2.80|2.375|2.30|2.5875\n",
    "13|120|2.08|2.375|2.50|2.00|2.30|2.29375\n",
    "14|120|2.20|2.125|2.10|2.375|2.375|2.24375\n",
    "15|120|2.30|1.95|1.85|1.875|2.25|1.98125\n",
    "16|120|2.40|1.75|1.975|2.00|2.25|1.99375\n",
    "17|120|2.50|1.80|1.80|1.875|2.00|1.86875\n",
    "18|120|2.60|1.75|1.875|1.875|1.75|1.8125\n",
    "19|120|2.75|1.80|1.65|1.625|1.75|1.70625\n",
    "20|120|3.00|1.25|1.75|1.55|1.40|1.4875\n",
    "\n",
    "###### Table 1. Electron Charge-to-Mass Ratio Data"
   ]
  },
  {
   "cell_type": "markdown",
   "metadata": {},
   "source": [
    "# Calculations"
   ]
  },
  {
   "cell_type": "markdown",
   "metadata": {},
   "source": [
    "Nathaniel"
   ]
  },
  {
   "cell_type": "markdown",
   "metadata": {},
   "source": [
    "# Conclusion"
   ]
  },
  {
   "cell_type": "markdown",
   "metadata": {},
   "source": [
    "Nathaniel"
   ]
  },
  {
   "cell_type": "markdown",
   "metadata": {},
   "source": [
    "# References"
   ]
  },
  {
   "cell_type": "markdown",
   "metadata": {},
   "source": [
    "Chelsey"
   ]
  },
  {
   "cell_type": "code",
   "execution_count": null,
   "metadata": {
    "collapsed": true
   },
   "outputs": [],
   "source": []
  }
 ],
 "metadata": {
  "kernelspec": {
   "display_name": "Python 3",
   "language": "python",
   "name": "python3"
  },
  "language_info": {
   "codemirror_mode": {
    "name": "ipython",
    "version": 3
   },
   "file_extension": ".py",
   "mimetype": "text/x-python",
   "name": "python",
   "nbconvert_exporter": "python",
   "pygments_lexer": "ipython3",
   "version": "3.6.2"
  }
 },
 "nbformat": 4,
 "nbformat_minor": 2
}
