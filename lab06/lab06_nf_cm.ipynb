{
 "cells": [
  {
   "cell_type": "markdown",
   "metadata": {},
   "source": [
    "# Electron Charge-to-Mass Ratio"
   ]
  },
  {
   "cell_type": "markdown",
   "metadata": {},
   "source": [
    "###### Nathaniel Flower and Chelsey McMichael"
   ]
  },
  {
   "cell_type": "markdown",
   "metadata": {},
   "source": [
    "# Abstract"
   ]
  },
  {
   "cell_type": "markdown",
   "metadata": {},
   "source": [
    "chelsey"
   ]
  },
  {
   "cell_type": "markdown",
   "metadata": {},
   "source": [
    "# Introduction"
   ]
  },
  {
   "cell_type": "markdown",
   "metadata": {},
   "source": [
    "chelsey"
   ]
  },
  {
   "cell_type": "markdown",
   "metadata": {},
   "source": [
    "# Procedure"
   ]
  },
  {
   "cell_type": "markdown",
   "metadata": {},
   "source": [
    "Chelsey"
   ]
  },
  {
   "cell_type": "markdown",
   "metadata": {},
   "source": [
    "# Data"
   ]
  },
  {
   "cell_type": "markdown",
   "metadata": {},
   "source": [
    "**Trial **|**Voltage (V)**|**Current (A)**|**Radius 1 (cm)**|**Radius 2 (cm)**|**Radius 3(cm)**|**Radius 4 (cm)**|**Radius Average (cm)**\n",
    ":-----:|:-----:|:-----:|:-----:|:-----:|:-----:|:-----:|:-----:\n",
    "1|120|0.75|6.35|6.5|6.25|6.6|6.425\n",
    "2|120|0.81|6.625|6|6.125|5.95|6.175\n",
    "3|120|0.97|5.82|5.75|5.25|5.15|5.4925\n",
    "4|120|1.05|4.625|5.075|4.7|4.625|4.75625\n",
    "5|120|1.15|4.75|4.4|4.625|4.75|4.63125\n",
    "6|120|1.25|3.85|3.875|4.25|4.375|4.0875\n",
    "7|120|1.3|3.75|4|3.675|3.75|3.79375\n",
    "8|120|1.38|4|3.875|3.25|3.25|3.59375\n",
    "9|120|1.44|3.35|3.625|3.65|3.375|3.5\n",
    "10|120|1.6|3.375|3.375|3.175|3.225|3.2875\n",
    "11|120|1.75|2.5|2.75|2.85|3|2.775\n",
    "12|120|1.9|2.875|2.8|2.375|2.3|2.5875\n",
    "13|120|2.08|2.375|2.5|2|2.3|2.29375\n",
    "14|120|2.2|2.125|2.1|2.375|2.375|2.24375\n",
    "15|120|2.3|1.95|1.85|1.875|2.25|1.98125\n",
    "16|120|2.4|1.75|1.975|2|2.25|1.99375\n",
    "17|120|2.5|1.8|1.8|1.875|2|1.86875\n",
    "18|120|2.6|1.75|1.875|1.875|1.75|1.8125\n",
    "19|120|2.75|1.8|1.65|1.625|1.75|1.70625\n",
    "20|120|3|1.25|1.75|1.55|1.4|1.4875\n",
    "\n",
    "###### Table 1. Electron Charge-to-Mass Ratio Data"
   ]
  },
  {
   "cell_type": "markdown",
   "metadata": {},
   "source": [
    "# Calculations"
   ]
  },
  {
   "cell_type": "markdown",
   "metadata": {},
   "source": [
    "Nathaniel"
   ]
  },
  {
   "cell_type": "markdown",
   "metadata": {},
   "source": [
    "# Conclusion"
   ]
  },
  {
   "cell_type": "markdown",
   "metadata": {},
   "source": [
    "Nathaniel"
   ]
  },
  {
   "cell_type": "markdown",
   "metadata": {},
   "source": [
    "# References"
   ]
  },
  {
   "cell_type": "markdown",
   "metadata": {},
   "source": [
    "Chelsey"
   ]
  },
  {
   "cell_type": "code",
   "execution_count": null,
   "metadata": {
    "collapsed": true
   },
   "outputs": [],
   "source": []
  }
 ],
 "metadata": {
  "kernelspec": {
   "display_name": "Python 3",
   "language": "python",
   "name": "python3"
  },
  "language_info": {
   "codemirror_mode": {
    "name": "ipython",
    "version": 3
   },
   "file_extension": ".py",
   "mimetype": "text/x-python",
   "name": "python",
   "nbconvert_exporter": "python",
   "pygments_lexer": "ipython3",
   "version": "3.6.2"
  }
 },
 "nbformat": 4,
 "nbformat_minor": 2
}
