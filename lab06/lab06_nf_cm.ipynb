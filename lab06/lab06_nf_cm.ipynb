{
 "cells": [
  {
   "cell_type": "markdown",
   "metadata": {},
   "source": [
    "# Electron Charge-to-Mass Ratio"
   ]
  },
  {
   "cell_type": "markdown",
   "metadata": {},
   "source": [
    "###### Nathaniel Flower and Chelsey McMichael"
   ]
  },
  {
   "cell_type": "markdown",
   "metadata": {},
   "source": [
    "# Abstract"
   ]
  },
  {
   "cell_type": "markdown",
   "metadata": {},
   "source": [
    "In this experiment, the objective was to calculate the value of the electron charge to mass ratio. To determine this ratio, we recorded the radius of the circular electron path at a constant voltage, and recorded the value of the radius at altered currents. Using the data recorded, we made a graph of the radius squared versus the inverse current squared, and the linear slope of this plot through the origin gave the value of the charge to mass ratio in our experiment. The value of the ratio was determined to be 1.71x10^11 C/kg, whereas the analytical value of this ratio is 1.758803 X 10^11 C/kg. The percent error in our measured electron charge to mass ratio was 2.628%. Due to this fact, our experiment was successful."
   ]
  },
  {
   "cell_type": "markdown",
   "metadata": {},
   "source": [
    "# Introduction"
   ]
  },
  {
   "cell_type": "markdown",
   "metadata": {},
   "source": [
    "In 1897, Sir Joseph John Thomson determined the the electron charge to mass ratio as well as the fact that the electron is a negatively charged particle present in all atoms. Originally, the atom was thought to be the smallest particle that made up matter, however, Thomson's experiment proved that particles existed on a subatomic level. Thomson measured the deflection of an electron beam by an electric field and applied a magnetic field to cancel out the deflection from the electric field. This allowed him to determine the velocity of the electron. It was also determined that the charge to mass ratio was independent of the electrodes and gas used. The analytical value of the charge to mass ratio has been determined to be 1.758803 X 10^11 C/kg. Interestingly, Thomson originally determined the ratio to be 1.00 X 10^11 C/kg. \n",
    "\n",
    "Inside the e/m tube of the laboratory apparatus, there is a uniform electric field. The light is an electron path formed by the helium gas atoms becoming ionized after colliding with electrons. Thus, the electron path is visible and the radius of this electron path can be measured using a ruler. The radius of a circular orbit measured for differing accelerating voltages and magnetic fields can be used to find the value of e/m. The measured values can plotted in the form of a graph where the squared radius values are plotted against the inverse squared currents, thus the linear slope of this graph going through the origin is equal to the charge to mass ratio. "
   ]
  },
  {
   "cell_type": "markdown",
   "metadata": {},
   "source": [
    "# Procedure"
   ]
  },
  {
   "cell_type": "markdown",
   "metadata": {},
   "source": [
    "Initially, we made sure that the cables and cords were connected properly between the Tunable DC Power Supply II, the Tunable DC Power supply, and the Helmholtz coils. We also made sure that all power supplies were off before we connected any cords. \n",
    "\n",
    "<img src=\"pic6.jpg\" height=\"350\" width=\"550\">\n",
    "###### Figure 1. Displays the laboratory setup in which cables and cords are connected between three apparatus\n",
    "\n",
    "To ensure the electron beam was easily visible, the lights were turned off revealing the bright blue-green beam, and when the current was added, the beam would curl around which created a circle. Before making any measurements, we allowed the e/m tube to warm up as directed. It was also important to adjust the base of the bulb to ensure that the electron path was in a circle that met ends to have the perfect closed circle.  \n",
    "\n",
    "<img src=\"pic_6_b.jpg\" height=\"350\" width=\"550\">\n",
    "###### Figure 2. Displays the bright blue-green curl of the excited electrons\n",
    "When the current was increased, the size of the circle became smaller. In this experiment, we performed twenty trials in which we changed the current coming from the Turnable DC Power Supply, but kept the voltage at a constant value of 120 V. For each different current, we measured the diameter four separate times, and took turns taking the measurements. For example, a new current was selected, and we would adjust the mirrored scale so that the ticked scale would go through the center of the circle. For each end of the circle, we measured from the middle of the part where the laser was perpendicular over the scale. We measured the diameter and halfed it to find the radius. We found the radius this way because it would have been diffcult to determine the radius length because we would have to designated a spot each time where the center of the circle existed. Oftentimes, we would measure the diamteter of a circle with a high current, and once that trial was complete, we would switch it to a circle with a low current. All in all, we measured the diameter using a current of 0.75 A to 3.0 A because this was the range of currents that formed a closed circle. "
   ]
  },
  {
   "cell_type": "markdown",
   "metadata": {},
   "source": [
    "# Data"
   ]
  },
  {
   "cell_type": "markdown",
   "metadata": {},
   "source": [
    "**Trial **|**Voltage (V)**|**Current (A)**|**Radius 1 (cm)**|**Radius 2 (cm)**|**Radius 3 (cm)**|**Radius 4 (cm)**|**Radius Average (cm)**\n",
    ":-----:|:-----:|:-----:|:-----:|:-----:|:-----:|:-----:|:-----:\n",
    "1|120|0.75|6.35|6.50|6.25|6.60|6.425\n",
    "2|120|0.81|6.625|6.00|6.125|5.95|6.175\n",
    "3|120|0.97|5.82|5.75|5.25|5.15|5.4925\n",
    "4|120|1.05|4.625|5.075|4.70|4.625|4.75625\n",
    "5|120|1.15|4.75|4.40|4.625|4.75|4.63125\n",
    "6|120|1.25|3.85|3.875|4.25|4.375|4.0875\n",
    "7|120|1.30|3.75|4.00|3.675|3.75|3.79375\n",
    "8|120|1.38|4.00|3.875|3.25|3.25|3.59375\n",
    "9|120|1.44|3.35|3.625|3.65|3.375|3.50\n",
    "10|120|1.60|3.375|3.375|3.175|3.225|3.2875\n",
    "11|120|1.75|2.50|2.75|2.85|3.00|2.775\n",
    "12|120|1.90|2.875|2.80|2.375|2.30|2.5875\n",
    "13|120|2.08|2.375|2.50|2.00|2.30|2.29375\n",
    "14|120|2.20|2.125|2.10|2.375|2.375|2.24375\n",
    "15|120|2.30|1.95|1.85|1.875|2.25|1.98125\n",
    "16|120|2.40|1.75|1.975|2.00|2.25|1.99375\n",
    "17|120|2.50|1.80|1.80|1.875|2.00|1.86875\n",
    "18|120|2.60|1.75|1.875|1.875|1.75|1.8125\n",
    "19|120|2.75|1.80|1.65|1.625|1.75|1.70625\n",
    "20|120|3.00|1.25|1.75|1.55|1.40|1.4875\n",
    "\n",
    "###### Table 1. Electron Charge-to-Mass Ratio Data"
   ]
  },
  {
   "cell_type": "markdown",
   "metadata": {},
   "source": [
    "# Calculations"
   ]
  },
  {
   "cell_type": "markdown",
   "metadata": {},
   "source": [
    "The equation given to us in the handout is:\n",
    "\\begin{equation}\n",
    "\\frac{e}{m}=2U\\frac{(\\frac{5}{4})^3 R^2}{(N\\mu_0 I_H r)^2}\n",
    "\\end{equation}\n",
    "<br>\n",
    "<p>Where R is the radius of the coils, N is the number of turns, I_H is the current through the coils, U is the acceleration voltage, and r is the radius of the electrons.<p>\n",
    "\n",
    "We want this in y=ax+b form so after some algebra:\n",
    "\\begin{equation}\n",
    "r^2=2U\\frac{m}{e}\\frac{(\\frac{5}{4})^3 R^2}{(I_H N\\mu_0)^2}\n",
    "\\end{equation}\n",
    "So our graph of r^2 vs. 1/I^2 will give a slope of:\n",
    "\\begin{equation}\n",
    "a= 2U\\frac{m}{e}\\frac{(\\frac{5}{4})^3 R^2}{(N\\mu_0)^2}\n",
    "\\end{equation}\n",
    "Which means:\n",
    "\\begin{equation}\n",
    "\\frac{e}{m} =2U\\frac{(\\frac{5}{4})^3 R^2}{a(N\\mu_0)^2}\n",
    "\\end{equation}"
   ]
  },
  {
   "cell_type": "code",
   "execution_count": 1,
   "metadata": {},
   "outputs": [
    {
     "data": {
      "image/png": "[encoded data removed]",
      "text/plain": [
       "<matplotlib.figure.Figure at 0x1b733faa5c0>"
      ]
     },
     "metadata": {},
     "output_type": "display_data"
    }
   ],
   "source": [
    "import math\n",
    "from scipy.optimize import curve_fit\n",
    "import numpy as np\n",
    "from astropy.io import ascii\n",
    "import matplotlib.pyplot as plt\n",
    "\n",
    "def f(x, a, b):\n",
    "    return a*x + b\n",
    "\n",
    "def convert(lst):\n",
    "    return 1/(lst)**2\n",
    "\n",
    "data = ascii.read('assets/data_nf_cm.csv')\n",
    "\n",
    "for i in range(4):\n",
    "    data['r{}'.format(i+1)] = data['d{}'.format(i+1)] / 2\n",
    "data['r'] = ((data['r1']+data['r2']+data['r3']+data['r4'])/4)**2\n",
    "\n",
    "yerr = np.std([data['r1']**2,data['r2']**2,data['r3']**2,data['r4']**2], axis=0)\n",
    "popt, pcov = curve_fit(f, convert(data['current']), data['r'], sigma=yerr)\n",
    "\n",
    "plt.errorbar(convert(data['current']), data['r'], yerr=yerr, fmt='o')\n",
    "plt.plot(convert(data['current']), np.polyval(popt, convert(data['current'])), 'r-')\n",
    "plt.ylabel(\"Radius^2 (cm^2)\")\n",
    "plt.xlabel(\"1/Current^2 (1/A^2)\")\n",
    "plt.text(.25, 40, r\"a = {0:.3f} +/- {1:.3f}\".format(popt[0], pcov[0,0]**0.5))\n",
    "plt.text(.25, 35, r\"b = {0:.3f} +/- {1:.3f}\".format(popt[1], pcov[1,1]**0.5))\n",
    "plt.grid()\n",
    "plt.show()"
   ]
  },
  {
   "cell_type": "code",
   "execution_count": 2,
   "metadata": {},
   "outputs": [
    {
     "name": "stdout",
     "output_type": "stream",
     "text": [
      "We calculated our charge to mass ratio to be: 171374580934.5584 C/kg\n",
      "Our percent error is: 2.628%\n"
     ]
    }
   ],
   "source": [
    "a = popt[0]\n",
    "R = 158/10 # 158mm => cm\n",
    "N = 130\n",
    "mu = 4*math.pi*10**-7\n",
    "Accepted_Value = 1.76e11\n",
    "charge_mass_ratio = 240*(((5/4)**3)*(R**2))/(a*((N*mu)**2))\n",
    "print(\"We calculated our charge to mass ratio to be: {} C/kg\".format(charge_mass_ratio))\n",
    "percent_error = abs(charge_mass_ratio-Accepted_Value)/Accepted_Value * 100\n",
    "print(\"Our percent error is: {:.3f}%\".format(percent_error))"
   ]
  },
  {
   "cell_type": "markdown",
   "metadata": {},
   "source": [
    "# Conclusion"
   ]
  },
  {
   "cell_type": "markdown",
   "metadata": {},
   "source": [
    "We managed to calculate our charge to mass ratio of an electron to be 1.71x10^11 C/kg which is very close to the accepted value of 1.76x10^11 C/kg. Our error in this lab was only 2.628%. Taking the diameter and calculating the radius from there was probably what allowed us to get such an accurate number. We struggled to see exactly where the beam crossed the ruler but it would have been worse trying to figure out the exact center point of the circle."
   ]
  },
  {
   "cell_type": "markdown",
   "metadata": {},
   "source": [
    "# References"
   ]
  },
  {
   "cell_type": "markdown",
   "metadata": {},
   "source": [
    "Serway, R. A., Moses, C. J., & Moyer, C. A. (2004). Modern Physics (3rd ed.).\n",
    "\n",
    "PASCO Electron Charge-to-Mass Ratio"
   ]
  }
 ],
 "metadata": {
  "kernelspec": {
   "display_name": "Python 3",
   "language": "python",
   "name": "python3"
  },
  "language_info": {
   "codemirror_mode": {
    "name": "ipython",
    "version": 3
   },
   "file_extension": ".py",
   "mimetype": "text/x-python",
   "name": "python",
   "nbconvert_exporter": "python",
   "pygments_lexer": "ipython3",
   "version": "3.6.2"
  }
 },
 "nbformat": 4,
 "nbformat_minor": 2
}
