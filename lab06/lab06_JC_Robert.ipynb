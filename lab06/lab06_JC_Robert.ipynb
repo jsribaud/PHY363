{
 "cells": [
  {
   "cell_type": "markdown",
   "metadata": {},
   "source": [
    "# Electron Charge-to-Mass Ratio\n",
    "Jelena Colon and Alex Orellano"
   ]
  },
  {
   "cell_type": "markdown",
   "metadata": {},
   "source": [
    "# Abstract\n",
    "    "
   ]
  },
  {
   "cell_type": "markdown",
   "metadata": {},
   "source": [
    "# Introduction \n",
    "\n",
    "\n"
   ]
  },
  {
   "cell_type": "markdown",
   "metadata": {},
   "source": [
    "# Procedure\n",
    "After letting the filament heat up in the bulb between the Helmholtz coils, we set the current to a non-specified value, in no order to accommodate a wide range of values between .87 - 3.35 Amps. The magnetic field caused by the Helmholtz coils will cause the electron beam to curve upward until it makes a full circle within the bulb. The electron beam is blue-green in color and was measured by placing the center of a bulb as close to the 10.5 cm line on the ruler that is fixed to the apparatus as possible. From the center, the radius of the electron beam was measure to the center of the electron beam on each side of the electron beam arc. Each electron beam was measured from both sides by each partner to find the average radius from each electron beam circle at various currents. After recording the average radius of each electron beam we graphed the data in an R^2 vs. I^2 line plot to find the slope of the Charge-to-mass Ratio. "
   ]
  },
  {
   "cell_type": "markdown",
   "metadata": {},
   "source": [
    "# Data"
   ]
  },
  {
   "cell_type": "code",
   "execution_count": 2,
   "metadata": {},
   "outputs": [
    {
     "data": {
      "text/html": [
       "&lt;Table masked=True length=21&gt;\n",
       "<table id=\"table1980171639888\" class=\"table-striped table-bordered table-condensed\">\n",
       "<thead><tr><th>ï»¿</th><th>Trial</th><th>Acceleration Voltage</th><th>Current through the helmholtz coils</th><th>Radius of electron beam</th></tr></thead>\n",
       "<thead><tr><th>str5</th><th>int32</th><th>str3</th><th>str4</th><th>str4</th></tr></thead>\n",
       "<tr><td>Units</td><td>--</td><td>(V)</td><td>(A)</td><td>(mm)</td></tr>\n",
       "<tr><td>--</td><td>--</td><td>--</td><td>--</td><td>--</td></tr>\n",
       "<tr><td>--</td><td>1</td><td>120</td><td>0.87</td><td>70.8</td></tr>\n",
       "<tr><td>--</td><td>2</td><td>120</td><td>3.50</td><td>16.5</td></tr>\n",
       "<tr><td>--</td><td>3</td><td>120</td><td>1.30</td><td>49.9</td></tr>\n",
       "<tr><td>--</td><td>4</td><td>120</td><td>3.35</td><td>18.8</td></tr>\n",
       "<tr><td>--</td><td>5</td><td>120</td><td>1.45</td><td>44.4</td></tr>\n",
       "<tr><td>--</td><td>6</td><td>120</td><td>1.00</td><td>62.3</td></tr>\n",
       "<tr><td>--</td><td>7</td><td>120</td><td>2.75</td><td>22.9</td></tr>\n",
       "<tr><td>--</td><td>8</td><td>120</td><td>1.15</td><td>54.5</td></tr>\n",
       "<tr><td>--</td><td>9</td><td>120</td><td>1.60</td><td>40.0</td></tr>\n",
       "<tr><td>--</td><td>10</td><td>120</td><td>3.20</td><td>20.3</td></tr>\n",
       "<tr><td>--</td><td>11</td><td>120</td><td>1.75</td><td>36.1</td></tr>\n",
       "<tr><td>--</td><td>12</td><td>120</td><td>3.05</td><td>20.8</td></tr>\n",
       "<tr><td>--</td><td>13</td><td>120</td><td>2.60</td><td>24.4</td></tr>\n",
       "<tr><td>--</td><td>14</td><td>120</td><td>2.90</td><td>21.8</td></tr>\n",
       "<tr><td>--</td><td>15</td><td>120</td><td>2.45</td><td>26.0</td></tr>\n",
       "<tr><td>--</td><td>16</td><td>120</td><td>2.30</td><td>26.9</td></tr>\n",
       "<tr><td>--</td><td>17</td><td>120</td><td>2.15</td><td>29.0</td></tr>\n",
       "<tr><td>--</td><td>18</td><td>120</td><td>2.00</td><td>32.1</td></tr>\n",
       "<tr><td>--</td><td>19</td><td>120</td><td>1.85</td><td>33.6</td></tr>\n",
       "</table>"
      ],
      "text/plain": [
       "<Table masked=True length=21>\n",
       " ï»¿  Trial ... Current through the helmholtz coils Radius of electron beam\n",
       " str5 int32 ...                 str4                          str4         \n",
       "----- ----- ... ----------------------------------- -----------------------\n",
       "Units    -- ...                                 (A)                    (mm)\n",
       "   --    -- ...                                  --                      --\n",
       "   --     1 ...                                0.87                    70.8\n",
       "   --     2 ...                                3.50                    16.5\n",
       "   --     3 ...                                1.30                    49.9\n",
       "   --     4 ...                                3.35                    18.8\n",
       "   --     5 ...                                1.45                    44.4\n",
       "   --     6 ...                                1.00                    62.3\n",
       "   --     7 ...                                2.75                    22.9\n",
       "   --     8 ...                                1.15                    54.5\n",
       "   --     9 ...                                1.60                    40.0\n",
       "   --    10 ...                                3.20                    20.3\n",
       "   --    11 ...                                1.75                    36.1\n",
       "   --    12 ...                                3.05                    20.8\n",
       "   --    13 ...                                2.60                    24.4\n",
       "   --    14 ...                                2.90                    21.8\n",
       "   --    15 ...                                2.45                    26.0\n",
       "   --    16 ...                                2.30                    26.9\n",
       "   --    17 ...                                2.15                    29.0\n",
       "   --    18 ...                                2.00                    32.1\n",
       "   --    19 ...                                1.85                    33.6"
      ]
     },
     "execution_count": 2,
     "metadata": {},
     "output_type": "execute_result"
    }
   ],
   "source": [
    "from astropy.io import ascii\n",
    "data = ascii.read('ECTMR_RO_JC_LAB06.csv')\n",
    "data"
   ]
  },
  {
   "cell_type": "markdown",
   "metadata": {},
   "source": [
    "# Analysis / Calculations\n"
   ]
  },
  {
   "cell_type": "code",
   "execution_count": 11,
   "metadata": {},
   "outputs": [
    {
     "ename": "NameError",
     "evalue": "name 'str5' is not defined",
     "output_type": "error",
     "traceback": [
      "\u001b[1;31m---------------------------------------------------------------------------\u001b[0m",
      "\u001b[1;31mNameError\u001b[0m                                 Traceback (most recent call last)",
      "\u001b[1;32m<ipython-input-11-b21ea67b4dbd>\u001b[0m in \u001b[0;36m<module>\u001b[1;34m()\u001b[0m\n\u001b[0;32m      6\u001b[0m \u001b[0mget_ipython\u001b[0m\u001b[1;33m(\u001b[0m\u001b[1;33m)\u001b[0m\u001b[1;33m.\u001b[0m\u001b[0mmagic\u001b[0m\u001b[1;33m(\u001b[0m\u001b[1;34m'matplotlib inline'\u001b[0m\u001b[1;33m)\u001b[0m\u001b[1;33m\u001b[0m\u001b[0m\n\u001b[0;32m      7\u001b[0m \u001b[1;33m\u001b[0m\u001b[0m\n\u001b[1;32m----> 8\u001b[1;33m \u001b[0mi\u001b[0m\u001b[1;33m=\u001b[0m\u001b[1;36m1\u001b[0m\u001b[1;33m/\u001b[0m\u001b[1;33m(\u001b[0m\u001b[0mdata\u001b[0m\u001b[1;33m[\u001b[0m\u001b[0mstr5\u001b[0m\u001b[1;33m]\u001b[0m\u001b[1;33m**\u001b[0m\u001b[1;36m2\u001b[0m\u001b[1;33m)\u001b[0m\u001b[1;33m\u001b[0m\u001b[0m\n\u001b[0m\u001b[0;32m      9\u001b[0m \u001b[0mr\u001b[0m\u001b[1;33m=\u001b[0m\u001b[1;33m(\u001b[0m\u001b[0mdata\u001b[0m\u001b[1;33m[\u001b[0m\u001b[1;34m'str4'\u001b[0m\u001b[1;33m]\u001b[0m\u001b[1;33m)\u001b[0m\u001b[1;33m\u001b[0m\u001b[0m\n\u001b[0;32m     10\u001b[0m \u001b[1;33m\u001b[0m\u001b[0m\n",
      "\u001b[1;31mNameError\u001b[0m: name 'str5' is not defined"
     ]
    }
   ],
   "source": [
    "import numpy as np\n",
    "import matplotlib.pyplot as plt\n",
    "from astropy import units as u\n",
    "from scipy.optimize import curve_fit\n",
    "from matplotlib import pyplot\n",
    "%matplotlib inline\n",
    "\n",
    "i=1/**2)\n",
    "r=()\n",
    "\n",
    "\n",
    "ii=sorted(i)\n",
    "rr=\n",
    "\n",
    "\n",
    "plt.plot(ii, rr, 'rs')\n",
    "plt.xlabel('Current^2 (A^2)')\n",
    "plt.ylabel('Radius^2 (mm^2)')\n",
    "plt.show()\n"
   ]
  },
  {
   "cell_type": "markdown",
   "metadata": {},
   "source": [
    "# Conclusion\n",
    "\n"
   ]
  },
  {
   "cell_type": "markdown",
   "metadata": {},
   "source": [
    "# Acknowledgments"
   ]
  }
 ],
 "metadata": {
  "kernelspec": {
   "display_name": "Python 3",
   "language": "python",
   "name": "python3"
  },
  "language_info": {
   "codemirror_mode": {
    "name": "ipython",
    "version": 3
   },
   "file_extension": ".py",
   "mimetype": "text/x-python",
   "name": "python",
   "nbconvert_exporter": "python",
   "pygments_lexer": "ipython3",
   "version": "3.6.1"
  }
 },
 "nbformat": 4,
 "nbformat_minor": 1
}
