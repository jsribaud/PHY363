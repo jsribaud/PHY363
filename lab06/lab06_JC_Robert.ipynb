{
 "cells": [
  {
   "cell_type": "markdown",
   "metadata": {},
   "source": [
    "# Electron Charge-to-Mass Ratio\n",
    "Jelena Colon and Alex Orellano"
   ]
  },
  {
   "cell_type": "markdown",
   "metadata": {},
   "source": [
    "# Abstract\n",
    "\n",
    "The purpose of this experiment is to measure the ratio of charge to mass of an electron from the radius of curvature of an electron beam traveling in a known magnetic field. An electron beam of a specified voltage was emitted and the trajectory (radius) of the speeding electrons was measured and used to calculate the charge to mass ratio as being   ."
   ]
  },
  {
   "cell_type": "markdown",
   "metadata": {},
   "source": [
    "# Introduction \n",
    "\n",
    "\n",
    "The electron charge to mass ratio was an experiment that was used to calculate the ratio of the electron’s charge to its mass. A beam of electrons was used that was subjected to a magnetic field that caused it to travel in a circle. This experiment was one of the first experiments to attempt to find the charge or mass of an electron. In performing this experiment, an electron source, a heated tungsten filament and an electrode, and Helmholtz coils are used to\n",
    "create the magnetic field. \n",
    "\n"
   ]
  },
  {
   "cell_type": "markdown",
   "metadata": {},
   "source": [
    "# Procedure\n",
    "\n",
    "<img src=\"JC_RO.jpg\">\n",
    "Figure 1: Setup (https://www.pasco.com/prodCompare/electron-charge-to-mass-ratio-system/index.cfm)\n",
    "\n",
    "After letting the filament heat up in the bulb between the Helmholtz coils, we set the current to a non-specified value, in no order to accommodate a wide range of values between .87 - 3.35 Amps. The magnetic field caused by the Helmholtz coils will cause the electron beam to curve upward until it makes a full circle within the bulb. The electron beam is blue-green in color and was measured by placing the center of a bulb as close to the 10.5 cm line on the ruler that is fixed to the apparatus as possible. From the center, the radius of the electron beam was measure to the center of the electron beam on each side of the electron beam arc. Each electron beam was measured from both sides by each partner to find the average radius from each electron beam circle at various currents. After recording the average radius of each electron beam we graphed the data in an R^2 vs. I^2 line plot to find the slope of the Charge-to-mass Ratio. "
   ]
  },
  {
   "cell_type": "markdown",
   "metadata": {},
   "source": [
    "# Data"
   ]
  },
  {
   "cell_type": "code",
   "execution_count": 8,
   "metadata": {},
   "outputs": [
    {
     "name": "stdout",
     "output_type": "stream",
     "text": [
      "voltage current radius\n",
      "------- ------- ------\n",
      "    120    0.87   70.8\n",
      "    120     3.5   16.5\n",
      "    120     1.3   49.9\n",
      "    120    3.35   18.8\n",
      "    120    1.45   44.4\n",
      "    120     1.0   62.3\n",
      "    120    2.75   22.9\n",
      "    120    1.15   54.5\n",
      "    120     1.6   40.0\n",
      "    120     3.2   20.3\n",
      "    120    1.75   36.1\n",
      "    120    3.05   20.8\n",
      "    120     2.6   24.4\n",
      "    120     2.9   21.8\n",
      "    120    2.45   26.0\n",
      "    120     2.3   26.9\n",
      "    120    2.15   29.0\n",
      "    120     2.0   32.1\n",
      "    120    1.85   33.6\n"
     ]
    }
   ],
   "source": [
    "from astropy.io import ascii\n",
    "data = ascii.read('ECTMR_RO_JC_LAB06.csv')\n",
    "print(data)"
   ]
  },
  {
   "cell_type": "markdown",
   "metadata": {},
   "source": [
    "# Analysis / Calculations\n"
   ]
  },
  {
   "cell_type": "markdown",
   "metadata": {},
   "source": [
    "An electron moving in a uniform magnetic field travels in a circular path perpendicular to the magnetic field. The electron's equation of motion can be written as:\n",
    "\n",
    "FB=evB\n",
    "\n",
    "where FB is the magnetic force, e is the charge of an electron, v is the speed of the electron and B is the magnetic field.\n",
    "\n",
    "For an electron moving in a circle the centripetal force is:\n",
    "\n",
    "FC=mv^2/R\n",
    "\n",
    "where FC is the centripetal force, m is the mass of the electron, v is the speed of the electron and R is the radius of curvature of its trajectory.\n",
    "\n",
    "By setting the two equations equal to each other you get:\n",
    "\n",
    "evB=mv^2/R\n",
    "\n",
    "By plugging in equations for velocity and magnetic field, the equation becomes,\n",
    "\n",
    "r^2=(2*U*(5/4)^3*R^2*m)/(I^2*N^2*M^2*e)\n",
    "\n",
    "where r is the radius of curvature of the electron beams trajectory, U is the voltage, R is the radius of the hemholtz coils, m is the mass of an electron, I is the current, N is the number of turns per coil and M is the permeablitiy constant.\n",
    "\n",
    "By plotting r^2 vs 1/I^2 the slope is mathematically equal to (2*U*(5/4)^3*R^2*m)/(N^2*M^2*e)\n",
    "\n",
    "and the charge to mass ratio can be found by rearranging the equation to yield:\n",
    "\n",
    "e/m=(2*U*(5/4)^3*R^2)/(slope*N^2*M^2)"
   ]
  },
  {
   "cell_type": "code",
   "execution_count": 62,
   "metadata": {},
   "outputs": [
    {
     "data": {
      "image/png": "[encoded data removed]",
      "text/plain": [
       "<matplotlib.figure.Figure at 0x1120cd0f0>"
      ]
     },
     "metadata": {},
     "output_type": "display_data"
    }
   ],
   "source": [
    "import numpy as np\n",
    "import matplotlib.pyplot as plt\n",
    "from astropy import units as u\n",
    "from scipy.optimize import curve_fit\n",
    "from matplotlib import pyplot\n",
    "%matplotlib inline\n",
    "\n",
    "#assign variables to data\n",
    "R=data['radius']**2\n",
    "I=1/data['current']**2\n",
    "\n",
    "\n",
    "#trendline\n",
    "def func (x, a, b):\n",
    "    return a*x + b\n",
    "\n",
    "popt, pcov = curve_fit(func, I, R,) #couldnt get a trendline\n",
    "\n",
    "\n",
    "\n",
    "plt.plot(I, R, 'rs')\n",
    "\n",
    "plt.text(0.2, 4800, r\"a = {0:.6f} +/- {1:.6f}\".format(popt[0], pcov[0,0]**0.5),color=\"blue\")\n",
    "plt.text(0.2, 4400, r\"b = {0:.6f} +/- {1:.6f}\".format(popt[1], pcov[1,1]**0.5),color=\"blue\")\n",
    "\n",
    "plt.ylabel('Radius (m^2)')\n",
    "plt.xlabel('1/Current^2 (1/A^2)')\n",
    "plt.show()"
   ]
  },
  {
   "cell_type": "code",
   "execution_count": 63,
   "metadata": {},
   "outputs": [
    {
     "name": "stdout",
     "output_type": "stream",
     "text": [
      "The charge to mass ratio of an electron was calculated to be 189606.23986 C/kg\n"
     ]
    }
   ],
   "source": [
    "#define variables\n",
    "U=200 \n",
    "N=130\n",
    "R=.158 \n",
    "slope=popt[0]\n",
    "M=(12.5663706144*10**-7) \n",
    "\n",
    "\n",
    "em=(2*U*(125/64)*(R**2))/(((N*M)**2)*slope)\n",
    "\n",
    "print('The charge to mass ratio of an electron was calculated to be', em, 'C/kg')"
   ]
  },
  {
   "cell_type": "markdown",
   "metadata": {},
   "source": [
    "# Conclusion\n",
    "\n"
   ]
  }
 ],
 "metadata": {
  "kernelspec": {
   "display_name": "Python 3",
   "language": "python",
   "name": "python3"
  },
  "language_info": {
   "codemirror_mode": {
    "name": "ipython",
    "version": 3
   },
   "file_extension": ".py",
   "mimetype": "text/x-python",
   "name": "python",
   "nbconvert_exporter": "python",
   "pygments_lexer": "ipython3",
   "version": "3.6.1"
  }
 },
 "nbformat": 4,
 "nbformat_minor": 1
}
