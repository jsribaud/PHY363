{
 "cells": [
  {
   "cell_type": "markdown",
   "metadata": {},
   "source": [
    "# Lab 6: Electron Charge-to-Mass Ratio\n",
    "\n",
    "Kollin Schultz, Dan Alfeo"
   ]
  },
  {
   "cell_type": "markdown",
   "metadata": {},
   "source": [
    "# Abstract\n",
    "For this Electron Charge-to-Mass Ratio Lab we ran an experiment using an electron gun, a power supply, and Helmholtz coils to produce a magnetic field. We held a constant accerlerating voltage for the electron gun while varying the applied current through the coils. The variations in current created changes in the magnetic field created by the coils and thus, changed the radii of the paths travelled by the electrons from the electron gun. We took different values for the current through the coils and recorded the radii of the path the electrons took as a result. Using this table, we are able to plot the current values to their corresponding radii and examine the resulting best fit line to find some relation to e/m."
   ]
  },
  {
   "cell_type": "markdown",
   "metadata": {},
   "source": [
    "# Introduction\n",
    "In 1887 J.J. Thompson had discovered the electron by showing that cathode rays were actually negatively charged particles. In the same year he measured the specific charge (e/m) of the electron and provided the first measurement of one of the fundamental universal constants. The specific charge is defined as the charge per unit mass of the particle and it is independent of the gas used and is independent of the nature of the electrodes. We know that an electron traveling in a direction perpendicular to a uniform magnetic field will experience a Lorentz force in a direction perpendicular to both the velocity and the magnetic field. From this, we know that an electron traveling through a uniform magnetic field can be forced to make a circular path. The radius of this circular path varies for different strengths of magnetic field which results from varying the current through the Helmholtz coils. In this experiment we want to calculate the specific charge of an electron, e/m, from the radius of the circular path r for different currents through the Helmholtz coils, IH."
   ]
  },
  {
   "cell_type": "markdown",
   "metadata": {},
   "source": [
    "# Methods\n",
    "\n",
    "To determine the charge to mass ratio of an electron, a beam of electrons was sent through a magnetic field perpendicular to its' path. A Tunable DC Constant Voltage Power Supply (BroLight) was used to generate the electron beam with a constant velocity. A current was passed through Hemholtz Coils using a Tunable DC Constant Current Power Supply (BroLight) to generate the magnetic field perpendicular to the electron beam. The voltge was kept at a constant 195 V, while the current was adjusted to produce circles of varying sizes. The radius of the electron beam circle was measured with a ruler for multiple different current values. The equipment used and general setup is pictured in figure 1. A detailed description of the equations used to determine the charge to mass ratio from our measurements is included in the results section.\n",
    "\n",
    "![A local image](lab06_Dan_Kollin_image.jpg)\n",
    "\n",
    "Figure 2: A visual of the lab equipment used, and the basic experimental setup."
   ]
  },
  {
   "cell_type": "markdown",
   "metadata": {},
   "source": [
    "# Results and Analysis\n",
    "\n",
    "Our experiment measured radius of a circle formed by applying a magnetic field to a beam of electrons between Hemholtz coils. The accelerating voltage (U) was kept constant and the current in the coils (I) was adjusted between measurements. The force on an eletron in the magnetic field can be calculate using the equation: \\begin{equation} F=evB \\end{equation} \n",
    "Where:\n",
    "\n",
    "e=electron charge\n",
    "\n",
    "v= the electron velocity \n",
    "\n",
    "B= the strength of the magnetic field\n",
    "\n",
    "The force from the magnetic field cause the electron to travel in a circular path so the centripetal force on the electron is defined by: \\begin{equation} F=mv^2 /r \\end{equation}\n",
    "Where:\n",
    "\n",
    "m= the mass of an electron\n",
    "\n",
    "r= radius of the electron beam circle\n",
    "\n",
    "v= the electron velocity\n",
    "\n",
    "Setting the forces equal to each other gives: \\begin{equation} eBr=mv \\end{equation}\n",
    "\n",
    "Using the equation for the velocity of an electron, \\begin{equation} v^2=2eU/m \\end{equation}\n",
    "\n",
    "From these equations we find that: \n",
    "\\begin{equation} e/m=2U/B^2r^2 \\end{equation} \n",
    "\n",
    "The strength of the magnetic field can be reduced to a measurable quantity with: \\begin{equation} B=(4/5)^{3/2}\\mu NI/R \\end{equation}\n",
    "\n",
    "Where:\n",
    "\n",
    "R= the radius of the Hemholtz Coils\n",
    "\n",
    "N= the number of turns on each coil\n",
    "\n",
    "$\\mu$= permeability constant\n",
    "\n",
    "Substituting this into the charge to mass ratio equation gives: \\begin{equation} e/m=2U(5/4)^3R^2/(N\\mu Ir)^2 \\end{equation}\n",
    "\n",
    "Plotting the average of our measured values for r and I in a graph as r<sup>2</sup> against 1/I<sup>2</sup> gives a slope equal to (rI)<sup>2</sup> (figure 2).\n",
    "\n",
    "From the slope, e/m can be calculated using: \n",
    "\\begin{equation} e/m=2U(5/4)^3R^2/[(N\\mu)^2slope] \\end{equation}\n",
    "\n",
    "Our data resulted in a calculation of e/m=2.09x10<sup>11</sup> C/kg. With an accepted value of 1.79x10<sup>11</sup> C/kg, our experimental determination of e/m had a 16.76% error. "
   ]
  },
  {
   "cell_type": "code",
   "execution_count": 3,
   "metadata": {},
   "outputs": [
    {
     "name": "stdout",
     "output_type": "stream",
     "text": [
      "421.510310528\n"
     ]
    },
    {
     "data": {
      "image/png": "[encoded data removed]",
      "text/plain": [
       "<matplotlib.figure.Figure at 0x123d46b00>"
      ]
     },
     "metadata": {},
     "output_type": "display_data"
    }
   ],
   "source": [
    "#Imported software with analysis and plotting functions.\n",
    "import numpy as np\n",
    "import matplotlib.pyplot as plt\n",
    "from astropy.io import ascii\n",
    "from scipy.optimize import curve_fit\n",
    "\n",
    "data=ascii.read('lab06_data_ks_dja.csv')\n",
    "\n",
    "#Imported data from a csv file.\n",
    "i=1/(data[0][:])**2\n",
    "r=(data['r'])**2\n",
    "\n",
    "#Sorted data to fit the graph properly.\n",
    "rr= [x for _,x in sorted(zip(i,r))]\n",
    "ii=sorted(i)\n",
    "\n",
    "#Determined the standard deviation of the data.\n",
    "ysig=np.std(rr)\n",
    "print(ysig)\n",
    "\n",
    "#Defined function form for the trendline.\n",
    "def func (x, a, b):\n",
    "    return a*x + b\n",
    "\n",
    "popt, pcov=curve_fit(func, ii, rr, absolute_sigma=ysig)\n",
    "\n",
    "#Formatted the plot for visual representation.\n",
    "plt.plot(ii, rr, 'ro')\n",
    "plt.errorbar(ii, rr, yerr=ysig, fmt='ro')\n",
    "plt.plot(ii, np.polyval(popt, ii), 'b-')\n",
    "plt.text(0.07, 1900, r\"a = {0:.9f} +/- {1:.9f}\".format(popt[0], pcov[0,0]**0.5))\n",
    "plt.text(0.07, 1600, r\"b = {0:.3f} +/- {1:.3f}\".format(popt[1], pcov[1,1]**0.5))\n",
    "plt.text(0, -1000, 'Figure 2:Plot of the measured radius squared, against one over the current squared.')\n",
    "plt.ylabel('Radius (mm**s)')\n",
    "plt.xlabel('Current (1/A**2)')\n",
    "plt.show()"
   ]
  },
  {
   "cell_type": "code",
   "execution_count": 87,
   "metadata": {},
   "outputs": [
    {
     "name": "stdout",
     "output_type": "stream",
     "text": [
      "208845777486.0\n"
     ]
    }
   ],
   "source": [
    "#Imported software with analysis and plotting functions.\n",
    "import numpy as np\n",
    "\n",
    "#Defined Variables for use in formula\n",
    "R=158 #mm\n",
    "N=130 #turns per coil\n",
    "U=195 #V\n",
    "slope=popt[0] #mm**2*A**2\n",
    "N=130 #turns per coil\n",
    "mu=(4*np.pi*10**-7) \n",
    "k=(5/4)**3\n",
    "\n",
    "#Calculated e/m from measured values.\n",
    "e_m=(2*U*k*(R**2))/(((N*mu)**2)*slope)\n",
    "\n",
    "print(e_m)\n"
   ]
  },
  {
   "cell_type": "markdown",
   "metadata": {},
   "source": [
    "## Conclusion\n",
    "\n",
    "Our determination of the charge to mass ratio of an electron resulted in a value of 2.09x10<sup>11</sup> C/kg. This is a 16.76% error from the accepted value of 1.79x10<sup>11</sup> C/kg. The inaccuracy of our calculation is likely due to the high amount of uncertainty in our measuring. The standard deviation on the radius measurement was 421.5 mm<sup>2</sup>. With such a high uncertainty on the radius measurements, it is unlikely that uncertainty from the equipment used significantly contributed to the error. To lower the measurement uncertainty, future attempts could measure the diameter rather than the radius of the circle, because determining the center of each circle was difficult with the experimental setup used."
   ]
  },
  {
   "cell_type": "markdown",
   "metadata": {
    "collapsed": true
   },
   "source": [
    "# Acknowledgements\n",
    "\n"
   ]
  },
  {
   "cell_type": "markdown",
   "metadata": {
    "collapsed": true
   },
   "source": [
    "We would like to thank Dr. Ribaudo for his assistance with the curve fitting to our data."
   ]
  }
 ],
 "metadata": {
  "kernelspec": {
   "display_name": "Python 3",
   "language": "python",
   "name": "python3"
  },
  "language_info": {
   "codemirror_mode": {
    "name": "ipython",
    "version": 3
   },
   "file_extension": ".py",
   "mimetype": "text/x-python",
   "name": "python",
   "nbconvert_exporter": "python",
   "pygments_lexer": "ipython3",
   "version": "3.6.1"
  }
 },
 "nbformat": 4,
 "nbformat_minor": 1
}
