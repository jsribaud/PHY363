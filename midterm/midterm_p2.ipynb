{
 "cells": [
  {
   "cell_type": "markdown",
   "metadata": {},
   "source": [
    "# PHY 363 - Midterm"
   ]
  },
  {
   "cell_type": "markdown",
   "metadata": {},
   "source": [
    "## Part II"
   ]
  },
  {
   "cell_type": "markdown",
   "metadata": {},
   "source": [
    "#### Problem 1: \n",
    "\n",
    "Stars are often approximated as blackbodies. Consider these 3 stars: the Sun, which has a surface temperature of  5,800 K - Betelgeuse, which has a surface temperature of 3,500 K - and Regulus, which has a surface temperature of \n",
    "10,000 K. \n",
    "\n",
    "Sketch blackbody spectra for each of these stars. What color would each of the stars appear to your eyes?\n",
    "\n",
    "Given that Regulus is 150 times more luminous than the Sun and Betelgeuse is 100,000 times more luminous than the Sun, determine the radial size of the stars relative to the Sun (remember luminosity is astronomer-speak for power output).\n",
    "\n",
    "If the Sun appears $1.6 \\times 10^{10}$ times brighter than Betelgeuse, how far away is Betelgeuse in light-years? The distance to the Sun is $1.5 \\times 10^8$ km and $1 \\text{light-year} = 9.46 \\times 10^{12}$ km."
   ]
  },
  {
   "cell_type": "markdown",
   "metadata": {},
   "source": [
    "#### Problem 2: \n",
    "\n",
    "Red light with a wavelength of 670 nm is incident on a surface, causing electrons to be removed. When green light with a wavelength of 520 nm is incident on the same material, the maximum kinetic energy of the electrons is 1.5 times greater than for the red light. \n",
    "\n",
    "What is the work function of the material?"
   ]
  },
  {
   "cell_type": "markdown",
   "metadata": {},
   "source": [
    "#### Problem 3: \n",
    "\n",
    "Construct an energy level diagram for Li$^{2+}$. What is the ionization energy of this atom?"
   ]
  },
  {
   "cell_type": "markdown",
   "metadata": {},
   "source": [
    "#### Problem 4: \n",
    "\n",
    "A one electron atom of mass M is in the $n=3$ state. When the atom transitions to the $n=1$ state, a photon is emitted. Show that the recoil speed of the atom after the emission is:\n",
    "\n",
    "\\begin{equation}\n",
    "v = \\frac{8 h R}{9 M}\n",
    "\\end{equation}\n",
    "\n",
    "where R is the Rydberg constant."
   ]
  },
  {
   "cell_type": "markdown",
   "metadata": {},
   "source": [
    "#### Problem 5: \n",
    "\n",
    "The figure below was the created using data taken from a Compton Scattering experiment:\n",
    "\n",
    "What was the scattering angle for the experiment?"
   ]
  },
  {
   "cell_type": "code",
   "execution_count": 1,
   "metadata": {
    "collapsed": false
   },
   "outputs": [
    {
     "data": {
      "text/html": [
       "<script>\n",
       "code_show=true; \n",
       "function code_toggle() {\n",
       " if (code_show){\n",
       " $('div.input').hide();\n",
       " } else {\n",
       " $('div.input').show();\n",
       " }\n",
       " code_show = !code_show\n",
       "} \n",
       "$( document ).ready(code_toggle);\n",
       "</script>\n",
       "<a href=\"javascript:code_toggle()\">here</a>."
      ],
      "text/plain": [
       "<IPython.core.display.HTML object>"
      ]
     },
     "execution_count": 1,
     "metadata": {},
     "output_type": "execute_result"
    }
   ],
   "source": [
    "from IPython.display import HTML\n",
    "HTML('''<script>\n",
    "code_show=true; \n",
    "function code_toggle() {\n",
    " if (code_show){\n",
    " $('div.input').hide();\n",
    " } else {\n",
    " $('div.input').show();\n",
    " }\n",
    " code_show = !code_show\n",
    "} \n",
    "$( document ).ready(code_toggle);\n",
    "</script>\n",
    "<a href=\"javascript:code_toggle()\">here</a>.''')"
   ]
  },
  {
   "cell_type": "code",
   "execution_count": 3,
   "metadata": {
    "collapsed": false
   },
   "outputs": [
    {
     "data": {
      "image/png": "[encoded data removed]",
      "text/plain": [
       "<matplotlib.figure.Figure at 0x10384db70>"
      ]
     },
     "metadata": {},
     "output_type": "display_data"
    }
   ],
   "source": [
    "import numpy as np\n",
    "import matplotlib.pyplot as plt\n",
    "#%matplotlib inline\n",
    "\n",
    "lambdas=np.arange(0.065,0.080,.0001)\n",
    "mu1=0.0709\n",
    "sigma1=0.001\n",
    "mu2=mu1+.00243*(1-np.cos(100*2*np.pi/360.))\n",
    "sigma2=0.001\n",
    "y1=1/(sigma1 * np.sqrt(2 * np.pi))*np.exp(-(lambdas - mu1)**2 / (2 * sigma1**2) )\n",
    "y2=1.25/(sigma2 * np.sqrt(2 * np.pi))*np.exp(-(lambdas - mu2)**2 / (2 * sigma2**2) )\n",
    "y3=np.add(y1,y2)\n",
    "\n",
    "#plt.plot(lambdas,y1,'b-')\n",
    "#plt.plot(lambdas,y2,'r-')\n",
    "plt.plot(lambdas,y3,'g-')\n",
    "plt.xlabel('Wavelength (nm)')\n",
    "plt.ylabel('Relative Intensity')\n",
    "\n",
    "plt.show()"
   ]
  },
  {
   "cell_type": "markdown",
   "metadata": {},
   "source": [
    "Sketch what you will observe when the scattering angle is 0 degrees."
   ]
  },
  {
   "cell_type": "markdown",
   "metadata": {
    "collapsed": true
   },
   "source": [
    "#### Problem 6: BONUS\n",
    "\n",
    "Explain how the Franck-Hertz experiment and result would change if you used atomic hydrogen, rather than mercury for your gas. Why do you think hydrogen isn't used?"
   ]
  }
 ],
 "metadata": {
  "kernelspec": {
   "display_name": "Python 3",
   "language": "python",
   "name": "python3"
  },
  "language_info": {
   "codemirror_mode": {
    "name": "ipython",
    "version": 3
   },
   "file_extension": ".py",
   "mimetype": "text/x-python",
   "name": "python",
   "nbconvert_exporter": "python",
   "pygments_lexer": "ipython3",
   "version": "3.6.0"
  }
 },
 "nbformat": 4,
 "nbformat_minor": 1
}
