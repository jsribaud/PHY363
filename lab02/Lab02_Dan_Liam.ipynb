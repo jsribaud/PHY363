{
 "cells": [
  {
   "cell_type": "markdown",
   "metadata": {},
   "source": [
    "# Inverse Square Law: Daniel Alfeo and Liam Patterson"
   ]
  },
  {
   "cell_type": "markdown",
   "metadata": {},
   "source": [
    "# Part 1: Stefan-Boltzmann Lamp"
   ]
  },
  {
   "cell_type": "markdown",
   "metadata": {
    "collapsed": true
   },
   "source": [
    "## Abstract"
   ]
  },
  {
   "cell_type": "markdown",
   "metadata": {},
   "source": [
    "By using the Stefan-Boltzmann lamp and a radiation detector we successfully determined that radiation is inversely squared to distance from our measurements. Our graphs: radiation vs distance and radiation vs 1/distance^2 both prove this to be true. The values correctly correspond to the inversely squared law for each of the graphs due to the rad vs dist graph being similar to a 1/x^2 graph and the rad vs 1/dist^2 having a linear path."
   ]
  },
  {
   "cell_type": "markdown",
   "metadata": {},
   "source": [
    "## Introduction"
   ]
  },
  {
   "cell_type": "markdown",
   "metadata": {},
   "source": [
    "The set up for this experiment consists of setting up a lamp near a radiation sensor that is facing towards it. The experimenter must record the radiation detected from the light from the lamp at different distances from the lamp. Afterwards, this data must be plotted in a graph for radiation vs distance and radiation vs 1/distance^2. Then they must connect these results to the radiation of light being inversely squared to distance."
   ]
  },
  {
   "cell_type": "markdown",
   "metadata": {},
   "source": [
    "## Methods"
   ]
  },
  {
   "cell_type": "markdown",
   "metadata": {},
   "source": [
    "We turned off the lights inside the lab so we can mitigate the background light when recording the radiation. We still checked the radiation sensor without the lamp on to see if there was any background radiation, which there was .1mV of radiation which we used for our ambient radiation value. For this experiment we set the lamp to be 10V. We started off measuring as close as possible to the lamp then worked our way backwards until the lamp was 1m away. We started using an measurement interval of .5cm, then after a couple measurements, we would then increase the interval to 1cm, 2cm, 5cm and 10cm. After we recorded our values we then would subtract it by .1mV (ambient radiation) to achieve our real value for radiation."
   ]
  },
  {
   "cell_type": "markdown",
   "metadata": {},
   "source": [
    "## Results and Analysis"
   ]
  },
  {
   "cell_type": "markdown",
   "metadata": {},
   "source": [
    "Our table of measurements\n",
    "\n",
    "|Distance (cm)|Radiation (mV)|1 / x^2 (cm^2)|Radiation - Ambient(.1mV) (mV)|\n",
    "|--- :|: ---:|:--- :|: ---|\n",
    "|5|35.3|.04|35.2|\n",
    "|5.5|33.1|.03306|33|\n",
    "|6|30.1|.02778|30|\n",
    "|6.5|27.4|.02367|27.3|\n",
    "|7|24|.02041|23.9|\n",
    "|7.5|20.6|.01778|20.5|\n",
    "|8|18.4|.01563|18.3|\n",
    "|9|14.9|.01235|14.8|\n",
    "|10|12.2|.01|12.1|\n",
    "|11|9.8|.00826|9.7|\n",
    "|12|8.3|.00694|8.2|\n",
    "|14|6.5|.0051|6.4|\n",
    "|16|4.6|.00391|4.5|\n",
    "|18|3.8|.00309|3.7|\n",
    "|20|3.2|.0025|3.1|\n",
    "|25|2|.0016|1.9|\n",
    "|30|1.5|.00111|1.4|\n",
    "|35|1.1|8.2e-4|1|\n",
    "|40|0.9|6.3e-4|0.8|\n",
    "|45|0.7|4.9e-4|0.6|\n",
    "|50|0.5|4e-4|0.4|\n",
    "|60|0.4|2.8e-4|0.3|\n",
    "|70|0.3|2e-4|0.2|\n",
    "|80|0.3|1.6e-4|0.2|\n",
    "|90|0.2|1.2e-4|0.1|\n",
    "|100|0.1|1e-4|0|"
   ]
  },
  {
   "cell_type": "code",
   "execution_count": 66,
   "metadata": {},
   "outputs": [
    {
     "data": {
      "image/png": "[encoded data removed]",
      "text/plain": [
       "<matplotlib.figure.Figure at 0x198ff774be0>"
      ]
     },
     "metadata": {},
     "output_type": "display_data"
    }
   ],
   "source": [
    "from csv import reader\n",
    "from matplotlib import pyplot\n",
    "\n",
    "import numpy as np\n",
    "import matplotlib.pyplot as plt\n",
    "from astropy import units as u\n",
    "%matplotlib inline\n",
    "\n",
    "with open('Table 2.csv') as f:\n",
    "    data = list(reader(f))\n",
    "\n",
    "x = data[0]\n",
    "y = data[3]\n",
    "\n",
    "pyplot.plot(x,y)\n",
    "pyplot.title(\"Radiation vs Distance\")\n",
    "pyplot.xlabel(\"Distance (cm)\")\n",
    "pyplot.ylabel(\"Radiation (mV)\")\n",
    "pyplot.show()"
   ]
  },
  {
   "cell_type": "code",
   "execution_count": 68,
   "metadata": {},
   "outputs": [
    {
     "data": {
      "image/png": "[encoded data removed]",
      "text/plain": [
       "<matplotlib.figure.Figure at 0x198fbe0e0f0>"
      ]
     },
     "metadata": {},
     "output_type": "display_data"
    }
   ],
   "source": [
    "from csv import reader\n",
    "from matplotlib import pyplot\n",
    "\n",
    "import numpy as np\n",
    "import matplotlib.pyplot as plt\n",
    "from astropy import units as u\n",
    "%matplotlib inline\n",
    "\n",
    "with open('Table 2.csv') as f:\n",
    "    data = list(reader(f))\n",
    "\n",
    "x = data[2]\n",
    "y = data[3]\n",
    "\n",
    "pyplot.plot(x,y)\n",
    "pyplot.title(\"Radiation vs 1/Distance^2\")\n",
    "pyplot.xlabel(\"Distance  (cm)\")\n",
    "pyplot.ylabel(\"Radiation (mV)\")\n",
    "pyplot.show()"
   ]
  },
  {
   "cell_type": "markdown",
   "metadata": {},
   "source": [
    "With these graphs we noticed a pattern. The radiation vs distance graph has a similar layout to a 1/x^2 graph, where values approaching x=0, approach y=infinity and values approaching x=infinity approaches y=0. This graph shows that small increases in distance close to the detector has a greater impact to decreasing the radiation than large increases in distance far from the detector. The radiation vs 1/distance^2 graph has a linear arrangement of points. Since this graph has a linear arrangement of points, this means that radiation corresponds to distance inversely squared. These results both prove that radiation is inversely squared to distance."
   ]
  },
  {
   "cell_type": "markdown",
   "metadata": {},
   "source": [
    "## Questions"
   ]
  },
  {
   "cell_type": "markdown",
   "metadata": {},
   "source": [
    "1. The radiation vs. 1/distance^2 is more linear of the two graphs. For the majority of the measurements, the points are in a linear path except for the points that were closest to the bulb. These points seem to \"drift off\" in a similar manner to a sqrt(x) graph, where y doesnt increase as fast as x does.\n",
    "\n",
    "2. Our data does support the fact that radiation decreases as the square of the distance from the source. This is proved by our radiation vs 1/distamce and radiation vs distance graphs. In our radiation vs distance graph, the points are arranged in a fashion that appear to be siumilar to a 1/x^2 graph. The highest values for radation are very close to the detector while the further you move the detector from the bulb, the value for radiation drops off a high rate. In our radiation vs 1/distance^2 graph, the values appear to be in a linear fashion. This means that values of radiation recorded correspond to the inversely squared distances which proves that radiation decreases at an inversely squared rate.\n",
    "\n",
    "3. Its possible that The Stefan-Boltzmann lamp is not truly considered a point of light radiation. This is becasue of teh data in our radiation vs 1/distance^2 graph. In this graph, the points are mostly linear except for the recorded points that were very close to the lamp. The appear to \"drift off\" and not follow the linear path of the other points. This could mean one of two things: the lamp isn't truly a source of radiation due to the recorded values not following the linear path of the radiation vs 1/distance^2 graph which means it does not follow inverse square law or this could mean that we made a mistake in our measurements which coudld've resulted in these points. Either way, this caused our data to not be completely exact for detection for radiation."
   ]
  },
  {
   "cell_type": "markdown",
   "metadata": {},
   "source": [
    "## Summary and Conclusions"
   ]
  },
  {
   "cell_type": "markdown",
   "metadata": {
    "collapsed": true
   },
   "source": [
    "The Stefan-Boltzmann lamp with a radiation detector can be a mostly effective method to determine that the radiation of light is invesely squared with distance. By taking measurements with the radiation detector at different distances from the lamp, we can plot this data to determine that this is true.\n",
    "\n",
    "We took our detector measurements starting with small intervals close to the lamp then increased our intervals the further we moved the detector from the lamp. After measuring we put the data in a table and plotted it into two graphs: radiation vs distance and radiation vs 1/distance^2. The radiation vs distance graph has a similar layout to a 1/x^2 graph. The radiation vs 1/distance^2 graph on the other hand, has a linear arrangement of measurements. This means that the values for 1/distance^2 corresponds to the values found for radiation. These two circumstances prove that radiation is inversely squared to distance due to these two circumstances and the arrangement of points on these graphs.\n",
    "\n",
    "Even though these values and graphs do prove that radiation is inversely squared to distance, they are not perfect. For example, for the radiation vs distance graph, the graph is mostly linear except for the 3 points that were recorded closest to the lamp. These points appear to \"drift off\" in a similar manner to a sqrt(x) graph, where y doesn't increase as fast as x does. This could've been caused by either the lamp not being a \"true point source of radiation\" or it could be that we made an error in our measurements. This isn't a big deal becasue our values are good enough to prove that distance and radiation are inversley squared and we shouldn'e expect perfect measurements anyway."
   ]
  },
  {
   "cell_type": "markdown",
   "metadata": {},
   "source": [
    "## Acknoledgements"
   ]
  },
  {
   "cell_type": "markdown",
   "metadata": {},
   "source": [
    "We'd like to thank Dr. Ribaudo for helping us set up and explaining the labs and https://www.raspberrypi.org/learning/astro-pi-flight-data-analysis/graphing/ for helping with graphing."
   ]
  },
  {
   "cell_type": "markdown",
   "metadata": {},
   "source": [
    "## References"
   ]
  },
  {
   "cell_type": "markdown",
   "metadata": {},
   "source": [
    "Stefan-Boltzmann Lamp handout"
   ]
  }
 ],
 "metadata": {
  "kernelspec": {
   "display_name": "Python 3",
   "language": "python",
   "name": "python3"
  },
  "language_info": {
   "codemirror_mode": {
    "name": "ipython",
    "version": 3
   },
   "file_extension": ".py",
   "mimetype": "text/x-python",
   "name": "python",
   "nbconvert_exporter": "python",
   "pygments_lexer": "ipython3",
   "version": "3.6.1"
  }
 },
 "nbformat": 4,
 "nbformat_minor": 1
}
