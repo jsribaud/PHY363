{
 "cells": [
  {
   "cell_type": "code",
   "execution_count": 6,
   "metadata": {
    "collapsed": true
   },
   "outputs": [],
   "source": [
    "from astropy import units as u\n",
    "class Square:\n",
    "    def __init__(self,s1,s2,s3,s4,dis,region):\n",
    "        self.s1 = abs(s1) * u.cm\n",
    "        self.s2 = abs(s2) * u.cm\n",
    "        self.s3 = abs(s3) * u.cm\n",
    "        self.s4 = abs(s4) * u.cm\n",
    "        self.dis = dis * u.cm\n",
    "        self.region = region\n",
    "\n",
    "data = [Square(5.65,5.65,5.1,5.45,13.85,'left'),Square(5.34,5.4,4.95,5.19,13.85,'right'),\n",
    "        Square(10.15,8.95,9.45,9.81,24.35,'left'),Square(9.35,9.49,9.25,8.9,24.35,'right'),\n",
    "        Square(13.8,14.1,12.6,13.25,34.49,'left'),Square(13.25,13.3,12.35,12.5,34.49,'right'),\n",
    "        Square(20.45,20.19,18.55,19.55,51.1,'left'),Square(19.6,19.6,18.35,18.8,51.1,'right'),\n",
    "       Square(28.55,29.5,26.05,27.35,70.25,'left'),Square(27.49,27.59,25.65,26.05,70.25,'right'),\n",
    "       Square(71.9-40,50-17.05,39.1-10,40.55-10,80.5,'left'),Square(10-40.6,80-49.2,10-38.55,70-40.9,80.5,'right'),\n",
    "       Square(25.01,25.9,22.89,24.05,100-37.9,'left'),Square(24.05,24.15,22.4,22.85,100-37.9,'right')]"
   ]
  },
  {
   "cell_type": "code",
   "execution_count": 7,
   "metadata": {
    "collapsed": true
   },
   "outputs": [],
   "source": [
    "ambiant = [{'distance':100 * u.cm,'volts':0.1 * u.mV},{'distance':50 * u.cm,'volts':0.1 * u.mV},\n",
    "           {'distance':20 * u.cm,'volts':0.1 * u.mV}]#(cm,mV)\n",
    "actual = [{'distance':100 * u.cm,'volts':0.3 * u.mV},{'distance':90.2 * u.cm,'volts':0.3 * u.mV},\n",
    "          {'distance':79 * u.cm,'volts':0.4 * u.mV},{'distance':69.9 * u.cm,'volts':0.45 * u.mV},\n",
    "          {'distance':59.5 * u.cm,'volts':0.6 * u.mV},{'distance':50 * u.cm,'volts':0.7 * u.mV},\n",
    "          {'distance':40 * u.cm,'volts':0.9 * u.mV},{'distance':29.8 * u.cm,'volts':1.6 * u.mV},\n",
    "          {'distance':19.9 * u.cm,'volts':3.1 * u.mV},{'distance':10.9 * u.cm,'volts':9.6 * u.mV}]#(cm,mV)"
   ]
  },
  {
   "cell_type": "markdown",
   "metadata": {},
   "source": [
    "# Title and Authors"
   ]
  },
  {
   "cell_type": "markdown",
   "metadata": {
    "collapsed": true
   },
   "source": [
    "# Abstract"
   ]
  },
  {
   "cell_type": "markdown",
   "metadata": {},
   "source": [
    "The purpose of this experiment was to reinforce and prove the inverse square law. This law states that light (radiation) does not stay constant over a distance of r but that it falls off at a rate of; \\begin{equation} 1/r^2 \\end{equation} To experimentally determine the inverse square law, we utilized 2 experiments. Experiment one was \"The Confirmation of the Inverse Square Law using Diffraction Gratings\" and experiment two \"The Inverse Square Law\" using the PASCO Thermal Radiation System."
   ]
  },
  {
   "cell_type": "markdown",
   "metadata": {},
   "source": [
    "# Intro"
   ]
  },
  {
   "cell_type": "markdown",
   "metadata": {},
   "source": [
    "Each experiment we ran used a different method to test the inverse square law. The first experiment; \"The Confirmation of the Inverse Square Law using Diffraction Gratings\", used a two plastic diffraction gratings, a laser, and a ruler (meter stick). The combination of the diffraction gratings, held orthogonal to each other, held in front of the laser in front of the laser resulted in a semi-square shaped grid of dots. Using this grid we found the inverse square law through area.\n",
    "The next experiment usig the PASCO Thermal Radiation System worked similarly to experiment one but tested the inverse square through direct measurement of the radiation intesisty itself and multiple distances \"r\"."
   ]
  },
  {
   "cell_type": "markdown",
   "metadata": {},
   "source": [
    "# Experiment"
   ]
  },
  {
   "cell_type": "markdown",
   "metadata": {},
   "source": [
    "Experiment 1 \"The Confirmation of the Inverse Square Law using Diffraction Gratings\";\n",
    "    For this experiment we had a few pieces equipment, a laser, two equal diffraction gratings, a meter stick and ruler, and a stand to hold the two diffraction gratings. To setup all the equipment we placed the two diffraction gratings orthogonal to one another and held up on the stand. We placed the stand with gratings on a cart that could to varying distances from a chalkboard. We then placed the laser at an appropriate level so that the resulted square grid of red dots would all land on the chalkboard. While shining the laser through the gratings, we moved the cart so the first grid started out relatively small and dimensionally equal/precise to a square. Once the grid was as accurate as we could make it Justin, using the centimeter side of the ruler measured all four sides of two grid squares (one at the top left and one at the top right). Nathaniel then input this data into jupyter notebook to record and plot the data. After measuring the first distance of the diffraction grating from the chalkboard we moved them further from the board to find more \"r\" values and repeated the process seven times, recieveing fourteen data points in total. \n",
    "    \n",
    "Experiment 2 \"Inverse Sqaure Law\"\n",
    "    The equipment used in this experiment was; The PASCO TD-8553 Radiation Sensor, The TD-8555 Stefan-Boltzmann Lammp, a power supply (13V maximum) and a meter stick. The PASCO Radiation sensor measured the relative intensities of incident thermal radiation. To prevent too much interference with our calculations we first measured and ambiant radiation level with all lights in the room turned off. After turning the ligths off we placed the bulb at three locations along the meterstick to find multiple points for our ambiant measurements. We found little to no ambiant radiation. Next we plugged the lamp into the powersource and ramped it up to 10V. To keep the data as precise and accurate as possible we turned the sensor away from the light source. We recieved ten data points along the meter starting at 100cm all the way down to 10cm. Through our collection of data we saw a trend of an increase of the intensity going up exponentially. These data points were a good collection to prove the inverse square law. "
   ]
  },
  {
   "cell_type": "markdown",
   "metadata": {},
   "source": [
    "# Data"
   ]
  },
  {
   "cell_type": "markdown",
   "metadata": {},
   "source": [
    "//todo Nathaniel"
   ]
  },
  {
   "cell_type": "markdown",
   "metadata": {},
   "source": [
    "# Calculations"
   ]
  },
  {
   "cell_type": "markdown",
   "metadata": {},
   "source": [
    "//todo Nathaniel"
   ]
  },
  {
   "cell_type": "markdown",
   "metadata": {},
   "source": [
    "# Conclusion"
   ]
  },
  {
   "cell_type": "markdown",
   "metadata": {},
   "source": [
    "//todo Nathaniel"
   ]
  }
 ],
 "metadata": {
  "kernelspec": {
   "display_name": "Python 3",
   "language": "python",
   "name": "python3"
  },
  "language_info": {
   "codemirror_mode": {
    "name": "ipython",
    "version": 3
   },
   "file_extension": ".py",
   "mimetype": "text/x-python",
   "name": "python",
   "nbconvert_exporter": "python",
   "pygments_lexer": "ipython3",
   "version": "3.6.1"
  }
 },
 "nbformat": 4,
 "nbformat_minor": 2
}
