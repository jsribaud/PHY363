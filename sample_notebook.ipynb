{
 "cells": [
  {
   "cell_type": "markdown",
   "metadata": {},
   "source": [
    "# Introduction"
   ]
  },
  {
   "cell_type": "markdown",
   "metadata": {},
   "source": [
    "<Notice this is 'Markdown'>\n",
    "<This is also how you put in comments.>\n",
    "This is how to enter normal text. You can even use LaTeX in here, just by using standard TeX formatting. For example,\n",
    "\n",
    "\\begin{equation}\n",
    "f(x)=x^2 - 3x +2.\n",
    "\\end{equation}\n",
    "\n",
    "It's terribly easy. You should use this for all text in your report.\n",
    "\n",
    "You can get different Heading/Section styles by using different numbers of # marks (up to six).\n",
    "\n",
    "# One \n",
    "## Two\n",
    "### Three\n",
    "#### Four\n",
    "##### Five\n",
    "###### Six\n",
    "####### Seven - Oops! Not a thing!"
   ]
  },
  {
   "cell_type": "markdown",
   "metadata": {},
   "source": [
    "If you want to enter Python code, switch to code -> "
   ]
  },
  {
   "cell_type": "code",
   "execution_count": 2,
   "metadata": {},
   "outputs": [],
   "source": [
    "import numpy as np\n",
    "import matplotlib.pyplot as plt\n",
    "from astropy import units as u\n",
    "%matplotlib inline"
   ]
  },
  {
   "cell_type": "code",
   "execution_count": 5,
   "metadata": {},
   "outputs": [
    {
     "data": {
      "image/png": "[encoded data removed]",
      "text/plain": [
       "<matplotlib.figure.Figure at 0x10fe6de90>"
      ]
     },
     "metadata": {},
     "output_type": "display_data"
    }
   ],
   "source": [
    "#create a time variable (Note in the code environment, # gives a comment!)\n",
    "time=np.arange(0.,10.,0.2)*u.s\n",
    "\n",
    "#let's look at a basic kinematic equation, setting some initial conditions (and constant acceleration)\n",
    "xi=+20.0*u.m\n",
    "vi=-5.0*u.m/u.s\n",
    "ac=+2.5*u.m/u.s/u.s\n",
    "xf=xi+vi*time+.5*ac*time**2.\n",
    "\n",
    "#and make a plot - what does 'rs' do?\n",
    "plt.plot(time, xf, 'rs')\n",
    "plt.xlabel('time (s)')\n",
    "plt.ylabel('x position (m)')\n",
    "plt.show()"
   ]
  },
  {
   "cell_type": "code",
   "execution_count": 21,
   "metadata": {},
   "outputs": [
    {
     "name": "stdout",
     "output_type": "stream",
     "text": [
      "2.2000000768e-07 m\n"
     ]
    }
   ],
   "source": [
    "v=3.*10**4.*u.m/u.s\n",
    "c=3.*10**8.*u.m/u.s\n",
    "l=11.*u.m\n",
    "t1=(2*l/c)*(1-(v/c)**2.)**(-1.)\n",
    "t2=(2*l/c)*(1-(v/c)**2.)**(-1./2)\n",
    "diff=c*2.*(t1-t2)\n",
    "print(diff)"
   ]
  },
  {
   "cell_type": "code",
   "execution_count": null,
   "metadata": {
    "collapsed": true
   },
   "outputs": [],
   "source": []
  }
 ],
 "metadata": {
  "kernelspec": {
   "display_name": "Python 3",
   "language": "python",
   "name": "python3"
  },
  "language_info": {
   "codemirror_mode": {
    "name": "ipython",
    "version": 3
   },
   "file_extension": ".py",
   "mimetype": "text/x-python",
   "name": "python",
   "nbconvert_exporter": "python",
   "pygments_lexer": "ipython3",
   "version": "3.6.1"
  }
 },
 "nbformat": 4,
 "nbformat_minor": 1
}
