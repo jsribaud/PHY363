{
 "cells": [
  {
   "cell_type": "markdown",
   "metadata": {},
   "source": [
    "# Robert Orellano\n",
    "\n"
   ]
  },
  {
   "cell_type": "markdown",
   "metadata": {},
   "source": [
    "   While the title of the book sounds very definitive. I have enjoyed what I have read so far. It’s hard to follow the exact timeline but it’s still very evident that understanding the world doesn’t happen overnight. However, it’s relieving that even some of the greatest minds took years to understand visually and conceptually the laws and theories that allow us to begin in understanding of our universe. Not even all bright minds make revolutionary discoveries. Even some of the brightest minds clashed with what seemed to be ordinary people. It’s almost easier to accept what the consciences believes then to create theories on your own, too disagree on what should be acceptable is almost a taboo. I was told that insubordination is frown upon in most instances but it makes good leaders. It sounded at first that Planck and Boltzmann were not going to turn out of be as respectful to one another as presented, but ended up being the competition that drove one another. Maybe hindsight is 20/20 but it seems that some of these discoveries are no-brainers. It’s reassuring that the next possible discovery could really be ground breaking and equations that can be solved by computers are in this generation and forward. Yes, the math is important but I think the brainstorm and interactions with this world in teams of scientists with different strengths alongside computers, is the future of physics. Possibly bringing more than one perspective, vision and willing to explore new routes for answers. Failure is not the end to all experiments. It’s just one way not to do what your trying to."
   ]
  },
  {
   "cell_type": "code",
   "execution_count": null,
   "metadata": {
    "collapsed": true
   },
   "outputs": [],
   "source": []
  }
 ],
 "metadata": {
  "kernelspec": {
   "display_name": "Python 3",
   "language": "python",
   "name": "python3"
  },
  "language_info": {
   "codemirror_mode": {
    "name": "ipython",
    "version": 3
   },
   "file_extension": ".py",
   "mimetype": "text/x-python",
   "name": "python",
   "nbconvert_exporter": "python",
   "pygments_lexer": "ipython3",
   "version": "3.6.1"
  }
 },
 "nbformat": 4,
 "nbformat_minor": 2
}
