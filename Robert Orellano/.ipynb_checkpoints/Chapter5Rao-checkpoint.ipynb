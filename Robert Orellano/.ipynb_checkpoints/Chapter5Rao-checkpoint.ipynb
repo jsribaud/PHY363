{
 "cells": [
  {
   "cell_type": "markdown",
   "metadata": {},
   "source": [
    "# Robert Orellano\n",
    "\n"
   ]
  },
  {
   "cell_type": "markdown",
   "metadata": {},
   "source": [
    "Robert Orellano\n",
    "Chapter 5 Quantum\n",
    "\n",
    "When I started reading chapter 5, I had to read the first sentence twice. As the first time I read it, I did not seem to make sense, but the second time touched on a thought, that I have about what anyone else does in fields other than math and sciences. Understanding that studying Physics is stressful I can see why others would chose an alternative. I think what deters me most from 100% committing to school over my normal manual labor jobs is, as if in a world with infinite possibilities myself being part of something as destructive as the atomic bomb was to history. What I would assume would yield far more power that could be used for far greater advantages, would not. At this point in time we are not prepared for any such responsibilities. Also, why can’t light be a particle that moves like a wave due to the gravitational waves. I am sure they will quantize gravity waves and the speed of light will be in there somewhere as like a horizontal refresh rate. Next though, someday when our ability to increase our magnification on our world, we might find life on a scale that lives on our electrons. Say it’s crazy but is life on a planet just as we as it sounds. Whatever the next big theory is to come, it will surly bring us into something great, but it must be imagined. If the future of physics focuses on equations then the future will be of refinement. It’s hard to write a reflection on the reading when wondering what we don’t know. What do we not know as a humanity. Most of these questions I ponder are in the field of Physics. Some ask god, either way they don’t really mix well together.\n"
   ]
  },
  {
   "cell_type": "code",
   "execution_count": null,
   "metadata": {
    "collapsed": true
   },
   "outputs": [],
   "source": []
  }
 ],
 "metadata": {
  "kernelspec": {
   "display_name": "Python 3",
   "language": "python",
   "name": "python3"
  },
  "language_info": {
   "codemirror_mode": {
    "name": "ipython",
    "version": 3
   },
   "file_extension": ".py",
   "mimetype": "text/x-python",
   "name": "python",
   "nbconvert_exporter": "python",
   "pygments_lexer": "ipython3",
   "version": "3.6.1"
  }
 },
 "nbformat": 4,
 "nbformat_minor": 2
}
