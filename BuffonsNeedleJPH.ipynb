{
 "cells": [
  {
   "cell_type": "markdown",
   "metadata": {},
   "source": [
    "# Buffons Needle Experiment "
   ]
  },
  {
   "cell_type": "markdown",
   "metadata": {},
   "source": [
    "<Notice this is 'Markdown'>\n",
    "<This is also how you put in comments.>\n",
    "##Intro\n",
    "    Buffon's Needle poses the question; What is the probabilty that a needle will intersect with parallel lines that are placed at equal intervals? We started of the experiment gathering data by dropping a group of eight sticks twenty times. Daniel and I dropped the sticks on parallel lines that were placed at equal intervals that matched the length of the stick. After gathering the data we found a ratio of intersects to non-intersects. This number came out to be 0.73125 and under the assumption that it is related to Pi (3.141596...), we were tasked to find this relation. \n",
    "# Data \n",
    "    Daniel and I did Twenty drops with a grouping of eight sticks that were on an average of 30.02 cm long.\n",
    "    \n",
    "    --------------------------------\n",
    "    Trial|Intersect|Don't Intersect|\n",
    "    -----|---------|---------------|\n",
    "      1  |    5    |       3       |\n",
    "    -----|---------|---------------|\n",
    "      2  |    7    |       1       | \n",
    "    -----|---------|---------------|\n",
    "      3  |    6    |       2       | \n",
    "    -----|---------|---------------|\n",
    "      4  |    6    |       2       |\n",
    "    -----|---------|---------------|\n",
    "      5  |    7    |       1       |\n",
    "    -----|---------|---------------|   \n",
    "      6  |    5    |       3       |\n",
    "    -----|---------|---------------|\n",
    "      7  |    6    |       2       |\n",
    "    -----|---------|---------------|\n",
    "      8  |    6    |       2       |\n",
    "    -----|---------|---------------|\n",
    "      9  |    6    |       2       |\n",
    "    -----|---------|---------------|\n",
    "      10 |    2    |       6       |\n",
    "    -----|---------|---------------|\n",
    "      11 |    5    |       3       |\n",
    "    -----|---------|---------------|\n",
    "      12 |    6    |       2       |\n",
    "    -----|---------|---------------|\n",
    "      13 |    6    |       2       |\n",
    "    -----|---------|---------------|\n",
    "      14 |    6    |       2       |\n",
    "    -----|---------|---------------|\n",
    "      15 |    7    |       1       |\n",
    "    -----|---------|---------------|\n",
    "      16 |    6    |       2       |\n",
    "    -----|---------|---------------|\n",
    "      17 |    7    |       1       |\n",
    "    -----|---------|---------------|\n",
    "      18 |    5    |       3       |\n",
    "    -----|---------|---------------|\n",
    "      19 |    6    |       2       |\n",
    "    -----|---------|---------------|\n",
    "      20 |    7    |       1       | \n",
    "    -----|---------|---------------|\n",
    "    Total|   117   |      160      |   Ratio of Intersect:Don't Intersect = .73125\n",
    "    --------------------------------\n",
    "\n",
    "We then came up with an equation to find the area of which the stick was capable of intersecting the line and compared that to the total area of which the stick could land inside the square. After integrating the equations we got a ration of D:D*Pi/2 where D is the lenght of the stick. Out numbers resulted in a ratio of 0.63662. This number when manipulated correctly gave us 3.141569 (Pi). Out origianl experimental ratio gave a Pi equal to 2.735. This is about a 13% error. \n",
    "\n",
    "## Conclusion\n",
    "    Overall this was a relatively laid back and simple experiment that required a lot of thought and collaboration with lab partners and fellow classmates. It was a experiment involving probability and the relation these wooden sticks had to Pi. Also through the implementation of this lab we learned more on how to use Jupyter Notbook as well as how the labs and lab write-ups shoud work.\n",
    "               "
   ]
  },
  {
   "cell_type": "code",
   "execution_count": null,
   "metadata": {
    "collapsed": true
   },
   "outputs": [],
   "source": []
  }
 ],
 "metadata": {
  "kernelspec": {
   "display_name": "Python 3",
   "language": "python",
   "name": "python3"
  },
  "language_info": {
   "codemirror_mode": {
    "name": "ipython",
    "version": 3
   },
   "file_extension": ".py",
   "mimetype": "text/x-python",
   "name": "python",
   "nbconvert_exporter": "python",
   "pygments_lexer": "ipython3",
   "version": "3.6.1"
  }
 },
 "nbformat": 4,
 "nbformat_minor": 1
}
