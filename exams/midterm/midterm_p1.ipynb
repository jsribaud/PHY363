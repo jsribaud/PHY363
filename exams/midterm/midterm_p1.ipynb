{
 "cells": [
  {
   "cell_type": "markdown",
   "metadata": {},
   "source": [
    "# PHY 363 - Midterm\n",
    "October 19, 2017"
   ]
  },
  {
   "cell_type": "markdown",
   "metadata": {},
   "source": [
    "## Part I"
   ]
  },
  {
   "cell_type": "markdown",
   "metadata": {},
   "source": [
    "#### Problem 1: \n",
    "\n",
    "The Ladder Paradox (LP) is a famous problem in special relativity. In the LP, a ladder parallel to the ground is moving horizontally towards a garage with an open door. If the proper length of the garage is 10.0 m and the proper length of the ladder is 20.0 m, at what speed would an observer in the garage claim the ladder is moving if the ladder fits inside the garage?\n",
    "\n",
    "The LP is a paradox because an observer traveling with the ladder will note the ladder DOES NOT fit inside the garage - provide an explanation for these two apparently different conclusions (according to one observer, the ladder fits - while to a second oberver, the ladder does not fit)."
   ]
  },
  {
   "cell_type": "markdown",
   "metadata": {},
   "source": [
    "#### Problem 2: \n",
    "\n",
    "The $K^0$ meson is an uncharged particle that decays into two, oppositely charged pions:\n",
    "\n",
    "\\begin{equation}\n",
    "K^0 \\rightarrow \\pi^+ + \\pi^- \n",
    "\\end{equation}\n",
    "\n",
    "where the pions have a mass of 140 MeV/c$^2$.\n",
    "\n",
    "In an experiment you are running, the $K^0$ meson decays from rest into two pions in a uniform B-field of 2.0 T. The pions proceed to follow tracks with radius of curvature of 35.0 cm (perpendicular to the B-field). \n",
    "\n",
    "Sketch the paths of the two pions after they are created.\n",
    "\n",
    "Find the momenta and speeds of the pions. \n",
    "\n",
    "Find the mass of the $K^0$ meson."
   ]
  },
  {
   "cell_type": "markdown",
   "metadata": {},
   "source": [
    "#### Problem 3: \n",
    "\n",
    "At the Large Hadron Collider (LHC), protons are smashed into each other traveling at speeds close to c. For example, during one collision, the protons are traveling at 0.999 c (as measured in the laboratory frame) when they collide. In the frame of one of the protons, how fast is the other proton approaching?\n",
    "\n",
    "In general, show that if all the energy of the colliding protons goes into creating one new particle, the mass of the new particle M is:\n",
    "\n",
    "\\begin{equation}\n",
    "M c^2 = 2 m_p c^2 \\big(1 + \\frac{K}{2 m_p c^2}\\big)\n",
    "\\end{equation}\n",
    "\n",
    "where $K$ is the total kinetic energy of both protons. Therefore, if you increase the kinetic energy of your colliding protons, you will increase the most massive particle that can be created from the collision by the same amount (assuming $K >> m_p c^2$). "
   ]
  }
 ],
 "metadata": {
  "kernelspec": {
   "display_name": "Python 3",
   "language": "python",
   "name": "python3"
  },
  "language_info": {
   "codemirror_mode": {
    "name": "ipython",
    "version": 3
   },
   "file_extension": ".py",
   "mimetype": "text/x-python",
   "name": "python",
   "nbconvert_exporter": "python",
   "pygments_lexer": "ipython3",
   "version": "3.6.0"
  }
 },
 "nbformat": 4,
 "nbformat_minor": 1
}
