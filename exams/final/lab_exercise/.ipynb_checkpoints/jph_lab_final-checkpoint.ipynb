{
 "cells": [
  {
   "cell_type": "markdown",
   "metadata": {},
   "source": [
    "# Justin Houle\n",
    "#### Lab Final Activity"
   ]
  },
  {
   "cell_type": "code",
   "execution_count": 1,
   "metadata": {
    "collapsed": true
   },
   "outputs": [],
   "source": [
    "import math\n",
    "import astropy.units as u\n",
    "from astropy.io import ascii\n",
    "import numpy as np\n",
    "from sklearn.neighbors import KernelDensity\n",
    "import matplotlib.pyplot as plt\n",
    "from scipy.optimize import curve_fit\n",
    "%matplotlib inline"
   ]
  },
  {
   "cell_type": "code",
   "execution_count": 7,
   "metadata": {},
   "outputs": [
    {
     "name": "stdout",
     "output_type": "stream",
     "text": [
      "Column 1 - Distance in Mpc, Column 2 - Velocity in km/s\n"
     ]
    },
    {
     "data": {
      "text/html": [
       "&lt;Table length=19&gt;\n",
       "<table id=\"table2028888847528\" class=\"table-striped table-bordered table-condensed\">\n",
       "<thead><tr><th>Dist</th><th>Vel</th></tr></thead>\n",
       "<thead><tr><th>int32</th><th>int32</th></tr></thead>\n",
       "<tr><td>15</td><td>1100</td></tr>\n",
       "<tr><td>97</td><td>6700</td></tr>\n",
       "<tr><td>32</td><td>2400</td></tr>\n",
       "<tr><td>145</td><td>10700</td></tr>\n",
       "<tr><td>50</td><td>3100</td></tr>\n",
       "<tr><td>122</td><td>9900</td></tr>\n",
       "<tr><td>58</td><td>4300</td></tr>\n",
       "<tr><td>91</td><td>5300</td></tr>\n",
       "<tr><td>120</td><td>9000</td></tr>\n",
       "<tr><td>93</td><td>7500</td></tr>\n",
       "<tr><td>158</td><td>8900</td></tr>\n",
       "<tr><td>64</td><td>5300</td></tr>\n",
       "<tr><td>145</td><td>9600</td></tr>\n",
       "<tr><td>61</td><td>3300</td></tr>\n",
       "<tr><td>103</td><td>5100</td></tr>\n",
       "<tr><td>46</td><td>3600</td></tr>\n",
       "<tr><td>34</td><td>1800</td></tr>\n",
       "<tr><td>185</td><td>9500</td></tr>\n",
       "<tr><td>20</td><td>1200</td></tr>\n",
       "</table>"
      ],
      "text/plain": [
       "<Table length=19>\n",
       " Dist  Vel \n",
       "int32 int32\n",
       "----- -----\n",
       "   15  1100\n",
       "   97  6700\n",
       "   32  2400\n",
       "  145 10700\n",
       "   50  3100\n",
       "  122  9900\n",
       "   58  4300\n",
       "   91  5300\n",
       "  120  9000\n",
       "   93  7500\n",
       "  158  8900\n",
       "   64  5300\n",
       "  145  9600\n",
       "   61  3300\n",
       "  103  5100\n",
       "   46  3600\n",
       "   34  1800\n",
       "  185  9500\n",
       "   20  1200"
      ]
     },
     "execution_count": 7,
     "metadata": {},
     "output_type": "execute_result"
    }
   ],
   "source": [
    "print ('Column 1 - Distance in Mpc, Column 2 - Velocity in km/s')\n",
    "data = ascii.read('lab_final_data.txt')\n",
    "data\n"
   ]
  },
  {
   "cell_type": "code",
   "execution_count": 19,
   "metadata": {
    "scrolled": true
   },
   "outputs": [
    {
     "data": {
      "text/plain": [
       "<matplotlib.text.Text at 0x1d86884d668>"
      ]
     },
     "execution_count": 19,
     "metadata": {},
     "output_type": "execute_result"
    },
    {
     "data": {
      "image/png": "[encoded data removed]",
      "text/plain": [
       "<matplotlib.figure.Figure at 0x1d86873dba8>"
      ]
     },
     "metadata": {},
     "output_type": "display_data"
    }
   ],
   "source": [
    "data = ascii.read('lab_final_data.txt')\n",
    "\n",
    "y = data['Vel']\n",
    "x = data['Dist']\n",
    "def func(x, a, b):\n",
    "    return a*x+b\n",
    "popt1, pcov1 = curve_fit(func, x, y)\n",
    "\n",
    "plt.plot(x, y, 'ro')\n",
    "plt.plot(x, np.polyval(popt1, x), 'b')\n",
    "plt.text(25, 11000, r\"a = {0:.9f} +/- {1:.9f}\".format(popt1[0], pcov1[0,0]**0.5))\n",
    "plt.text(25, 10000, r\"b = {0:.3f} +/- {1:.3f}\".format(popt1[1], pcov1[1,1]**0.5))"
   ]
  },
  {
   "cell_type": "code",
   "execution_count": 20,
   "metadata": {
    "collapsed": true
   },
   "outputs": [],
   "source": [
    "\n"
   ]
  },
  {
   "cell_type": "code",
   "execution_count": null,
   "metadata": {
    "collapsed": true
   },
   "outputs": [],
   "source": []
  }
 ],
 "metadata": {
  "kernelspec": {
   "display_name": "Python 3",
   "language": "python",
   "name": "python3"
  },
  "language_info": {
   "codemirror_mode": {
    "name": "ipython",
    "version": 3
   },
   "file_extension": ".py",
   "mimetype": "text/x-python",
   "name": "python",
   "nbconvert_exporter": "python",
   "pygments_lexer": "ipython3",
   "version": "3.6.1"
  }
 },
 "nbformat": 4,
 "nbformat_minor": 2
}
