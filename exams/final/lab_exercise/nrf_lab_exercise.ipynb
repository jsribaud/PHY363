{
 "cells": [
  {
   "cell_type": "markdown",
   "metadata": {},
   "source": [
    "# Nathaniel Flower\n",
    "#### Lab Final Activity"
   ]
  },
  {
   "cell_type": "code",
   "execution_count": 50,
   "metadata": {},
   "outputs": [
    {
     "data": {
      "image/png": "[encoded data removed]",
      "text/plain": [
       "<matplotlib.figure.Figure at 0x293788a8828>"
      ]
     },
     "metadata": {},
     "output_type": "display_data"
    },
    {
     "name": "stdout",
     "output_type": "stream",
     "text": [
      "The Hubble Constant is: 64.70041327879838 (km/s)/mpc\n"
     ]
    }
   ],
   "source": [
    "import numpy as np\n",
    "from astropy.io import ascii\n",
    "import matplotlib.pyplot as plt\n",
    "from scipy.optimize import curve_fit\n",
    "\n",
    "def func(x,a):\n",
    "    return a*x\n",
    "\n",
    "data = ascii.read('lab_final_data.txt')\n",
    "\n",
    "data['Dist'] = data['Dist']#*3.086e+19\n",
    "\n",
    "popt, pcov = curve_fit(func, data['Dist'], data['Vel'])\n",
    "\n",
    "plt.plot(data['Dist'], data['Vel'],'ro')\n",
    "plt.plot(data['Dist'], func(data['Dist'], popt[0]), '-')\n",
    "#plt.text(0.5e21, 10000, r\"a = {0:.3f}x10^-18 +/- {1:.3f}x10^-20\".format(popt[0]//1e-18, pcov[0,0]**0.5//1e-20),color=\"blue\")\n",
    "plt.grid()\n",
    "plt.title(\"Velocity vs Distance\")\n",
    "plt.xlabel(\"Distance (mpc)\")\n",
    "plt.ylabel(\"Velocity (km/s)\")\n",
    "plt.show()\n",
    "print(\"The Hubble Constant is: {0} (km/s)/mpc\".format(popt[0]))"
   ]
  },
  {
   "cell_type": "markdown",
   "metadata": {},
   "source": [
    "Hubble's Law is:\n",
    "\\begin{equation}\n",
    "v = H_0d\n",
    "\\end{equation}\n",
    "where v is velocity and d is the distance from us. We can solve for Hubble's Constant and plug in the units for the velocity and distance to solve for the units of the Hubble Constant\n",
    "\\begin{equation}\n",
    "H_0=\\frac{v}{d}=\\frac{\\frac{km}{s}}{\\frac{km}{1}}=\\frac{km}{s}\\frac{1}{km}=\\frac{1}{s}\n",
    "\\end{equation}"
   ]
  },
  {
   "cell_type": "code",
   "execution_count": 45,
   "metadata": {},
   "outputs": [
    {
     "name": "stdout",
     "output_type": "stream",
     "text": [
      "4.76967586851e+17\n"
     ]
    }
   ],
   "source": []
  },
  {
   "cell_type": "code",
   "execution_count": null,
   "metadata": {
    "collapsed": true
   },
   "outputs": [],
   "source": []
  }
 ],
 "metadata": {
  "kernelspec": {
   "display_name": "Python 3",
   "language": "python",
   "name": "python3"
  },
  "language_info": {
   "codemirror_mode": {
    "name": "ipython",
    "version": 3
   },
   "file_extension": ".py",
   "mimetype": "text/x-python",
   "name": "python",
   "nbconvert_exporter": "python",
   "pygments_lexer": "ipython3",
   "version": "3.6.2"
  }
 },
 "nbformat": 4,
 "nbformat_minor": 2
}
