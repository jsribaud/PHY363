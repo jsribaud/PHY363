{
 "cells": [
  {
   "cell_type": "markdown",
   "metadata": {},
   "source": [
    "# Jelena Colon\n",
    "#### Lab Final Activity"
   ]
  },
  {
   "cell_type": "code",
   "execution_count": 3,
   "metadata": {},
   "outputs": [
    {
     "name": "stdout",
     "output_type": "stream",
     "text": [
      "Dist  Vel \n",
      "---- -----\n",
      "  15  1100\n",
      "  97  6700\n",
      "  32  2400\n",
      " 145 10700\n",
      "  50  3100\n",
      " 122  9900\n",
      "  58  4300\n",
      "  91  5300\n",
      " 120  9000\n",
      "  93  7500\n",
      " 158  8900\n",
      "  64  5300\n",
      " 145  9600\n",
      "  61  3300\n",
      " 103  5100\n",
      "  46  3600\n",
      "  34  1800\n",
      " 185  9500\n",
      "  20  1200\n"
     ]
    }
   ],
   "source": [
    "from astropy.io import ascii\n",
    "\n",
    "#Import and print data \n",
    "data=ascii.read('lab_final_data.txt')\n",
    "print (data)"
   ]
  },
  {
   "cell_type": "code",
   "execution_count": 7,
   "metadata": {},
   "outputs": [
    {
     "data": {
      "image/png": "[encoded data removed]",
      "text/plain": [
       "<matplotlib.figure.Figure at 0x115263550>"
      ]
     },
     "metadata": {},
     "output_type": "display_data"
    }
   ],
   "source": [
    "import numpy as np\n",
    "import matplotlib.pyplot as plt\n",
    "from astropy import units as u\n",
    "from scipy.optimize import curve_fit\n",
    "from matplotlib import pyplot\n",
    "%matplotlib inline\n",
    "\n",
    "#assign variables to data\n",
    "d = data['Dist']\n",
    "v = data['Vel']\n",
    "\n",
    "\n",
    "\n",
    "#trendline\n",
    "def func (x, a, b):\n",
    "    return a*x + b\n",
    "\n",
    "popt1, pcov1 = curve_fit(func, d, v)\n",
    "\n",
    "\n",
    "#plot data\n",
    "plt.plot(d, v, 'rs')\n",
    "plt.plot(d, np.polyval(popt1, d), 'b')\n",
    "plt.text(10, 10500, r\"a = {0:.9f} +/- {1:.9f}\".format(popt1[0], pcov1[0,0]**0.5),color=\"blue\")\n",
    "plt.text(10, 9500, r\"b = {0:.9f} +/- {1:.6f}\".format(popt1[1], pcov1[1,1]**0.5),color=\"blue\")\n",
    "plt.grid()\n",
    "plt.title(\"Velocity vs Distance\")\n",
    "plt.ylabel('Velcoity (km/s)')\n",
    "plt.xlabel('Distance (Mpc)')\n",
    "\n",
    "\n",
    "plt.show()\n"
   ]
  },
  {
   "cell_type": "code",
   "execution_count": 51,
   "metadata": {},
   "outputs": [
    {
     "name": "stdout",
     "output_type": "stream",
     "text": [
      "The Hubble constant is 60.3454855101 km/s/mpc\n"
     ]
    }
   ],
   "source": [
    "#calculate hubbles constant\n",
    "slope=popt[0]\n",
    "\n",
    "print('The Hubble constant is', slope, 'km/s/mpc')\n"
   ]
  }
 ],
 "metadata": {
  "kernelspec": {
   "display_name": "Python 3",
   "language": "python",
   "name": "python3"
  },
  "language_info": {
   "codemirror_mode": {
    "name": "ipython",
    "version": 3
   },
   "file_extension": ".py",
   "mimetype": "text/x-python",
   "name": "python",
   "nbconvert_exporter": "python",
   "pygments_lexer": "ipython3",
   "version": "3.6.1"
  }
 },
 "nbformat": 4,
 "nbformat_minor": 2
}
