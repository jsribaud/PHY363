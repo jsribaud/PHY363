{
 "cells": [
  {
   "cell_type": "markdown",
   "metadata": {},
   "source": [
    "# Liam Patterson\n",
    "#### Lab Final Activity"
   ]
  },
  {
   "cell_type": "code",
   "execution_count": 24,
   "metadata": {
    "collapsed": true
   },
   "outputs": [],
   "source": [
    "import math\n",
    "import astropy.units as u\n",
    "from astropy.io import ascii\n",
    "import numpy as np\n",
    "import matplotlib.pyplot as plt\n",
    "from scipy.optimize import curve_fit\n",
    "%matplotlib inline"
   ]
  },
  {
   "cell_type": "code",
   "execution_count": 25,
   "metadata": {},
   "outputs": [
    {
     "data": {
      "text/html": [
       "&lt;Table length=19&gt;\n",
       "<table id=\"table136333200\" class=\"table-striped table-bordered table-condensed\">\n",
       "<thead><tr><th>Dist</th><th>Vel</th></tr></thead>\n",
       "<thead><tr><th>int32</th><th>int32</th></tr></thead>\n",
       "<tr><td>15</td><td>1100</td></tr>\n",
       "<tr><td>97</td><td>6700</td></tr>\n",
       "<tr><td>32</td><td>2400</td></tr>\n",
       "<tr><td>145</td><td>10700</td></tr>\n",
       "<tr><td>50</td><td>3100</td></tr>\n",
       "<tr><td>122</td><td>9900</td></tr>\n",
       "<tr><td>58</td><td>4300</td></tr>\n",
       "<tr><td>91</td><td>5300</td></tr>\n",
       "<tr><td>120</td><td>9000</td></tr>\n",
       "<tr><td>93</td><td>7500</td></tr>\n",
       "<tr><td>158</td><td>8900</td></tr>\n",
       "<tr><td>64</td><td>5300</td></tr>\n",
       "<tr><td>145</td><td>9600</td></tr>\n",
       "<tr><td>61</td><td>3300</td></tr>\n",
       "<tr><td>103</td><td>5100</td></tr>\n",
       "<tr><td>46</td><td>3600</td></tr>\n",
       "<tr><td>34</td><td>1800</td></tr>\n",
       "<tr><td>185</td><td>9500</td></tr>\n",
       "<tr><td>20</td><td>1200</td></tr>\n",
       "</table>"
      ],
      "text/plain": [
       "<Table length=19>\n",
       " Dist  Vel \n",
       "int32 int32\n",
       "----- -----\n",
       "   15  1100\n",
       "   97  6700\n",
       "   32  2400\n",
       "  145 10700\n",
       "   50  3100\n",
       "  122  9900\n",
       "   58  4300\n",
       "   91  5300\n",
       "  120  9000\n",
       "   93  7500\n",
       "  158  8900\n",
       "   64  5300\n",
       "  145  9600\n",
       "   61  3300\n",
       "  103  5100\n",
       "   46  3600\n",
       "   34  1800\n",
       "  185  9500\n",
       "   20  1200"
      ]
     },
     "execution_count": 25,
     "metadata": {},
     "output_type": "execute_result"
    }
   ],
   "source": [
    "data = ascii.read('lab_final_data.txt', 'r')\n",
    "data"
   ]
  },
  {
   "cell_type": "code",
   "execution_count": 38,
   "metadata": {},
   "outputs": [
    {
     "data": {
      "image/png": "[encoded data removed]",
      "text/plain": [
       "<matplotlib.figure.Figure at 0x82bfdb0>"
      ]
     },
     "metadata": {},
     "output_type": "display_data"
    },
    {
     "name": "stdout",
     "output_type": "stream",
     "text": [
      "60.3454855101 km/s / Mpc - Hubble's Constant, H_0\n",
      "Since Hubble's law states v = H_0 d, the slope of the v vs d graph (v/d) must equal H_0\n"
     ]
    }
   ],
   "source": [
    "data = ascii.read('lab_final_data.txt', 'r')\n",
    "\n",
    "#defining variables and function\n",
    "y_vel = data['Vel']\n",
    "x_dist = data['Dist']\n",
    "\n",
    "def func(x, a, b):\n",
    "    return a*x + b\n",
    "popt, pcov = curve_fit(func, x_dist, y_vel)\n",
    "\n",
    "#plotting\n",
    "plt.plot(x_dist, y_vel, 'bo')\n",
    "plt.plot(x_dist, np.polyval(popt, x_dist), 'r')\n",
    "plt.text(10, 10000, r\"a = {0:.9f} +/- {1:.9f}\".format(popt[0], pcov[0,0]**0.5))\n",
    "plt.text(10, 9000, r\"b = {0:.3f} +/- {1:.3f}\".format(popt[1], pcov[1,1]**0.5))\n",
    "plt.xlabel(\"Distance (Mpc)\")\n",
    "plt.ylabel(\"Velocity (km/s)\")\n",
    "plt.show()\n",
    "\n",
    "print(popt[0], \"km/s / Mpc - Hubble's Constant, H_0\")\n",
    "print(\"Since Hubble's law states v = H_0 d, the slope of the v vs d graph (v/d) must equal H_0\")"
   ]
  },
  {
   "cell_type": "code",
   "execution_count": 36,
   "metadata": {},
   "outputs": [
    {
     "name": "stdout",
     "output_type": "stream",
     "text": [
      "1.95567649441e-18 1/s - Hubble's constant without distance untis\n",
      "16214235887.5 years - Age of Universe found with Hubble's constant\n"
     ]
    }
   ],
   "source": [
    "H = popt[0] * 3.2408e-20 #Converting Mpc to km which cancels out the unit for distance which leaves 1/s\n",
    "\n",
    "age_s= 1/H #Finding age of universe\n",
    "age_years = age_s * 3.17098e-8 #Converting seconds to years\n",
    "\n",
    "print(H, \"1/s - Hubble's constant without distance untis\")\n",
    "print(age_years, \"years - Age of Universe found with Hubble's constant\")"
   ]
  },
  {
   "cell_type": "code",
   "execution_count": null,
   "metadata": {
    "collapsed": true
   },
   "outputs": [],
   "source": []
  }
 ],
 "metadata": {
  "kernelspec": {
   "display_name": "Python 3",
   "language": "python",
   "name": "python3"
  },
  "language_info": {
   "codemirror_mode": {
    "name": "ipython",
    "version": 3
   },
   "file_extension": ".py",
   "mimetype": "text/x-python",
   "name": "python",
   "nbconvert_exporter": "python",
   "pygments_lexer": "ipython3",
   "version": "3.6.1"
  }
 },
 "nbformat": 4,
 "nbformat_minor": 2
}
