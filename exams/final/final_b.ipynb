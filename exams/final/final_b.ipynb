{
 "cells": [
  {
   "cell_type": "markdown",
   "metadata": {},
   "source": [
    "# PHY 363 - Final\n",
    "December 12, 2017"
   ]
  },
  {
   "cell_type": "markdown",
   "metadata": {},
   "source": [
    "### Problem One:"
   ]
  },
  {
   "cell_type": "markdown",
   "metadata": {},
   "source": [
    "Through what potential difference would an electron need to be accelerated to have a de Broglie wavelength of $1.0\\times10^{-10}$ m?"
   ]
  },
  {
   "cell_type": "markdown",
   "metadata": {},
   "source": [
    "### Problem Two:"
   ]
  },
  {
   "cell_type": "markdown",
   "metadata": {
    "collapsed": true
   },
   "source": [
    "A particle with $E=0$ has a wavefunction\n",
    "\\begin{equation}\n",
    "\\psi(x) = Axe^{-x^{2}/L^{2}}\n",
    "\\end{equation}\n",
    "\n",
    "a) Find the potential energy, $U(x)$.\n",
    "\n",
    "b) Sketch $U(x)$ vs. $x$."
   ]
  },
  {
   "cell_type": "markdown",
   "metadata": {},
   "source": [
    "### Problem Three:"
   ]
  },
  {
   "cell_type": "markdown",
   "metadata": {},
   "source": [
    "Assume the nucleus of an atom can be regarded as a three-dimensional box of width $L=2\\times10^{-14}$ m. If a proton is the particle in this box, find:\n",
    "\n",
    "a) the ground state energy of the proton in MeV.\n",
    "\n",
    "b) the energies of the first two excited states. What are the degeneracies of these states?"
   ]
  },
  {
   "cell_type": "markdown",
   "metadata": {},
   "source": [
    "### Problem Four:"
   ]
  },
  {
   "cell_type": "markdown",
   "metadata": {},
   "source": [
    "Calculate the average potential and kinetic energies for the electron in the ground state of hydrogen."
   ]
  },
  {
   "cell_type": "markdown",
   "metadata": {},
   "source": [
    "### Problem Five:"
   ]
  },
  {
   "cell_type": "markdown",
   "metadata": {},
   "source": [
    "Compare the most probable distances of the electron from the proton in the hydrogen $2s$ and $2p$ states with the radius of the second Bohr orbit in hydrogen."
   ]
  },
  {
   "cell_type": "markdown",
   "metadata": {},
   "source": [
    "### Problem Six:"
   ]
  },
  {
   "cell_type": "markdown",
   "metadata": {},
   "source": [
    "In spherical coordinates, $[L_z] = -i\\hbar \\partial/\\partial \\phi$. Show that the spherical harmonics are eigenfunctions of this operator. What is the eigenvalue? Hint: Use the fact that the spherical harmonics are simply the product of a $\\theta$-dependent function and a $\\phi$-dependent function."
   ]
  },
  {
   "cell_type": "markdown",
   "metadata": {},
   "source": [
    "### Problem Seven:"
   ]
  },
  {
   "cell_type": "markdown",
   "metadata": {},
   "source": [
    "Reflect on these four aspects of the course: reading/discussing Quantum, learning/using git and Python, the Lab, the Lecture. \n",
    "\n",
    "Next time the course is offered, what should we keep? What should we do differently?"
   ]
  }
 ],
 "metadata": {
  "kernelspec": {
   "display_name": "Python 3",
   "language": "python",
   "name": "python3"
  },
  "language_info": {
   "codemirror_mode": {
    "name": "ipython",
    "version": 3
   },
   "file_extension": ".py",
   "mimetype": "text/x-python",
   "name": "python",
   "nbconvert_exporter": "python",
   "pygments_lexer": "ipython3",
   "version": "3.6.0"
  }
 },
 "nbformat": 4,
 "nbformat_minor": 1
}
