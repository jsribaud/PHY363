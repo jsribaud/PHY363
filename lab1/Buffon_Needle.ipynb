{
 "cells": [
  {
   "cell_type": "code",
   "execution_count": 2,
   "metadata": {},
   "outputs": [
    {
     "name": "stdout",
     "output_type": "stream",
     "text": [
      "0.65625\n"
     ]
    }
   ],
   "source": [
    "#Provide background information to the Buffon Needle thing\n",
    "data = [10, 15, 7, 10, 13, 7, 12, 8, 9, 14]\n",
    "number = 16\n",
    "hits = sum(data)\n",
    "total = len(data) * number\n",
    "ratio = hits / total\n",
    "print(ratio)"
   ]
  },
  {
   "cell_type": "markdown",
   "metadata": {},
   "source": [
    "\\begin{equation}\n",
    "r(\\theta)= \\frac{w}{2}cos(\\theta)\n",
    "\\end{equation}\n",
    "\n",
    "\\begin{equation}\n",
    "\\int_\\frac{-\\pi}{2}^\\frac{\\pi}{2} \\frac{w}{2}cos(\\theta)d\\theta = \\frac{w}{2} [sin(\\theta)]_\\frac{-\\pi}{2}^\\frac{\\pi}{2} = 2 \\frac{w}{2} = w\n",
    "\\end{equation}"
   ]
  },
  {
   "cell_type": "code",
   "execution_count": null,
   "metadata": {
    "collapsed": true
   },
   "outputs": [],
   "source": []
  }
 ],
 "metadata": {
  "kernelspec": {
   "display_name": "Python 3",
   "language": "python",
   "name": "python3"
  },
  "language_info": {
   "codemirror_mode": {
    "name": "ipython",
    "version": 3
   },
   "file_extension": ".py",
   "mimetype": "text/x-python",
   "name": "python",
   "nbconvert_exporter": "python",
   "pygments_lexer": "ipython3",
   "version": "3.6.1"
  }
 },
 "nbformat": 4,
 "nbformat_minor": 2
}
