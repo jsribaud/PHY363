{
 "cells": [
  {
   "cell_type": "markdown",
   "metadata": {},
   "source": [
    "# Buffon's Needle: The Approximation of Pi"
   ]
  },
  {
   "cell_type": "markdown",
   "metadata": {},
   "source": [
    "###### Nathaniel Flower and Chelsey McMichael"
   ]
  },
  {
   "cell_type": "markdown",
   "metadata": {},
   "source": [
    "# Abstract"
   ]
  },
  {
   "cell_type": "markdown",
   "metadata": {},
   "source": [
    "In this experiment we used Buffon's Needle Problem to try to experimentally determine pi. We managed to calculate pi as 3.047 which gives a 2.99% difference with the actual value of pi."
   ]
  },
  {
   "cell_type": "markdown",
   "metadata": {},
   "source": [
    "# Introduction "
   ]
  },
  {
   "cell_type": "markdown",
   "metadata": {},
   "source": [
    "In this experiment, there were sixteen skewers each cut to the width of a laboratory floor tile that were dropped as a means to approximate the value of pi. These skewers were dropped simultaneously and after each skewer reached the ground, the number of skewers crossing a parallel line of the edges of a tile were recorded and this action was repeated in ten sets. After finishing the sets, we needed to deivise a method in which to approximate pi. The initial step was to draw the relationship between a skewer, the width of the tile, the projected length r on the width of the tile, and the angle theta at which the skewer touched the parallel line. Ultimately, integral geometry was used to approximate pi, and this will be described further in the experimental section. This is very similar to the eighteenth century experiment in which the Comte de Buffon followed a similar technique for the experiment and used integral geometry to approximate the value of pi."
   ]
  },
  {
   "cell_type": "markdown",
   "metadata": {},
   "source": [
    "# Background"
   ]
  },
  {
   "cell_type": "markdown",
   "metadata": {},
   "source": [
    "In the late Eighteenth century, Buffon's Needle was a problem created and solved using integral geometry. In this experiment, the probability of the needle crossing one of the parallel lines is recorded and used to approximate the the value of pi. Of course, for this experiment,to be performed correctly, the length of the needle is no longer than the width between two parallel lines. If the needle were to be too long, the probability of the needle touching one of the lines would be much too high and unreasonable to use when approximating the value of pi. "
   ]
  },
  {
   "cell_type": "markdown",
   "metadata": {},
   "source": [
    "# Experiment and Data"
   ]
  },
  {
   "cell_type": "markdown",
   "metadata": {},
   "source": [
    "To begin, we took 16 of the wooden needles provided and cut them down to the length of the floor tiles. Then we faced towards the windows in the back of the room and alternated between who dropped the needles. We counted the number of needles that intersected the tile lines running perpendicular to the back wall. We dropped all 16 needles at the same time but in order to keep our results random, we would roll them off our hands and toss them upwards a bit."
   ]
  },
  {
   "cell_type": "code",
   "execution_count": 1,
   "metadata": {},
   "outputs": [
    {
     "name": "stdout",
     "output_type": "stream",
     "text": [
      "0.65625\n"
     ]
    }
   ],
   "source": [
    "data = [10, 15, 7, 10, 13, 7, 12, 8, 9, 14]\n",
    "number_of_needles = 16\n",
    "hits = sum(data)\n",
    "total = len(data) * number_of_needles\n",
    "result = hits / total\n",
    "print(result)"
   ]
  },
  {
   "cell_type": "markdown",
   "metadata": {},
   "source": [
    "# Calculations"
   ]
  },
  {
   "cell_type": "markdown",
   "metadata": {},
   "source": [
    "The equation for the projection of the needle along the x-axis is given by:\n",
    "\\begin{equation}\n",
    "r(\\theta)= \\frac{w}{2}cos(\\theta)\n",
    "\\end{equation}\n",
    "\n",
    "\n",
    "Which means the equation for the probability of the needle intersecting a verticle line is:\n",
    "\\begin{equation}\n",
    "\\frac{\\int_\\frac{-\\pi}{2}^\\frac{\\pi}{2} \\frac{w}{2}cos(\\theta)d\\theta}{\\int_\\frac{-\\pi}{2}^\\frac{\\pi}{2}\\frac{w}{2}d\\theta}\n",
    "\\end{equation}\n",
    "\n",
    "\n",
    "First solve the numerator:\n",
    "\\begin{equation}\n",
    "\\int_\\frac{-\\pi}{2}^\\frac{\\pi}{2} \\frac{w}{2}cos(\\theta)d\\theta = \\frac{w}{2} [sin(\\theta)]_\\frac{-\\pi}{2}^\\frac{\\pi}{2} = 2 \\frac{w}{2} = w\n",
    "\\end{equation}\n",
    "\n",
    "\n",
    "Then the denominator:\n",
    "\\begin{equation}\n",
    "\\int_\\frac{-\\pi}{2}^\\frac{\\pi}{2}\\frac{w}{2}d\\theta = \\frac{w}{2}[\\theta]_\\frac{-\\pi}{2}^\\frac{\\pi}{2} = \\frac{w\\pi}{2}\n",
    "\\end{equation}\n",
    "\n",
    "\n",
    "Recombine and symplify:\n",
    "\\begin{equation}\n",
    "\\frac{w}{\\frac{w\\pi}{2}} = \\frac{2w}{w\\pi} = \\frac{2}{\\pi}\n",
    "\\end{equation}\n",
    "\n",
    "\n",
    "Now set the probabilty equal to the experimental result and solve for pi:\n",
    "\\begin{equation}\n",
    "result = \\frac{2}{\\pi} \\rightarrow \\frac{2}{result}=\\pi\n",
    "\\end{equation}"
   ]
  },
  {
   "cell_type": "code",
   "execution_count": 2,
   "metadata": {},
   "outputs": [
    {
     "name": "stdout",
     "output_type": "stream",
     "text": [
      "3.0476190476190474\n"
     ]
    }
   ],
   "source": [
    "experimental_pi = 2/result\n",
    "print(experimental_pi)"
   ]
  },
  {
   "cell_type": "code",
   "execution_count": 3,
   "metadata": {},
   "outputs": [
    {
     "name": "stdout",
     "output_type": "stream",
     "text": [
      "2.9912727820828446%\n"
     ]
    }
   ],
   "source": [
    "import math\n",
    "percent_difference = abs(experimental_pi - math.pi)/math.pi * 100\n",
    "print(str(percent_difference)+'%')"
   ]
  },
  {
   "cell_type": "markdown",
   "metadata": {},
   "source": [
    "# Conclusion"
   ]
  },
  {
   "cell_type": "markdown",
   "metadata": {
    "collapsed": true
   },
   "source": [
    "In this experiment, value of pi was 3.04762, and the percentage of hits per total dropped skewers crossing parallel lines turned out to be 65.625%. As a means to measure the success of this experiment, we calculated the percent difference between the measured and theoretical value of pi to be 2.99124%. Based off of this percent difference, the value for the  approximation of pi was evidence of a successful experiment. "
   ]
  }
 ],
 "metadata": {
  "kernelspec": {
   "display_name": "Python 3",
   "language": "python",
   "name": "python3"
  },
  "language_info": {
   "codemirror_mode": {
    "name": "ipython",
    "version": 3
   },
   "file_extension": ".py",
   "mimetype": "text/x-python",
   "name": "python",
   "nbconvert_exporter": "python",
   "pygments_lexer": "ipython3",
   "version": "3.6.1"
  }
 },
 "nbformat": 4,
 "nbformat_minor": 2
}
