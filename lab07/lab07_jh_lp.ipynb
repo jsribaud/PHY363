{
 "cells": [
  {
   "cell_type": "markdown",
   "metadata": {},
   "source": [
    "#                                             Milikan Oil Drop\n",
    "## Justin Houle , Liam Patterson"
   ]
  },
  {
   "cell_type": "markdown",
   "metadata": {},
   "source": [
    "# Abstract"
   ]
  },
  {
   "cell_type": "markdown",
   "metadata": {},
   "source": [
    "# Introduction"
   ]
  },
  {
   "cell_type": "markdown",
   "metadata": {},
   "source": [
    "# Data and Calculations"
   ]
  },
  {
   "cell_type": "markdown",
   "metadata": {
    "collapsed": true
   },
   "source": [
    "Sum of forces for latex sphere with...\n",
    "\n",
    "Plates off:\n",
    "\\begin{equation}\n",
    "mg-6\\pi\\eta rs=0\n",
    "\\end{equation}\n",
    "\n",
    "Plates on:\n",
    "\n",
    "Sphere moving upwards\n",
    "\\begin{equation}\n",
    "Eq-mg=6\\pi\\eta rv^+\n",
    "\\end{equation}\n",
    "\n",
    "Sphere moving downwards\n",
    "\\begin{equation}\n",
    "Eq+mg=6\\pi\\eta rv^-\n",
    "\\end{equation}\n",
    "\n",
    "Gravity eliminated by adding 2 eqs\n",
    "\\begin{equation}\n",
    "2Eq=6\\pi\\eta r(v^+ - v^-)\n",
    "\\end{equation}\n",
    "\n",
    "\\begin{equation}\n",
    "Eq=3\\pi\\eta r(v^+ - v^-)\n",
    "\\end{equation}\n",
    "\n",
    "\\begin{equation}\n",
    "q=6\\pi\\eta r(v^+ - v^-) / E\n",
    "\\end{equation}\n",
    "\n",
    "\\begin{equation}\n",
    "E=V/d\n",
    "\\end{equation}\n",
    "\n",
    "Eq for elementary charge\n",
    "\\begin{equation}\n",
    "e=6\\pi\\eta r(\\Delta v)d/V\n",
    "\\end{equation}"
   ]
  },
  {
   "cell_type": "code",
   "execution_count": 3,
   "metadata": {
    "collapsed": true
   },
   "outputs": [],
   "source": [
    "import math\n",
    "import astropy.units as u\n",
    "from astropy.io import ascii\n",
    "import numpy as np\n",
    "from sklearn.neighbors import KernelDensity\n",
    "import matplotlib.pyplot as plt\n",
    "from scipy.optimize import curve_fit\n",
    "%matplotlib inline"
   ]
  },
  {
   "cell_type": "code",
   "execution_count": 4,
   "metadata": {},
   "outputs": [
    {
     "data": {
      "text/html": [
       "&lt;Table length=67&gt;\n",
       "<table id=\"table3111412197920\" class=\"table-striped table-bordered table-condensed\">\n",
       "<thead><tr><th>Freefall time</th><th>Rise time</th><th>Fall time</th><th>vf</th><th>vr</th><th>deltav</th></tr></thead>\n",
       "<thead><tr><th>float64</th><th>float64</th><th>float64</th><th>float64</th><th>float64</th><th>float64</th></tr></thead>\n",
       "<tr><td>9.81</td><td>2.43</td><td>1.37</td><td>2.06e-05</td><td>3.65e-05</td><td>1.59e-05</td></tr>\n",
       "<tr><td>7.23</td><td>0.36</td><td>0.31</td><td>0.000138889</td><td>0.00016129</td><td>2.24e-05</td></tr>\n",
       "<tr><td>9.93</td><td>1.38</td><td>0.89</td><td>3.62e-05</td><td>5.62e-05</td><td>1.99e-05</td></tr>\n",
       "<tr><td>34.31</td><td>1.28</td><td>1.19</td><td>3.91e-05</td><td>4.2e-05</td><td>2.95e-06</td></tr>\n",
       "<tr><td>8.9</td><td>0.57</td><td>0.43</td><td>8.77e-05</td><td>0.000116279</td><td>2.86e-05</td></tr>\n",
       "<tr><td>10.22</td><td>0.84</td><td>0.54</td><td>5.95e-05</td><td>9.26e-05</td><td>3.31e-05</td></tr>\n",
       "<tr><td>24.12</td><td>2.38</td><td>2.04</td><td>2.1e-05</td><td>2.45e-05</td><td>3.5e-06</td></tr>\n",
       "<tr><td>5.79</td><td>0.47</td><td>0.44</td><td>0.000106383</td><td>0.000113636</td><td>7.25e-06</td></tr>\n",
       "<tr><td>21.47</td><td>0.83</td><td>0.77</td><td>6.02e-05</td><td>6.49e-05</td><td>4.69e-06</td></tr>\n",
       "<tr><td>11.84</td><td>0.36</td><td>0.3</td><td>0.000138889</td><td>0.000166667</td><td>2.78e-05</td></tr>\n",
       "<tr><td>...</td><td>...</td><td>...</td><td>...</td><td>...</td><td>...</td></tr>\n",
       "<tr><td>32.87</td><td>2.32</td><td>2.12</td><td>2.16e-05</td><td>2.36e-05</td><td>2.03e-06</td></tr>\n",
       "<tr><td>8.93</td><td>0.49</td><td>0.31</td><td>0.000102041</td><td>0.00016129</td><td>5.92e-05</td></tr>\n",
       "<tr><td>63.32</td><td>3.63</td><td>3.09</td><td>1.38e-05</td><td>1.62e-05</td><td>2.41e-06</td></tr>\n",
       "<tr><td>20.48</td><td>1.27</td><td>1.19</td><td>3.94e-05</td><td>4.2e-05</td><td>2.65e-06</td></tr>\n",
       "<tr><td>26.09</td><td>0.28</td><td>0.15</td><td>0.000178571</td><td>0.000333333</td><td>0.000154762</td></tr>\n",
       "<tr><td>38.43</td><td>0.92</td><td>0.62</td><td>5.43e-05</td><td>8.06e-05</td><td>2.63e-05</td></tr>\n",
       "<tr><td>29.69</td><td>0.42</td><td>0.41</td><td>0.000119048</td><td>0.000121951</td><td>2.9e-06</td></tr>\n",
       "<tr><td>25.62</td><td>1.84</td><td>1.46</td><td>2.72e-05</td><td>3.42e-05</td><td>7.07e-06</td></tr>\n",
       "<tr><td>18.52</td><td>1.48</td><td>1.27</td><td>3.38e-05</td><td>3.94e-05</td><td>5.59e-06</td></tr>\n",
       "<tr><td>8.49</td><td>0.31</td><td>0.24</td><td>0.00016129</td><td>0.000208333</td><td>4.7e-05</td></tr>\n",
       "</table>"
      ],
      "text/plain": [
       "<Table length=67>\n",
       "Freefall time Rise time Fall time      vf          vr        deltav  \n",
       "   float64     float64   float64    float64     float64     float64  \n",
       "------------- --------- --------- ----------- ----------- -----------\n",
       "         9.81      2.43      1.37    2.06e-05    3.65e-05    1.59e-05\n",
       "         7.23      0.36      0.31 0.000138889  0.00016129    2.24e-05\n",
       "         9.93      1.38      0.89    3.62e-05    5.62e-05    1.99e-05\n",
       "        34.31      1.28      1.19    3.91e-05     4.2e-05    2.95e-06\n",
       "          8.9      0.57      0.43    8.77e-05 0.000116279    2.86e-05\n",
       "        10.22      0.84      0.54    5.95e-05    9.26e-05    3.31e-05\n",
       "        24.12      2.38      2.04     2.1e-05    2.45e-05     3.5e-06\n",
       "         5.79      0.47      0.44 0.000106383 0.000113636    7.25e-06\n",
       "        21.47      0.83      0.77    6.02e-05    6.49e-05    4.69e-06\n",
       "        11.84      0.36       0.3 0.000138889 0.000166667    2.78e-05\n",
       "          ...       ...       ...         ...         ...         ...\n",
       "        32.87      2.32      2.12    2.16e-05    2.36e-05    2.03e-06\n",
       "         8.93      0.49      0.31 0.000102041  0.00016129    5.92e-05\n",
       "        63.32      3.63      3.09    1.38e-05    1.62e-05    2.41e-06\n",
       "        20.48      1.27      1.19    3.94e-05     4.2e-05    2.65e-06\n",
       "        26.09      0.28      0.15 0.000178571 0.000333333 0.000154762\n",
       "        38.43      0.92      0.62    5.43e-05    8.06e-05    2.63e-05\n",
       "        29.69      0.42      0.41 0.000119048 0.000121951     2.9e-06\n",
       "        25.62      1.84      1.46    2.72e-05    3.42e-05    7.07e-06\n",
       "        18.52      1.48      1.27    3.38e-05    3.94e-05    5.59e-06\n",
       "         8.49      0.31      0.24  0.00016129 0.000208333     4.7e-05"
      ]
     },
     "execution_count": 4,
     "metadata": {},
     "output_type": "execute_result"
    }
   ],
   "source": [
    "data = ascii.read('MillikanOildrop_jh_lp.csv', 'r')\n",
    "data"
   ]
  },
  {
   "cell_type": "code",
   "execution_count": 5,
   "metadata": {},
   "outputs": [
    {
     "data": {
      "image/png": "[encoded data removed]",
      "text/plain": [
       "<matplotlib.figure.Figure at 0x2d46e9e6c50>"
      ]
     },
     "metadata": {},
     "output_type": "display_data"
    }
   ],
   "source": [
    "data = ascii.read('MillikanOildrop_jh_lp.csv', 'r')['deltav']\n",
    "\n",
    "fit = KernelDensity(kernel='exponential', bandwidth=60).fit(data[:, np.newaxis])\n",
    "x_axis = np.array(range(0, 1, 1))\n",
    "pdf = fit.score_samples(x_axis[:, np.newaxis])\n",
    "real = np.array([math.e**p for p in pdf])\n",
    "\n",
    "plt.plot(x_axis, real)\n",
    "plt.hist(data, bins=50, normed=True, histtype='stepfilled')\n",
    "plt.title(\"\")\n",
    "plt.xlabel(\"Change in Velocity\")\n",
    "plt.show()"
   ]
  },
  {
   "cell_type": "code",
   "execution_count": 7,
   "metadata": {},
   "outputs": [
    {
     "name": "stdout",
     "output_type": "stream",
     "text": [
      "2.54197313433e-05 m/s - Avg delta v\n",
      "3.95299284159e-20 C - Experimental Value for e\n",
      "75.29379474 % - Percent Error\n"
     ]
    }
   ],
   "source": [
    "#Finding charge and % error\n",
    "n=1.8e-5 #eta\n",
    "r=5.5e-7\n",
    "d=5e-3\n",
    "V=300\n",
    "\n",
    "data = ascii.read('MillikanOildrop_jh_lp.csv', 'r')['deltav']\n",
    "\n",
    "a=sum(data)\n",
    "b=len(data)\n",
    "avg_delta_v=a/b\n",
    "\n",
    "e=3* np.pi * n * r * avg_delta_v * (d/V)\n",
    "\n",
    "q=1.6e-19\n",
    "error = (np.abs(q-e) / q) * 100\n",
    "\n",
    "print(avg_delta_v, 'm/s - Avg delta v')\n",
    "print(e, 'C - Experimental Value for e')\n",
    "print(error, '% - Percent Error')"
   ]
  },
  {
   "cell_type": "code",
   "execution_count": 29,
   "metadata": {},
   "outputs": [
    {
     "name": "stdout",
     "output_type": "stream",
     "text": [
      "Object `expon.pdf` not found.\n"
     ]
    }
   ],
   "source": [
    "expon.pdf?"
   ]
  },
  {
   "cell_type": "code",
   "execution_count": null,
   "metadata": {
    "collapsed": true
   },
   "outputs": [],
   "source": []
  },
  {
   "cell_type": "markdown",
   "metadata": {},
   "source": [
    "# Conclusions"
   ]
  },
  {
   "cell_type": "markdown",
   "metadata": {},
   "source": [
    "For this lab, we measured the value for elementary charge by using Millikan's Oil drop experiment, but instead with latex spheres. We attempted to measure the freefall time as well as the rise and fall times with an electric field present. We took 100 total measurements over the span of 2 lab periods, but due to some of them being faulty or incomplete this reduced the amount to 67. By using these measurements, we found the rise and fall velocities and the change in these velocities. We used the average of the change in velocities in the equation:\n",
    "\\begin{equation}\n",
    "e=6\\pi\\eta r(\\Delta v)d/V\n",
    "\\end{equation}\n",
    "to find our experimental value of elementary charge. Our average value for delta v was 2.54197313433e-05 m/s. With this delta v we found the value for expierimental charge to be 3.95299284159e-20 C. This is a 75.29379474 % error from the known value of elementary charge of 1.602e-19 C.\n",
    "\n",
    "We believe that this high percent error is due to the difficulty of measuring the spheres. The spheres we sometimes difficult to find due to them rising and falling in \"3 dimensions\" so they would frequently go in and our of focus which requires adjusting the microscope. Also, when turning on the electric field, the spheres would shoot up or down at very fast speeds, due to the large value of electric field. The spheres would sometimes move so fast that they would move outside of the microscope lens before we can react, so we lose track of that sphere. For the times we were able to keep track of the spheres, they would still move quickly, which made it difficult to measure the time it takes for them to travel a set distance, because they would frequently do it in fractions of a second, as you can see from our measurements. These very short time periods made it difficult to make very accurate measurements, which most likely effected our results."
   ]
  },
  {
   "cell_type": "markdown",
   "metadata": {},
   "source": [
    "# References"
   ]
  },
  {
   "cell_type": "markdown",
   "metadata": {},
   "source": [
    "The 2 lab handouts"
   ]
  }
 ],
 "metadata": {
  "kernelspec": {
   "display_name": "Python 3",
   "language": "python",
   "name": "python3"
  },
  "language_info": {
   "codemirror_mode": {
    "name": "ipython",
    "version": 3
   },
   "file_extension": ".py",
   "mimetype": "text/x-python",
   "name": "python",
   "nbconvert_exporter": "python",
   "pygments_lexer": "ipython3",
   "version": "3.6.1"
  }
 },
 "nbformat": 4,
 "nbformat_minor": 1
}
