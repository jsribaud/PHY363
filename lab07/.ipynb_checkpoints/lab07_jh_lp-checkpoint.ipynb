{
 "cells": [
  {
   "cell_type": "markdown",
   "metadata": {},
   "source": [
    "#                                             Milikan Oil Drop\n",
    "## Justin Houle , Liam Patterson"
   ]
  },
  {
   "cell_type": "markdown",
   "metadata": {},
   "source": [
    "# Abstract"
   ]
  },
  {
   "cell_type": "markdown",
   "metadata": {},
   "source": [
    "# Introduction"
   ]
  },
  {
   "cell_type": "markdown",
   "metadata": {},
   "source": [
    "# Data and Calculations"
   ]
  },
  {
   "cell_type": "code",
   "execution_count": null,
   "metadata": {
    "collapsed": true
   },
   "outputs": [],
   "source": []
  },
  {
   "cell_type": "code",
   "execution_count": 3,
   "metadata": {
    "collapsed": true
   },
   "outputs": [],
   "source": [
    "import numpy as np\n",
    "import matplotlib.pyplot as plt\n",
    "from astropy import units as u\n",
    "from scipy.optimize import curve_fit\n",
    "%matplotlib inline"
   ]
  },
  {
   "cell_type": "code",
   "execution_count": 56,
   "metadata": {
    "collapsed": true
   },
   "outputs": [],
   "source": [
    "from scipy.stats import expon\n",
    "from scipy.optimize import curve_fit\n",
    "import matplotlib.pyplot as plt\n",
    "import numpy as np\n",
    "%matplotlib inline"
   ]
  },
  {
   "cell_type": "code",
   "execution_count": 20,
   "metadata": {},
   "outputs": [
    {
     "data": {
      "image/png": "[encoded data removed]",
      "text/plain": [
       "<matplotlib.figure.Figure at 0x2133c528eb8>"
      ]
     },
     "metadata": {},
     "output_type": "display_data"
    }
   ],
   "source": [
    "import math\n",
    "import astropy.units as u\n",
    "from astropy.io import ascii\n",
    "import numpy as np\n",
    "from sklearn.neighbors import KernelDensity\n",
    "import matplotlib.pyplot as plt\n",
    "\n",
    "\n",
    "data=ascii.read('MillikanOildrop (1.2).csv')['deltav']\n",
    "#delt=np.sort(data['deltav'])\n",
    "\n",
    "#loc1, scale1 = expon.fit(delt)\n",
    "#print(loc1, scale1)\n",
    "\n",
    "fit = KernelDensity(kernel='exponential', bandwidth=60).fit(data[:, np.newaxis])\n",
    "x_axis = np.array(range(0, 1, 1))\n",
    "pdf = fit.score_samples(x_axis[:, np.newaxis])\n",
    "real = np.array([math.e**p for p in pdf])\n",
    "\n",
    "plt.plot(x_axis, real)\n",
    "plt.hist(data, bins=20, normed=True, histtype='stepfilled')\n",
    "plt.title(\"\")\n",
    "plt.xlabel(\"\")\n",
    "plt.ylabel(\"\")\n",
    "plt.show()\n",
    "\n",
    "#fig, ax = plt.subplots(1, 1)\n",
    "#(numbs, bins, patches) = ax.hist(delt, bins=20, label='hst')\n",
    "#lower = np.resize(bins, len(bins)-1)\n",
    "#tmid =  lower + 0.5*np.diff(bins)\n",
    "\n",
    "#print(tmid,numbs)\n",
    "\n",
    "#plot fits\n",
    "#ax.plot(delt, np.exp(-delt)+scale,'r-', lw=5, alpha=0.6, label='expon_pdf')\n",
    "#add histogram to plot\n",
    "#ax.hist(delt, histtype='stepfilled', alpha=0.2)\n",
    "\n",
    "def exponential_func(x, a, b, c):\n",
    "    return a*np.exp(-x*b)+c\n",
    "#popt, pcov = curve_fit(exponenial_func, delt, expon.pdf(delt,loc=0,scale=scale1))\n",
    "#popt, pcov = curve_fit(exponential_func, tmid, numbs,bounds=([1000.,0.0006,3000.],[20000,.0007,4000.]))\n",
    "\n",
    "#plot fits\n",
    "#ax.plot(tmid, exponential_func(tmid, *popt),'k--', lw=5, alpha=0.6, label='expon_pdf')\n",
    "#ax.plot(tmid, numbs, 'rs', lw=2, alpha=.6, label='curve_fit')\n",
    "\n",
    "#add histogram to plot\n",
    "#ax.hist(delt, normed=True, histtype='stepfilled', alpha=0.2)\n",
    "#print(popt)\n",
    "#mean_life=1./popt[1]\n",
    "#print(mean_life)#in nanosec.\n",
    "#plt.show()"
   ]
  },
  {
   "cell_type": "code",
   "execution_count": 31,
   "metadata": {
    "collapsed": true
   },
   "outputs": [],
   "source": [
    "expon.pdf?"
   ]
  },
  {
   "cell_type": "code",
   "execution_count": null,
   "metadata": {
    "collapsed": true
   },
   "outputs": [],
   "source": []
  },
  {
   "cell_type": "markdown",
   "metadata": {},
   "source": [
    "# Conclusions"
   ]
  },
  {
   "cell_type": "markdown",
   "metadata": {},
   "source": [
    "# References"
   ]
  }
 ],
 "metadata": {
  "kernelspec": {
   "display_name": "Python 3",
   "language": "python",
   "name": "python3"
  },
  "language_info": {
   "codemirror_mode": {
    "name": "ipython",
    "version": 3
   },
   "file_extension": ".py",
   "mimetype": "text/x-python",
   "name": "python",
   "nbconvert_exporter": "python",
   "pygments_lexer": "ipython3",
   "version": "3.6.1"
  }
 },
 "nbformat": 4,
 "nbformat_minor": 1
}
