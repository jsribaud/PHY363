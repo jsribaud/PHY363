{
 "cells": [
  {
   "cell_type": "markdown",
   "metadata": {},
   "source": [
    "# Milikan Oil Drop Experiment"
   ]
  },
  {
   "cell_type": "markdown",
   "metadata": {},
   "source": [
    "###### Nathaniel Flower and Chelsey McMichael"
   ]
  },
  {
   "cell_type": "markdown",
   "metadata": {},
   "source": [
    "# Abstract\n"
   ]
  },
  {
   "cell_type": "markdown",
   "metadata": {
    "collapsed": true
   },
   "source": [
    "In this experiment, we measured the charge of an electron through the Milikan oil-drop experiment. The charge what determined to be -2.352710315844826e-21 C. Compared to the anaytical value of the charge, there was a percent difference of "
   ]
  },
  {
   "cell_type": "markdown",
   "metadata": {},
   "source": [
    "# Introduction"
   ]
  },
  {
   "cell_type": "markdown",
   "metadata": {
    "collapsed": true
   },
   "source": [
    "In 1909, Robert A. Milikan determined the fundamental charge e through the Milikan oil-drop experiment because each individual oil drop had a balanced electric and gravitational force. Milikan wanted to determine whether electrical charges occurred in discrete units, once he determined this to be fact, he determined the value of the elementary charged.  "
   ]
  },
  {
   "cell_type": "markdown",
   "metadata": {},
   "source": [
    "# Procedure"
   ]
  },
  {
   "cell_type": "markdown",
   "metadata": {
    "collapsed": true
   },
   "source": [
    "In this experiment, we substituted latex spheres in the place of the oil drops of the original apparatus. These latex spheres travel through the latex spray hole and these spheres are charged moving vertically between two metal plates. To view these spheres, we had to observe them through the microscope as the illuminator shined through the light beam opening to illuminate the spheres. \n",
    "\n",
    "<img src=\"./assets/device.jpg\">\n",
    "###### Figure 1. Milikan Oil-Drop Apparatus\n",
    "\n",
    "When the 300 V voltage was not applied, the polarity reversing switch was off in the midposition. We observed the spheres falling and recorded the time it took for a sphere to free fall betweem two segments under the force of gravity. When the voltage was turned on, we switched the polarity reversing switch either up or down to make the sphere rise or fall with an added electric force. This time taken for it to rise or fall was also recorded. Recording this information allows us to calculate the charge of the particle. \n",
    "\n",
    "<img src=\"./assets/inside.jpg\">\n",
    "###### Figure 2. Latex Spheres Travelling Between 0.05 mm Segments"
   ]
  },
  {
   "cell_type": "code",
   "execution_count": 2,
   "metadata": {
    "collapsed": true
   },
   "outputs": [],
   "source": [
    "# Nathaniel (describe the timer)"
   ]
  },
  {
   "cell_type": "markdown",
   "metadata": {},
   "source": [
    "# Data"
   ]
  },
  {
   "cell_type": "markdown",
   "metadata": {
    "collapsed": true
   },
   "source": [
    "**Trial**|**Rise**|**Fall**|**Free Fall**\n",
    ":-----:|:-----:|:-----:|:-----:\n",
    "1| | |8.212843895\n",
    "2| | |10.89744306\n",
    "3| | |2.856066942\n",
    "4|2.432384729| | \n",
    "5|1.66163516| | \n",
    "6| | |7.881625175\n",
    "7| | |1.738971472\n",
    "8| | |14.39264631\n",
    "9| | |1.713270664\n",
    "10| |1.79573369| \n",
    "11|1.01055789| | \n",
    "12|2.523465633| | \n",
    "13|1.455188513| | \n",
    "14| | |9.472488403\n",
    "15| | |10.55353975\n",
    "16|1.959552526| | \n",
    "17| |0.897855282| \n",
    "18|0.974456072| | \n",
    "19|1.599865675| | \n",
    "20| |1.058858633| \n",
    "21| | |3.874842167\n",
    "22| |0.538098097| \n",
    "23| | |2.326050282\n",
    "24|1.210013866| | \n",
    "25| | |1.782615185\n",
    "26| |0.994503975| \n",
    "27|1.645473957| | \n",
    "28| |0.83839488| \n",
    "29|1.223428249| | \n",
    "30| | |3.618525267\n",
    "31|0.400490284|0.770166636| \n",
    "32|0.331391335|0.616934538| \n",
    "33| |0.532225847| \n",
    "34|0.169258833|0.316095591| \n",
    "35|0.847942829| | \n",
    "36|1.169527054| | \n",
    "37|0.884941578|0.96906352| \n",
    "38| |0.938575268| \n",
    "39|1.105657101|1.454652786| \n",
    "40| |1.101102591| \n",
    "41| |5.906097889| \n",
    "42| |0.454192638| \n",
    "43| |2.631916285| \n",
    "44|0.904268742|0.684141159| \n",
    "45|2.124335766|2.101639748| \n",
    "46| |0.970880985| \n",
    "47|1.399701118|0.969271898| \n",
    "48| |0.700464964| \n",
    "49|1.387429237|0.716257572| \n",
    "50| |0.716619015| \n",
    "51| |1.229087591| \n",
    "52|0.984875917|0.801284075| \n",
    "53|1.070526361|1.216011047| \n",
    "54|1.03263998| | \n",
    "55| |1.470393419| \n",
    "56| |0.798036814| \n",
    "57|1.602308035|1.200989723| \n",
    "58|1.580104828|0.717149973| \n",
    "59| |0.936168671| \n",
    "60|0.831620693|0.654384375| \n",
    "61| |0.96446991| \n",
    "62|0.81596303|0.816253662| \n",
    "63|1.647096872|1.601362705| \n",
    "64|1.400588512|1.285666943| \n",
    "65|1.325311184|0.762620449| \n",
    "66|1.564141512|1.839228392| \n",
    "67|1.148337126|0.838251591| \n",
    "68|1.269977331|0.88106966| \n",
    "69|0.647604942|0.604474545| \n",
    "70|2.523132086|2.218057394| \n",
    "71|1.255136728|1.237900972| \n",
    "72|0.949555159|1.251529694| \n",
    "73|1.154421806|0.970658064| \n",
    "74|0.485418081|0.600871086| \n",
    "75|0.919658899|0.753614664| \n",
    "76|0.922494173|0.854334593| \n",
    "77|2.234569073|1.163942575| \n",
    "78|1.38589263|1.217462301| \n",
    "79|1.05444479| | \n",
    "80|0.93244338|0.854021311| \n",
    "81|1.400674105|0.953438759| \n",
    "82|1.232452631|0.685162783| \n",
    "83|1.451907635|0.969392776| \n",
    "84|1.070380449|1.353893518| \n",
    "85|1.148137331|0.884811401| \n",
    "86|1.201933622|0.754033804| \n",
    "87|1.185611486|0.731754541| \n",
    "88| |1.14837122| \n",
    "89|1.701943398|1.369336843| \n",
    "90|0.963834286|0.762876511| \n",
    "91|1.001801968|0.800737619| "
   ]
  },
  {
   "cell_type": "markdown",
   "metadata": {},
   "source": [
    "# Calculations"
   ]
  },
  {
   "cell_type": "code",
   "execution_count": 64,
   "metadata": {
    "collapsed": true
   },
   "outputs": [],
   "source": [
    "import math\n",
    "from astropy.io import ascii\n",
    "import numpy as np\n",
    "from scipy.stats import expon\n",
    "from scipy.optimize import curve_fit\n",
    "import matplotlib.pyplot as plt\n",
    "%matplotlib inline\n",
    "\n",
    "def f(velocity_step):\n",
    "    eta = 1.8e-5\n",
    "    radius = 5.5e-7\n",
    "    voltage = 300\n",
    "    distance_between_plates = 5e-3\n",
    "    return 3*math.pi*eta*radius*distance_between_plates*velocity_step/voltage \n",
    "\n",
    "raw = ascii.read(\"oildrop_data_nf_cm.csv\")\n",
    "raw['Rise'].fill_value = 0\n",
    "raw['Fall'].fill_value = 0\n",
    "filled = raw.filled()\n",
    "data = []\n",
    "distance = .05 /1000\n",
    "for i in range(len(filled['Fall'])):\n",
    "    if filled['Fall'][i] and filled['Rise'][i]:\n",
    "        val = distance/filled['Fall'][i] - distance/filled['Rise'][i]\n",
    "        if val > 0:\n",
    "            data.append(val)\n"
   ]
  },
  {
   "cell_type": "code",
   "execution_count": 99,
   "metadata": {},
   "outputs": [
    {
     "name": "stdout",
     "output_type": "stream",
     "text": [
      "Basic charge calculation: 2.190765610093086e-20 C\n",
      "Slightly more sophisticated charge calculation: -2.352710315844826e-21 C\n"
     ]
    },
    {
     "data": {
      "image/png": "[encoded data removed]",
      "text/plain": [
       "<matplotlib.figure.Figure at 0x217ab9b3908>"
      ]
     },
     "metadata": {},
     "output_type": "display_data"
    }
   ],
   "source": [
    "a=plt.hist(data, histtype='stepfilled', bins = 30)\n",
    "avg_fall = sum(data)/len(data)\n",
    "print(\"Basic charge calculation: {} C\".format(f(avg_fall)))\n",
    "temp = []\n",
    "val = []\n",
    "for t in range(len(a[0])):\n",
    "    if a[0][t]:\n",
    "        val.append(a[1][t])\n",
    "#print(val)\n",
    "for j in range(0, len(val)//2, 2):\n",
    "    temp.append(f(val[j]-val[j+1]))\n",
    "print(\"Slightly more sophisticated charge calculation: {} C\".format(sum(temp)/len(temp)))"
   ]
  },
  {
   "cell_type": "markdown",
   "metadata": {
    "collapsed": true
   },
   "source": [
    "# Conclusion"
   ]
  },
  {
   "cell_type": "code",
   "execution_count": 3,
   "metadata": {
    "collapsed": true
   },
   "outputs": [],
   "source": [
    "# Nathan"
   ]
  },
  {
   "cell_type": "markdown",
   "metadata": {},
   "source": [
    "# References"
   ]
  },
  {
   "cell_type": "markdown",
   "metadata": {},
   "source": [
    "Operating Instructions Manual \n",
    "\n",
    "Milikan Apparatus Model TM-15 Instruction Manual\n",
    "\n",
    "Serway, R. A., Moses, C. J., & Moyer, C. A. (2004). Modern Physics (3rd ed.). "
   ]
  },
  {
   "cell_type": "code",
   "execution_count": null,
   "metadata": {
    "collapsed": true
   },
   "outputs": [],
   "source": []
  }
 ],
 "metadata": {
  "kernelspec": {
   "display_name": "Python 3",
   "language": "python",
   "name": "python3"
  },
  "language_info": {
   "codemirror_mode": {
    "name": "ipython",
    "version": 3
   },
   "file_extension": ".py",
   "mimetype": "text/x-python",
   "name": "python",
   "nbconvert_exporter": "python",
   "pygments_lexer": "ipython3",
   "version": "3.6.2"
  }
 },
 "nbformat": 4,
 "nbformat_minor": 2
}
