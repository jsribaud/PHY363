{
 "cells": [
  {
   "cell_type": "markdown",
   "metadata": {},
   "source": [
    "# Buffons Needle: Estimating Pi\n",
    "Alex Orellano, Jelena Colon"
   ]
  },
  {
   "cell_type": "markdown",
   "metadata": {},
   "source": [
    "## Abstract:\n",
    "\n",
    "Estimating Pi mimicking the techniques of the Buffon experiment. We were able to determine the value of Pi within less than one percent differemce."
   ]
  },
  {
   "cell_type": "markdown",
   "metadata": {},
   "source": [
    "## Introduction:\n",
    "\n",
    "The Buffon Needle experiment was originally performed by Georges-Louis Leclerc, Comte de Buffon. As a result, he was able to determine the value of Pi by randomly dropping needles on a grid of parallel lines and recording the number of needles that crossed the parallel grid lines. The legnth of the needles was exactly the length of the distance between the parallel lines. "
   ]
  },
  {
   "cell_type": "markdown",
   "metadata": {
    "collapsed": true
   },
   "source": [
    "## Procedure:\n",
    "\n",
    "We mimicked the Buffon experiment by using oversized tooth picks the length of the distance between our parallel lines. We performed ten trials in which we dropped ten sticks. In all trials the same person dropped the sticks while the other recorded the results. After we obtained a ratio of sticks that crossed the parralell lines, we derived a set of mathematical equations and expressions to relate our experimental set up with pi."
   ]
  },
  {
   "cell_type": "markdown",
   "metadata": {},
   "source": [
    "## Results:\n",
    "\n",
    "After solving our equations and setting the final expression equal to our ratio determined in our experiment we were left with a value of 3.125 for pi. With the actual value being 3.1415, our value is within less than 1 percent difference at 0.005%."
   ]
  },
  {
   "cell_type": "markdown",
   "metadata": {},
   "source": [
    "## Summary and Conclusion\n",
    "\n",
    "We've concluded that the experiment originally performed by Buffon is successful in acturately determining the value of pi."
   ]
  }
 ],
 "metadata": {
  "kernelspec": {
   "display_name": "Python 3",
   "language": "python",
   "name": "python3"
  },
  "language_info": {
   "codemirror_mode": {
    "name": "ipython",
    "version": 3
   },
   "file_extension": ".py",
   "mimetype": "text/x-python",
   "name": "python",
   "nbconvert_exporter": "python",
   "pygments_lexer": "ipython3",
   "version": "3.6.1"
  }
 },
 "nbformat": 4,
 "nbformat_minor": 1
}
