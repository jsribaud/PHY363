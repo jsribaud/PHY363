{
 "cells": [
  {
   "cell_type": "markdown",
   "metadata": {},
   "source": [
    "# Utica College - PHY 363: Physics III"
   ]
  },
  {
   "cell_type": "markdown",
   "metadata": {},
   "source": [
    "**Instructor:** Joseph Ribaudo \n",
    "\n",
    "**Contact:** jsribaud@utica.edu, x2516\n",
    "\n",
    "**Office:** Gordon 269\n",
    "\n",
    "**Office Hours:** M 1.30-2.20, T 11.30-1.20, W 10.30-12.20\n",
    "\n",
    "<br></br>\n",
    "\n",
    "**Course Information:** PHY 363: Physics III w/Lab, 4/0 credits\n",
    "\n",
    "**Pre or Co-Requisites:** PHY 262, MAT 302 (or instructor permission)\n",
    "\n",
    "**Meeting Time/Place:** TR 10.00-11.15, Gordon 262"
   ]
  },
  {
   "cell_type": "markdown",
   "metadata": {},
   "source": [
    "## Required Materials\n",
    "\n",
    "**Textbook:** Modern Physics, 3rd ed., Serway, Moses\n",
    "\n",
    "**Reading Book:** Quantum, Kumar"
   ]
  },
  {
   "cell_type": "markdown",
   "metadata": {
    "collapsed": false
   },
   "source": [
    "### The Course\n",
    "\n",
    "Physics III is an opportunity to expand your understanding of the universe by leveraging the foundational knowledge you have developed in your introductory physics and mathematics courses. The physics content of the course is focused on the various developments of the late 19th and early 20th centuries, typically referred to as *Modern Physics*. This includes Relativity, atomic and subatomic physics, particle physics, wave-particle duality, and Quantum Mechanics, among many others. In addition to the content, we will also explore the people and stories behind this myriad of developments through our reading of *Quantum*. This will allow our class meetings to span the detailed and technical treatment neccesary explore Modern Physics, along with thoughtful discussions of the historical, social, and cultural context in which these developments have occurred. \n",
    "\n",
    "In addition to our lecture meetings, the lab meetings will provde you the exciting opportunity to *rediscover* many of the developments discussed and studied in the course. \n",
    "\n",
    "In both lecture and lab, you will be challenged to develop the skills neccesary to analyze problems or experiments and articulate your findings through the modern resources and framework available to professional scientists. This will include, but is not limted to, using Python to analyze your experimental data and evaluate various homework problems."
   ]
  },
  {
   "cell_type": "markdown",
   "metadata": {
    "collapsed": false
   },
   "source": [
    "### Learning Objectives\n",
    "\n",
    "1. Develop a conceptual understanding of the Modern Physics topics highlighted above\n",
    "2. Leverage your understanding of Introductory and Modern Physics concepts, along with advanced mathematical techniques, to solve problems\n",
    "3. Develop the ability to visualize/analyze data using modern software and techniques and present the subsequent results in a clear and professional manner"
   ]
  },
  {
   "cell_type": "markdown",
   "metadata": {
    "collapsed": true
   },
   "source": [
    "### Assignments\n",
    "\n",
    "#### Problem Sets\n",
    "\n",
    "Roughly corresponding to each textbook chapter covered, you will be assigned a problem set that explores the primary concepts and techniques. Problem Sets are designed for you to practice solving problems that resemble those you will encounter on Exams. Typically Problem Sets will be due 1-week after they have been assigned. Further details, including grading, will be discussed in class.\n",
    "\n",
    "#### Reading/Writing\n",
    "\n",
    "Most weeks we will be reading a chapter from *Quantum*, with a 1-2 page reflection (based on the reading) due at the beginning of class on Tuesday. We will dedicate time every class meeting to discuss the readings and our throughts and reactions. \n",
    "\n",
    "#### Exams \n",
    "\n",
    "We will have two exams throughout the course (a midterm and a final). The midterm will be the week of October 16 and our final exam will be December 12 (at 8:00 am). We will discuss the format as the exam dates approach.\n",
    "\n",
    "#### Lab\n",
    "\n",
    "Each week we will meet for a 3 hour lab. Often we will be exploring the hallmark experiments of the modern physics era. The lab format and expectations will be discussed further in lab."
   ]
  },
  {
   "cell_type": "markdown",
   "metadata": {
    "collapsed": true
   },
   "source": [
    "### Grading\n",
    "\n",
    "Problem Sets: 20%\n",
    "Reading/Writing: 10%\n",
    "Midterm: 20%\n",
    "Final: 30%\n",
    "Lab: 20%\n",
    "\n",
    "Letter Map: A [100,92], A- (92,88], B+ (88,84], B (84,80], B- (80,76], C+ (76,72], C (72,68], C- (68,64], D+ (64,60], D (60,55], F (55, 0] "
   ]
  },
  {
   "cell_type": "code",
   "execution_count": null,
   "metadata": {
    "collapsed": true
   },
   "outputs": [],
   "source": []
  }
 ],
 "metadata": {
  "kernelspec": {
   "display_name": "Python 2",
   "language": "python",
   "name": "python2"
  },
  "language_info": {
   "codemirror_mode": {
    "name": "ipython",
    "version": 2
   },
   "file_extension": ".py",
   "mimetype": "text/x-python",
   "name": "python",
   "nbconvert_exporter": "python",
   "pygments_lexer": "ipython2",
   "version": "2.7.12"
  }
 },
 "nbformat": 4,
 "nbformat_minor": 0
}
