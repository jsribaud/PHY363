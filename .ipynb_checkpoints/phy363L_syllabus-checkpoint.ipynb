{
 "cells": [
  {
   "cell_type": "markdown",
   "metadata": {
    "collapsed": false
   },
   "source": [
    "# Utica College - PHY 363L: Physics III Lab"
   ]
  },
  {
   "cell_type": "markdown",
   "metadata": {},
   "source": [
    "**Instructor:** Joseph Ribaudo \n",
    "\n",
    "**Contact:** jsribaud@utica.edu, x2516\n",
    "\n",
    "**Office:** Gordon 269\n",
    "\n",
    "**Office Hours:** M 1.30-2.20, T 11.30-1.20, W 10.30-12.20\n",
    "\n",
    "<br></br>\n",
    "\n",
    "**Course Information:** PHY 363: Physics III w/Lab, 4/0 credits\n",
    "\n",
    "**Pre or Co-Requisites:** PHY 262, MAT 302 (or instructor permission)\n",
    "\n",
    "**Meeting Time/Place:** R 2.30-5.20, Gordon 265"
   ]
  },
  {
   "cell_type": "markdown",
   "metadata": {},
   "source": [
    "## Required Materials\n",
    "\n",
    "**Lab Handouts:** Provided each week"
   ]
  },
  {
   "cell_type": "markdown",
   "metadata": {
    "collapsed": false
   },
   "source": [
    "### The Lab\n",
    "\n",
    "Physics III Lab will allow you to explore advanced topics with advanced equipment. Most weeks you will work in pairs to complete some of the most influential experiments that ushered in Modern Physics. As this is an advanced lab, the expectations are for your lab reports to resemble professional manuscripts in format, language, and analysis techniques.  "
   ]
  },
  {
   "cell_type": "markdown",
   "metadata": {},
   "source": [
    "We will be using Python and Jupyter Notebooks to produce our lab reports. Early in the semester we will have tutorial sessions on how to install and use the basic functions these tools provide. We will also be using the online repository/file management system Git to share our work and submit final reports to be graded. A Git tutorial will take place during our first lab meeting."
   ]
  },
  {
   "cell_type": "markdown",
   "metadata": {
    "collapsed": false
   },
   "source": [
    "### Learning Objectives\n",
    "\n",
    "1. **Reproduce several of the hallmark experiments of Modern Physics**\n",
    "2. **Leverage various mathematical techniques to analyze experimental data**\n",
    "3. **Develop a sophisticated approach to manuscript writing, particularly as it pertains to participating in a collaboration**"
   ]
  },
  {
   "cell_type": "markdown",
   "metadata": {
    "collapsed": true
   },
   "source": [
    "### Grading\n",
    "\n",
    "Lab is 20% of your overall PHY 363 grade. However, lab attendance is mandatory and failure to attend even one lab will result in an **F** for the entire PHY 363 course. In addition to attendance, your lab grade will be determined primarily by the quality of your submitted manuscripts/reports. Reports will need to be pushed to the Github repository by the start of lab the week following a completed experiment (there will be no exception to the submission deadline). One report, per group, will be submitted and the grade earned will be the same for all group members. Your submitted report should make clear the contributions from each group member. Group members who fail to contribute substantively to the submitted report will receive 0% for the report."
   ]
  },
  {
   "cell_type": "markdown",
   "metadata": {
    "collapsed": true
   },
   "source": [
    "### Grading\n",
    "\n",
    "**Reports:** 80%\n",
    "\n",
    "**Participation:** 20%"
   ]
  },
  {
   "cell_type": "markdown",
   "metadata": {
    "collapsed": true
   },
   "source": [
    "### Intellectual Honesty\n",
    "\n",
    "Academic honesty is necessary for the free exchange of ideas and Utica College expects academic honesty from all students. "
   ]
  },
  {
   "cell_type": "markdown",
   "metadata": {},
   "source": [
    "Academic dishonesty includes both cheating and plagiarism. Plagiarism is the intentional or unintentional use of other people’s ideas, words, and/or factual information without crediting the source. Cheating refers to both the giving and the receiving of unauthorized assistance in the taking of examinations or in the creation of assigned and/or graded class work. "
   ]
  },
  {
   "cell_type": "markdown",
   "metadata": {},
   "source": [
    "Utica College faculty are authorized to assign a wide range of academic penalties for incidents of academic dishonesty. Depending on the nature of the offense, the penalty may include a reduced grade for the particular assignment or course, a grade of F for the course, or the grade of “F for cheating” on the course. "
   ]
  },
  {
   "cell_type": "markdown",
   "metadata": {},
   "source": [
    "Incidents of academic dishonesty are reported to the Vice President for Academic Affairs who will refer any repeat offense, or any particularly egregious first offence, to the Academic Standards Committee which may recommend a more severe penalty than that imposed by the faculty member."
   ]
  },
  {
   "cell_type": "markdown",
   "metadata": {},
   "source": [
    "### Learning Accommodations\n",
    "\n",
    "If you have a disability for which you are requesting an accommodation, you are encouraged to contact both your instructor and Academic Support Services, 315-792-3032 or khenkel@utica.edu. "
   ]
  },
  {
   "cell_type": "markdown",
   "metadata": {},
   "source": [
    "Any student who has need of special adaptations or accommodations due to documented learning or physical disabilities should notify me within the first two weeks of class. Instructors, Academic Support Services, and other appropriate counselors will work with you to adapt and accommodate your special needs. Every effort will be made to help you master the course content in an effective and appropriate way."
   ]
  }
 ],
 "metadata": {
  "kernelspec": {
   "display_name": "Python 2",
   "language": "python",
   "name": "python2"
  },
  "language_info": {
   "codemirror_mode": {
    "name": "ipython",
    "version": 2
   },
   "file_extension": ".py",
   "mimetype": "text/x-python",
   "name": "python",
   "nbconvert_exporter": "python",
   "pygments_lexer": "ipython2",
   "version": "2.7.12"
  }
 },
 "nbformat": 4,
 "nbformat_minor": 0
}
