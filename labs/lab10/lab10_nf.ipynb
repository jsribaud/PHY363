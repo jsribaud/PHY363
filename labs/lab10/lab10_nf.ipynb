{
 "cells": [
  {
   "cell_type": "markdown",
   "metadata": {
    "collapsed": true
   },
   "source": [
    "# Lab 10"
   ]
  },
  {
   "cell_type": "markdown",
   "metadata": {},
   "source": [
    "###### Nathaniel Flower"
   ]
  },
  {
   "cell_type": "markdown",
   "metadata": {},
   "source": [
    "## Abstract"
   ]
  },
  {
   "cell_type": "markdown",
   "metadata": {},
   "source": []
  },
  {
   "cell_type": "markdown",
   "metadata": {},
   "source": [
    "## Introduction"
   ]
  },
  {
   "cell_type": "markdown",
   "metadata": {},
   "source": []
  },
  {
   "cell_type": "markdown",
   "metadata": {},
   "source": [
    "## Procedure"
   ]
  },
  {
   "cell_type": "markdown",
   "metadata": {},
   "source": [
    "<p>\n",
    "I started this experiment by trying to figure out how to use the defraction aparatus. After fiddling with it a bit, I decided on using the 0 degree mark on the outside spinning plate to measure the angles. With the defraction grating centered on the aparatus, I moved the eye piece to the right until I encountered the first line. Then I recorded that angle and moved the eye piece to the left until I saw the same color line on the other side. I recorded the second angle as well and then moved to the next color line.\n",
    "</p>\n",
    "<p>\n",
    "The first element I analyzed was helium. It gave off a purplish glow. There were 6 measurable lines. On the left side there was an extra violet line but it was faint and did not appear on the right side. The colors of the lines in order from inward to outward were: violet, blue, green, a second green, yellow, and red.\n",
    "</p>\n",
    "<p>\n",
    "The second element I tested was hydrogen. This one was weird. The lines were very blurry. At first I thought it was the tube malfunctioning. I took another group's hydrogen tube to check if it was my tube or not. The new tube had the same malfunction. I tried replacing the defraction grating as well but that failed to correct the problem. At that point it became clear that the problem was a bit esoteric and I decided I would just use the two discernible lines.\n",
    "</p>\n",
    "<p>\n",
    "The final element is unknown.\n",
    "</p>"
   ]
  },
  {
   "cell_type": "markdown",
   "metadata": {},
   "source": [
    "## Data and Calculations"
   ]
  },
  {
   "cell_type": "markdown",
   "metadata": {},
   "source": [
    "he qualatative|he wavelength (nm)|h qualatative|h wavelength (nm)|u qualatative|u wavelength (nm)\n",
    "-------|-------------|------|-------------|----------|-------------\n",
    "violet|439.262128145|blue|482.683100897|violet|427.298875118\n",
    "blue|468.713403898|red|647.822706347|blue-green|480.589963715\n",
    "green|484.914868862|--|--|orange|595.752458864\n",
    "green|354.47912792|--|--|red|651.179238606\n",
    "yellow|581.432289717|--|--|--|--\n",
    "red|662.568169428|--|--|--|--"
   ]
  },
  {
   "cell_type": "code",
   "execution_count": 68,
   "metadata": {},
   "outputs": [
    {
     "name": "stdout",
     "output_type": "stream",
     "text": [
      "he_qual       he      h_qual       h         u_qual         u      \n",
      "------- ------------- ------ ------------- ---------- -------------\n",
      " violet 439.262128145   blue 482.683100897     violet 427.298875118\n",
      "   blue 468.713403898    red 647.822706347 blue-green 480.589963715\n",
      "  green 484.914868862     --            --     orange 595.752458864\n",
      "  green  354.47912792     --            --        red 651.179238606\n",
      " yellow 581.432289717     --            --         --            --\n",
      "    red 662.568169428     --            --         --            --\n"
     ]
    },
    {
     "data": {
      "image/png": "[encoded data removed]",
      "text/plain": [
       "<matplotlib.figure.Figure at 0x299c469e4e0>"
      ]
     },
     "metadata": {},
     "output_type": "display_data"
    },
    {
     "data": {
      "image/png": "[encoded data removed]",
      "text/plain": [
       "<matplotlib.figure.Figure at 0x299c46e8630>"
      ]
     },
     "metadata": {},
     "output_type": "display_data"
    },
    {
     "data": {
      "image/png": "[encoded data removed]",
      "text/plain": [
       "<matplotlib.figure.Figure at 0x299c4ba3cc0>"
      ]
     },
     "metadata": {},
     "output_type": "display_data"
    },
    {
     "data": {
      "image/png": "[encoded data removed]",
      "text/plain": [
       "<matplotlib.figure.Figure at 0x299c4cc53c8>"
      ]
     },
     "metadata": {},
     "output_type": "display_data"
    },
    {
     "data": {
      "image/png": "[encoded data removed]",
      "text/plain": [
       "<matplotlib.figure.Figure at 0x299c4c0dd30>"
      ]
     },
     "metadata": {},
     "output_type": "display_data"
    }
   ],
   "source": [
    "import numpy as np\n",
    "from astropy.io import ascii\n",
    "import matplotlib.pyplot as plt\n",
    "import math\n",
    "\n",
    "def get_color(wavelen):\n",
    "    if wavelen < 420:\n",
    "        return 'violet'\n",
    "    if wavelen < 440:\n",
    "        return 'indigo'\n",
    "    if wavelen < 490:\n",
    "        return 'blue'\n",
    "    if wavelen < 570:\n",
    "        return 'green'\n",
    "    if wavelen < 585:\n",
    "        return 'yellow'\n",
    "    if wavelen < 620:\n",
    "        return 'orange'\n",
    "    if wavelen < 780:\n",
    "        return 'red'\n",
    "\n",
    "np.warnings.filterwarnings('ignore')\n",
    "\n",
    "data = ascii.read(\"assets/data_nf.csv\")\n",
    "\n",
    "data['he'] = -(data['he1'] - data['he2']) / 2\n",
    "data['h'] = -(data['h1'] - data['h2']) / 2\n",
    "data['u'] = -(data['u1'] - data['u2']) / 2\n",
    "data['he'] = 1.67e-6*np.sin(np.radians(data['he']))/1e-9\n",
    "data['h'] = 1.67e-6*np.sin(np.radians(data['h']))/1e-9\n",
    "data['u'] = 1.67e-6*np.sin(np.radians(data['u']))/1e-9\n",
    "\n",
    "plt.figure(0)\n",
    "plt.title(\"Hydrogen Experimental\")\n",
    "for i in data['h']:\n",
    "    plt.axvline(x=i, color=get_color(i))\n",
    "\n",
    "plt.figure(1)\n",
    "plt.title(\"Hydrogen Accepted\")\n",
    "for i in [656.3, 486.1, 434.0, 410.2, 397.0]:\n",
    "    plt.axvline(x=i, color=get_color(i))\n",
    "    \n",
    "plt.figure(2)\n",
    "plt.title(\"Helium Experimental\")\n",
    "for j in data['he']:\n",
    "    plt.axvline(x=j, color=get_color(j))\n",
    "    \n",
    "plt.figure(3)\n",
    "plt.title(\"Helium Accepted\")\n",
    "for j in [438.793, 443.755, 447.148, 471.314, 492.193, 501.567, 504.774, 587.562, 667.815]:\n",
    "    plt.axvline(x=j, color=get_color(j))\n",
    "\n",
    "\n",
    "plt.figure(4)\n",
    "plt.title(\"Unknown Experimental\")\n",
    "for k in data['u']:\n",
    "    plt.axvline(x=k, color=get_color(k))\n",
    "\n",
    "print(data['he_qual', 'he', 'h_qual', 'h', 'u_qual', 'u'])\n",
    "\n",
    "for i in range(5):\n",
    "    plt.figure(i)\n",
    "    axes = plt.gca()\n",
    "    axes.set_xlim([300,700])\n",
    "    plt.xlabel(\"Wavelength (nm)\")\n",
    "    axes.set_yticklabels([])\n",
    "    \n",
    "\n",
    "plt.show()"
   ]
  },
  {
   "cell_type": "markdown",
   "metadata": {},
   "source": [
    "## Conclusion"
   ]
  },
  {
   "cell_type": "code",
   "execution_count": null,
   "metadata": {
    "collapsed": true
   },
   "outputs": [],
   "source": []
  },
  {
   "cell_type": "markdown",
   "metadata": {},
   "source": [
    "## References"
   ]
  },
  {
   "cell_type": "code",
   "execution_count": null,
   "metadata": {
    "collapsed": true
   },
   "outputs": [],
   "source": []
  }
 ],
 "metadata": {
  "kernelspec": {
   "display_name": "Python 3",
   "language": "python",
   "name": "python3"
  },
  "language_info": {
   "codemirror_mode": {
    "name": "ipython",
    "version": 3
   },
   "file_extension": ".py",
   "mimetype": "text/x-python",
   "name": "python",
   "nbconvert_exporter": "python",
   "pygments_lexer": "ipython3",
   "version": "3.6.2"
  }
 },
 "nbformat": 4,
 "nbformat_minor": 2
}
