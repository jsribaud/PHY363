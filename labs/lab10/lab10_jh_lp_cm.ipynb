{
 "cells": [
  {
   "cell_type": "markdown",
   "metadata": {},
   "source": [
    "# Emission Line Spectra\n",
    "## Justin Houle , Liam Patterson, Chelsey McMichael"
   ]
  },
  {
   "cell_type": "markdown",
   "metadata": {},
   "source": [
    "# Abstract\n"
   ]
  },
  {
   "cell_type": "markdown",
   "metadata": {},
   "source": [
    "# Introduction\n"
   ]
  },
  {
   "cell_type": "markdown",
   "metadata": {},
   "source": [
    "Experimental work concerning line spectra encouraged and confirmed Niels Bohr’s quantum theory of the atom. It was discovered that when low-pressure gas is affected by an electric discharge, light is emitted. This gas discharge can be examined using a spectrometer, and in the past, it was observed using a spectroscope. With both apparatuses, bright colored lines are seen against a dark background. All elements have unique wavelengths contained in a line spectrum. Since all elements give completely different line spectra, this was a practical technique in identifying elements or elements in an unknown sample. The analytical method of spectral analysis made gains by 1860 at the University of Heidelberg in which the elements rubidium and cesium were discovered. Violet has the shortest wavelength, at around 380 nanometers, and red has the longest wavelength, at around 700 nanometers."
   ]
  },
  {
   "cell_type": "markdown",
   "metadata": {},
   "source": [
    "# Methods and Setup "
   ]
  },
  {
   "cell_type": "markdown",
   "metadata": {},
   "source": [
    "In order to find the wavelength for the emission lines, we needed to use a spectrometer focused on the element emission light. The spectrometer rests on a circular table with all angle values listed on the edges of the circle. This makes it easier to record the angle between emission lines. We recorded the angle between the 2 first order emission lines for every line that we were able to see. For this lab, we had 3 group members. So, we decided that every member would record the angle between each of the emission lines. We took the averages of angles then divided it by 2 because the value for angle we need is instead from emission line spectra to the center light, which is half of the angle betweeen first order spectra. By using this angle we found the values for the wavelength each emission line produces."
   ]
  },
  {
   "cell_type": "markdown",
   "metadata": {},
   "source": [
    "# Data and Calculations"
   ]
  },
  {
   "cell_type": "markdown",
   "metadata": {
    "collapsed": true
   },
   "source": [
    "In order to find the wavelength we used a modification of the Bragg equation which is below: \n",
    "\n",
    "\\begin{equation}\n",
    "n\\lambda = d \\sin\\theta~~~~~~~~~~~~~~~~ (1)\n",
    "\\end{equation}\n",
    "\n",
    "The value d is the value of the diffraction grating used and since we found the angle from one order of spectrum to the other, we must divide this angle by 2 before plugging into the equation. We also had n, the order of the intensity maximum to be equal to one. "
   ]
  },
  {
   "cell_type": "code",
   "execution_count": 2,
   "metadata": {
    "collapsed": true
   },
   "outputs": [],
   "source": [
    "import math\n",
    "import astropy.units as u\n",
    "from astropy.io import ascii\n",
    "import numpy as np\n",
    "from sklearn.neighbors import KernelDensity\n",
    "#import matplotlib.pyplot as plt\n",
    "#from scipy.optimize import curve_fit\n",
    "%matplotlib inline"
   ]
  },
  {
   "cell_type": "markdown",
   "metadata": {},
   "source": [
    "**Element**|**Emission Line**|**Angle1 (2)**|**Angle2 (2)**|**Angle3 (2)**|**Average Angle (2)**|**Average Angle (degrees)**|**Average Angle (radians)**|**Calculated Wavelength (Angstroms)**|**Analytical Wavelength (Angstroms)**\n",
    ":-----:|:-----:|:-----:|:-----:|:-----:|:-----:|:-----:|:-----:|:-----:|:-----:\n",
    "**Helium**|violet|30.5|30.5|30.5|30.5|15.25|0.266162711|157.8187287| \n",
    " |cyan|32.5|34|33|33.16666667|16.58333334|0.289433768|171.2457544| \n",
    " |dim green|33.5|33.5|33.75|33.58333333|16.79166667|0.29306987|173.3355344| \n",
    " |bright green|34.5|34.5|34.25|34.41666667|17.20833334|0.300342075|177.5081919| \n",
    " |yellow|40.5|40.5|40.5|40.5|20.25|0.353429174|207.6702342| \n",
    " |bright red|46.5|46|46.25|46.25|23.125|0.40360739|235.6430563| \n",
    " |dim red|49.75|49.25|49.5|49.5|24.75|0.43196899|251.1958425| "
   ]
  },
  {
   "cell_type": "markdown",
   "metadata": {},
   "source": [
    "**Element**|**Emission Line**|**Angle1 (2)**|**Angle2 (2)**|**Angle3 (2)**|**Average Angle (2)**|**Average Angle (degrees)**|**Average Angle (radians)**|**Wavelength (Angstroms)**|**Analytical Wavelength (Angstroms)**\n",
    ":-----:|:-----:|:-----:|:-----:|:-----:|:-----:|:-----:|:-----:|:-----:|:-----:\n",
    "**Hydrogen**|purple farther out|28.5|28.5|29|28.66666667|14.33333334|0.250163859|148.5376329| \n",
    " |purple closer in|29.75|29|29|29.25|14.625|0.255254403|151.4949462| \n",
    " |cyan|33.5|33.5|33.5|33.5|16.75|0.29234265|172.9177609| \n",
    " |red|45.5|46|45.5|45.66666667|22.83333334|0.398516846|232.8311035| "
   ]
  },
  {
   "cell_type": "markdown",
   "metadata": {},
   "source": [
    "**Element**|**Emission Line**|**Angle1 (2)**|**Angle2 (2)**|**Angle3 (2)**|**Average Angle (2)**|**Average Angle (degrees)**|**Average Angle (radians)**|**Wavelength (Angstroms)**|**Analytical Wavelength (Angstroms)**\n",
    ":-----:|:-----:|:-----:|:-----:|:-----:|:-----:|:-----:|:-----:|:-----:|:-----:\n",
    "**Mystery**|green|38|39|38.5|38.5|19.25|0.335975881|197.8143872| \n",
    " |orange|41|41|40.5|40.83333333|20.41666667|0.356338056|209.3068061| \n",
    " |red|46|46|46|46|23|0.401425728|234.438| \n"
   ]
  },
  {
   "cell_type": "code",
   "execution_count": 3,
   "metadata": {},
   "outputs": [],
   "source": [
    "data=ascii.read(\"SpectrumDatajh_lp_cm.csv\")\n"
   ]
  },
  {
   "cell_type": "code",
   "execution_count": 10,
   "metadata": {},
   "outputs": [
    {
     "name": "stdout",
     "output_type": "stream",
     "text": [
      "439.2621282589948\n",
      "476.6340168813217\n",
      "482.45057050749847\n",
      "494.06446677746476\n",
      "578.0154860575987\n",
      "655.873173962765\n",
      "699.1617618867912\n"
     ]
    }
   ],
   "source": [
    "#Helium\n",
    "d=1.67*10**-6\n",
    "i=0\n",
    "j=0\n",
    "k=0\n",
    "data_He = []\n",
    "\n",
    "while i<=6:\n",
    "    He = d*math.sin(data['Avg Angle (radians)'][i])\n",
    "    data_He.append(He)\n",
    "    \n",
    "    i+=1\n",
    "    j+=1\n",
    "\n",
    "while k<=6:  \n",
    "    print((data_He[k])/10**-9)\n",
    "    k+=1"
   ]
  },
  {
   "cell_type": "code",
   "execution_count": 12,
   "metadata": {},
   "outputs": [
    {
     "name": "stdout",
     "output_type": "stream",
     "text": [
      "413.4297439914292\n",
      "421.6609334469854\n",
      "481.28776824919964\n",
      "648.0465714663161\n"
     ]
    }
   ],
   "source": [
    "#Hydrogen\n",
    "d= 1.67*10**-6\n",
    "i=8\n",
    "j=0\n",
    "k=0\n",
    "data_Hy = []\n",
    "\n",
    "while i<=11:\n",
    "    Hy = d*math.sin(data['Avg Angle (radians)'][i])\n",
    "    data_Hy.append(Hy)\n",
    "    \n",
    "    i+=1\n",
    "    j+=1\n",
    "\n",
    "while k<=3:  \n",
    "    print((data_Hy[k])/10**-9)\n",
    "    k+=1"
   ]
  },
  {
   "cell_type": "code",
   "execution_count": 13,
   "metadata": {},
   "outputs": [
    {
     "name": "stdout",
     "output_type": "stream",
     "text": [
      "550.5833775748093\n",
      "582.57061094048\n",
      "652.5209846405817\n"
     ]
    }
   ],
   "source": [
    "#Mystery\n",
    "d=1.67*10**-6\n",
    "i=13\n",
    "j=0\n",
    "k=0\n",
    "data_My = []\n",
    "\n",
    "while i<=15:\n",
    "    My = d*math.sin(data['Avg Angle (radians)'][i])\n",
    "    data_My.append(My)\n",
    "    \n",
    "    i+=1\n",
    "    j+=1\n",
    "\n",
    "while k<=2:  \n",
    "    print((data_My[k])/10**-9)\n",
    "    k+=1"
   ]
  },
  {
   "cell_type": "markdown",
   "metadata": {},
   "source": [
    "# Conclusions"
   ]
  },
  {
   "cell_type": "markdown",
   "metadata": {},
   "source": []
  },
  {
   "cell_type": "markdown",
   "metadata": {},
   "source": [
    "# References"
   ]
  },
  {
   "cell_type": "markdown",
   "metadata": {
    "collapsed": true
   },
   "source": [
    "Serway, R. A., Moses, C. J., & Moyer, C. A. (2004). Modern Physics (3rd ed.).\n",
    "\n"
   ]
  },
  {
   "cell_type": "code",
   "execution_count": null,
   "metadata": {
    "collapsed": true
   },
   "outputs": [],
   "source": []
  }
 ],
 "metadata": {
  "kernelspec": {
   "display_name": "Python 3",
   "language": "python",
   "name": "python3"
  },
  "language_info": {
   "codemirror_mode": {
    "name": "ipython",
    "version": 3
   },
   "file_extension": ".py",
   "mimetype": "text/x-python",
   "name": "python",
   "nbconvert_exporter": "python",
   "pygments_lexer": "ipython3",
   "version": "3.6.2"
  }
 },
 "nbformat": 4,
 "nbformat_minor": 1
}
