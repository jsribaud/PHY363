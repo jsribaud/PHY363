{
 "cells": [
  {
   "cell_type": "markdown",
   "metadata": {},
   "source": [
    "# Emission Line Spectra\n",
    "## Justin Houle , Liam Patterson, Chelsey McMichael"
   ]
  },
  {
   "cell_type": "markdown",
   "metadata": {},
   "source": [
    "# Abstract\n"
   ]
  },
  {
   "cell_type": "markdown",
   "metadata": {},
   "source": [
    "# Introduction\n"
   ]
  },
  {
   "cell_type": "markdown",
   "metadata": {},
   "source": [
    "Experimental work concerning line spectra encouraged and confirmed Niels Bohr’s quantum theory of the atom. It was discovered that when low-pressure gas is affected by an electric discharge, light is emitted. This gas discharge can be examined using a spectrometer, and in the past, it was observed using a spectroscope. With both apparatuses, bright colored lines are seen against a dark background. All elements have unique wavelengths contained in a line spectrum. Since all elements give completely different line spectra, this was a practical technique in identifying elements or elements in an unknown sample. The analytical method of spectral analysis made gains by 1860 at the University of Heidelberg in which the elements rubidium and cesium were discovered. Violet has the shortest wavelength, at around 380 nanometers, and red has the longest wavelength, at around 700 nanometers.\n",
    "\n",
    "<img src=\"cm_chart.jpg\" height=\"500\" width=\"300\">"
   ]
  },
  {
   "cell_type": "markdown",
   "metadata": {},
   "source": [
    "# Methods and Setup "
   ]
  },
  {
   "cell_type": "markdown",
   "metadata": {},
   "source": [
    "In order to find the wavelength for the emission lines, we needed to use a spectrometer focused on the element emission light. The spectrometer rests on a circular table with all angle values listed on the edges of the circle. This makes it easier to record the angle between emission lines. We recorded the angle between the 2 first order emission lines for every line that we were able to see. For this lab, we had 3 group members. So, we decided that every member would record the angle between each of the emission lines. We took the averages of angles then divided it by 2 because the value for angle we need is instead from emission line spectra to the center light, which is half of the angle betweeen first order spectra. By using this angle we found the values for the wavelength each emission line produces."
   ]
  },
  {
   "cell_type": "markdown",
   "metadata": {},
   "source": [
    "# Data and Calculations"
   ]
  },
  {
   "cell_type": "markdown",
   "metadata": {
    "collapsed": true
   },
   "source": [
    "In order to find the wavelength we used a modification of the Bragg equation which is below: \n",
    "\n",
    "\\begin{equation}\n",
    "n\\lambda = d \\sin\\theta~~~~~~~~~~~~~~~~ (1)\n",
    "\\end{equation}\n",
    "\n",
    "The value d is the value of the diffraction grating used and since we found the angle from one order of spectrum to the other, we must divide this angle by 2 before plugging into the equation. We also had n, the order of the intensity maximum to be equal to one. \n",
    "\n",
    "We calculated the uncertainty to be 0.5 degrees. We came to this number because each time we measured the angles ourselves, the average difference in our angles was about "
   ]
  },
  {
   "cell_type": "code",
   "execution_count": 37,
   "metadata": {
    "collapsed": true
   },
   "outputs": [],
   "source": [
    "import math\n",
    "import astropy.units as u\n",
    "from astropy.io import ascii\n",
    "import numpy as np\n",
    "from sklearn.neighbors import KernelDensity\n",
    "%matplotlib inline\n",
    "\n",
    "data=ascii.read(\"SpectrumDatajh_lp_cm.csv\")\n"
   ]
  },
  {
   "cell_type": "markdown",
   "metadata": {},
   "source": [
    "**Element**|**Emission Line**|**Angle1 (2)**|**Angle2 (2)**|**Angle3 (2)**|**Average Angle (2)**|**Average Angle (degree)**|**Average Angle (radians)**|**Uncertainty (radians)**|**Smaller Angle (radians)**|**Larger Angle (radians)**|**Calculated Wavelength (nm)**|**Calculated Wavelength Range (nm)**|**Analytical Wavelength  (nm)**|**Percent Error (%)**\n",
    ":-----:|:-----:|:-----:|:-----:|:-----:|:-----:|:-----:|:-----:|:-----:|:-----:|:-----:|:-----:|:-----:|:-----:|:-----:\n",
    "**Helium**|violet|30.5|30.5|30.5|30.5|15.25|0.266162711|0.00872665|0.257436061|0.274889361|439.26|418.185-453.31| | \n",
    " |cyan|32.5|34|33|33.17|16.58|0.289433768|0.00872665|0.280707118|0.298160418|476.63|462.65-490.58| | \n",
    " |dim green|33.5|33.5|33.75|33.58|16.79|0.29306987|0.00872665|0.28434322|0.30179652|482.45|468.48-496.38| | \n",
    " |bright green|34.5|34.5|34.25|34.42|17.21|0.300342075|0.00872665|0.291615425|0.309068725|494.06|480.12-507.97| | \n",
    " |yellow|40.5|40.5|40.5|40.5|20.25|0.353429174|0.00872665|0.344702524|0.362155824|578.02|564.32-591.67| | \n",
    " |bright red|46.5|46|46.25|46.25|23.13|0.40360739|0.00872665|0.39488074|0.41233404|655.87|642.45-669.25| | \n",
    " |dim red|49.75|49.25|49.5|49.5|24.75|0.43196899|0.00872665|0.42324234|0.44069564|699.16|685.90-712.37| | "
   ]
  },
  {
   "cell_type": "code",
   "execution_count": 38,
   "metadata": {},
   "outputs": [
    {
     "name": "stdout",
     "output_type": "stream",
     "text": [
      "439.2621282589948\n",
      "476.6340168813217\n",
      "482.45057050749847\n",
      "494.06446677746476\n",
      "578.0154860575987\n",
      "655.873173962765\n",
      "699.1617618867912\n"
     ]
    }
   ],
   "source": [
    "#Helium:With no uncertainty\n",
    "d=1.67*10**-6\n",
    "i=0\n",
    "j=0\n",
    "k=0\n",
    "data_He = []\n",
    "\n",
    "while i<=6:\n",
    "    He = d*math.sin(data['Avg Angle (radians)'][i])\n",
    "    data_He.append(He)\n",
    "    \n",
    "    i+=1\n",
    "    j+=1\n",
    "\n",
    "while k<=6:  \n",
    "    print((data_He[k])/10**-9)\n",
    "    k+=1\n",
    "    "
   ]
  },
  {
   "cell_type": "code",
   "execution_count": 32,
   "metadata": {},
   "outputs": [
    {
     "name": "stdout",
     "output_type": "stream",
     "text": [
      "425.1852475776539\n",
      "462.64871555639616\n",
      "468.4802638809722\n",
      "480.124703464923\n",
      "564.3209139276482\n",
      "642.4458428678166\n",
      "685.9004783698608\n"
     ]
    }
   ],
   "source": [
    "#Helium:With uncertainty using smaller angle\n",
    "d=1.67*10**-6\n",
    "i=0\n",
    "j=0\n",
    "k=0\n",
    "data_He = []\n",
    "\n",
    "while i<=6:\n",
    "    He = d*math.sin(data['small angle (rad)'][i])\n",
    "    data_He.append(He)\n",
    "    \n",
    "    i+=1\n",
    "    j+=1\n",
    "\n",
    "while k<=6:  \n",
    "    print((data_He[k])/10**-9)\n",
    "    k+=1\n",
    "    "
   ]
  },
  {
   "cell_type": "code",
   "execution_count": 33,
   "metadata": {},
   "outputs": [
    {
     "name": "stdout",
     "output_type": "stream",
     "text": [
      "453.3055573999234\n",
      "490.58302064938573\n",
      "496.38413662370533\n",
      "507.9666051357631\n",
      "591.666040032678\n",
      "669.2505577333878\n",
      "712.3698014830011\n"
     ]
    }
   ],
   "source": [
    "#Helium:With uncertainty using larger angle\n",
    "d=1.67*10**-6\n",
    "i=0\n",
    "j=0\n",
    "k=0\n",
    "data_He = []\n",
    "\n",
    "while i<=6:\n",
    "    He = d*math.sin(data['large angle (rad)'][i])\n",
    "    data_He.append(He)\n",
    "    \n",
    "    i+=1\n",
    "    j+=1\n",
    "\n",
    "while k<=6:  \n",
    "    print((data_He[k])/10**-9)\n",
    "    k+=1\n",
    "    "
   ]
  },
  {
   "cell_type": "markdown",
   "metadata": {},
   "source": [
    "**Element**|**Emission Line**|**Angle1 (2)**|**Angle2 (2)**|**Angle3 (2)**|**Average Angle (2)**|**Average Angle (degrees)**|**Average Angle (radians)**|**Uncertainty (radians)**|**Smaller Angle (radians)**|**Larger Angle (radians)**|**Calculated Wavelength (nm)**|**Calculated Wavelength Range (nm)**|**Analytical Wavelength (nm)**|**Percent Error (%)**\n",
    ":-----:|:-----:|:-----:|:-----:|:-----:|:-----:|:-----:|:-----:|:-----:|:-----:|:-----:|:-----:|:-----:|:-----:|:-----:\n",
    "**Hydrogen**|purple farther out|28.5|28.5|29|28.67|14.33|0.250163859|0.00872665|0.241437209|0.258890509|413.43|399.29-427.53| | \n",
    " |purple closer in|29.75|29|29|29.25|14.63|0.255254403|0.00872665|0.246527753|0.263981053|421.66|407.54-435.75| | \n",
    " |cyan|33.5|33.5|33.5|33.5|16.75|0.29234265|0.00872665|0.283616|0.3010693|481.29|467.31-495.22| | \n",
    " |red|45.5|46|45.5|45.67|22.83|0.398516846|0.00872665|0.389790196|0.407243496|648.05|634.59-661.45| | "
   ]
  },
  {
   "cell_type": "code",
   "execution_count": 39,
   "metadata": {},
   "outputs": [
    {
     "name": "stdout",
     "output_type": "stream",
     "text": [
      "413.4297439914292\n",
      "421.6609334469854\n",
      "481.28776824919964\n",
      "648.0465714663161\n"
     ]
    }
   ],
   "source": [
    "#Hydrogen:no uncertainty\n",
    "d= 1.67*10**-6\n",
    "i=8\n",
    "j=0\n",
    "k=0\n",
    "data_Hy = []\n",
    "\n",
    "while i<=11:\n",
    "    Hy = d*math.sin(data['Avg Angle (radians)'][i])\n",
    "    data_Hy.append(Hy)\n",
    "    \n",
    "    i+=1\n",
    "    j+=1\n",
    "\n",
    "while k<=3:  \n",
    "    print((data_Hy[k])/10**-9)\n",
    "    k+=1"
   ]
  },
  {
   "cell_type": "code",
   "execution_count": 34,
   "metadata": {},
   "outputs": [
    {
     "name": "stdout",
     "output_type": "stream",
     "text": [
      "399.29432153778276\n",
      "407.5437461610703\n",
      "467.31444790190676\n",
      "634.5905764182512\n"
     ]
    }
   ],
   "source": [
    "#Hydrogen:Uncertainty included for smaller angle\n",
    "d= 1.67*10**-6\n",
    "i=8\n",
    "j=0\n",
    "k=0\n",
    "data_Hy = []\n",
    "\n",
    "while i<=11:\n",
    "    Hy = d*math.sin(data['small angle (rad)'][i])\n",
    "    data_Hy.append(Hy)\n",
    "    \n",
    "    i+=1\n",
    "    j+=1\n",
    "\n",
    "while k<=3:  \n",
    "    print((data_Hy[k])/10**-9)\n",
    "    k+=1"
   ]
  },
  {
   "cell_type": "code",
   "execution_count": 35,
   "metadata": {},
   "outputs": [
    {
     "name": "stdout",
     "output_type": "stream",
     "text": [
      "427.5336821424256\n",
      "435.74600959276773\n",
      "495.2244366381431\n",
      "661.4532152166481\n"
     ]
    }
   ],
   "source": [
    "#Hydrogen:Uncertainty included for larger angle\n",
    "d= 1.67*10**-6\n",
    "i=8\n",
    "j=0\n",
    "k=0\n",
    "data_Hy = []\n",
    "\n",
    "while i<=11:\n",
    "    Hy = d*math.sin(data['large angle (rad)'][i])\n",
    "    data_Hy.append(Hy)\n",
    "    \n",
    "    i+=1\n",
    "    j+=1\n",
    "\n",
    "while k<=3:  \n",
    "    print((data_Hy[k])/10**-9)\n",
    "    k+=1"
   ]
  },
  {
   "cell_type": "markdown",
   "metadata": {},
   "source": [
    "**Element**|**Emission Line**|**Angle1 (2)**|**Angle2 (2)**|**Angle3 (2)**|**Average Angle (2)**|**Average Angle (degrees)**|**Average Angle (radians)**|**Uncertainty (radians)**|**Smaller Angle (radians)**|**Larger Angle (radians)**|**Calculated Wavelength (nm)**|**Calculated Wavelength Range (nm)**|**Analytical Wavelength (nm)**|**Percent Error (%)**\n",
    ":-----:|:-----:|:-----:|:-----:|:-----:|:-----:|:-----:|:-----:|:-----:|:-----:|:-----:|:-----:|:-----:|:-----:|:-----:\n",
    "**Mystery**|green|38|39|38.5|38.5|19.25|0.335975881|0.00872665|0.327249231|0.344702531|550.58|536.80-564.32| | \n",
    " |orange|41|41|40.5|40.83|20.42|0.356338056|0.00872665|0.347611406|0.365064706|582.57|568.89-596.21| | \n",
    " |red|46|46|46|46|23|0.401425728|0.00872665|0.392699078|0.410152378|652.52|639.08-665.91| | "
   ]
  },
  {
   "cell_type": "code",
   "execution_count": 40,
   "metadata": {},
   "outputs": [
    {
     "name": "stdout",
     "output_type": "stream",
     "text": [
      "550.5833775748093\n",
      "582.57061094048\n",
      "652.5209846405817\n"
     ]
    }
   ],
   "source": [
    "#Mystery\n",
    "d=1.67*10**-6\n",
    "i=13\n",
    "j=0\n",
    "k=0\n",
    "data_My = []\n",
    "\n",
    "while i<=15:\n",
    "    My = d*math.sin(data['Avg Angle (radians)'][i])\n",
    "    data_My.append(My)\n",
    "    \n",
    "    i+=1\n",
    "    j+=1\n",
    "\n",
    "while k<=2:  \n",
    "    print((data_My[k])/10**-9)\n",
    "    k+=1"
   ]
  },
  {
   "cell_type": "code",
   "execution_count": 30,
   "metadata": {},
   "outputs": [
    {
     "name": "stdout",
     "output_type": "stream",
     "text": [
      "536.8039011278111\n",
      "568.8905958087408\n",
      "639.0813263430166\n"
     ]
    }
   ],
   "source": [
    "#Mystery\n",
    "d=1.67*10**-6\n",
    "i=13\n",
    "j=0\n",
    "k=0\n",
    "data_My = []\n",
    "\n",
    "while i<=15:\n",
    "    My = d*math.sin(data['small angle (rad)'][i])\n",
    "    data_My.append(My)\n",
    "    \n",
    "    i+=1\n",
    "    j+=1\n",
    "\n",
    "while k<=2:  \n",
    "    print((data_My[k])/10**-9)\n",
    "    k+=1"
   ]
  },
  {
   "cell_type": "code",
   "execution_count": 31,
   "metadata": {},
   "outputs": [
    {
     "name": "stdout",
     "output_type": "stream",
     "text": [
      "564.3209249299957\n",
      "596.2062610266549\n",
      "665.9109508962354\n"
     ]
    }
   ],
   "source": [
    "#Mystery\n",
    "d=1.67*10**-6\n",
    "i=13\n",
    "j=0\n",
    "k=0\n",
    "data_My = []\n",
    "\n",
    "while i<=15:\n",
    "    My = d*math.sin(data['large angle (rad)'][i])\n",
    "    data_My.append(My)\n",
    "    \n",
    "    i+=1\n",
    "    j+=1\n",
    "\n",
    "while k<=2:  \n",
    "    print((data_My[k])/10**-9)\n",
    "    k+=1\n"
   ]
  },
  {
   "cell_type": "markdown",
   "metadata": {},
   "source": [
    "# Conclusions"
   ]
  },
  {
   "cell_type": "markdown",
   "metadata": {},
   "source": []
  },
  {
   "cell_type": "markdown",
   "metadata": {},
   "source": [
    "# References"
   ]
  },
  {
   "cell_type": "markdown",
   "metadata": {
    "collapsed": true
   },
   "source": [
    "Serway, R. A., Moses, C. J., & Moyer, C. A. (2004). Modern Physics (3rd ed.).\n",
    "\n"
   ]
  },
  {
   "cell_type": "code",
   "execution_count": null,
   "metadata": {
    "collapsed": true
   },
   "outputs": [],
   "source": []
  }
 ],
 "metadata": {
  "kernelspec": {
   "display_name": "Python 3",
   "language": "python",
   "name": "python3"
  },
  "language_info": {
   "codemirror_mode": {
    "name": "ipython",
    "version": 3
   },
   "file_extension": ".py",
   "mimetype": "text/x-python",
   "name": "python",
   "nbconvert_exporter": "python",
   "pygments_lexer": "ipython3",
   "version": "3.6.2"
  }
 },
 "nbformat": 4,
 "nbformat_minor": 1
}
