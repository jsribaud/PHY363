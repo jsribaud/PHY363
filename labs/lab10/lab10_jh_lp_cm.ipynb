{
 "cells": [
  {
   "cell_type": "markdown",
   "metadata": {},
   "source": [
    "# Emission Line Spectra\n",
    "## Justin Houle , Liam Patterson, Chelsey McMichael"
   ]
  },
  {
   "cell_type": "markdown",
   "metadata": {},
   "source": [
    "# Abstract\n"
   ]
  },
  {
   "cell_type": "markdown",
   "metadata": {},
   "source": [
    "# Introduction\n"
   ]
  },
  {
   "cell_type": "markdown",
   "metadata": {},
   "source": [
    "# Methods and Setup "
   ]
  },
  {
   "cell_type": "markdown",
   "metadata": {},
   "source": [
    "In order to find the wavelength for the emission lines, we needed to use a spectrometer focused on the element emission light. The spectrometer rests on a circular table with all angle values listed on the edges of the circle. This makes it easier to record the angle between emission lines. We recorded the angle between the 2 first order emission lines for every line that we were able to see. For this lab, we had 3 group members. So, we decided that every member would record the angle between each of the emission lines. We took the averages of angles then divided it by 2 because the value for angle we need is instead from emission line spectra to the center light, which is half of the angle betweeen first order spectra. By using this angle we found the values for the wavelength each emission line produces."
   ]
  },
  {
   "cell_type": "markdown",
   "metadata": {},
   "source": [
    "# Data and Calculations"
   ]
  },
  {
   "cell_type": "markdown",
   "metadata": {
    "collapsed": true
   },
   "source": [
    "In order to find the wavelength we use the equation below\n",
    "\\begin{equation}\n",
    "\\lambda = d \\sin\\theta\n",
    "\\end{equation}\n",
    "The value d is the value of the diffraction grating used and since we found the angle from one order of spectrum to the other, we must divide this angle by 2 before plugging into the equation"
   ]
  },
  {
   "cell_type": "code",
   "execution_count": 4,
   "metadata": {
    "collapsed": true
   },
   "outputs": [],
   "source": [
    "import math\n",
    "import astropy.units as u\n",
    "from astropy.io import ascii\n",
    "import numpy as np\n",
    "from sklearn.neighbors import KernelDensity\n",
    "import matplotlib.pyplot as plt\n",
    "from scipy.optimize import curve_fit\n",
    "%matplotlib inline"
   ]
  },
  {
   "cell_type": "code",
   "execution_count": 19,
   "metadata": {},
   "outputs": [
    {
     "data": {
      "text/html": [
       "&lt;Table masked=True length=16&gt;\n",
       "<table id=\"table2703017914944\" class=\"table-striped table-bordered table-condensed\">\n",
       "<thead><tr><th>Element</th><th>Emission Line</th><th>Angle1*2</th><th>Angle2*2</th><th>Angle3*2</th><th>Avg Angle*2</th><th>Avg Angle (degrees)</th><th>Avg Angle (radians)</th><th>Wavelength (Angstroms)</th></tr></thead>\n",
       "<thead><tr><th>str8</th><th>str18</th><th>float64</th><th>float64</th><th>float64</th><th>float64</th><th>float64</th><th>float64</th><th>float64</th></tr></thead>\n",
       "<tr><td>Helium</td><td>violet</td><td>30.5</td><td>30.5</td><td>30.5</td><td>30.5</td><td>15.25</td><td>0.266162711</td><td>157.8187287</td></tr>\n",
       "<tr><td>--</td><td>cyan</td><td>32.5</td><td>34.0</td><td>33.0</td><td>33.16666667</td><td>16.58333334</td><td>0.289433768</td><td>171.2457544</td></tr>\n",
       "<tr><td>--</td><td>dim green</td><td>33.5</td><td>33.5</td><td>33.75</td><td>33.58333333</td><td>16.79166667</td><td>0.29306987</td><td>173.3355344</td></tr>\n",
       "<tr><td>--</td><td>bright green</td><td>34.5</td><td>34.5</td><td>34.25</td><td>34.41666667</td><td>17.20833334</td><td>0.300342075</td><td>177.5081919</td></tr>\n",
       "<tr><td>--</td><td>yellow</td><td>40.5</td><td>40.5</td><td>40.5</td><td>40.5</td><td>20.25</td><td>0.353429174</td><td>207.6702342</td></tr>\n",
       "<tr><td>--</td><td>bright red</td><td>46.5</td><td>46.0</td><td>46.25</td><td>46.25</td><td>23.125</td><td>0.40360739</td><td>235.6430563</td></tr>\n",
       "<tr><td>--</td><td>dim red</td><td>49.75</td><td>49.25</td><td>49.5</td><td>49.5</td><td>24.75</td><td>0.43196899</td><td>251.1958425</td></tr>\n",
       "<tr><td>--</td><td>--</td><td>--</td><td>--</td><td>--</td><td>--</td><td>--</td><td>--</td><td>--</td></tr>\n",
       "<tr><td>Hydrogen</td><td>purple farther out</td><td>28.5</td><td>28.5</td><td>29.0</td><td>28.66666667</td><td>14.33333334</td><td>0.250163859</td><td>148.5376329</td></tr>\n",
       "<tr><td>--</td><td>purple closer in</td><td>29.75</td><td>29.0</td><td>29.0</td><td>29.25</td><td>14.625</td><td>0.255254403</td><td>151.4949462</td></tr>\n",
       "<tr><td>--</td><td>cyan</td><td>33.5</td><td>33.5</td><td>33.5</td><td>33.5</td><td>16.75</td><td>0.29234265</td><td>172.9177609</td></tr>\n",
       "<tr><td>--</td><td>red</td><td>45.5</td><td>46.0</td><td>45.5</td><td>45.66666667</td><td>22.83333334</td><td>0.398516846</td><td>232.8311035</td></tr>\n",
       "<tr><td>--</td><td>--</td><td>--</td><td>--</td><td>--</td><td>--</td><td>--</td><td>--</td><td>--</td></tr>\n",
       "<tr><td>Mystery</td><td>green</td><td>38.0</td><td>39.0</td><td>38.5</td><td>38.5</td><td>19.25</td><td>0.335975881</td><td>197.8143872</td></tr>\n",
       "<tr><td>--</td><td>orange</td><td>41.0</td><td>41.0</td><td>40.5</td><td>40.83333333</td><td>20.41666667</td><td>0.356338056</td><td>209.3068061</td></tr>\n",
       "<tr><td>--</td><td>red</td><td>46.0</td><td>46.0</td><td>46.0</td><td>46.0</td><td>23.0</td><td>0.401425728</td><td>234.4386771</td></tr>\n",
       "</table>"
      ],
      "text/plain": [
       "<Table masked=True length=16>\n",
       "Element    Emission Line    ... Avg Angle (radians) Wavelength (Angstroms)\n",
       "  str8         str18        ...       float64              float64        \n",
       "-------- ------------------ ... ------------------- ----------------------\n",
       "  Helium             violet ...         0.266162711            157.8187287\n",
       "      --               cyan ...         0.289433768            171.2457544\n",
       "      --          dim green ...          0.29306987            173.3355344\n",
       "      --       bright green ...         0.300342075            177.5081919\n",
       "      --             yellow ...         0.353429174            207.6702342\n",
       "      --         bright red ...          0.40360739            235.6430563\n",
       "      --            dim red ...          0.43196899            251.1958425\n",
       "      --                 -- ...                  --                     --\n",
       "Hydrogen purple farther out ...         0.250163859            148.5376329\n",
       "      --   purple closer in ...         0.255254403            151.4949462\n",
       "      --               cyan ...          0.29234265            172.9177609\n",
       "      --                red ...         0.398516846            232.8311035\n",
       "      --                 -- ...                  --                     --\n",
       " Mystery              green ...         0.335975881            197.8143872\n",
       "      --             orange ...         0.356338056            209.3068061\n",
       "      --                red ...         0.401425728            234.4386771"
      ]
     },
     "execution_count": 19,
     "metadata": {},
     "output_type": "execute_result"
    }
   ],
   "source": [
    "data = ascii.read('SpectrumDatajh_lp_cm.csv', 'r')\n",
    "data"
   ]
  },
  {
   "cell_type": "code",
   "execution_count": 32,
   "metadata": {},
   "outputs": [
    {
     "name": "stdout",
     "output_type": "stream",
     "text": [
      "157.818728716\n",
      "171.245754568\n",
      "173.335534314\n",
      "177.508191657\n",
      "207.670234512\n",
      "235.643056514\n",
      "251.195842594\n"
     ]
    }
   ],
   "source": [
    "#Helium\n",
    "d=600\n",
    "i=0\n",
    "j=0\n",
    "k=0\n",
    "data_He = []\n",
    "\n",
    "while i<=6:\n",
    "    He = d*sin(data['Avg Angle (radians)'][i])\n",
    "    data_He.append(He)\n",
    "    \n",
    "    i+=1\n",
    "    j+=1\n",
    "\n",
    "while k<=6:  \n",
    "    print(data_He[k])\n",
    "    k+=1"
   ]
  },
  {
   "cell_type": "code",
   "execution_count": 38,
   "metadata": {},
   "outputs": [
    {
     "name": "stdout",
     "output_type": "stream",
     "text": [
      "148.537632572\n",
      "151.494946149\n",
      "172.917761048\n",
      "232.831103521\n"
     ]
    }
   ],
   "source": [
    "#Hydrogen\n",
    "d=600\n",
    "i=8\n",
    "j=0\n",
    "k=0\n",
    "data_Hy = []\n",
    "\n",
    "while i<=11:\n",
    "    Hy = d*sin(data['Avg Angle (radians)'][i])\n",
    "    data_Hy.append(Hy)\n",
    "    \n",
    "    i+=1\n",
    "    j+=1\n",
    "\n",
    "while k<=3:  \n",
    "    print(data_Hy[k])\n",
    "    k+=1"
   ]
  },
  {
   "cell_type": "code",
   "execution_count": 39,
   "metadata": {},
   "outputs": [
    {
     "name": "stdout",
     "output_type": "stream",
     "text": [
      "197.814387153\n",
      "209.306806326\n",
      "234.438677116\n"
     ]
    }
   ],
   "source": [
    "#Mystery\n",
    "d=600\n",
    "i=13\n",
    "j=0\n",
    "k=0\n",
    "data_My = []\n",
    "\n",
    "while i<=15:\n",
    "    My = d*sin(data['Avg Angle (radians)'][i])\n",
    "    data_My.append(My)\n",
    "    \n",
    "    i+=1\n",
    "    j+=1\n",
    "\n",
    "while k<=2:  \n",
    "    print(data_My[k])\n",
    "    k+=1"
   ]
  },
  {
   "cell_type": "markdown",
   "metadata": {},
   "source": [
    "# Conclusions"
   ]
  },
  {
   "cell_type": "markdown",
   "metadata": {},
   "source": []
  },
  {
   "cell_type": "markdown",
   "metadata": {},
   "source": [
    "# References"
   ]
  },
  {
   "cell_type": "code",
   "execution_count": null,
   "metadata": {
    "collapsed": true
   },
   "outputs": [],
   "source": []
  }
 ],
 "metadata": {
  "kernelspec": {
   "display_name": "Python 3",
   "language": "python",
   "name": "python3"
  },
  "language_info": {
   "codemirror_mode": {
    "name": "ipython",
    "version": 3
   },
   "file_extension": ".py",
   "mimetype": "text/x-python",
   "name": "python",
   "nbconvert_exporter": "python",
   "pygments_lexer": "ipython3",
   "version": "3.6.2"
  }
 },
 "nbformat": 4,
 "nbformat_minor": 1
}
