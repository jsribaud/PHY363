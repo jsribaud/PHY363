{
 "cells": [
  {
   "cell_type": "markdown",
   "metadata": {
    "collapsed": true
   },
   "source": [
    "# Lab 10"
   ]
  },
  {
   "cell_type": "markdown",
   "metadata": {},
   "source": [
    "###### Nathaniel Flower"
   ]
  },
  {
   "cell_type": "markdown",
   "metadata": {},
   "source": [
    "## Abstract"
   ]
  },
  {
   "cell_type": "markdown",
   "metadata": {},
   "source": []
  },
  {
   "cell_type": "markdown",
   "metadata": {},
   "source": [
    "## Introduction"
   ]
  },
  {
   "cell_type": "markdown",
   "metadata": {},
   "source": []
  },
  {
   "cell_type": "markdown",
   "metadata": {},
   "source": [
    "## Procedure"
   ]
  },
  {
   "cell_type": "markdown",
   "metadata": {},
   "source": [
    "<p>\n",
    "I started this experiment by trying to figure out how to use the defraction aparatus. After fiddling with it a bit, I decided on using the 0 degree mark on the outside spinning plate to measure the angles. With the defraction grating centered on the aparatus, I moved the eye piece to the right until I encountered the first line. Then I recorded that angle and moved the eye piece to the left until I saw the same color line on the other side. I recorded the second angle as well and then moved to the next color line.\n",
    "</p>\n",
    "<p>\n",
    "The first element I analyzed was helium. It gave off a purplish glow. There were 6 measurable lines. On the left side there was an extra violet line but it was faint and did not appear on the right side. The colors of the lines in order from inward to outward were: violet, blue, green, a second green, yellow, and red.\n",
    "</p>\n",
    "<p>\n",
    "The second element I tested was hydrogen. This one was weird. The lines were very blurry. At first I thought it was the tube malfunctioning. I took another group's hydrogen tube to check if it was my tube or not. The new tube had the same malfunction. I tried replacing the defraction grating as well but that failed to correct the problem. At that point it became clear that the problem was a bit esoteric and I decided I would just use the two discernible lines.\n",
    "</p>\n",
    "<p>\n",
    "The final element is unknown.\n",
    "</p>"
   ]
  },
  {
   "cell_type": "markdown",
   "metadata": {},
   "source": [
    "## Data and Calculations"
   ]
  },
  {
   "cell_type": "markdown",
   "metadata": {},
   "source": []
  },
  {
   "cell_type": "code",
   "execution_count": 6,
   "metadata": {},
   "outputs": [
    {
     "name": "stdout",
     "output_type": "stream",
     "text": [
      " he1    he2   he_qual   h1    h2   ...   u2     u_qual     he     h      u   \n",
      "------ ------ ------- ----- ------ ... ------ ---------- ------ ------ ------\n",
      " 193.0  162.5  violet 194.5  160.9 ...  162.6     violet  15.25   16.8 14.825\n",
      " 194.0  161.4    blue 200.4 154.75 ... 160.75 blue-green   16.3 22.825 16.725\n",
      "194.51 160.75   green    --     -- ...  156.6     orange  16.88     --   20.9\n",
      "195.01  170.5   green    --     -- ...  154.6        red 12.255     --  22.95\n",
      "198.25  157.5  yellow    --     -- ...     --         -- 20.375     --     --\n",
      "201.25  154.5     red    --     -- ...     --         -- 23.375     --     --\n"
     ]
    }
   ],
   "source": [
    "import numpy as np\n",
    "from astropy.io import ascii\n",
    "import matplotlib.pyplot as plt\n",
    "\n",
    "data = ascii.read(\"assets/data_nf.csv\")\n",
    "\n",
    "data['he1'] += 180\n",
    "data['h1'] += 180\n",
    "data['u1'] += 180\n",
    "data['he2'] -= 180\n",
    "data['h2'] -= 180\n",
    "data['u2'] -= 180\n",
    "data['he'] = (data['he1'] - data['he2']) / 2\n",
    "data['h'] = (data['h1'] - data['h2']) / 2\n",
    "data['u'] = (data['u1'] - data['u2']) / 2\n",
    "\n",
    "print(data)"
   ]
  },
  {
   "cell_type": "markdown",
   "metadata": {},
   "source": [
    "## Conclusion"
   ]
  },
  {
   "cell_type": "code",
   "execution_count": null,
   "metadata": {
    "collapsed": true
   },
   "outputs": [],
   "source": []
  },
  {
   "cell_type": "markdown",
   "metadata": {},
   "source": [
    "## References"
   ]
  },
  {
   "cell_type": "code",
   "execution_count": null,
   "metadata": {
    "collapsed": true
   },
   "outputs": [],
   "source": []
  }
 ],
 "metadata": {
  "kernelspec": {
   "display_name": "Python 3",
   "language": "python",
   "name": "python3"
  },
  "language_info": {
   "codemirror_mode": {
    "name": "ipython",
    "version": 3
   },
   "file_extension": ".py",
   "mimetype": "text/x-python",
   "name": "python",
   "nbconvert_exporter": "python",
   "pygments_lexer": "ipython3",
   "version": "3.6.2"
  }
 },
 "nbformat": 4,
 "nbformat_minor": 2
}
