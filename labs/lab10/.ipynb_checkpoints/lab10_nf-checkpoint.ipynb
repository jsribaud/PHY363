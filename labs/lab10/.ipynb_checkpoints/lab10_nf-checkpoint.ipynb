{
 "cells": [
  {
   "cell_type": "markdown",
   "metadata": {
    "collapsed": true
   },
   "source": [
    "# Atomic Spectra"
   ]
  },
  {
   "cell_type": "markdown",
   "metadata": {},
   "source": [
    "###### Nathaniel Flower"
   ]
  },
  {
   "cell_type": "markdown",
   "metadata": {},
   "source": [
    "## Abstract"
   ]
  },
  {
   "cell_type": "markdown",
   "metadata": {},
   "source": [
    "In this lab I used elemental spectra to identify an unknown element after practicing on helium and hydrogen. I discovered that the unknown I was given was argon."
   ]
  },
  {
   "cell_type": "markdown",
   "metadata": {},
   "source": [
    "## Introduction"
   ]
  },
  {
   "cell_type": "markdown",
   "metadata": {},
   "source": [
    "<p>\n",
    "It has been known since Isaac Newton that light can be 'split' into different colors. Newton would use a prism to split white light into all the colors of the rainbow. Later it was discovered that the split white light extended outside of the visible spectrum into ultraviolet and infrared.\n",
    "</p>\n",
    "<p>\n",
    "Joseph Fraunhofer discovered in 1814 that when the sun's light was dispersed enough that he began to see dark lines. He further discovered that the locations of these lines were always the same. He needed to standardize the way the light was dispersed and there is too much variation in prisms. He invented the defraction grating to help standardize the measurements and allow them to be more easily compared.\n",
    "</p>\n",
    "<p>\n",
    "Many physicists and chemists began to observe that different sources of light defracted into different patterns. Kirchhoff formed a law that states that any source will emmit or absorb only certain types of light. This law is the foundation of this lab because we will be using the light emmitted from different sources as a type of fingerprint to establish what element we were observing.\n",
    "</p>"
   ]
  },
  {
   "cell_type": "markdown",
   "metadata": {},
   "source": [
    "## Procedure"
   ]
  },
  {
   "cell_type": "markdown",
   "metadata": {},
   "source": [
    "<p>\n",
    "I started this experiment by trying to figure out how to use the defraction aparatus. After fiddling with it a bit, I decided on using the 0 degree mark on the outside spinning plate to measure the angles. With the defraction grating centered on the aparatus, I moved the eye piece to the right until I encountered the first line. Then I recorded that angle and moved the eye piece to the left until I saw the same color line on the other side. I recorded the second angle as well and then moved to the next color line.\n",
    "</p>\n",
    "<p>\n",
    "The first element I analyzed was helium. It gave off a purplish glow. There were 6 measurable lines. On the left side there was an extra violet line but it was faint and did not appear on the right side. The colors of the lines in order from inward to outward were: violet, blue, green, a second green, yellow, and red.\n",
    "</p>\n",
    "<div>\n",
    "<img src='./assets/he_4.jpg' width=\"250\">\n",
    "<span><strong>Figure 1: Helium Tube</strong></span>\n",
    "</div>\n",
    "<br>\n",
    "<div>\n",
    "<img src='./assets/he_2.jpg' width=\"250\">\n",
    "<span><strong>Figure 2: Helium Spectrum</strong></span>\n",
    "</div>\n",
    "<br>\n",
    "<p>\n",
    "The second element I tested was hydrogen. This one was weird. The lines were very blurry. At first I thought it was the tube malfunctioning. I took another group's hydrogen tube to check if it was my tube or not. The new tube had the same malfunction. I tried replacing the defraction grating as well but that failed to correct the problem. At that point it became clear that the problem was a bit esoteric and I decided I would just use the two discernible lines.\n",
    "</p>\n",
    "<div>\n",
    "<img src='./assets/h_1.jpg' width=\"250\">\n",
    "<span><strong>Figure 1: Hydrogen Tube</strong></span>\n",
    "</div>\n",
    "<br>\n",
    "<div>\n",
    "<img src='./assets/h_2.jpg' width=\"250\">\n",
    "<span><strong>Figure 2: Hydrogen Spectrum</strong></span>\n",
    "</div>\n",
    "<br>\n",
    "<p>\n",
    "The final element is unknown.\n",
    "</p>\n",
    "<div>\n",
    "<img src='./assets/u_1.jpg' width=\"250\">\n",
    "<span><strong>Figure 1: Unknown Tube</strong></span>\n",
    "</div>\n",
    "<br>\n",
    "<div>\n",
    "<img src='./assets/u_2.jpg' width=\"250\">\n",
    "<span><strong>Figure 2: Unknown Spectrum</strong></span>\n",
    "</div>"
   ]
  },
  {
   "cell_type": "markdown",
   "metadata": {},
   "source": [
    "## Data and Calculations"
   ]
  },
  {
   "cell_type": "markdown",
   "metadata": {},
   "source": [
    "he qualatative|he wavelength (nm)|h qualatative|h wavelength (nm)|u qualatative|u wavelength (nm)\n",
    "-------|-------------|------|-------------|----------|-------------\n",
    "violet|439.262128145|blue|482.683100897|violet|427.298875118\n",
    "blue|468.713403898|red|647.822706347|blue-green|480.589963715\n",
    "green|484.914868862|--|--|orange|595.752458864\n",
    "green|354.47912792|--|--|red|651.179238606\n",
    "yellow|581.432289717|--|--|--|--\n",
    "red|662.568169428|--|--|--|--"
   ]
  },
  {
   "cell_type": "markdown",
   "metadata": {},
   "source": [
    "<p>\n",
    "Since I measured from one defracted line to the other on the other side, the true angle is one half of the measured angle.\n",
    "</p>\n",
    "<p>\n",
    "We also need to use the Bragg Equation given as:\n",
    "\\begin{equation}\n",
    "2d\\sin{\\theta}=n\\lambda\n",
    "\\end{equation}\n",
    "For our purposes, n=1. The tricky part is that I plugged in 600 lines/mm for d but I was getting the wrong answer. Chelsey informed me that I should be using 1.67x10^-6. I asked her why and she told me that she didn't know but Brittany and Hope said to use it and it works. So, in a blatent kind of deus ex machina, substitute 1.67x10^-6 for 2*d to get the final equation:\n",
    "\\begin{equation}\n",
    "\\lambda = 1.67*10^-6 \\sin{\\theta}\n",
    "\\end{equation}\n",
    "</p>"
   ]
  },
  {
   "cell_type": "code",
   "execution_count": 2,
   "metadata": {},
   "outputs": [
    {
     "data": {
      "image/png": "[encoded data removed]",
      "text/plain": [
       "<matplotlib.figure.Figure at 0x1c5d38bd470>"
      ]
     },
     "metadata": {},
     "output_type": "display_data"
    },
    {
     "data": {
      "image/png": "[encoded data removed]",
      "text/plain": [
       "<matplotlib.figure.Figure at 0x1c5d6d834a8>"
      ]
     },
     "metadata": {},
     "output_type": "display_data"
    },
    {
     "data": {
      "image/png": "[encoded data removed]",
      "text/plain": [
       "<matplotlib.figure.Figure at 0x1c5d6e14668>"
      ]
     },
     "metadata": {},
     "output_type": "display_data"
    },
    {
     "data": {
      "image/png": "[encoded data removed]",
      "text/plain": [
       "<matplotlib.figure.Figure at 0x1c5d6e93f28>"
      ]
     },
     "metadata": {},
     "output_type": "display_data"
    },
    {
     "data": {
      "image/png": "[encoded data removed]",
      "text/plain": [
       "<matplotlib.figure.Figure at 0x1c5d59cbd30>"
      ]
     },
     "metadata": {},
     "output_type": "display_data"
    },
    {
     "data": {
      "image/png": "[encoded data removed]",
      "text/plain": [
       "<matplotlib.figure.Figure at 0x1c5d5ccd128>"
      ]
     },
     "metadata": {},
     "output_type": "display_data"
    }
   ],
   "source": [
    "import numpy as np\n",
    "from astropy.io import ascii\n",
    "import matplotlib.pyplot as plt\n",
    "import math\n",
    "\n",
    "def get_color(wavelen):\n",
    "    if wavelen < 390 or wavelen > 700:\n",
    "        return 'white'\n",
    "    if wavelen < 420:\n",
    "        return 'violet'\n",
    "    if wavelen < 440:\n",
    "        return 'indigo'\n",
    "    if wavelen < 490:\n",
    "        return 'blue'\n",
    "    if wavelen < 570:\n",
    "        return 'green'\n",
    "    if wavelen < 585:\n",
    "        return 'yellow'\n",
    "    if wavelen < 620:\n",
    "        return 'orange'\n",
    "    if wavelen < 780:\n",
    "        return 'red'\n",
    "\n",
    "np.warnings.filterwarnings('ignore')\n",
    "\n",
    "data = ascii.read(\"assets/data_nf.csv\")\n",
    "\n",
    "data['he'] = -(data['he1'] - data['he2']) / 2\n",
    "data['h'] = -(data['h1'] - data['h2']) / 2\n",
    "data['u'] = -(data['u1'] - data['u2']) / 2\n",
    "data['he'] = 1.67e-6*np.sin(np.radians(data['he']))/1e-9\n",
    "data['h'] = 1.67e-6*np.sin(np.radians(data['h']))/1e-9\n",
    "data['u'] = 1.67e-6*np.sin(np.radians(data['u']))/1e-9\n",
    "\n",
    "plt.figure(0)\n",
    "plt.title(\"Hydrogen Experimental\")\n",
    "for i in data['h']:\n",
    "    plt.axvline(x=i, color=get_color(i))\n",
    "\n",
    "plt.figure(1)\n",
    "plt.title(\"Hydrogen Accepted\")\n",
    "for i in [656.3, 486.1, 434.0, 410.2, 397.0]:\n",
    "    plt.axvline(x=i, color=get_color(i))\n",
    "    \n",
    "plt.figure(2)\n",
    "plt.title(\"Helium Experimental\")\n",
    "for j in data['he']:\n",
    "    plt.axvline(x=j, color=get_color(j))\n",
    "    \n",
    "plt.figure(3)\n",
    "plt.title(\"Helium Accepted\")\n",
    "for j in [438.793, 443.755, 447.148, 471.314, 492.193, 501.567, 504.774, 587.562, 667.815]:\n",
    "    plt.axvline(x=j, color=get_color(j))\n",
    "\n",
    "\n",
    "plt.figure(4)\n",
    "plt.title(\"Unknown Experimental\")\n",
    "for k in data['u']:\n",
    "    plt.axvline(x=k, color=get_color(k))\n",
    "    \n",
    "plt.figure(5)\n",
    "plt.title(\"Argon Accepted\")\n",
    "for k in [377, 394, 404, 415, 416, 418, 419, 420, 425, 426, 433, 451, 518, \n",
    "         549, 555, 560, 565, 588, 591, 604, 638, 641, 667, 675, 680]:\n",
    "    plt.axvline(x=k, color=get_color(k))\n",
    "\n",
    "for i in range(6):\n",
    "    plt.figure(i)\n",
    "    axes = plt.gca()\n",
    "    axes.set_xlim([380,700])\n",
    "    plt.xlabel(\"Wavelength (nm)\")\n",
    "    axes.set_yticklabels([])\n",
    "    #axes.invert_xaxis()\n",
    "    \n",
    "\n",
    "plt.show()"
   ]
  },
  {
   "cell_type": "markdown",
   "metadata": {},
   "source": [
    "<p>\n",
    "From the spectrum above, it appears that the unknown element was argon.\n",
    "</p>"
   ]
  },
  {
   "cell_type": "markdown",
   "metadata": {},
   "source": [
    "## Conclusion"
   ]
  },
  {
   "cell_type": "markdown",
   "metadata": {
    "collapsed": true
   },
   "source": [
    "<p>\n",
    "I found that the unknown element was argon. The blue line from the experimental spectra does make me somewhat unconfident in my answer since it exists in a large gap of argon's spectra. However, I had been struggling with extra lines the whole experiment and that leads me to believe that the blue line is likely an anomaly introduced by the equipment.\n",
    "</p>\n",
    "<p>\n",
    "The uncertainty in my measurements is also negligible because of the way I did my analysis. Instead of trying to match up the values of wavelengths directly, I plotted them and compared visually. The brain is great at pattern recognition so any small deviations from uncertainty would not matter but any large errors (like that blue line in the argon spectra) would.\n",
    "</p>"
   ]
  },
  {
   "cell_type": "markdown",
   "metadata": {},
   "source": [
    "## References"
   ]
  },
  {
   "cell_type": "markdown",
   "metadata": {
    "collapsed": true
   },
   "source": [
    "<ul>\n",
    "<li>Chelsey McMichael</li>\n",
    "<li>NIST Atomic Spectra Database</li>\n",
    "<li>http://web.mit.edu/spectroscopy/history/history-classical.html</li>\n",
    "</ul>\n",
    "<p>\n",
    "Special shout out to Liam. Your bullying and rude comments about my attempted graphs pushed me to discover how to color them. I appreciate you being unwilling to let me be better than you and insist that I am much better than you. You're sacrifice and humility is the stuff of legends.\n",
    "</p>"
   ]
  }
 ],
 "metadata": {
  "kernelspec": {
   "display_name": "Python 3",
   "language": "python",
   "name": "python3"
  },
  "language_info": {
   "codemirror_mode": {
    "name": "ipython",
    "version": 3
   },
   "file_extension": ".py",
   "mimetype": "text/x-python",
   "name": "python",
   "nbconvert_exporter": "python",
   "pygments_lexer": "ipython3",
   "version": "3.6.2"
  }
 },
 "nbformat": 4,
 "nbformat_minor": 2
}
