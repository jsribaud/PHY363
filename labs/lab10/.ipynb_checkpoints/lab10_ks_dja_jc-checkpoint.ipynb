{
 "cells": [
  {
   "cell_type": "markdown",
   "metadata": {},
   "source": [
    "# Lab 9: Electron Diffraction\n",
    "Kollin Schultz, Dan Alfeo"
   ]
  },
  {
   "cell_type": "markdown",
   "metadata": {},
   "source": [
    "# Abstract\n",
    "\n",
    "Our experiment investigated the wave nature of electrons, and used it to determine the spacing of carbon atoms in a graphite layer. By sending a beam of electrons through a layer of graphite and measuring the rings projected on a luminescent screen, we were able to calculate the spacing of the carbon atoms. The spacing was calculated to be 1.00 and 1.84 angstroms for the carbon atoms. These values had 18.38% and 13.39% error from the accepted values of 1.23 and 2.13 angstroms respectively."
   ]
  },
  {
   "cell_type": "markdown",
   "metadata": {},
   "source": [
    "# Introduction\n",
    "In 1926, de Broglie propose wave-particle duality and its application to particles beyond photons. The particle nature of electrons had been previously found. To confirm de Broglie's theory, experiments showing the wave nature of electrons were needed. One experiment that shows the wave nature of electrons is the diffraction of electrons. By passing a beam of electrons through a layer of carbon, and measuring the pattern on a luminescent screen. Two rings appear on the screen that correspond to the different separation distances between carbon atoms. The wave nature of the electrons allows for the diameter of the rings to be calculated using the accelerating voltage, by de Broglie's equation $\\lambda$=h/mv. Our experiment, used de Broglie's relationship to determine the spacing between carbon atoms by measuring the ring diameters at varying voltages."
   ]
  },
  {
   "cell_type": "markdown",
   "metadata": {},
   "source": [
    "# Methods\n",
    "\n",
    "To determine the spacing between carbon atoms, a 3B Scientific electron diffraction tube and a Pasco Scientific power supply were used (Figure 1). The diameter of the two rings projected onto the luminescent screen at varying voltages were measured using a ruler. The measurements were used to calculate the spacing between carbon atoms, which is detailed in the results and analysis section. Figure 1 shows the basic experimental setup, and the equipment used.\n",
    "\n",
    "![A local image](lab09_Dan_Kollin_image.jpg)\n",
    "\n",
    "Figure 1: A visual of the lab equipment used, and the basic experimental setup."
   ]
  },
  {
   "cell_type": "markdown",
   "metadata": {},
   "source": [
    "# Results and Analysis\n",
    "\n"
   ]
  },
  {
   "cell_type": "code",
   "execution_count": 33,
   "metadata": {},
   "outputs": [
    {
     "data": {
      "text/html": [
       "&lt;Table length=12&gt;\n",
       "<table id=\"table740146431088\" class=\"table-striped table-bordered table-condensed\">\n",
       "<thead><tr><th>vA (kV)</th><th>D-Inner (cm)</th><th>D-Large (cm)</th></tr></thead>\n",
       "<thead><tr><th>float64</th><th>float64</th><th>float64</th></tr></thead>\n",
       "<tr><td>2.8</td><td>3.15</td><td>5.2</td></tr>\n",
       "<tr><td>3.0</td><td>3.05</td><td>5.1</td></tr>\n",
       "<tr><td>3.2</td><td>2.95</td><td>4.85</td></tr>\n",
       "<tr><td>3.4</td><td>2.8</td><td>4.75</td></tr>\n",
       "<tr><td>3.6</td><td>2.65</td><td>4.7</td></tr>\n",
       "<tr><td>3.8</td><td>2.6</td><td>4.6</td></tr>\n",
       "<tr><td>4.0</td><td>2.55</td><td>4.4</td></tr>\n",
       "<tr><td>4.2</td><td>2.5</td><td>4.05</td></tr>\n",
       "<tr><td>4.4</td><td>2.45</td><td>3.95</td></tr>\n",
       "<tr><td>4.6</td><td>2.4</td><td>3.85</td></tr>\n",
       "<tr><td>4.8</td><td>2.35</td><td>3.8</td></tr>\n",
       "<tr><td>5.0</td><td>2.25</td><td>3.65</td></tr>\n",
       "</table>"
      ],
      "text/plain": [
       "<Table length=12>\n",
       "vA (kV) D-Inner (cm) D-Large (cm)\n",
       "float64   float64      float64   \n",
       "------- ------------ ------------\n",
       "    2.8         3.15          5.2\n",
       "    3.0         3.05          5.1\n",
       "    3.2         2.95         4.85\n",
       "    3.4          2.8         4.75\n",
       "    3.6         2.65          4.7\n",
       "    3.8          2.6          4.6\n",
       "    4.0         2.55          4.4\n",
       "    4.2          2.5         4.05\n",
       "    4.4         2.45         3.95\n",
       "    4.6          2.4         3.85\n",
       "    4.8         2.35          3.8\n",
       "    5.0         2.25         3.65"
      ]
     },
     "execution_count": 33,
     "metadata": {},
     "output_type": "execute_result"
    }
   ],
   "source": [
    "import math\n",
    "import astropy.units as u\n",
    "from astropy.io import ascii\n",
    "import numpy as np\n",
    "from sklearn.neighbors import KernelDensity\n",
    "import matplotlib.pyplot as plt\n",
    "from scipy.optimize import curve_fit"
   ]
  },
  {
   "cell_type": "code",
   "execution_count": 34,
   "metadata": {},
   "outputs": [
    {
     "data": {
      "image/png": "[encoded data removed]",
      "text/plain": [
       "<matplotlib.figure.Figure at 0xac51212a20>"
      ]
     },
     "metadata": {},
     "output_type": "display_data"
    }
   ],
   "source": [
    "data = ascii.read('lab09_data_ks_dja.csv')\n",
    "x = (data['vA (kV)']*1000)**(-1/2)\n",
    "y = data['D-Inner (cm)']*10\n",
    "std_dev=np.std(y)\n",
    "\n",
    "def func(x, a, b):\n",
    "    return a*x + b\n",
    "\n",
    "popt1, pcov1 = curve_fit(func, x, y, absolute_sigma=std_dev)\n",
    "\n",
    "plt.plot(x, y, 'go')\n",
    "plt.plot(x, np.polyval(popt1, x), 'r')\n",
    "plt.errorbar(x, y, yerr=std_dev, fmt='go')\n",
    "plt.text(0.015, 21, r\"a = {0:.9f} +/- {1:.9f}\".format(popt1[0], pcov1[0,0]**0.5))\n",
    "plt.text(0.015, 20, r\"b = {0:.3f} +/- {1:.3f}\".format(popt1[1], pcov1[1,1]**0.5))\n",
    "plt.xlabel(\"1/(V^(1/2)) where V is vA in volts\")\n",
    "plt.ylabel(\"Inner Diameter (mm)\")\n",
    "plt.show()"
   ]
  },
  {
   "cell_type": "code",
   "execution_count": 35,
   "metadata": {},
   "outputs": [
    {
     "data": {
      "image/png": "[encoded data removed]",
      "text/plain": [
       "<matplotlib.figure.Figure at 0xac51212cc0>"
      ]
     },
     "metadata": {},
     "output_type": "display_data"
    }
   ],
   "source": [
    "data = ascii.read('lab09_data_ks_dja.csv')\n",
    "x = (data['vA (kV)']*1000)**(-1/2)\n",
    "y = data['D-Large (cm)']*10\n",
    "std_dev=np.std(y)\n",
    "\n",
    "def func(x, a, b):\n",
    "    return a*x + b\n",
    "\n",
    "popt2, pcov2 = curve_fit(func, x, y, absolute_sigma=std_dev)\n",
    "\n",
    "plt.plot(x, y, 'go')\n",
    "plt.plot(x, np.polyval(popt2, x), 'r')\n",
    "plt.errorbar(x, y, yerr=std_dev, fmt='go')\n",
    "plt.text(0.0155, 35, r\"a = {0:.9f} +/- {1:.9f}\".format(popt1[0], pcov1[0,0]**0.5))\n",
    "plt.text(0.0155, 33, r\"b = {0:.3f} +/- {1:.3f}\".format(popt1[1], pcov1[1,1]**0.5))\n",
    "plt.xlabel(\"1/(V^(1/2)) where V is vA in volts\")\n",
    "plt.ylabel(\"Outer Diameter (mm)\")\n",
    "plt.show()"
   ]
  },
  {
   "cell_type": "code",
   "execution_count": 36,
   "metadata": {},
   "outputs": [
    {
     "name": "stdout",
     "output_type": "stream",
     "text": [
      "1.00392318182 Angstroms Inner\n",
      "1.84470714774 Angstroms Outer\n",
      "18.3802291205 % Error Inner\n",
      "13.3940306224 % Error Outer\n"
     ]
    }
   ],
   "source": [
    "L=139\n",
    "slope_i=popt2[0]\n",
    "slope_o=popt1[0]\n",
    "\n",
    "Di = (2*L*math.sqrt(150))/slope_i\n",
    "Do = (2*L*math.sqrt(150))/slope_o\n",
    "\n",
    "percent_error_i = (abs(1.23-Di)/1.23)*100\n",
    "percent_error_o = (abs(2.13-Do)/2.13)*100\n",
    "\n",
    "print(Di, \"Angstroms Inner\")\n",
    "print(Do, \"Angstroms Outer\")\n",
    "print(percent_error_i, \"% Error Inner\")\n",
    "print(percent_error_o, \"% Error Outer\")"
   ]
  },
  {
   "cell_type": "markdown",
   "metadata": {},
   "source": [
    "## Conclusion\n",
    "\n",
    "We wish to be able to use the data of inner and outer rings displayed on the lamp at varying voltages to find the spacing between hexagonal diffracting planes. After finding the diameters of inner and outer rings for 12 different voltages, we receive values spacing of 1.0039 Angstroms for the inner spacing and 1.8447 Angstroms for the outer spacing. Our value for the inner spacing has a 18.38% error from  the accepted value of 1.23 Angstroms. Our value for the outer spacing has a 13.39% Error from the accepted value of 2.13 Angstroms. This percent error is likely due to a lack of data points. Taking a larger number of data points for many different voltages would likely yield a more accurate calculated value. Also, finding a more accurate way to measure L, the length from the bulb to the source, could also yield more accurate results. Also, taking multiple measurements for a single voltage value could increase accuracy in our data."
   ]
  },
  {
   "cell_type": "markdown",
   "metadata": {
    "collapsed": true
   },
   "source": [
    "# Acknowledgements\n",
    "\n"
   ]
  },
  {
   "cell_type": "markdown",
   "metadata": {
    "collapsed": true
   },
   "source": []
  },
  {
   "cell_type": "code",
   "execution_count": null,
   "metadata": {
    "collapsed": true
   },
   "outputs": [],
   "source": []
  }
 ],
 "metadata": {
  "kernelspec": {
   "display_name": "Python 3",
   "language": "python",
   "name": "python3"
  },
  "language_info": {
   "codemirror_mode": {
    "name": "ipython",
    "version": 3
   },
   "file_extension": ".py",
   "mimetype": "text/x-python",
   "name": "python",
   "nbconvert_exporter": "python",
   "pygments_lexer": "ipython3",
   "version": "3.6.1"
  }
 },
 "nbformat": 4,
 "nbformat_minor": 1
}
