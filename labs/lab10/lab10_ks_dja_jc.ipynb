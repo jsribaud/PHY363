{
 "cells": [
  {
   "cell_type": "markdown",
   "metadata": {},
   "source": [
    "# Lab 9: Electron Diffraction\n",
    "Kollin Schultz, Dan Alfeo"
   ]
  },
  {
   "cell_type": "markdown",
   "metadata": {},
   "source": [
    "# Abstract\n",
    "\n",
    "Our experiment investigated the wave nature of electrons, and used it to determine the spacing of carbon atoms in a graphite layer. By sending a beam of electrons through a layer of graphite and measuring the rings projected on a luminescent screen, we were able to calculate the spacing of the carbon atoms. The spacing was calculated to be 1.00 and 1.84 angstroms for the carbon atoms. These values had 18.38% and 13.39% error from the accepted values of 1.23 and 2.13 angstroms respectively."
   ]
  },
  {
   "cell_type": "markdown",
   "metadata": {},
   "source": [
    "# Introduction\n",
    "In 1926, de Broglie propose wave-particle duality and its application to particles beyond photons. The particle nature of electrons had been previously found. To confirm de Broglie's theory, experiments showing the wave nature of electrons were needed. One experiment that shows the wave nature of electrons is the diffraction of electrons. By passing a beam of electrons through a layer of carbon, and measuring the pattern on a luminescent screen. Two rings appear on the screen that correspond to the different separation distances between carbon atoms. The wave nature of the electrons allows for the diameter of the rings to be calculated using the accelerating voltage, by de Broglie's equation $\\lambda$=h/mv. Our experiment, used de Broglie's relationship to determine the spacing between carbon atoms by measuring the ring diameters at varying voltages."
   ]
  },
  {
   "cell_type": "markdown",
   "metadata": {},
   "source": [
    "# Methods\n",
    "\n",
    "To determine the spacing between carbon atoms, a 3B Scientific electron diffraction tube and a Pasco Scientific power supply were used (Figure 1). The diameter of the two rings projected onto the luminescent screen at varying voltages were measured using a ruler. The measurements were used to calculate the spacing between carbon atoms, which is detailed in the results and analysis section. Figure 1 shows the basic experimental setup, and the equipment used.\n",
    "\n",
    "![A local image](lab09_Dan_Kollin_image.jpg)\n",
    "\n",
    "Figure 1: A visual of the lab equipment used, and the basic experimental setup."
   ]
  },
  {
   "cell_type": "markdown",
   "metadata": {},
   "source": [
    "# Results and Analysis\n",
    "\n",
    "By passing a beam of light, from excited gas molecules, through a diffraction gradient, spectral lines of the visible spectrum are separated. Each color corresponds to a different wavelength range (Table 1). The difference in wavelength between colors changes the diffraction angle and separates them within the emission spectrum. In our experiment, the light was passed through a diffraction gradient with 600 slits per millimeter. The angle of diffraction for each visible color was measured by each member of the group and an average value was calculated (Table 2). From the measured diffraction angle, the wavelength of the light can be calculated with the equation: \\begin{equation} \\lambda=dsin\\phi \\end{equation}\n",
    "\n",
    "From our calculations, all but the hydrogen emission blue line and the helium green line were within the expected wavelength range for the color observed.\n",
    "![A local image](lab10_light_wavelength_ranges.jpg)  Table 1: Wavelength ranges corresponding to the different colors of visible light.\n"
   ]
  },
  {
   "cell_type": "code",
   "execution_count": 47,
   "metadata": {},
   "outputs": [
    {
     "name": "stdout",
     "output_type": "stream",
     "text": [
      "﻿Molecule     Color     Measure1 Measure2 Measure3 Average phi\n",
      "--------- ------------- -------- -------- -------- -----------\n",
      " Hydrogen        Violet    13.25     13.5    14.05        13.6\n",
      " Hydrogen          Blue    15.75     14.6    14.75       15.03\n",
      " Hydrogen         Green    18.75    18.55     17.2       18.17\n",
      " Hydrogen Orange/Yellow    20.75     19.9     19.8       20.15\n",
      " Hydrogen           Red     22.7     24.5     21.7       22.97\n",
      "   Helium        Violet    13.85    14.75     13.8       14.13\n",
      "   Helium          Blue     16.3     16.0    14.95       15.75\n",
      "   Helium         Green    16.35    17.75     16.2       16.77\n",
      "   Helium Orange/Yellow    20.45    20.75     19.3       20.17\n",
      "   Helium           Red     23.4     24.0     23.6       23.67\n",
      "  Mystery        Violet     14.5    14.75     14.2       14.48\n",
      "  Mystery          Blue    15.75    16.15    15.25       15.72\n",
      "  Mystery         Green    18.75    17.15     18.0       17.97\n",
      "  Mystery Orange/Yellow    20.85    19.95     20.2       20.33\n",
      "  Mystery           Red    23.25     21.7    21.25       22.07\n",
      "Table 2: Phi measurements.\n",
      "Violet\n",
      "391.903521838\n",
      "406.871336947\n",
      "416.73673588\n",
      "Blue\n",
      "432.207945302\n",
      "452.400749775\n",
      "451.56078716\n",
      "Green\n",
      "519.729119196\n",
      "480.884176718\n",
      "514.198300018\n",
      "Orange/Yellow\n",
      "574.1317966\n",
      "574.677929818\n",
      "579.044469152\n",
      "Red\n",
      "650.415166228\n",
      "669.113802945\n",
      "626.231803888\n"
     ]
    }
   ],
   "source": [
    "#Imported necessary software for calculations.\n",
    "import math\n",
    "import astropy.units as u\n",
    "from astropy.io import ascii\n",
    "import numpy as np\n",
    "\n",
    "#Imported recorded data and generated table for reader to reference.\n",
    "data=ascii.read('lab10_data_ks_dja_jc.csv')\n",
    "print(data)\n",
    "print('Table 2: Phi measurements.')\n",
    "\n",
    "#Defined and sorted the variables, according to the color of the light, to be used in the wavelength calculations.\n",
    "d=1/.0006\n",
    "v1=np.sin(np.deg2rad(data[0][5]))\n",
    "v2=np.sin(np.deg2rad(data[5][5]))\n",
    "v3=np.sin(np.deg2rad(data[10][5]))\n",
    "\n",
    "b1=np.sin(np.deg2rad(data[1][5]))\n",
    "b2=np.sin(np.deg2rad(data[6][5]))\n",
    "b3=np.sin(np.deg2rad(data[11][5]))\n",
    "\n",
    "g1=np.sin(np.deg2rad(data[2][5]))\n",
    "g2=np.sin(np.deg2rad(data[7][5]))\n",
    "g3=np.sin(np.deg2rad(data[12][5]))\n",
    "\n",
    "o1=np.sin(np.deg2rad(data[3][5]))\n",
    "o2=np.sin(np.deg2rad(data[8][5]))\n",
    "o3=np.sin(np.deg2rad(data[13][5]))\n",
    "\n",
    "r1=np.sin(np.deg2rad(data[4][5]))\n",
    "r2=np.sin(np.deg2rad(data[9][5]))\n",
    "r3=np.sin(np.deg2rad(data[14][5]))\n",
    "\n",
    "#Calculated and printed the wavelengths for each of the measured spectal lines.\n",
    "HV=d*v1 #nm\n",
    "HeV=d*v2 #nm\n",
    "MV=d*v3 #nm\n",
    "\n",
    "HB=d*b1 #nm\n",
    "HeB=d*b2 #nm\n",
    "MB=d*b3 #nm\n",
    "\n",
    "HG=d*g1 #nm\n",
    "HeG=d*g2 #nm\n",
    "MG=d*g3 #nm\n",
    "\n",
    "HO=d*o1 #nm\n",
    "HeO=d*o2 #nm\n",
    "MO=d*o3 #nm\n",
    "\n",
    "HR=d*r1 #nm\n",
    "HeR=d*r2 #nm\n",
    "MR=d*r3 #nm\n",
    "\n",
    "print('Violet')\n",
    "print(HV)\n",
    "print(HeV)\n",
    "print(MV)\n",
    "print('Blue')\n",
    "print(HB)\n",
    "print(HeB)\n",
    "print(MB)\n",
    "print('Green')\n",
    "print(HG)\n",
    "print(HeG)\n",
    "print(MG)\n",
    "print('Orange/Yellow')\n",
    "print(HO)\n",
    "print(HeO)\n",
    "print(MO)\n",
    "print('Red')\n",
    "print(HR)\n",
    "print(HeR)\n",
    "print(MR)"
   ]
  },
  {
   "cell_type": "markdown",
   "metadata": {},
   "source": [
    "## Conclusion\n",
    "\n",
    "We wish to be able to use the data of inner and outer rings displayed on the lamp at varying voltages to find the spacing between hexagonal diffracting planes. After finding the diameters of inner and outer rings for 12 different voltages, we receive values spacing of 1.0039 Angstroms for the inner spacing and 1.8447 Angstroms for the outer spacing. Our value for the inner spacing has a 18.38% error from  the accepted value of 1.23 Angstroms. Our value for the outer spacing has a 13.39% Error from the accepted value of 2.13 Angstroms. This percent error is likely due to a lack of data points. Taking a larger number of data points for many different voltages would likely yield a more accurate calculated value. Also, finding a more accurate way to measure L, the length from the bulb to the source, could also yield more accurate results. Also, taking multiple measurements for a single voltage value could increase accuracy in our data."
   ]
  },
  {
   "cell_type": "markdown",
   "metadata": {
    "collapsed": true
   },
   "source": [
    "# Acknowledgements\n",
    "\n"
   ]
  },
  {
   "cell_type": "markdown",
   "metadata": {
    "collapsed": true
   },
   "source": []
  },
  {
   "cell_type": "code",
   "execution_count": null,
   "metadata": {
    "collapsed": true
   },
   "outputs": [],
   "source": []
  }
 ],
 "metadata": {
  "kernelspec": {
   "display_name": "Python 3",
   "language": "python",
   "name": "python3"
  },
  "language_info": {
   "codemirror_mode": {
    "name": "ipython",
    "version": 3
   },
   "file_extension": ".py",
   "mimetype": "text/x-python",
   "name": "python",
   "nbconvert_exporter": "python",
   "pygments_lexer": "ipython3",
   "version": "3.6.1"
  }
 },
 "nbformat": 4,
 "nbformat_minor": 1
}
