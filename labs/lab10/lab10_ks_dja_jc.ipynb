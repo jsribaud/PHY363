{
 "cells": [
  {
   "cell_type": "markdown",
   "metadata": {},
   "source": [
    "# Lab 10: Emission Spectroscopy\n",
    "Kollin Schultz, Dan Alfeo, Jelena Colon"
   ]
  },
  {
   "cell_type": "markdown",
   "metadata": {},
   "source": [
    "# Abstract\n",
    "In this experiment we passed a stream of electrons through three different glass tubes containing vaporized Hydrogen, Helium, and an unknown element (one element in each tube). We used a spectrometer to find the diffraction angles for the emission spectra of each element. Using these measured angles, we used the equation \\begin{equation} \\lambda=dsin\\phi \\end{equation}to calculate the wavelengths for each emission spectra. We then compared our results to Figure 1 which shows the unique spectra emitted by various elements. We deduced the unknown element to be oxygen."
   ]
  },
  {
   "cell_type": "markdown",
   "metadata": {},
   "source": [
    "# Introduction\n",
    "In 1924, Louis de Broglie had suggested that a stream of electrons travelling through a small gap should exhibit diffraction phenomena similar to the bending of light around the corners of an obstacle. In 1925, Einstein began to theorize about the existence of matter waves from an analysis of fluctuations of a molecular gas, and he stated that a molecular beam should show small but measurable diffraction effects. Walter Elsasser in the same year pointed out that the electron scattering experiments of C. J. Davisson and C. H. Kunsman could be explained by electron diffraction. Proof of the wave nature of electrons was obtained in 1927 by the work of Clinton J. Davisson and Lester H. Germer at the Bell Laboratories in New York City. Their experiment was originally an attempt to understand the arrangement of atoms on the surface of a nickle sample by elastically scattering a beam of low-speed electrons from a polycrystalline nickel target. After an accident occurred which ruptured the vacuum and oxidized the nickle target, the oxide was removed by heating the sample in a flowing stream of hydrogen. When the apparatus was reconstructed, different results were found. There were observations of strong variations in the intensity of scattered electrons with respective angles. This was due to large single-crystal regions developing in the polycrystalline sample. From this experiment, an experimental wavelength may be obtained by considering the nickel atoms to be a diffraction grating. Constructive interference occurs when the displacement difference between adjacent rays is an integral number of wavelengths, so \\begin{equation} \\lambda=dsin\\phi \\end{equation}Using this formula, Davisson and Germer calculated the wavelength of 54.0V electrons to be 1.65 Angstrom, which is in close agreement to the value found using the de Broglie formula which is 1.67 Angstrom.\n",
    "\n",
    "Utilizing these results, we are able to calculate the wavelengths for emission spectra of Hydrogen, Helium, and an unknown element by passing a stream of electrons through a tube containing these vaporized elements. We use a spectrometer to measure the angles of diffraction, phi, for the emission spectra of each element. Using the proven equation from the Davisson-Germer experiment, we can calculate the wavelengths and compare our results to identify the unknown element."
   ]
  },
  {
   "cell_type": "markdown",
   "metadata": {},
   "source": [
    "# Methods\n",
    "\n",
    "During this experiment we utilized a diffraction grating spectrometer pictured below (figure 1). A diffraction grating splits a single beam of light into the many colors which it contains. The colors should be ordered like a rainbow, from blue on one side to red on the other. The brightness of the image in each color shows you how much light the object is emitting of that color. Using these diffraction gratings we were able to look at tubes which contained gases of different elements. By heating the tubes with electricty the gases were excited which caused the atoms to emit light. Starting with Hydrogen, we obsereved the spectra and recorded the diffraction angle for each color. We each individually recorded the measurements for hydrogen which resulted in a data set of three values per color. This was repeated for Helium and then for the mystery element.\n",
    "\n",
    "<img src=\"SpectrumTubeSetup.jpg\">\n",
    "\n",
    "Figure 1: Setup"
   ]
  },
  {
   "cell_type": "markdown",
   "metadata": {},
   "source": [
    "# Results and Analysis\n",
    "\n",
    "By passing a beam of light, from excited gas molecules, through a diffraction gradient, spectral lines of the visible spectrum are separated. Each color corresponds to a different wavelength range (Table 1). The difference in wavelength between colors changes the diffraction angle and separates them within the emission spectrum. In our experiment, the light was passed through a diffraction gradient with 600 slits per millimeter. The angle of diffraction for each visible color was measured by each member of the group and an average value was calculated (Table 2). From the measured diffraction angle, the wavelength of the light can be calculated with the equation: \\begin{equation} \\lambda=dsin\\phi \\end{equation}\n",
    "\n",
    "From our calculations, all but the hydrogen emission blue line and the helium green line were within the expected wavelength range for the color observed.\n",
    "![A local image](lab10_light_wavelength_ranges.jpg)  \n",
    "\n",
    "         Table 1: Wavelength ranges corresponding to the different colors of visible light.\n"
   ]
  },
  {
   "cell_type": "code",
   "execution_count": 11,
   "metadata": {},
   "outputs": [
    {
     "data": {
      "text/html": [
       "&lt;Table length=15&gt;\n",
       "<table id=\"table4495243808\" class=\"table-striped table-bordered table-condensed\">\n",
       "<thead><tr><th>﻿Molecule</th><th>Color</th><th>Measure1</th><th>Measure2</th><th>Measure3</th><th>Average phi</th></tr></thead>\n",
       "<thead><tr><th>str8</th><th>str13</th><th>float64</th><th>float64</th><th>float64</th><th>float64</th></tr></thead>\n",
       "<tr><td>Hydrogen</td><td>Violet</td><td>13.25</td><td>13.5</td><td>14.05</td><td>13.6</td></tr>\n",
       "<tr><td>Hydrogen</td><td>Blue</td><td>15.75</td><td>14.6</td><td>14.75</td><td>15.03</td></tr>\n",
       "<tr><td>Hydrogen</td><td>Green</td><td>18.75</td><td>18.55</td><td>17.2</td><td>18.17</td></tr>\n",
       "<tr><td>Hydrogen</td><td>Orange/Yellow</td><td>20.75</td><td>19.9</td><td>19.8</td><td>20.15</td></tr>\n",
       "<tr><td>Hydrogen</td><td>Red</td><td>22.7</td><td>24.5</td><td>21.7</td><td>22.97</td></tr>\n",
       "<tr><td>Helium</td><td>Violet</td><td>13.85</td><td>14.75</td><td>13.8</td><td>14.13</td></tr>\n",
       "<tr><td>Helium</td><td>Blue</td><td>16.3</td><td>16.0</td><td>14.95</td><td>15.75</td></tr>\n",
       "<tr><td>Helium</td><td>Green</td><td>16.35</td><td>17.75</td><td>16.2</td><td>16.77</td></tr>\n",
       "<tr><td>Helium</td><td>Orange/Yellow</td><td>20.45</td><td>20.75</td><td>19.3</td><td>20.17</td></tr>\n",
       "<tr><td>Helium</td><td>Red</td><td>23.4</td><td>24.0</td><td>23.6</td><td>23.67</td></tr>\n",
       "<tr><td>Mystery</td><td>Violet</td><td>14.5</td><td>14.75</td><td>14.2</td><td>14.48</td></tr>\n",
       "<tr><td>Mystery</td><td>Blue</td><td>15.75</td><td>16.15</td><td>15.25</td><td>15.72</td></tr>\n",
       "<tr><td>Mystery</td><td>Green</td><td>18.75</td><td>17.15</td><td>18.0</td><td>17.97</td></tr>\n",
       "<tr><td>Mystery</td><td>Orange/Yellow</td><td>20.85</td><td>19.95</td><td>20.2</td><td>20.33</td></tr>\n",
       "<tr><td>Mystery</td><td>Red</td><td>23.25</td><td>21.7</td><td>21.25</td><td>22.07</td></tr>\n",
       "</table>"
      ],
      "text/plain": [
       "<Table length=15>\n",
       "﻿Molecule     Color     Measure1 Measure2 Measure3 Average phi\n",
       "   str8       str13     float64  float64  float64    float64  \n",
       "--------- ------------- -------- -------- -------- -----------\n",
       " Hydrogen        Violet    13.25     13.5    14.05        13.6\n",
       " Hydrogen          Blue    15.75     14.6    14.75       15.03\n",
       " Hydrogen         Green    18.75    18.55     17.2       18.17\n",
       " Hydrogen Orange/Yellow    20.75     19.9     19.8       20.15\n",
       " Hydrogen           Red     22.7     24.5     21.7       22.97\n",
       "   Helium        Violet    13.85    14.75     13.8       14.13\n",
       "   Helium          Blue     16.3     16.0    14.95       15.75\n",
       "   Helium         Green    16.35    17.75     16.2       16.77\n",
       "   Helium Orange/Yellow    20.45    20.75     19.3       20.17\n",
       "   Helium           Red     23.4     24.0     23.6       23.67\n",
       "  Mystery        Violet     14.5    14.75     14.2       14.48\n",
       "  Mystery          Blue    15.75    16.15    15.25       15.72\n",
       "  Mystery         Green    18.75    17.15     18.0       17.97\n",
       "  Mystery Orange/Yellow    20.85    19.95     20.2       20.33\n",
       "  Mystery           Red    23.25     21.7    21.25       22.07"
      ]
     },
     "execution_count": 11,
     "metadata": {},
     "output_type": "execute_result"
    }
   ],
   "source": [
    "from astropy.io import ascii\n",
    "\n",
    "#Imported recorded data and generated table for reader to reference.\n",
    "data=ascii.read('lab10_data_ks_dja_jc.csv')\n",
    "data"
   ]
  },
  {
   "cell_type": "markdown",
   "metadata": {},
   "source": [
    "Table 2: Phi measurements."
   ]
  },
  {
   "cell_type": "code",
   "execution_count": 2,
   "metadata": {},
   "outputs": [
    {
     "name": "stdout",
     "output_type": "stream",
     "text": [
      "         Violet\n",
      "Hydrogen:    391.903521838 nm\n",
      "Helium:      406.871336947 nm\n",
      "Mystery:     416.73673588 nm\n",
      "Uncertainty= + 10.1991853103 ,- 10.2153374039 nm\n",
      "          Blue\n",
      "Hydrogen:    432.207945302 nm\n",
      "Helium:      452.400749775 nm\n",
      "Mystery:     451.56078716 nm\n",
      "Uncertainty= + 9.31455424376 ,- 9.32955994227 nm\n",
      "          Green\n",
      "Hydrogen:    519.729119196 nm\n",
      "Helium:      480.884176718 nm\n",
      "Mystery:     514.198300018 nm\n",
      "Uncertainty= + 17.108880986 ,- 17.1676744322 nm\n",
      "       Orange/Yellow\n",
      "Hydrogen:    574.1317966 nm\n",
      "Helium:      574.677929818 nm\n",
      "Mystery:     579.044469152 nm\n",
      "Uncertainty= + 2.19828121193 ,- 2.19941965487 nm\n",
      "           Red\n",
      "Hydrogen:    650.415166228 nm\n",
      "Helium:      669.113802945 nm\n",
      "Mystery:     626.231803888 nm\n",
      "Uncertainty= + 17.5055411328 ,- 17.5902816914 nm\n"
     ]
    }
   ],
   "source": [
    "#Imported necessary software for calculations.\n",
    "import math\n",
    "import astropy.units as u\n",
    "from astropy.io import ascii\n",
    "import numpy as np\n",
    "\n",
    "#Imported data from experiment for calculations.\n",
    "data=ascii.read('lab10_data_ks_dja_jc.csv')\n",
    "\n",
    "\n",
    "#Defined and sorted the variables, according to the color of the light, to be used in the wavelength calculations.\n",
    "d=1/.0006\n",
    "v1=np.sin(np.deg2rad(data[0][5]))\n",
    "v2=np.sin(np.deg2rad(data[5][5]))\n",
    "v3=np.sin(np.deg2rad(data[10][5]))\n",
    "V=(data[0][5], data[5][5], data[10][5])\n",
    "\n",
    "b1=np.sin(np.deg2rad(data[1][5]))\n",
    "b2=np.sin(np.deg2rad(data[6][5]))\n",
    "b3=np.sin(np.deg2rad(data[11][5]))\n",
    "B=(data[1][5], data[6][5], data[11][5])\n",
    "\n",
    "g1=np.sin(np.deg2rad(data[2][5]))\n",
    "g2=np.sin(np.deg2rad(data[7][5]))\n",
    "g3=np.sin(np.deg2rad(data[12][5]))\n",
    "G=(data[2][5], data[7][5], data[12][5])\n",
    "\n",
    "o1=np.sin(np.deg2rad(data[3][5]))\n",
    "o2=np.sin(np.deg2rad(data[8][5]))\n",
    "o3=np.sin(np.deg2rad(data[13][5]))\n",
    "O=(data[3][5], data[8][5], data[13][5])\n",
    "\n",
    "r1=np.sin(np.deg2rad(data[4][5]))\n",
    "r2=np.sin(np.deg2rad(data[9][5]))\n",
    "r3=np.sin(np.deg2rad(data[14][5]))\n",
    "R=(data[4][5], data[9][5], data[14][5])\n",
    "\n",
    "#Calculated and printed the wavelengths for each of the measured spectral lines.\n",
    "HV=d*v1 #nm\n",
    "HeV=d*v2 #nm\n",
    "MV=d*v3 #nm\n",
    "Vm=(np.mean(V))\n",
    "Vsig=np.std(V)\n",
    "UVu=((np.sin(np.deg2rad(Vm+Vsig))*d)-(np.sin(np.deg2rad(Vm))*d))\n",
    "UVd=((np.sin(np.deg2rad(Vm))*d)-(np.sin(np.deg2rad(Vm-Vsig))*d))\n",
    "\n",
    "\n",
    "HB=d*b1 #nm\n",
    "HeB=d*b2 #nm\n",
    "MB=d*b3 #nm\n",
    "Bm=(np.mean(B))\n",
    "Bsig=np.std(B)\n",
    "UBu=((np.sin(np.deg2rad(Bm+Bsig))*d)-(np.sin(np.deg2rad(Bm))*d))\n",
    "UBd=((np.sin(np.deg2rad(Bm))*d)-(np.sin(np.deg2rad(Bm-Bsig))*d))\n",
    "\n",
    "HG=d*g1 #nm\n",
    "HeG=d*g2 #nm\n",
    "MG=d*g3 #nm\n",
    "Gm=(np.mean(G))\n",
    "Gsig=np.std(G)\n",
    "UGu=((np.sin(np.deg2rad(Gm+Gsig))*d)-(np.sin(np.deg2rad(Gm))*d))\n",
    "UGd=((np.sin(np.deg2rad(Gm))*d)-(np.sin(np.deg2rad(Gm-Gsig))*d))\n",
    "\n",
    "HO=d*o1 #nm\n",
    "HeO=d*o2 #nm\n",
    "MO=d*o3 #nm\n",
    "Om=(np.mean(O))\n",
    "Osig=np.std(O)\n",
    "UOu=((np.sin(np.deg2rad(Om+Osig))*d)-(np.sin(np.deg2rad(Om))*d))\n",
    "UOd=((np.sin(np.deg2rad(Om))*d)-(np.sin(np.deg2rad(Om-Osig))*d))\n",
    "\n",
    "HR=d*r1 #nm\n",
    "HeR=d*r2 #nm\n",
    "MR=d*r3 #nm\n",
    "Rm=(np.mean(R))\n",
    "Rsig=np.std(R)\n",
    "URu=((np.sin(np.deg2rad(Rm+Rsig))*d)-(np.sin(np.deg2rad(Rm))*d))\n",
    "URd=((np.sin(np.deg2rad(Rm))*d)-(np.sin(np.deg2rad(Rm-Rsig))*d))\n",
    "\n",
    "\n",
    "print('         Violet')\n",
    "print('Hydrogen:   ', HV, 'nm')\n",
    "print('Helium:     ', HeV, 'nm')\n",
    "print('Mystery:    ', MV, 'nm')\n",
    "print('Uncertainty= +', UVu, ',-', UVd, 'nm')\n",
    "print('          Blue')\n",
    "print('Hydrogen:   ', HB, 'nm')\n",
    "print('Helium:     ', HeB, 'nm')\n",
    "print('Mystery:    ', MB, 'nm')\n",
    "print('Uncertainty= +', UBu, ',-', UBd, 'nm')\n",
    "print('          Green')\n",
    "print('Hydrogen:   ', HG, 'nm')\n",
    "print('Helium:     ', HeG, 'nm')\n",
    "print('Mystery:    ', MG, 'nm')\n",
    "print('Uncertainty= +', UGu, ',-', UGd, 'nm')\n",
    "print('       Orange/Yellow')\n",
    "print('Hydrogen:   ', HO, 'nm')\n",
    "print('Helium:     ', HeO, 'nm')\n",
    "print('Mystery:    ', MO, 'nm')\n",
    "print('Uncertainty= +', UOu, ',-', UOd, 'nm')\n",
    "print('           Red')\n",
    "print('Hydrogen:   ', HR, 'nm')\n",
    "print('Helium:     ', HeR, 'nm')\n",
    "print('Mystery:    ', MR, 'nm')\n",
    "print('Uncertainty= +', URu, ',-', URd, 'nm')"
   ]
  },
  {
   "cell_type": "markdown",
   "metadata": {},
   "source": [
    "## Conclusion\n",
    "\n",
    "The goal of the experiment was to calculate the wavelengths of varying excited gaseous elements and to correctly identify an unknown element using emission spectroscopy. Because each element has its own unique atomic emission spectrum we were able to look at the spectra of the mystery element and compare it to the results of know elements, hydrogen and helium, to determine what it was. Due to the fact that the brightness of the unkown element significantly decreased as it approached red showed that the amount of light being emitting of that color was low. This is consistent with our experimental results as the mystery element was the shortest in red color wavelength when compared to hydrogen and helium which means it must be higher in energy.\n",
    "\n",
    "\n",
    "<img src=\"new.jpg\">\n",
    "             \n",
    "                      Figure 2: emission spectra for various elements\n",
    "\n",
    "\n",
    "\n",
    "The figure above shows the unique spectra emitted by various elements. The wavelengths increase from left to right, blue to red. Based on our data the mystery element had a shorter red wavelength than helium and hydrogen and it also had a relatively similar blue wavelength to helium and hydrogen. After comparing the data to the figure above, we deduced that the unknown element was argon."
   ]
  },
  {
   "cell_type": "code",
   "execution_count": 1,
   "metadata": {},
   "outputs": [
    {
     "name": "stdout",
     "output_type": "stream",
     "text": [
      "The accepted values for the wavelengths of hydrogen in emmision spectra are:\n",
      "Violet: 410 nm\n",
      "Blue: 434 nm\n",
      "Green: 486 nm\n",
      "Red: 656 nm\n",
      " \n",
      "The percent error in each of our values are:\n",
      "Violet: 4.414634146341469 %\n",
      "Blue: 0.4147465437788045 %\n",
      "Green: 6.934156378600832 %\n",
      "Red: 0.8536585365853694 %\n"
     ]
    }
   ],
   "source": [
    "#Determining percent error\n",
    "\n",
    "\n",
    "#accepted values\n",
    "acceptedV = 410 #nm\n",
    "acceptedB = 434 #nm\n",
    "acceptedG = 486 #nm\n",
    "acceptedR = 656 #nm\n",
    "\n",
    "#experimental values\n",
    "V = 391.9\n",
    "B = 432.2\n",
    "G = 519.7\n",
    "R = 650.4\n",
    "\n",
    "print('The accepted values for the wavelengths of hydrogen in emmision spectra are:')\n",
    "print('Violet:', acceptedV, 'nm')\n",
    "print('Blue:', acceptedB,'nm')\n",
    "print('Green:', acceptedG,'nm')\n",
    "print('Red:', acceptedR,'nm')\n",
    "print(' ')\n",
    "\n",
    "\n",
    "#percent error calculation\n",
    "\n",
    "errorV = ((acceptedV-V)/acceptedV)*100\n",
    "errorB = ((acceptedB-B)/acceptedB)*100\n",
    "errorG = ((G-acceptedG)/acceptedG)*100\n",
    "errorR = ((acceptedR-R)/acceptedR)*100\n",
    "\n",
    "print('The percent error in each of our values are:')\n",
    "print('Violet:', errorV, '%')\n",
    "print('Blue:', errorB, '%')\n",
    "print('Green:', errorG, '%')\n",
    "print('Red:', errorR, '%')"
   ]
  },
  {
   "cell_type": "markdown",
   "metadata": {},
   "source": [
    "Our highest percent error is shown to be for violet and green. This could be due to the fact that the violet emission spectra is the first color in the series and therefore our interpretations of where to take that measurement could have varied from person to person. Also, the green emission spectra was one of the shortest colors in the series. This could have led to green being mistakenly combined with blue or red."
   ]
  },
  {
   "cell_type": "markdown",
   "metadata": {
    "collapsed": true
   },
   "source": [
    "# Acknowledgements\n",
    "\n"
   ]
  },
  {
   "cell_type": "markdown",
   "metadata": {
    "collapsed": true
   },
   "source": [
    "Figure 1: http://slideplayer.com/slide/8908355/27/images/12/Aluminum+Argon.+Calcium.+Carbon.+Helium.+Hydrogen.+Iron.+Krypton.+Magnesium.+Neon.+Nitrogen..jpg\n",
    "\n",
    "Table 1: http://gsp.humboldt.edu/olm_2015/Courses/GSP_216_Online/lesson1-2/spectrum.html\n",
    "\n",
    "Figure 2: http://myriverside.sd43.bc.ca/ryannw-2013/files/2014/02/image-281zfkh.jpg"
   ]
  }
 ],
 "metadata": {
  "kernelspec": {
   "display_name": "Python 3",
   "language": "python",
   "name": "python3"
  },
  "language_info": {
   "codemirror_mode": {
    "name": "ipython",
    "version": 3
   },
   "file_extension": ".py",
   "mimetype": "text/x-python",
   "name": "python",
   "nbconvert_exporter": "python",
   "pygments_lexer": "ipython3",
   "version": "3.6.1"
  }
 },
 "nbformat": 4,
 "nbformat_minor": 1
}
