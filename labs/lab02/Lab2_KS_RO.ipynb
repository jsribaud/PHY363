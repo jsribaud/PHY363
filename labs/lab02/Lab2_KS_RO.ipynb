{
 "cells": [
  {
   "cell_type": "markdown",
   "metadata": {},
   "source": [
    "# Inverse Square Law"
   ]
  },
  {
   "cell_type": "markdown",
   "metadata": {},
   "source": [
    "Kollin Schultz, Robert Orellano"
   ]
  },
  {
   "cell_type": "markdown",
   "metadata": {},
   "source": [
    "# Abstract\n",
    "\n",
    "    Conferming the existance of the inverse square law. As the intencity of light decreases, the distance from the source and observer increases. "
   ]
  },
  {
   "cell_type": "markdown",
   "metadata": {},
   "source": [
    "# Introduction\n",
    "\n",
    "    During an investagation, on how the inverse square law come to light in terms of radation intensity can be seen in a verity of different way. The first expairiment used a thermal radiation sensor (model:TD-8553) hooked up to a Mic-75 multimeter to measure the Radiation levels of a STEFAN-BOLTZMAN lamp (model:TD-8555), powered by Tenma power supply (model:72-7295 sn:G511004441) as the distance between the two increase. The second expairment delt with a Metrologic neon laser that was directed into two 13,700 (lines/inch) filters. The Area, and the distance the filters are from the wall were recorded.  "
   ]
  },
  {
   "cell_type": "markdown",
   "metadata": {},
   "source": [
    "# Methods\n",
    "\n",
    "    The standards that were imposed in our first expairment to see how the thermal radiation from a light source changes over distance. With the Stefan-Boltzmann Lamp sucured to a table top, the Radiation Sensor then was placed along a meter stick, the tip of the meter stick with 0, was inline with the filiment of the bulb, inorder for us to concider it as a point source (figure 1). To include the envirement the lights were turned off and also shut the door to room 265. Closed what we assume to be blinds before recording our ambient radiation levels. To start the actual expairment, pisitions were disanated inorder to improve our accurry. One person placed the radiation sensor at differetnt intervals also making sure to move along with the sensor to keep it in line to the line of sight perpendicular to the meter stick. The second team member recorded and measured the radiation levels at each intervel in a clear and concise format. The following results were recorded (table 1) and graphed (graph 1) as follows.\n",
    "    \n",
    "       Moving acorss the hall to another fancy researce lab, we constructed a setup (figure 2), by placeing a laser at least a distance of 1 meter greater away from a chaulk board.  Then by taking 2 filters and placing the lines perpendiculer to eachother, the laser is then directed through the filters. After the laser passes through the filters it disperses as a projection of dots in a grid. At each interval the distance xx and yy were measured to find the area of the grid. The following results were recorded (table 2) and graphed (graph 2) as follows.  \n",
    "    "
   ]
  },
  {
   "cell_type": "code",
   "execution_count": null,
   "metadata": {},
   "outputs": [],
   "source": [
    "from astropy.io import ascii\n",
    "data=ascii.read(\"Inverse_Square_Law_Data.csv\")\n",
    "dist=data['Distance']\n",
    "light=data['Rad']\n",
    "plt.plot"
   ]
  },
  {
   "cell_type": "code",
   "execution_count": null,
   "metadata": {
    "collapsed": true
   },
   "outputs": [],
   "source": []
  }
 ],
 "metadata": {
  "kernelspec": {
   "display_name": "Python 3",
   "language": "python",
   "name": "python3"
  },
  "language_info": {
   "codemirror_mode": {
    "name": "ipython",
    "version": 3
   },
   "file_extension": ".py",
   "mimetype": "text/x-python",
   "name": "python",
   "nbconvert_exporter": "python",
   "pygments_lexer": "ipython3",
   "version": "3.6.1"
  }
 },
 "nbformat": 4,
 "nbformat_minor": 2
}
