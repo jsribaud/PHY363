{
 "cells": [
  {
   "cell_type": "markdown",
   "metadata": {},
   "source": [
    "# Buffon's Needle"
   ]
  },
  {
   "cell_type": "markdown",
   "metadata": {},
   "source": [
    "Kollin Schultz, Liam Patterson"
   ]
  },
  {
   "cell_type": "markdown",
   "metadata": {},
   "source": [
    "# Abstract:"
   ]
  },
  {
   "cell_type": "markdown",
   "metadata": {
    "collapsed": true
   },
   "source": [
    "The value of pi has been successfully estimated using only a needle and a parallel grid with separation equal to the length of the needle in what is known as the \"Buffon's Needle\" experiment. Our experiment recreated Buffon's Needle experiment using wooden sticks and the tile floor in the lab. With only 100 trials (drops of wooden sticks) we were able to successfully estimate the value of pi with a 6.4% error."
   ]
  },
  {
   "cell_type": "markdown",
   "metadata": {},
   "source": [
    "# Introduction"
   ]
  },
  {
   "cell_type": "markdown",
   "metadata": {},
   "source": [
    "The \"Buffon's Needle\" experiment consists of dropping a needle (or similar object) on a floor consisting of parallel lines that are separated by the length of the needle. After dropping, the experimenter must record every time the needle intersects with one of the lines. The amount of times the needle hits the parallel lines compared to the amount of times dropped is somehow connected to pi. The experimenter must brainstorm to figure out how this is connected to pi and find the value using their recorded results."
   ]
  },
  {
   "cell_type": "markdown",
   "metadata": {},
   "source": [
    "# Methods"
   ]
  },
  {
   "cell_type": "markdown",
   "metadata": {},
   "source": [
    "We used wooden sticks cut to be the same length (L) as the grid on the floor of the lab. The cut sticks were dropped in bunches of eight until a total of 100 sticks had been dropped. The number of sticks that intersected with one of the parallel grid lines on the floor was recorded. This ratio was used to develop a mathematical model that allowed for the estimation of pi.\n",
    "\n",
    "We first tried visualizing the sticks as the diameter of a circle. We then rotated the stick between the two lines to see what are the possible outcomes due to this rotation. We determined that the stick will intersect everytime if it is perpendicular to the lines and if it is parallel, it will only intersect if it is on top of the line. The chance on intersection depends on how close the center of the stick is to the line as well as the angle between the stick and the line. "
   ]
  },
  {
   "cell_type": "markdown",
   "metadata": {},
   "source": [
    "# Results and Analysis"
   ]
  },
  {
   "cell_type": "markdown",
   "metadata": {},
   "source": [
    "|Sticks Dropped|Intersecting|\n",
    "|--- :|: ---:|\n",
    "|8|6|\n",
    "|8|5|\n",
    "|8|5|\n",
    "|8|6|\n",
    "|8|6|\n",
    "|8|6|\n",
    "|8|6|\n",
    "|8|6|\n",
    "|8|5|\n",
    "|8|4|\n",
    "|8|5|\n",
    "|8|6|\n",
    "|4|2|\n",
    "|100|68| Total\n",
    "\n",
    "We visualized an imaginary, perpendicular line between the center of the stick and the parallel lines, which created a triangle. The angle between the stick and this imaginary line is the angle we used to determine what is required for intersection. We labeled this length to be \"a\" and we used laws of trigonometry to determine that\n",
    "\n",
    "\\begin{equation}\n",
    "cos(\\theta)=Adjacent/Hypotenuse=Imaginary Line/Radius=a/(L/2)\n",
    "\\end{equation}\n",
    "\n",
    "So, that means a should equal\n",
    "\n",
    "\\begin{equation}\n",
    "a=(L/2)cos(\\theta)\n",
    "\\end{equation}\n",
    "\n",
    "We then determined that the possible value for the angle is between 90 (pi/2) and -90 (-pi/2) degrees\n",
    "\n",
    "\\begin{equation}\n",
    "a=\\int_{-\\pi/2}^{\\pi/2} {(L/2) cos(\\theta)} \n",
    "\\end{equation}\n",
    "\n",
    "\\begin{equation}\n",
    "a={(L/2)sin\\theta}\n",
    "\\end{equation}\n",
    "\n",
    "\\begin{equation}\n",
    "{68/100=(L/2)cos\\theta/(\\pi L/2)}\n",
    "\\end{equation}\n",
    "\n",
    "\\begin{equation}\n",
    "{\\pi=2.94}\n",
    "\\end{equation}\n",
    "\n",
    "The percent error for this value is\n",
    "\n",
    "\\begin{equation}\n",
    "{Error=((3.14-2.94)/3.14)(100)=(0.20/3.14)(100)}\n",
    "\\end{equation}\n",
    "\n",
    "\\begin{equation}\n",
    "{Error=6.4}\n",
    "\\end{equation}\n",
    "\n",
    "Estimation of the value of pi from our recreation of the Buffon's Needle experiment resulted in a value of 2.94 which is a 6.4% error. This value is acceptable given the low number of trials completed and limitations of our experimental design. The error in our estimation may have been lower if we had been able to drop the wooden sticks in a more random manner (one at a time) and completed more trials. "
   ]
  },
  {
   "cell_type": "markdown",
   "metadata": {},
   "source": [
    "# Summary and Conclusions"
   ]
  },
  {
   "cell_type": "markdown",
   "metadata": {},
   "source": [
    "The Buffon's Needle experiment, using on a needle and a parallel grid separated by the same distance as the needles length, is capable of successfully estimating the value of pi. To recreate the experiment, wooden sticks were cut to be the same length as the tiles on the floor of the lab. Using the Buffon's Needle method we were able to estimate the value of pi with a 6.4% error. Our experiment only included 100 trials, so it is likely that additional trials would provide a more accurate estimation of pi. From our experiment, it can be concluded that the Buffon's Needle experiment is an acceptable way to estimate the value of pi."
   ]
  },
  {
   "cell_type": "markdown",
   "metadata": {},
   "source": [
    "# Acknowledgements"
   ]
  },
  {
   "cell_type": "markdown",
   "metadata": {},
   "source": [
    "We would like to thank Dr. Ribaudo for his guidance and assistance with determining the mathematical model."
   ]
  },
  {
   "cell_type": "markdown",
   "metadata": {},
   "source": [
    "# References"
   ]
  },
  {
   "cell_type": "markdown",
   "metadata": {
    "collapsed": true
   },
   "source": [
    "https://en.wikipedia.org/wiki/Buffon%27s_needle"
   ]
  }
 ],
 "metadata": {
  "kernelspec": {
   "display_name": "Python 3",
   "language": "python",
   "name": "python3"
  },
  "language_info": {
   "codemirror_mode": {
    "name": "ipython",
    "version": 3
   },
   "file_extension": ".py",
   "mimetype": "text/x-python",
   "name": "python",
   "nbconvert_exporter": "python",
   "pygments_lexer": "ipython3",
   "version": "3.6.1"
  }
 },
 "nbformat": 4,
 "nbformat_minor": 1
}
