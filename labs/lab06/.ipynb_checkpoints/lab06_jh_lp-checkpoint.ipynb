{
 "cells": [
  {
   "cell_type": "markdown",
   "metadata": {},
   "source": [
    "# Electron Charge-to-Mass Ratio\n",
    "## Justin Houle , Liam Patterson"
   ]
  },
  {
   "cell_type": "markdown",
   "metadata": {},
   "source": [
    "# Abstract\n"
   ]
  },
  {
   "cell_type": "markdown",
   "metadata": {},
   "source": [
    "# Introduction\n"
   ]
  },
  {
   "cell_type": "code",
   "execution_count": 1,
   "metadata": {},
   "outputs": [
    {
     "name": "stdout",
     "output_type": "stream",
     "text": [
      "Populating the interactive namespace from numpy and matplotlib\n"
     ]
    },
    {
     "data": {
      "text/plain": [
       "'\\nimg=mpimg.imread(\\'oildropsetup.jpg\\')\\nplt.figure(figsize=(20,10))\\nplt.axis(\\'off\\')\\nimgplot = plt.imshow(img)\\nplt.show()\\n\\nprint(\"Milikan Apparatus\")\\n'"
      ]
     },
     "execution_count": 1,
     "metadata": {},
     "output_type": "execute_result"
    }
   ],
   "source": [
    "%pylab inline\n",
    "import matplotlib.pyplot as plt\n",
    "import matplotlib.image as mpimg\n",
    "'''\n",
    "img=mpimg.imread('oildropsetup.jpg')\n",
    "plt.figure(figsize=(20,10))\n",
    "plt.axis('off')\n",
    "imgplot = plt.imshow(img)\n",
    "plt.show()\n",
    "\n",
    "print(\"Milikan Apparatus\")\n",
    "'''"
   ]
  },
  {
   "cell_type": "markdown",
   "metadata": {},
   "source": [
    "# Data and Calculations"
   ]
  },
  {
   "cell_type": "markdown",
   "metadata": {
    "collapsed": true
   },
   "source": [
    "According to the handout, the equation for charge-to-mass is\n",
    "\\begin{equation}\n",
    "\\frac{e}{m} = \\frac{2U}{B^2r^2}\n",
    "\\end{equation}\n",
    "\n",
    "With U = accelerating voltage, B = B-field and r = radius of electron beam\n",
    "\n",
    "The equation for B-field is \n",
    "\\begin{equation}\n",
    "B = \\frac{(\\frac{4}{5})^\\frac{3}{2}\\mu_0NI}{R}\n",
    "\\end{equation}\n",
    "\n",
    "With R = radius of the coil, N = turns per coil, I = current and mu = permeability constant\n",
    "\n",
    "We plug in B into the initial equation for e/m to get\n",
    "\\begin{equation}\n",
    "\\frac{e}{m} = 2U\\frac{(\\frac{5}{4})^3R^2}{(N\\mu_0Ir)^2}\n",
    "\\end{equation}\n",
    "\n",
    "For this experiment we are finding the slope of radius^2 vs 1/current^2, so this changes our equation to\n",
    "\\begin{equation}\n",
    "\\frac{e}{m} = 2U\\frac{(\\frac{5}{4})^3R^2}{(N\\mu_0)^2slope}\n",
    "\\end{equation}\n",
    "since the slope eqauls (rI)^2\n",
    "\n",
    "We will use this equation to find the value of e/m"
   ]
  },
  {
   "cell_type": "code",
   "execution_count": 3,
   "metadata": {
    "collapsed": true
   },
   "outputs": [],
   "source": [
    "import math\n",
    "import astropy.units as u\n",
    "from astropy.io import ascii\n",
    "import numpy as np\n",
    "from sklearn.neighbors import KernelDensity\n",
    "import matplotlib.pyplot as plt\n",
    "from scipy.optimize import curve_fit\n",
    "%matplotlib inline"
   ]
  },
  {
   "cell_type": "code",
   "execution_count": 4,
   "metadata": {},
   "outputs": [
    {
     "data": {
      "text/html": [
       "&lt;Table length=20&gt;\n",
       "<table id=\"table2253778334888\" class=\"table-striped table-bordered table-condensed\">\n",
       "<thead><tr><th>Voltage</th><th>Current</th><th>D(1)cm</th><th>D(2)cm</th><th>D(3)</th><th>D(4)</th><th>R(1)</th><th>R(2)</th><th>R(3)</th><th>R(4)</th><th>Average(cm)</th><th>Average(mm)</th></tr></thead>\n",
       "<thead><tr><th>int32</th><th>float64</th><th>float64</th><th>float64</th><th>float64</th><th>float64</th><th>float64</th><th>float64</th><th>float64</th><th>float64</th><th>float64</th><th>float64</th></tr></thead>\n",
       "<tr><td>120</td><td>0.8</td><td>11.9</td><td>11.7</td><td>11.9</td><td>12.0</td><td>5.95</td><td>5.85</td><td>5.95</td><td>6.0</td><td>5.9375</td><td>59.375</td></tr>\n",
       "<tr><td>120</td><td>0.85</td><td>11.0</td><td>10.9</td><td>11.4</td><td>11.1</td><td>5.5</td><td>5.45</td><td>5.7</td><td>5.55</td><td>5.55</td><td>55.5</td></tr>\n",
       "<tr><td>120</td><td>0.9</td><td>10.5</td><td>10.7</td><td>10.7</td><td>11.0</td><td>5.25</td><td>5.35</td><td>5.35</td><td>5.5</td><td>5.3625</td><td>53.625</td></tr>\n",
       "<tr><td>120</td><td>0.95</td><td>10.1</td><td>10.2</td><td>10.1</td><td>10.3</td><td>5.05</td><td>5.1</td><td>5.05</td><td>5.15</td><td>5.0875</td><td>50.875</td></tr>\n",
       "<tr><td>120</td><td>1.0</td><td>9.7</td><td>9.8</td><td>9.7</td><td>9.8</td><td>4.85</td><td>4.9</td><td>4.85</td><td>4.9</td><td>4.875</td><td>48.75</td></tr>\n",
       "<tr><td>120</td><td>1.05</td><td>9.2</td><td>9.5</td><td>9.3</td><td>9.2</td><td>4.6</td><td>4.75</td><td>4.65</td><td>4.6</td><td>4.65</td><td>46.5</td></tr>\n",
       "<tr><td>120</td><td>1.1</td><td>8.7</td><td>8.8</td><td>8.8</td><td>8.9</td><td>4.35</td><td>4.4</td><td>4.4</td><td>4.45</td><td>4.4</td><td>44.0</td></tr>\n",
       "<tr><td>120</td><td>1.15</td><td>8.4</td><td>8.5</td><td>8.4</td><td>8.6</td><td>4.2</td><td>4.25</td><td>4.2</td><td>4.3</td><td>4.2375</td><td>42.375</td></tr>\n",
       "<tr><td>120</td><td>1.2</td><td>8.0</td><td>8.3</td><td>8.1</td><td>8.1</td><td>4.0</td><td>4.15</td><td>4.05</td><td>4.05</td><td>4.0625</td><td>40.625</td></tr>\n",
       "<tr><td>120</td><td>1.25</td><td>7.8</td><td>7.8</td><td>7.9</td><td>7.9</td><td>3.9</td><td>3.9</td><td>3.95</td><td>3.95</td><td>3.925</td><td>39.25</td></tr>\n",
       "<tr><td>120</td><td>1.35</td><td>7.2</td><td>7.3</td><td>7.3</td><td>7.4</td><td>3.6</td><td>3.65</td><td>3.65</td><td>3.7</td><td>3.65</td><td>36.5</td></tr>\n",
       "<tr><td>120</td><td>1.45</td><td>6.9</td><td>6.5</td><td>6.8</td><td>6.9</td><td>3.45</td><td>3.25</td><td>3.4</td><td>3.45</td><td>3.3875</td><td>33.875</td></tr>\n",
       "<tr><td>120</td><td>1.55</td><td>6.3</td><td>6.1</td><td>6.4</td><td>6.3</td><td>3.15</td><td>3.05</td><td>3.2</td><td>3.15</td><td>3.1375</td><td>31.375</td></tr>\n",
       "<tr><td>120</td><td>1.65</td><td>6.0</td><td>5.9</td><td>6.1</td><td>6.0</td><td>3.0</td><td>2.95</td><td>3.05</td><td>3.0</td><td>3.0</td><td>30.0</td></tr>\n",
       "<tr><td>120</td><td>1.75</td><td>5.7</td><td>5.8</td><td>5.7</td><td>5.7</td><td>2.85</td><td>2.9</td><td>2.85</td><td>2.85</td><td>2.8625</td><td>28.625</td></tr>\n",
       "<tr><td>120</td><td>1.95</td><td>5.1</td><td>5.2</td><td>5.0</td><td>5.1</td><td>2.55</td><td>2.6</td><td>2.5</td><td>2.55</td><td>2.55</td><td>25.5</td></tr>\n",
       "<tr><td>120</td><td>2.15</td><td>4.6</td><td>4.7</td><td>4.8</td><td>4.8</td><td>2.3</td><td>2.35</td><td>2.4</td><td>2.4</td><td>2.3625</td><td>23.625</td></tr>\n",
       "<tr><td>120</td><td>2.35</td><td>4.3</td><td>4.3</td><td>4.4</td><td>4.2</td><td>2.15</td><td>2.15</td><td>2.2</td><td>2.1</td><td>2.15</td><td>21.5</td></tr>\n",
       "<tr><td>120</td><td>2.55</td><td>3.9</td><td>4.0</td><td>4.1</td><td>4.0</td><td>1.95</td><td>2.0</td><td>2.05</td><td>2.0</td><td>2.0</td><td>20.0</td></tr>\n",
       "<tr><td>120</td><td>2.75</td><td>3.8</td><td>3.6</td><td>3.6</td><td>3.6</td><td>1.9</td><td>1.8</td><td>1.8</td><td>1.8</td><td>1.825</td><td>18.25</td></tr>\n",
       "</table>"
      ],
      "text/plain": [
       "<Table length=20>\n",
       "Voltage Current  D(1)cm  D(2)cm ...   R(3)    R(4)  Average(cm) Average(mm)\n",
       " int32  float64 float64 float64 ... float64 float64   float64     float64  \n",
       "------- ------- ------- ------- ... ------- ------- ----------- -----------\n",
       "    120     0.8    11.9    11.7 ...    5.95     6.0      5.9375      59.375\n",
       "    120    0.85    11.0    10.9 ...     5.7    5.55        5.55        55.5\n",
       "    120     0.9    10.5    10.7 ...    5.35     5.5      5.3625      53.625\n",
       "    120    0.95    10.1    10.2 ...    5.05    5.15      5.0875      50.875\n",
       "    120     1.0     9.7     9.8 ...    4.85     4.9       4.875       48.75\n",
       "    120    1.05     9.2     9.5 ...    4.65     4.6        4.65        46.5\n",
       "    120     1.1     8.7     8.8 ...     4.4    4.45         4.4        44.0\n",
       "    120    1.15     8.4     8.5 ...     4.2     4.3      4.2375      42.375\n",
       "    120     1.2     8.0     8.3 ...    4.05    4.05      4.0625      40.625\n",
       "    120    1.25     7.8     7.8 ...    3.95    3.95       3.925       39.25\n",
       "    120    1.35     7.2     7.3 ...    3.65     3.7        3.65        36.5\n",
       "    120    1.45     6.9     6.5 ...     3.4    3.45      3.3875      33.875\n",
       "    120    1.55     6.3     6.1 ...     3.2    3.15      3.1375      31.375\n",
       "    120    1.65     6.0     5.9 ...    3.05     3.0         3.0        30.0\n",
       "    120    1.75     5.7     5.8 ...    2.85    2.85      2.8625      28.625\n",
       "    120    1.95     5.1     5.2 ...     2.5    2.55        2.55        25.5\n",
       "    120    2.15     4.6     4.7 ...     2.4     2.4      2.3625      23.625\n",
       "    120    2.35     4.3     4.3 ...     2.2     2.1        2.15        21.5\n",
       "    120    2.55     3.9     4.0 ...    2.05     2.0         2.0        20.0\n",
       "    120    2.75     3.8     3.6 ...     1.8     1.8       1.825       18.25"
      ]
     },
     "execution_count": 4,
     "metadata": {},
     "output_type": "execute_result"
    }
   ],
   "source": [
    "data = ascii.read('assets/data_jh_lp.csv', 'r')\n",
    "data"
   ]
  },
  {
   "cell_type": "code",
   "execution_count": 29,
   "metadata": {},
   "outputs": [
    {
     "data": {
      "image/png": "[encoded data removed]",
      "text/plain": [
       "<matplotlib.figure.Figure at 0x21950965c18>"
      ]
     },
     "metadata": {},
     "output_type": "display_data"
    }
   ],
   "source": [
    "data = ascii.read('assets/data_jh_lp.csv', 'r')\n",
    "\n",
    "#defining variables and std deviation\n",
    "ry = data['Average(cm)']**2\n",
    "ix = 1/data['Current']**2\n",
    "sdev=np.std(ry)\n",
    "\n",
    "#defining function and trendline\n",
    "def func(x, a, b):\n",
    "    return a*x + b\n",
    "\n",
    "popt, pcov = curve_fit(func, ix, ry, absolute_sigma=sdev)\n",
    "\n",
    "#creating plot\n",
    "plt.plot(ix, ry, 'ro')\n",
    "plt.plot(ix, np.polyval(popt, ix), 'r')\n",
    "plt.errorbar(ix, ry, yerr=sdev, fmt='bo')\n",
    "plt.text(0.2, 40, r\"a = {0:.9f} +/- {1:.9f}\".format(popt[0], pcov[0,0]**0.5))\n",
    "plt.text(0.2, 35, r\"b = {0:.3f} +/- {1:.3f}\".format(popt[1], pcov[1,1]**0.5))\n",
    "plt.xlabel(\"1/Current^2 (1/A^2)\")\n",
    "plt.ylabel(\"Radius^2 (cm)\")\n",
    "plt.show()"
   ]
  },
  {
   "cell_type": "code",
   "execution_count": 35,
   "metadata": {},
   "outputs": [
    {
     "name": "stdout",
     "output_type": "stream",
     "text": [
      "195734181866.0 C/kg - experimental value for charge to mass\n",
      "11.2126033327 % - Percent error\n"
     ]
    }
   ],
   "source": [
    "#finding experiemental e/m\n",
    "R=158/10 #converting mm to cm\n",
    "N=130\n",
    "mu=(4*np.pi) * 10**-7\n",
    "U=120\n",
    "slope=popt[0]\n",
    "\n",
    "exp_em = (2*U*((5/4)**3)*(R**2)) / (((N*mu)**2)*slope)\n",
    "\n",
    "#finding percent error\n",
    "act_em=1.76e11\n",
    "\n",
    "percent_error=((exp_em-act_em)/act_em) * 100\n",
    "\n",
    "print(exp_em, \"C/kg - experimental value for charge to mass\")\n",
    "print(percent_error, \"% - Percent error\")"
   ]
  },
  {
   "cell_type": "markdown",
   "metadata": {},
   "source": [
    "# Conclusions"
   ]
  },
  {
   "cell_type": "markdown",
   "metadata": {},
   "source": [
    "The purpose of this lab was to find the charge-to-mass ratio by recreating the experiment done by J.J. Thomson with the cathode ray tube. We found the diameter of the electron beam circle at 120 accelerating voltage for at 20 different values for current with 4 measurements per current and found the average value of radius per current. The slope of the radius vs 1/current^2 was found and this value was used in the equation to find charge-to-mass ratio, which was found to be 1.95e11 C/kg. This is a 11.2 percent error from the accepted value fo 1.76e11 C/kg. This percent error could be due to parallax error and difficulty seeing. When trying to measure the diameter of the circle, the bright beam made it difficult to see the marks on the ruler behind which made it hard to give an exact value. Issues in parallax also might've had an effect but the mirror behind the beam helped for the most part."
   ]
  },
  {
   "cell_type": "markdown",
   "metadata": {},
   "source": [
    "# References"
   ]
  },
  {
   "cell_type": "markdown",
   "metadata": {},
   "source": [
    "The charge-to-mass ratio lab handout"
   ]
  },
  {
   "cell_type": "code",
   "execution_count": null,
   "metadata": {
    "collapsed": true
   },
   "outputs": [],
   "source": []
  }
 ],
 "metadata": {
  "kernelspec": {
   "display_name": "Python 3",
   "language": "python",
   "name": "python3"
  },
  "language_info": {
   "codemirror_mode": {
    "name": "ipython",
    "version": 3
   },
   "file_extension": ".py",
   "mimetype": "text/x-python",
   "name": "python",
   "nbconvert_exporter": "python",
   "pygments_lexer": "ipython3",
   "version": "3.6.1"
  }
 },
 "nbformat": 4,
 "nbformat_minor": 1
}
