{
 "cells": [
  {
   "cell_type": "markdown",
   "metadata": {},
   "source": [
    "# The Photoelectric Effect\n",
    "Jelena Colon and Alex Orellano"
   ]
  },
  {
   "cell_type": "markdown",
   "metadata": {},
   "source": [
    "# Abstract\n"
   ]
  },
  {
   "cell_type": "markdown",
   "metadata": {},
   "source": [
    "The purpose of this experiment is to calculate plancks constant by measuring the stopping voltage of photons at various wavelengths. By plotting the stopping voltage vs the reciprical of the wavelength we were able to use the slope to calculate plancks constant as 3.96 x 10^-34. This is a 40% errror from the accepted value."
   ]
  },
  {
   "cell_type": "markdown",
   "metadata": {},
   "source": [
    "# Introduction \n",
    "   "
   ]
  },
  {
   "cell_type": "markdown",
   "metadata": {},
   "source": [
    "# Procedure\n",
    "A Daedalon EP-05 Photoelectric Effect with amplifier was hooked up to a voltage meter. The power supply was hooked up to a light source with wire leads and was placed in line with each other (Figure 1). With each procedure only changing with the filter that is placed on the Photoelectric Effect sensor. The following wave lengths of the filters being used are 436nm, 546nm, and 590nm. During each procedure we calculated the average of 15 individual stopping voltage at each wavelength. Before recording each stopping voltage, we zeroed the Photoelectric Effect away from the light source we set the current reading to 0. After everything being zeroed we moved the Photoelectric Effect with amplifier up to the light source and began reading a current. Using the dial on the Photoelectric Effect with amplifier we increased the voltage to repel the photons that are coming from the light and producing a current on our meter. Using the average of the recorded voltages of each wavelength of different wave lengths we can graph the Stopping voltages verses the frequency to find the slope times the electric charge divided by the speed of light to find a value that mimics Planck’s constant over all wave lengths."
   ]
  },
  {
   "cell_type": "markdown",
   "metadata": {},
   "source": [
    "# Data"
   ]
  },
  {
   "cell_type": "code",
   "execution_count": 23,
   "metadata": {
    "scrolled": true
   },
   "outputs": [
    {
     "data": {
      "text/html": [
       "&lt;Table masked=True length=28&gt;\n",
       "<table id=\"table1610732154496\" class=\"table-striped table-bordered table-condensed\">\n",
       "<thead><tr><th>col1</th><th>col2</th><th>col3</th><th>col4</th><th>col5</th><th>col6</th><th>col7</th><th>col8</th><th>col9</th><th>col10</th></tr></thead>\n",
       "<thead><tr><th>str8</th><th>str36</th><th>str11</th><th>str6</th><th>int32</th><th>float64</th><th>float64</th><th>int32</th><th>int32</th><th>int32</th></tr></thead>\n",
       "<tr><td>ï»¿Color</td><td>436 nm</td><td>546 nm</td><td>590 nm</td><td>--</td><td>--</td><td>--</td><td>--</td><td>--</td><td>--</td></tr>\n",
       "<tr><td>--</td><td>0.710</td><td>0.502</td><td>0.214</td><td>--</td><td>--</td><td>--</td><td>--</td><td>--</td><td>--</td></tr>\n",
       "<tr><td>--</td><td>0.711</td><td>0.461</td><td>0.189</td><td>--</td><td>--</td><td>--</td><td>--</td><td>--</td><td>--</td></tr>\n",
       "<tr><td>--</td><td>0.678</td><td>0.654</td><td>0.180</td><td>--</td><td>--</td><td>--</td><td>--</td><td>--</td><td>--</td></tr>\n",
       "<tr><td>--</td><td>0.746</td><td>0.491</td><td>0.178</td><td>--</td><td>0.203</td><td>1.694915254</td><td>--</td><td>--</td><td>--</td></tr>\n",
       "<tr><td>--</td><td>0.653</td><td>0.513</td><td>0.209</td><td>--</td><td>0.528</td><td>1.831501832</td><td>--</td><td>--</td><td>--</td></tr>\n",
       "<tr><td>--</td><td>0.715</td><td>0.623</td><td>0.208</td><td>--</td><td>0.716</td><td>2.293577982</td><td>--</td><td>--</td><td>--</td></tr>\n",
       "<tr><td>--</td><td>0.795</td><td>0.516</td><td>0.212</td><td>--</td><td>--</td><td>--</td><td>--</td><td>--</td><td>--</td></tr>\n",
       "<tr><td>--</td><td>0.725</td><td>0.578</td><td>0.218</td><td>--</td><td>--</td><td>--</td><td>--</td><td>--</td><td>--</td></tr>\n",
       "<tr><td>--</td><td>0.712</td><td>0.590</td><td>0.203</td><td>--</td><td>--</td><td>--</td><td>--</td><td>--</td><td>--</td></tr>\n",
       "<tr><td>...</td><td>...</td><td>...</td><td>...</td><td>...</td><td>...</td><td>...</td><td>...</td><td>...</td><td>...</td></tr>\n",
       "<tr><td>--</td><td>--</td><td>--</td><td>--</td><td>--</td><td>--</td><td>--</td><td>--</td><td>--</td><td>--</td></tr>\n",
       "<tr><td>--</td><td>--</td><td>--</td><td>--</td><td>--</td><td>--</td><td>--</td><td>--</td><td>--</td><td>--</td></tr>\n",
       "<tr><td>--</td><td>--</td><td>--</td><td>--</td><td>--</td><td>--</td><td>--</td><td>--</td><td>--</td><td>--</td></tr>\n",
       "<tr><td>--</td><td>--</td><td>--</td><td>--</td><td>--</td><td>--</td><td>--</td><td>--</td><td>--</td><td>--</td></tr>\n",
       "<tr><td>--</td><td>--</td><td>--</td><td>--</td><td>--</td><td>--</td><td>--</td><td>--</td><td>--</td><td>--</td></tr>\n",
       "<tr><td>--</td><td>--</td><td>--</td><td>--</td><td>--</td><td>--</td><td>--</td><td>--</td><td>--</td><td>--</td></tr>\n",
       "<tr><td>--</td><td>--</td><td>--</td><td>--</td><td>--</td><td>--</td><td>--</td><td>--</td><td>--</td><td>--</td></tr>\n",
       "<tr><td>--</td><td>expairmental Planck&apos;s constant (J*s)</td><td>3.96866E-34</td><td>--</td><td>--</td><td>--</td><td>--</td><td>--</td><td>--</td><td>--</td></tr>\n",
       "<tr><td>--</td><td>Accepted value for h</td><td>6.63E-34</td><td>--</td><td>--</td><td>--</td><td>--</td><td>--</td><td>--</td><td>--</td></tr>\n",
       "<tr><td>--</td><td>Percent error</td><td>4.01E+01</td><td>--</td><td>--</td><td>--</td><td>--</td><td>--</td><td>--</td><td>--</td></tr>\n",
       "</table>"
      ],
      "text/plain": [
       "<Table masked=True length=28>\n",
       "  col1                   col2                     col3    ...  col8  col9 col10\n",
       "  str8                  str36                    str11    ... int32 int32 int32\n",
       "-------- ------------------------------------ ----------- ... ----- ----- -----\n",
       "ï»¿Color                               436 nm      546 nm ...    --    --    --\n",
       "      --                                0.710       0.502 ...    --    --    --\n",
       "      --                                0.711       0.461 ...    --    --    --\n",
       "      --                                0.678       0.654 ...    --    --    --\n",
       "      --                                0.746       0.491 ...    --    --    --\n",
       "      --                                0.653       0.513 ...    --    --    --\n",
       "      --                                0.715       0.623 ...    --    --    --\n",
       "      --                                0.795       0.516 ...    --    --    --\n",
       "      --                                0.725       0.578 ...    --    --    --\n",
       "      --                                0.712       0.590 ...    --    --    --\n",
       "     ...                                  ...         ... ...   ...   ...   ...\n",
       "      --                                   --          -- ...    --    --    --\n",
       "      --                                   --          -- ...    --    --    --\n",
       "      --                                   --          -- ...    --    --    --\n",
       "      --                                   --          -- ...    --    --    --\n",
       "      --                                   --          -- ...    --    --    --\n",
       "      --                                   --          -- ...    --    --    --\n",
       "      --                                   --          -- ...    --    --    --\n",
       "      -- expairmental Planck's constant (J*s) 3.96866E-34 ...    --    --    --\n",
       "      --                 Accepted value for h    6.63E-34 ...    --    --    --\n",
       "      --                        Percent error    4.01E+01 ...    --    --    --"
      ]
     },
     "execution_count": 23,
     "metadata": {},
     "output_type": "execute_result"
    }
   ],
   "source": [
    "\n",
    "\n",
    "from astropy.io import ascii\n",
    "data = ascii.read('Find_H_RO_JC.csv')\n",
    "data\n",
    "\n"
   ]
  },
  {
   "cell_type": "markdown",
   "metadata": {},
   "source": [
    "# Analysis / Calculations\n"
   ]
  },
  {
   "cell_type": "code",
   "execution_count": 25,
   "metadata": {
    "collapsed": true
   },
   "outputs": [],
   "source": [
    "import numpy as np\n",
    "import matplotlib.pyplot as plt\n",
    "from astropy import units as u\n",
    "from scipy.optimize import curve_fit\n",
    "from matplotlib import pyplot\n",
    "%matplotlib inline\n",
    "    \n"
   ]
  },
  {
   "cell_type": "code",
   "execution_count": 29,
   "metadata": {
    "scrolled": true
   },
   "outputs": [
    {
     "data": {
      "image/png": "[encoded data removed]",
      "text/plain": [
       "<matplotlib.figure.Figure at 0x17708335e80>"
      ]
     },
     "metadata": {},
     "output_type": "display_data"
    }
   ],
   "source": [
    "plt.plot(data['col6'], data['col7'], 'rs')\n",
    "plt.xlabel('Ferquency (1/s)')\n",
    "plt.ylabel('Stopping Voltage (v)')\n",
    "plt.show()"
   ]
  },
  {
   "cell_type": "markdown",
   "metadata": {},
   "source": [
    "# Conclusion"
   ]
  },
  {
   "cell_type": "code",
   "execution_count": null,
   "metadata": {
    "collapsed": true
   },
   "outputs": [],
   "source": []
  },
  {
   "cell_type": "code",
   "execution_count": null,
   "metadata": {
    "collapsed": true
   },
   "outputs": [],
   "source": []
  },
  {
   "cell_type": "code",
   "execution_count": null,
   "metadata": {
    "collapsed": true
   },
   "outputs": [],
   "source": []
  }
 ],
 "metadata": {
  "kernelspec": {
   "display_name": "Python 3",
   "language": "python",
   "name": "python3"
  },
  "language_info": {
   "codemirror_mode": {
    "name": "ipython",
    "version": 3
   },
   "file_extension": ".py",
   "mimetype": "text/x-python",
   "name": "python",
   "nbconvert_exporter": "python",
   "pygments_lexer": "ipython3",
   "version": "3.6.1"
  }
 },
 "nbformat": 4,
 "nbformat_minor": 1
}
