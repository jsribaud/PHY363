{
 "cells": [
  {
   "cell_type": "markdown",
   "metadata": {},
   "source": [
    "# Electron Diffraction Tube\n",
    "Jelena Colon"
   ]
  },
  {
   "cell_type": "markdown",
   "metadata": {},
   "source": [
    "# Abstract\n",
    "\n",
    "\n",
    "The objective of this experiment is to "
   ]
  },
  {
   "cell_type": "markdown",
   "metadata": {},
   "source": [
    "# Introduction \n",
    "\n",
    "\n",
    "After Einstein introduced the duality of wave and particle behaviour of light, deBroglie proposed that matter should behave like waves as well. Specifically, he stated the idea that moving electrons act like both particles and waves. The wavelength of the electron is given by:\n",
    "\n",
    "                                                λ = h/p = h/mv\n",
    "                                                \n",
    "Where h is Planck's constant and p = mv is the electron momentum.\n",
    "\n",
    "This experiment is an attempt to see whether electrons really do act like waves or whether they always act like particles. The electron diffraction tube consists of an electron gun that accelerates electrons towards a graphite foil and produces a stream of electrons by having an electric field between the cathode and anode. Once the beam hits the foil, it is diffracted so it flies towards the screen in a circular direction. The beam will have kinetic energy equal to the electric potential energy (Va).\n",
    "\n",
    "                                                (1/2)mv^2 = Va\n",
    "                                                \n",
    "The diffracted electrons travel a certain distance (D) and strike the screen. \n",
    "\n",
    "<img src=\"20171116_155618.jpg\">\n"
   ]
  },
  {
   "cell_type": "markdown",
   "metadata": {},
   "source": [
    "# Procedure\n"
   ]
  },
  {
   "cell_type": "markdown",
   "metadata": {},
   "source": [
    "Begin by slowly increasing the high voltage supply until the ring of electrons just faintly appears on the screen. Using a ruler, measure the diameter of the inner and outer rings.\n",
    "\n"
   ]
  },
  {
   "cell_type": "markdown",
   "metadata": {
    "collapsed": true
   },
   "source": [
    "<img src=\"20171116_155655.jpg\">"
   ]
  },
  {
   "cell_type": "markdown",
   "metadata": {},
   "source": [
    "# Data"
   ]
  },
  {
   "cell_type": "code",
   "execution_count": 5,
   "metadata": {},
   "outputs": [
    {
     "name": "stdout",
     "output_type": "stream",
     "text": [
      "vA (kV) D-Inner (cm) D-Large (cm)\n",
      "------- ------------ ------------\n",
      "    2.8         3.15          5.2\n",
      "    3.0         3.05          5.1\n",
      "    3.2         2.95         4.85\n",
      "    3.4          2.8         4.75\n",
      "    3.6         2.65          4.7\n",
      "    3.8          2.6          4.6\n",
      "    4.0         2.55          4.4\n",
      "    4.2          2.5         4.05\n",
      "    4.4         2.45         3.95\n",
      "    4.6          2.4         3.85\n",
      "    4.8         2.35          3.8\n",
      "    5.0         2.25         3.65\n"
     ]
    }
   ],
   "source": [
    "from astropy.io import ascii\n",
    "data = ascii.read('lab09_data_ks_dja.csv')\n",
    "print (data)"
   ]
  },
  {
   "cell_type": "markdown",
   "metadata": {},
   "source": [
    "# Analysis / Calculations\n"
   ]
  },
  {
   "cell_type": "code",
   "execution_count": 13,
   "metadata": {},
   "outputs": [
    {
     "data": {
      "image/png": "[encoded data removed]",
      "text/plain": [
       "<matplotlib.figure.Figure at 0x110ebccc0>"
      ]
     },
     "metadata": {},
     "output_type": "display_data"
    }
   ],
   "source": [
    "import numpy as np\n",
    "import matplotlib.pyplot as plt\n",
    "from astropy import units as u\n",
    "from scipy.optimize import curve_fit\n",
    "from matplotlib import pyplot\n",
    "%matplotlib inline\n",
    "\n",
    "#assign variables to data\n",
    "Va=1/data['vA (kV)']**(1/2)\n",
    "dinner=data['D-Inner (cm)']\n",
    "dlarge=data['D-Large (cm)']\n",
    "\n",
    "\n",
    "#trendline\n",
    "def func (x, a, b):\n",
    "    return a*x + b\n",
    "\n",
    "#popt, pcov = curve_fit(func, d, Va,) #couldnt get a trendline to work\n",
    "\n",
    "\n",
    "\n",
    "plt.plot(Va, dinner, 'rs')\n",
    "plt.plot(Va, dlarge, 'rs')\n",
    "\n",
    "#plt.text(0.2, 4500, r\"a = {0:.6f} +/- {1:.6f}\".format(popt[0], pcov[0,0]**0.5),color=\"blue\")\n",
    "#plt.text(0.2, 4000, r\"b = {0:.6f} +/- {1:.6f}\".format(popt[1], pcov[1,1]**0.5),color=\"blue\")\n",
    "\n",
    "#plt.ylabel('Radius (m^2)')\n",
    "#plt.xlabel('1/Current^2 (1/A^2)')\n",
    "plt.show()"
   ]
  },
  {
   "cell_type": "markdown",
   "metadata": {},
   "source": [
    "# Conclusion\n",
    "\n"
   ]
  },
  {
   "cell_type": "markdown",
   "metadata": {},
   "source": [
    "# Acknowledgments"
   ]
  },
  {
   "cell_type": "markdown",
   "metadata": {},
   "source": []
  }
 ],
 "metadata": {
  "kernelspec": {
   "display_name": "Python 3",
   "language": "python",
   "name": "python3"
  },
  "language_info": {
   "codemirror_mode": {
    "name": "ipython",
    "version": 3
   },
   "file_extension": ".py",
   "mimetype": "text/x-python",
   "name": "python",
   "nbconvert_exporter": "python",
   "pygments_lexer": "ipython3",
   "version": "3.6.1"
  }
 },
 "nbformat": 4,
 "nbformat_minor": 1
}
