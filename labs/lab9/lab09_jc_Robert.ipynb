{
 "cells": [
  {
   "cell_type": "markdown",
   "metadata": {},
   "source": [
    "# Electron Diffraction Tube\n",
    "Jelena Colon and Alex Orellano"
   ]
  },
  {
   "cell_type": "markdown",
   "metadata": {},
   "source": [
    "# Abstract\n",
    "\n",
    "\n",
    "The objective of this experiment is to "
   ]
  },
  {
   "cell_type": "markdown",
   "metadata": {},
   "source": [
    "# Introduction \n",
    "\n",
    "\n",
    "The electron diffraction tube consists of an electron gun that accelerates electrons towards a graphite foil and produces a stream of electrons by having an electric field between the cathode and anode. Once the beam hits the foil, it is diffracted so it flies towards the screen in a circular direction.\n",
    "\n",
    "<img src=\"20171026_084320 9.02.04 AM.jpg\">\n",
    "\n",
    "Figure 1: "
   ]
  },
  {
   "cell_type": "markdown",
   "metadata": {},
   "source": [
    "# Procedure\n"
   ]
  },
  {
   "cell_type": "markdown",
   "metadata": {},
   "source": [
    "<img src=\"ue5020300_exp_hg-500x500.jpg\">\n",
    "\n",
    "Figure 2: Lab setup"
   ]
  },
  {
   "cell_type": "markdown",
   "metadata": {
    "collapsed": true
   },
   "source": [
    "Slowly increase the high voltage supply until the ring structure appears on the fluorescent layer on\n",
    "the electron diffraction tube. "
   ]
  },
  {
   "cell_type": "markdown",
   "metadata": {},
   "source": [
    "# Data"
   ]
  },
  {
   "cell_type": "code",
   "execution_count": 3,
   "metadata": {},
   "outputs": [
    {
     "name": "stdout",
     "output_type": "stream",
     "text": [
      "vA (kV) D-Inner (cm) D-Large (cm)\n",
      "------- ------------ ------------\n",
      "    2.8         3.15          5.2\n",
      "    3.0         3.05          5.1\n",
      "    3.2         2.95         4.85\n",
      "    3.4          2.8         4.75\n",
      "    3.6         2.65          4.7\n",
      "    3.8          2.6          4.6\n",
      "    4.0         2.55          4.4\n",
      "    4.2          2.5         4.05\n",
      "    4.4         2.45         3.95\n",
      "    4.6          2.4         3.85\n",
      "    4.8         2.35          3.8\n",
      "    5.0         2.25         3.65\n"
     ]
    }
   ],
   "source": [
    "from astropy.io import ascii\n",
    "data = ascii.read('lab09_data_ks_dja.csv')\n",
    "print (data)"
   ]
  },
  {
   "cell_type": "markdown",
   "metadata": {},
   "source": [
    "# Analysis / Calculations\n"
   ]
  },
  {
   "cell_type": "markdown",
   "metadata": {},
   "source": []
  },
  {
   "cell_type": "markdown",
   "metadata": {},
   "source": [
    "# Conclusion\n",
    "\n"
   ]
  },
  {
   "cell_type": "markdown",
   "metadata": {},
   "source": [
    "# Acknowledgments"
   ]
  },
  {
   "cell_type": "markdown",
   "metadata": {},
   "source": []
  }
 ],
 "metadata": {
  "kernelspec": {
   "display_name": "Python 3",
   "language": "python",
   "name": "python3"
  },
  "language_info": {
   "codemirror_mode": {
    "name": "ipython",
    "version": 3
   },
   "file_extension": ".py",
   "mimetype": "text/x-python",
   "name": "python",
   "nbconvert_exporter": "python",
   "pygments_lexer": "ipython3",
   "version": "3.6.1"
  }
 },
 "nbformat": 4,
 "nbformat_minor": 1
}
