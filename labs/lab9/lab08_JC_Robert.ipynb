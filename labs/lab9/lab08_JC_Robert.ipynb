{
 "cells": [
  {
   "cell_type": "markdown",
   "metadata": {},
   "source": [
    "# Franck-Hertz Experiment\n",
    "Jelena Colon and Alex Orellano"
   ]
  },
  {
   "cell_type": "markdown",
   "metadata": {},
   "source": [
    "# Abstract\n",
    "\n",
    "\n",
    "The objective of this experiment is to demonstrate the quantized energy levels in atoms by recreating the Franck-Hertz experiment. Using an oscilloscope we found the average of each minima and maxima, the average excitation energy, to be approximitally 5458 eV. The wave length was calculated to be 227.1 nm. We were able to determine a value of excitation energy and of wavelength with a 10.5% difference from the accepted values."
   ]
  },
  {
   "cell_type": "markdown",
   "metadata": {},
   "source": [
    "# Introduction \n",
    "\n",
    "\n",
    "The Franck–Hertz experiment was one of the first experiments that clearly showed the quantum nature of atoms. It was pioneered by James Franck and Gustav Hertz in 1914. A physist named Niels Bohr postulated that the electrons in an atom could only exist in certain energy states and could only absorb energy at certain discrete values. Franck and Hertz provided evidence to support Bohr's hypotheses by bombarding mercury gas with electrons accelerated through a tube. The electrons are accelerated and can reach the collector and be registered on the oscilloscope. At low accelerating voltages, perfectly elastic collisions occur between the electrons and mercury atoms. As the accelerating voltage is increased further inelastic collisions occur. In these inelastic collisions, electrons can transfer almost all of their kinetic energy to the atom, raising it to its first excited state. Electrons that have collided inelastically are unable to reach the collector and a decrease can be observed. Franck and Hertz discovered that when an electron collided with a mercury atom it could lose only a specific quantity of its kinetic energy. Effectively, they showed that no matter how the atoms received the energy, whether through interaction with a photon or through a collision with an actual particle, they could only accept it in certain amounts. Figure 1 shows a typical plot of current versus accelerating voltage also known as a Franck-Hertz curve. The following experiment is a modern recreation of the one Franck and Hertz performed.\n",
    "\n",
    "\n",
    "<img src=\"20171026_084320 9.02.04 AM.jpg\">\n",
    "\n",
    "Figure 1: Franck-Hertz curve"
   ]
  },
  {
   "cell_type": "markdown",
   "metadata": {},
   "source": [
    "# Procedure\n"
   ]
  },
  {
   "cell_type": "markdown",
   "metadata": {},
   "source": [
    "<img src=\"ue5020300_exp_hg-500x500.jpg\">\n",
    "\n",
    "Figure 2: Lab setup"
   ]
  },
  {
   "cell_type": "markdown",
   "metadata": {
    "collapsed": true
   },
   "source": [
    "To begin, connect an oscilloscope, franck-hertz heating oven and franck-hertz operating unit as pictured in figure 2. The oven should be set at a temperature of about 200 degrees celsius and the heater voltage should be a value of approximately 8 volts. Next, increase the acclerating voltage to about 80 volts. This will display the franck-hertz curve on the oscilloscope. Once adjustments are made and clear waves are observed you can begin to take measurements of the minimas and maximas."
   ]
  },
  {
   "cell_type": "markdown",
   "metadata": {},
   "source": [
    "# Data"
   ]
  },
  {
   "cell_type": "markdown",
   "metadata": {},
   "source": [
    "The data obtained from reading the oscilloscope to find the intervals between minimas and maximas are: 4750 V, 4750 V, 5250 V, 5500 V, 6250 V, 6250 V."
   ]
  },
  {
   "cell_type": "markdown",
   "metadata": {},
   "source": [
    "# Analysis / Calculations\n"
   ]
  },
  {
   "cell_type": "markdown",
   "metadata": {},
   "source": [
    "Step 1: Found the average from each minima to minima, and from each maxima to maxima using and oscilloscope to measure our values, then found the average excitation energy to be approximitally 5458 eV.\n",
    "\n",
    "Step 2: Using the spectral frequency equation (f=E/h), E= 5458 and h being Plancks constant (4133*10^-15 eVs). We find the spectral frequency to be 1.321*10^15 s^-1.\n",
    "\n",
    "Step 3: To find lamda, we divided the speed of light (c= 2.998*10^8 m/s) by the spectral frequency to get a wave length of 227.1nm."
   ]
  },
  {
   "cell_type": "markdown",
   "metadata": {},
   "source": [
    "# Conclusion\n",
    "\n",
    "By recreating the experiment performed by Franck and Hertz we were able to determine a value for excitation energy and wavelength with a 10.5% error from the accepted values. A possibilty for this error could be due to the heating oven not being at an adequate or steady temperature. Also, the oscilloscope did not provide an accurate way to be certain the exact minima and maxima were measured. This is because there was no way to zoom in without distorting the curve so the dial on the machine was manuvered by eyeballing where the minima and maximas were."
   ]
  },
  {
   "cell_type": "markdown",
   "metadata": {},
   "source": [
    "# Acknowledgments"
   ]
  },
  {
   "cell_type": "markdown",
   "metadata": {},
   "source": [
    "Figure 1: Franck-Hertz Experiment, Klinger Educational Products Corp.\n",
    "\n",
    "Figure 2: https://www.indiamart.com/hargolalandsons/student-experiments-equipment.html"
   ]
  }
 ],
 "metadata": {
  "kernelspec": {
   "display_name": "Python 3",
   "language": "python",
   "name": "python3"
  },
  "language_info": {
   "codemirror_mode": {
    "name": "ipython",
    "version": 3
   },
   "file_extension": ".py",
   "mimetype": "text/x-python",
   "name": "python",
   "nbconvert_exporter": "python",
   "pygments_lexer": "ipython3",
   "version": "3.6.1"
  }
 },
 "nbformat": 4,
 "nbformat_minor": 1
}
