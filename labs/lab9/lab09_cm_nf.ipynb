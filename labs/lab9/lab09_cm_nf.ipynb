{
 "cells": [
  {
   "cell_type": "markdown",
   "metadata": {},
   "source": [
    "# Electron Diffraction Tube Experiment"
   ]
  },
  {
   "cell_type": "markdown",
   "metadata": {},
   "source": [
    "###### Nathaniel Flower and Chelsey McMichael"
   ]
  },
  {
   "cell_type": "markdown",
   "metadata": {},
   "source": [
    "# Abstract"
   ]
  },
  {
   "cell_type": "markdown",
   "metadata": {},
   "source": [
    "To prove Louis de Broglie's theory, we measured the ring diameters on an electron diffraction tube at various anode voltages. Using this data, we plotted a graph of ring diameter vs. the anode voltage to the -0.5. The slopes going through the plotted points were used to prove the hypothesis. We calculated the ratio to be 1.340 with 22.619% error."
   ]
  },
  {
   "cell_type": "markdown",
   "metadata": {},
   "source": [
    "# Introduction"
   ]
  },
  {
   "cell_type": "markdown",
   "metadata": {},
   "source": [
    "In 1923, Louis de Broglie postulated that moving electrons exhibit both particle and wave properties. He proposed the wavelength of the moving electron was equal to Planck's constant divided by the nonrelativistic momentum. De Broglie's hypothesis was verified by the experiments of Clinton J. Davisson, Lester H. Germer, and George P. Thomson. Using a simple diffraction formula,  Davisson and Germer calculated the wavelength of electrons and compared this with de Broglie's formula and their results agreed with de Broglie's hypothesis. "
   ]
  },
  {
   "cell_type": "markdown",
   "metadata": {},
   "source": [
    "# Procedure"
   ]
  },
  {
   "cell_type": "markdown",
   "metadata": {},
   "source": [
    "In this experiment, the kilovolt power supply is set to 4 kV and is switched on. When the anode votage was arounf 4 kV, two distinct rings were seen circling the central spot of the flourescent screen of the tube. The noticeability of the rings was increased by turning off the lights of the laboratory, which allowed for us to take measurements more easily. As a safety precaution, the light intensity after each reading was reduced. This was done because the bright spot in the center of the flourescent screen of the tube could damage this section of the tube. \n",
    "\n",
    "<img src=\"setup_cm.jpg\" height=\"350\" width=\"500\">\n",
    "###### Figure 1. Electron Diffraction Tube Experimental Setup\n",
    "\n",
    "To easily find the diameter, we measured the radius of each ring instead, and then doubled the measurement of the radius. Each ring was measured twice for each different voltage, and the average of the inner and outer diameter was taken at each voltage. To measure each ring, we held a flexible ruler up to the tube and measured from the middle of the ring line through the diameter.\n",
    "\n",
    "<img src=\"rings_cm.jpg\" height=\"350\" width=\"500\">\n",
    "###### Figure 2. Two Rings Forming Around Bright Spot"
   ]
  },
  {
   "cell_type": "markdown",
   "metadata": {},
   "source": [
    "# Data"
   ]
  },
  {
   "cell_type": "markdown",
   "metadata": {},
   "source": [
    "**Voltage (kV)**|**Inner Diameter 1 (cm)**|**Outer Diameter 1 (cm)**|**Inner Diameter 2 (cm)**|**Outer Diameter 2 (cm)**|**Average Inner Diameter (cm)**|**Average Outer Diameter (cm)**\n",
    ":-----:|:-----:|:-----:|:-----:|:-----:|:-----:|:-----:\n",
    "3.00|3.00|5.00|2.70|4.80|2.85|4.90\n",
    "3.25|2.70|4.50|2.60|4.60|2.65|4.55\n",
    "3.50|2.50|4.40|2.40|4.50|2.45|4.45\n",
    "3.75|2.40|4.20|2.30|4.30|2.35|4.25\n",
    "4.00|2.20|4.20|2.10|4.00|2.15|4.10\n",
    "4.50|2.00|3.80|2.00|3.90|2.00|3.85\n",
    "5.00|1.90|3.40|1.80|3.50|1.85|3.45"
   ]
  },
  {
   "cell_type": "markdown",
   "metadata": {},
   "source": [
    "# Calculations"
   ]
  },
  {
   "cell_type": "code",
   "execution_count": 2,
   "metadata": {
    "collapsed": true
   },
   "outputs": [],
   "source": [
    "from astropy.io import ascii \n",
    "import numpy as np\n",
    "import matplotlib.pyplot as plt\n",
    "from scipy.optimize import curve_fit\n",
    "\n",
    "def func(x, a, b):\n",
    "    return a*x + b\n",
    "\n",
    "data=ascii.read(\"lab09_cm.csv\") #bring in the csv\n",
    "\n",
    "voltage=data['voltage']*1 #V\n",
    "avg_in_di=data['avg inner'] #cm\n",
    "avg_out_di=data['avg outer'] #cm"
   ]
  },
  {
   "cell_type": "code",
   "execution_count": 35,
   "metadata": {},
   "outputs": [
    {
     "data": {
      "image/png": "[encoded data removed]",
      "text/plain": [
       "<matplotlib.figure.Figure at 0x1b7cbe30b00>"
      ]
     },
     "metadata": {},
     "output_type": "display_data"
    },
    {
     "name": "stdout",
     "output_type": "stream",
     "text": [
      "The ratio of the spacings are 1.340\n",
      "The accepted value is sqrt(3) is 1.732\n",
      "Our percent error is 22.619%\n"
     ]
    }
   ],
   "source": [
    "volt_neg_half= (voltage)**-.5 #voltage raised to the negative one-half power\n",
    "plt.plot(volt_neg_half, avg_in_di, 'ro')\n",
    "plt.plot(volt_neg_half, avg_out_di, 'bo')\n",
    "\n",
    "popti, pcovi = curve_fit(func, volt_neg_half, avg_in_di)\n",
    "popto, pcovo = curve_fit(func, volt_neg_half, avg_out_di)\n",
    "\n",
    "plt.plot(volt_neg_half, np.polyval(popti, volt_neg_half), '-')\n",
    "plt.plot(volt_neg_half, np.polyval(popto, volt_neg_half), '-')\n",
    "plt.title(\"Electron Diffraction: Ring Diameter vs. Voltage^-1/2\", fontsize=15)\n",
    "plt.xlabel(\"1/(Voltage^-1/2) [V^-1/2]\", fontsize=13)\n",
    "plt.ylabel(\"Ring Diameter [cm]\", fontsize= 13)\n",
    "\n",
    "plt.text(0.0145, 2.7, r\"a = {0:.3f} +/- {1:.3f}\".format(popti[0], pcovi[0,0]**0.5))\n",
    "plt.text(0.0145, 2.5, r\"b = {0:.3f} +/- {1:.3f}\".format(popti[1], pcovi[1,1]**0.5))\n",
    "\n",
    "plt.text(0.0145, 4.7, r\"a = {0:.3f} +/- {1:.3f}\".format(popto[0], pcovo[0,0]**0.5))\n",
    "plt.text(0.0145, 4.5, r\"b = {0:.3f} +/- {1:.3f}\".format(popto[1], pcovo[1,1]**0.5))\n",
    "\n",
    "plt.show()\n",
    "\n",
    "print(\"The ratio of the spacings are {:.3f}\".format(popto[0]/popti[0]))\n",
    "print(\"The accepted value is sqrt(3) is {:.3f}\".format(3**.5))\n",
    "print(\"Our percent error is {:.3f}%\".format(abs(popto[0]/popti[0]-3**.5)/(3**.5)*100))"
   ]
  },
  {
   "cell_type": "markdown",
   "metadata": {},
   "source": [
    "# Conclusion"
   ]
  },
  {
   "cell_type": "markdown",
   "metadata": {},
   "source": [
    "We found the ratio of the two circles to be 1.340 which is 22.619% off of the accepted value of 1.732. This relatively large percent error can partly be explained from the difficulty we had using a stiff ruler to measure a round surface."
   ]
  },
  {
   "cell_type": "markdown",
   "metadata": {},
   "source": [
    "# References"
   ]
  },
  {
   "cell_type": "markdown",
   "metadata": {},
   "source": [
    "Electron Diffraction Tube Handout: Variation of Electron Wavelength with Anode Voltage"
   ]
  }
 ],
 "metadata": {
  "kernelspec": {
   "display_name": "Python 3",
   "language": "python",
   "name": "python3"
  },
  "language_info": {
   "codemirror_mode": {
    "name": "ipython",
    "version": 3
   },
   "file_extension": ".py",
   "mimetype": "text/x-python",
   "name": "python",
   "nbconvert_exporter": "python",
   "pygments_lexer": "ipython3",
   "version": "3.6.2"
  }
 },
 "nbformat": 4,
 "nbformat_minor": 2
}
