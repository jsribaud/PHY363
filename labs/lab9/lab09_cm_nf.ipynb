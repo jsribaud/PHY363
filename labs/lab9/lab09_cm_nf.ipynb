{
 "cells": [
  {
   "cell_type": "markdown",
   "metadata": {},
   "source": [
    "# Electron Diffraction Tube Experiment"
   ]
  },
  {
   "cell_type": "markdown",
   "metadata": {},
   "source": [
    "###### Nathaniel Flower and Chelsey McMichael"
   ]
  },
  {
   "cell_type": "markdown",
   "metadata": {},
   "source": [
    "# Abstract"
   ]
  },
  {
   "cell_type": "markdown",
   "metadata": {},
   "source": []
  },
  {
   "cell_type": "markdown",
   "metadata": {},
   "source": [
    "# Introduction"
   ]
  },
  {
   "cell_type": "markdown",
   "metadata": {},
   "source": []
  },
  {
   "cell_type": "markdown",
   "metadata": {},
   "source": [
    "# Data"
   ]
  },
  {
   "cell_type": "markdown",
   "metadata": {},
   "source": [
    "**Voltage (kV)**|**Inner Diameter 1 (cm)**|**Outer Diameter 1 (cm)**|**Inner Diameter 2 (cm)**|**Outer Diameter 2 (cm)**|**Average Inner Diameter (cm)**|**Average Outer Diameter (cm)**\n",
    ":-----:|:-----:|:-----:|:-----:|:-----:|:-----:|:-----:\n",
    "3.00|3.00|5.00|2.70|4.80|2.85|4.90\n",
    "3.25|2.70|4.50|2.60|4.60|2.65|4.55\n",
    "3.50|2.50|4.40|2.40|4.50|2.45|4.45\n",
    "3.75|2.40|4.20|2.30|4.30|2.35|4.25\n",
    "4.00|2.20|4.20|2.10|4.00|2.15|4.10\n",
    "4.50|2.00|3.80|2.00|3.90|2.00|3.85\n",
    "5.00|1.90|3.40|1.80|3.50|1.85|3.45"
   ]
  },
  {
   "cell_type": "markdown",
   "metadata": {},
   "source": [
    "# Calculations"
   ]
  },
  {
   "cell_type": "code",
   "execution_count": 3,
   "metadata": {
    "collapsed": true
   },
   "outputs": [],
   "source": [
    "from astropy.io import ascii\n",
    "import numpy as np\n",
    "\n",
    "data=ascii.read(\"lab09_cm.csv\") #bring in the csv\n",
    "\n",
    "voltage=data['voltage']\n",
    "avg_in_di=data['avg inner']\n",
    "avg_out_di=data['avg outer']\n",
    "\n",
    "\n"
   ]
  },
  {
   "cell_type": "markdown",
   "metadata": {},
   "source": [
    "# Conclusion"
   ]
  },
  {
   "cell_type": "markdown",
   "metadata": {},
   "source": []
  },
  {
   "cell_type": "markdown",
   "metadata": {},
   "source": [
    "# References"
   ]
  },
  {
   "cell_type": "markdown",
   "metadata": {},
   "source": []
  },
  {
   "cell_type": "code",
   "execution_count": null,
   "metadata": {
    "collapsed": true
   },
   "outputs": [],
   "source": []
  }
 ],
 "metadata": {
  "kernelspec": {
   "display_name": "Python 3",
   "language": "python",
   "name": "python3"
  },
  "language_info": {
   "codemirror_mode": {
    "name": "ipython",
    "version": 3
   },
   "file_extension": ".py",
   "mimetype": "text/x-python",
   "name": "python",
   "nbconvert_exporter": "python",
   "pygments_lexer": "ipython3",
   "version": "3.6.2"
  }
 },
 "nbformat": 4,
 "nbformat_minor": 2
}
