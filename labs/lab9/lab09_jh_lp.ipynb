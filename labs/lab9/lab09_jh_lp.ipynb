{
 "cells": [
  {
   "cell_type": "markdown",
   "metadata": {},
   "source": [
    "# Electron Charge-to-Mass Ratio\n",
    "## Justin Houle , Liam Patterson"
   ]
  },
  {
   "cell_type": "markdown",
   "metadata": {},
   "source": [
    "# Abstract\n"
   ]
  },
  {
   "cell_type": "markdown",
   "metadata": {},
   "source": [
    "# Introduction\n"
   ]
  },
  {
   "cell_type": "markdown",
   "metadata": {},
   "source": [
    "# Methods and Setup\n",
    " "
   ]
  },
  {
   "cell_type": "code",
   "execution_count": 1,
   "metadata": {},
   "outputs": [
    {
     "ename": "SyntaxError",
     "evalue": "invalid syntax (<ipython-input-1-c56d8fd056dd>, line 10)",
     "output_type": "error",
     "traceback": [
      "\u001b[1;36m  File \u001b[1;32m\"<ipython-input-1-c56d8fd056dd>\"\u001b[1;36m, line \u001b[1;32m10\u001b[0m\n\u001b[1;33m    -\u001b[0m\n\u001b[1;37m     ^\u001b[0m\n\u001b[1;31mSyntaxError\u001b[0m\u001b[1;31m:\u001b[0m invalid syntax\n"
     ]
    }
   ],
   "source": [
    "%pylab inline\n",
    "import matplotlib.pyplot as plt\n",
    "import matplotlib.image as mpimg\n",
    "\n",
    "img=mpimg.imread('lab6ring.jpg')\n",
    "plt.figure(figsize=(20,10))\n",
    "plt.axis('off')\n",
    "imgplot = plt.imshow(img)\n",
    "plt.show()\n",
    "-\n",
    "print(\"Electron Ring\")"
   ]
  },
  {
   "cell_type": "code",
   "execution_count": 2,
   "metadata": {},
   "outputs": [
    {
     "ename": "SyntaxError",
     "evalue": "invalid syntax (<ipython-input-2-a7b968bfe703>, line 10)",
     "output_type": "error",
     "traceback": [
      "\u001b[1;36m  File \u001b[1;32m\"<ipython-input-2-a7b968bfe703>\"\u001b[1;36m, line \u001b[1;32m10\u001b[0m\n\u001b[1;33m    -\u001b[0m\n\u001b[1;37m     ^\u001b[0m\n\u001b[1;31mSyntaxError\u001b[0m\u001b[1;31m:\u001b[0m invalid syntax\n"
     ]
    }
   ],
   "source": [
    "%pylab inline\n",
    "import matplotlib.pyplot as plt\n",
    "import matplotlib.image as mpimg\n",
    "\n",
    "img=mpimg.imread('lab6setup.jpg')\n",
    "plt.figure(figsize=(20,10))\n",
    "plt.axis('off')\n",
    "imgplot = plt.imshow(img)\n",
    "plt.show()\n",
    "-\n",
    "print(\"Charge to Mass ratio setup\")"
   ]
  },
  {
   "cell_type": "markdown",
   "metadata": {},
   "source": [
    "# Data and Calculations"
   ]
  },
  {
   "cell_type": "markdown",
   "metadata": {
    "collapsed": true
   },
   "source": [
    "\\begin{equation}\n",
    "\\end{equation}"
   ]
  },
  {
   "cell_type": "code",
   "execution_count": 3,
   "metadata": {
    "collapsed": true
   },
   "outputs": [],
   "source": [
    "import math\n",
    "import astropy.units as u\n",
    "from astropy.io import ascii\n",
    "import numpy as np\n",
    "from sklearn.neighbors import KernelDensity\n",
    "import matplotlib.pyplot as plt\n",
    "from scipy.optimize import curve_fit\n",
    "%matplotlib inline"
   ]
  },
  {
   "cell_type": "code",
   "execution_count": 20,
   "metadata": {},
   "outputs": [
    {
     "data": {
      "text/html": [
       "&lt;Table length=5&gt;\n",
       "<table id=\"table2777530169440\" class=\"table-striped table-bordered table-condensed\">\n",
       "<thead><tr><th>kVa</th><th>Voltage</th><th>D inner 1</th><th>D outer 1</th><th>D inner 2</th><th>D outer 2</th><th>D inner avg</th><th>D outer avg</th></tr></thead>\n",
       "<thead><tr><th>float64</th><th>int32</th><th>float64</th><th>float64</th><th>float64</th><th>float64</th><th>float64</th><th>float64</th></tr></thead>\n",
       "<tr><td>3.5</td><td>3500</td><td>2.8</td><td>5.0</td><td>2.7</td><td>4.6</td><td>2.75</td><td>4.8</td></tr>\n",
       "<tr><td>4.0</td><td>4000</td><td>2.6</td><td>3.8</td><td>2.7</td><td>4.6</td><td>2.65</td><td>4.2</td></tr>\n",
       "<tr><td>4.5</td><td>4500</td><td>2.3</td><td>3.4</td><td>2.3</td><td>3.7</td><td>2.3</td><td>3.55</td></tr>\n",
       "<tr><td>5.0</td><td>5000</td><td>2.2</td><td>3.2</td><td>2.4</td><td>3.8</td><td>2.3</td><td>3.5</td></tr>\n",
       "<tr><td>5.5</td><td>5500</td><td>2.0</td><td>3.2</td><td>2.0</td><td>3.4</td><td>2.0</td><td>3.3</td></tr>\n",
       "</table>"
      ],
      "text/plain": [
       "<Table length=5>\n",
       "  kVa   Voltage D inner 1 D outer 1 D inner 2 D outer 2 D inner avg D outer avg\n",
       "float64  int32   float64   float64   float64   float64    float64     float64  \n",
       "------- ------- --------- --------- --------- --------- ----------- -----------\n",
       "    3.5    3500       2.8       5.0       2.7       4.6        2.75         4.8\n",
       "    4.0    4000       2.6       3.8       2.7       4.6        2.65         4.2\n",
       "    4.5    4500       2.3       3.4       2.3       3.7         2.3        3.55\n",
       "    5.0    5000       2.2       3.2       2.4       3.8         2.3         3.5\n",
       "    5.5    5500       2.0       3.2       2.0       3.4         2.0         3.3"
      ]
     },
     "execution_count": 20,
     "metadata": {},
     "output_type": "execute_result"
    }
   ],
   "source": [
    "data = ascii.read('ElectronDiffraction.csv', 'r')\n",
    "data"
   ]
  },
  {
   "cell_type": "code",
   "execution_count": 32,
   "metadata": {},
   "outputs": [
    {
     "data": {
      "image/png": "[encoded data removed]",
      "text/plain": [
       "<matplotlib.figure.Figure at 0x286b18d8080>"
      ]
     },
     "metadata": {},
     "output_type": "display_data"
    }
   ],
   "source": [
    "#Graph for Inner Diameter\n",
    "data = ascii.read('ElectronDiffraction.csv', 'r')\n",
    "\n",
    "#defining variables and std deviation\n",
    "y = data['D inner avg'] * 10\n",
    "x = data['Voltage']**(-1/2)\n",
    "sdev=np.std(y)\n",
    "\n",
    "#defining function and trendline\n",
    "def func(x, a, b):\n",
    "    return a*x + b\n",
    "\n",
    "popt, pcov = curve_fit(func, x, y, absolute_sigma=sdev)\n",
    "\n",
    "#creating plot\n",
    "plt.plot(x, y, 'ro')\n",
    "plt.plot(x, np.polyval(popt, x), 'b')\n",
    "plt.errorbar(x, y, yerr=sdev, fmt='ro')\n",
    "plt.text(0.0135, 30, r\"a = {0:.9f} +/- {1:.9f}\".format(popt[0], pcov[0,0]**0.5))\n",
    "plt.text(0.0135, 29, r\"b = {0:.3f} +/- {1:.3f}\".format(popt[1], pcov[1,1]**0.5))\n",
    "plt.xlabel(\"1/Voltage^1/2 (1/V^1/2)\")\n",
    "plt.ylabel(\"Inner Diameter (mm)\")\n",
    "plt.show()"
   ]
  },
  {
   "cell_type": "code",
   "execution_count": 34,
   "metadata": {},
   "outputs": [
    {
     "data": {
      "image/png": "[encoded data removed]",
      "text/plain": [
       "<matplotlib.figure.Figure at 0x286b18eee48>"
      ]
     },
     "metadata": {},
     "output_type": "display_data"
    }
   ],
   "source": [
    "#Graph for Outer Diameter\n",
    "data = ascii.read('ElectronDiffraction.csv', 'r')\n",
    "\n",
    "#defining variables and std deviation\n",
    "y = data['D outer avg'] * 10\n",
    "x = data['Voltage']**(-1/2)\n",
    "sdev=np.std(y)\n",
    "\n",
    "#defining function and trendline\n",
    "def func(x, a, b):\n",
    "    return a*x + b\n",
    "\n",
    "popt, pcov = curve_fit(func, x, y, absolute_sigma=sdev)\n",
    "\n",
    "#creating plot\n",
    "plt.plot(x, y, 'ro')\n",
    "plt.plot(x, np.polyval(popt, x), 'b')\n",
    "plt.errorbar(x, y, yerr=sdev, fmt='ro')\n",
    "plt.text(0.0135, 50, r\"a = {0:.9f} +/- {1:.9f}\".format(popt[0], pcov[0,0]**0.5))\n",
    "plt.text(0.0135, 48, r\"b = {0:.3f} +/- {1:.3f}\".format(popt[1], pcov[1,1]**0.5))\n",
    "plt.xlabel(\"1/Voltage^1/2 (1/V^1/2)\")\n",
    "plt.ylabel(\"Outer Diameter (mm)\")\n",
    "plt.show()"
   ]
  },
  {
   "cell_type": "code",
   "execution_count": null,
   "metadata": {},
   "outputs": [],
   "source": []
  },
  {
   "cell_type": "markdown",
   "metadata": {},
   "source": [
    "# Conclusions"
   ]
  },
  {
   "cell_type": "markdown",
   "metadata": {},
   "source": []
  },
  {
   "cell_type": "markdown",
   "metadata": {},
   "source": [
    "# References"
   ]
  },
  {
   "cell_type": "markdown",
   "metadata": {},
   "source": [
    "The electron diffraction ratio lab handout"
   ]
  },
  {
   "cell_type": "code",
   "execution_count": null,
   "metadata": {
    "collapsed": true
   },
   "outputs": [],
   "source": []
  }
 ],
 "metadata": {
  "kernelspec": {
   "display_name": "Python 3",
   "language": "python",
   "name": "python3"
  },
  "language_info": {
   "codemirror_mode": {
    "name": "ipython",
    "version": 3
   },
   "file_extension": ".py",
   "mimetype": "text/x-python",
   "name": "python",
   "nbconvert_exporter": "python",
   "pygments_lexer": "ipython3",
   "version": "3.6.1"
  }
 },
 "nbformat": 4,
 "nbformat_minor": 1
}
