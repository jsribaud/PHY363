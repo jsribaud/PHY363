{
 "cells": [
  {
   "cell_type": "markdown",
   "metadata": {},
   "source": [
    "# Inverse Square Law (Diffraction Gratings): Daniel Alfeo and Liam Patterson"
   ]
  },
  {
   "cell_type": "markdown",
   "metadata": {},
   "source": [
    "# Introduction\n",
    "\n",
    "In this experiment we are validating that the intensity of light or sound coming from a source decreases the further one is from the source at the fixed rate \\begin{equation} 1/r^2 \\end{equation} We will examine how the rectangular area outlined by bright spots produced by a laser beam (Metrologic Neon Laser Model ML810) going through a pair defration gratings (13,700 Lines / in.) varies with the distance to the source of the laser.\n"
   ]
  },
  {
   "cell_type": "markdown",
   "metadata": {},
   "source": [
    "# Procedure\n",
    "\n",
    "To perform this lab we oriented a pair of defraction gratings next to eachother with a difference of 90-degree rotation between the two. We pointed the laser through the gratings to produce squares of various sizes. We took readings from starting the laser source 10cm from the board, and moved back in 10cm increments to 100cm from the board. We then did calculations to find the area of each shape. This was performed twice to have a more broad collection of data."
   ]
  },
  {
   "cell_type": "code",
   "execution_count": 22,
   "metadata": {
    "collapsed": true
   },
   "outputs": [],
   "source": [
    "import numpy as np\n",
    "import matplotlib.pyplot as plt\n",
    "from astropy import units as u\n",
    "from scipy.optimize import curve_fit\n",
    "%matplotlib inline"
   ]
  },
  {
   "cell_type": "markdown",
   "metadata": {},
   "source": [
    "# Data\n",
    "\n",
    "Note: During measurements for each distance, perpendicular sides for each rectangle measured the same length. Therefore, each figure created in our experiment was a square. This is why we only recorded the length of one side for each distance in the table."
   ]
  },
  {
   "cell_type": "code",
   "execution_count": 21,
   "metadata": {},
   "outputs": [
    {
     "data": {
      "text/html": [
       "&lt;Table length=10&gt;\n",
       "<table id=\"table230943483440\" class=\"table-striped table-bordered table-condensed\">\n",
       "<thead><tr><th>Distance</th><th>Side_Length</th><th>Area</th></tr></thead>\n",
       "<thead><tr><th>int32</th><th>float64</th><th>float64</th></tr></thead>\n",
       "<tr><td>10</td><td>73.8</td><td>5446.44</td></tr>\n",
       "<tr><td>20</td><td>66.55</td><td>4428.9</td></tr>\n",
       "<tr><td>30</td><td>59.05</td><td>3486.9</td></tr>\n",
       "<tr><td>40</td><td>51.9</td><td>2693.61</td></tr>\n",
       "<tr><td>50</td><td>44.45</td><td>1975.8</td></tr>\n",
       "<tr><td>60</td><td>37.15</td><td>1387.56</td></tr>\n",
       "<tr><td>70</td><td>29.7</td><td>882.09</td></tr>\n",
       "<tr><td>80</td><td>22.2</td><td>492.84</td></tr>\n",
       "<tr><td>90</td><td>15.15</td><td>229.52</td></tr>\n",
       "<tr><td>100</td><td>7.75</td><td>60.06</td></tr>\n",
       "</table>"
      ],
      "text/plain": [
       "<Table length=10>\n",
       "Distance Side_Length   Area \n",
       " int32     float64   float64\n",
       "-------- ----------- -------\n",
       "      10        73.8 5446.44\n",
       "      20       66.55  4428.9\n",
       "      30       59.05  3486.9\n",
       "      40        51.9 2693.61\n",
       "      50       44.45  1975.8\n",
       "      60       37.15 1387.56\n",
       "      70        29.7  882.09\n",
       "      80        22.2  492.84\n",
       "      90       15.15  229.52\n",
       "     100        7.75   60.06"
      ]
     },
     "execution_count": 21,
     "metadata": {},
     "output_type": "execute_result"
    }
   ],
   "source": [
    "from astropy.io import ascii\n",
    "data = ascii.read('../Table2.csv')\n",
    "data"
   ]
  },
  {
   "cell_type": "code",
   "execution_count": 20,
   "metadata": {},
   "outputs": [
    {
     "data": {
      "image/png": "[encoded data removed]",
      "text/plain": [
       "<matplotlib.figure.Figure at 0x35c539f748>"
      ]
     },
     "metadata": {},
     "output_type": "display_data"
    }
   ],
   "source": [
    "plt.plot(data['Distance'], data['Area'], 'rs')\n",
    "plt.xlabel('Distance (cm)')\n",
    "plt.ylabel('Area (cm^2)')\n",
    "plt.show()"
   ]
  },
  {
   "cell_type": "markdown",
   "metadata": {},
   "source": [
    "# Analysis\n",
    "\n",
    "We can use the data collected to find a relationship between the area of the square and the distance the laser is from the board for each 10cm separated distance. It can be seen that the relative intensity of the laser decreases expontentially as it gets further from the board as the areas decrease at an exponential rate (as can been seen by the plot of the data) where the change in area is more drastic as you are closer to the board moving away, rather than when you are already far from the board and moving further away. This is supporting evidence of the inverse square law."
   ]
  }
 ],
 "metadata": {
  "kernelspec": {
   "display_name": "Python 3",
   "language": "python",
   "name": "python3"
  },
  "language_info": {
   "codemirror_mode": {
    "name": "ipython",
    "version": 3
   },
   "file_extension": ".py",
   "mimetype": "text/x-python",
   "name": "python",
   "nbconvert_exporter": "python",
   "pygments_lexer": "ipython3",
   "version": "3.6.1"
  }
 },
 "nbformat": 4,
 "nbformat_minor": 1
}
