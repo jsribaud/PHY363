{
 "cells": [
  {
   "cell_type": "markdown",
   "metadata": {},
   "source": [
    "# Lab 7: Millikan Oil Drop Experiment\n",
    "Kollin Schultz, Dan Alfeo"
   ]
  },
  {
   "cell_type": "markdown",
   "metadata": {},
   "source": [
    "# Abstract\n"
   ]
  },
  {
   "cell_type": "markdown",
   "metadata": {},
   "source": [
    "# Introduction\n"
   ]
  },
  {
   "cell_type": "markdown",
   "metadata": {},
   "source": [
    "# Methods\n",
    "\n",
    "\n",
    "![A local image](lab07_Dan_Kollin_image.jpg)\n",
    "\n",
    "Figure 1: A visual of the lab equipment used, and the basic experimental setup."
   ]
  },
  {
   "cell_type": "markdown",
   "metadata": {},
   "source": [
    "# Results and Analysis\n",
    "\n",
    "Our experiment imitated the original Franck-Hertz experiment, which provided experimental evidence of the quantum theory. We measured the voltage difference between peak minima and maxima on our oscilloscope. This value was in mV, and scaled by a factor of 1/10 by the Operating Unit output voltage (accelerating voltage). To account for the units, the values were scaled by 10<sup>-2</sup> for use in calculations. The frequency, $\\nu$, was calculated for the mercury radiation using the measured E=5.2875 eV and the equation: \n",
    "\n",
    "\\begin{equation} \\nu=E/h \\end{equation} \n",
    "\n",
    "Where: \n",
    "\n",
    "E= the measured voltage in electron volts\n",
    "\n",
    "h=Planck's constant in electron volts\n",
    "\n",
    "From our experiment, $\\nu$=1.28x10<sup>15</sup>. With this value, the wavelength of the radiation, $\\lambda$, was calculated from the equation:\n",
    "\n",
    "\\begin{equation} \\lambda=c/\\nu \\end{equation}\n",
    "\n",
    "From this equation, $\\lambda$=234.4 nm."
   ]
  },
  {
   "cell_type": "code",
   "execution_count": 13,
   "metadata": {},
   "outputs": [
    {
     "name": "stdout",
     "output_type": "stream",
     "text": [
      "1.27933704331e+15\n",
      "2.34340122931e-07\n"
     ]
    }
   ],
   "source": [
    "#Imported software with analysis and plotting functions.\n",
    "import numpy as np\n",
    "\n",
    "data=ascii.read('lab07_data_ks_da.csv')\n",
    "\n",
    "#Imported data from a csv file and defined constants for caluculations.\n",
    "vd=\n",
    "E=np.mean(e) #eV\n",
    "h=4.133*10**-15 #eV*s\n",
    "c=2.998*10**8 #m/s\n",
    "\n",
    "#Plugged values into formulas to complete calculations.\n",
    "nu=E/h\n",
    "\n",
    "wl=c/nu\n",
    "\n",
    "print(nu) #Hz\n",
    "print(wl) #m"
   ]
  },
  {
   "cell_type": "markdown",
   "metadata": {},
   "source": [
    "## Conclusion\n",
    "\n",
    "Our calculation of the mercury radiation wavelength resulted in a value of $\\lambda$=234.4 nm. This result has a 7.6% error from the accepted value of $\\lambda$=253.7 nm. The inaccuracy of this calculation is likely due to the uncertainty in the measurement. The measured E value that results in the accepted wavelength is, E=4.9 eV, but our measured E=5.2874 eV. With the low uncertainty of the equipment used, the high uncertainty in the measurement is likely the reason for the inaccuracy of our experiment."
   ]
  },
  {
   "cell_type": "markdown",
   "metadata": {
    "collapsed": true
   },
   "source": [
    "# Acknowledgements\n",
    "\n"
   ]
  },
  {
   "cell_type": "markdown",
   "metadata": {
    "collapsed": true
   },
   "source": [
    "We would like to thank Dr. Ribaudo for his assistance with the oscilloscope."
   ]
  },
  {
   "cell_type": "code",
   "execution_count": null,
   "metadata": {
    "collapsed": true
   },
   "outputs": [],
   "source": []
  }
 ],
 "metadata": {
  "kernelspec": {
   "display_name": "Python 3",
   "language": "python",
   "name": "python3"
  },
  "language_info": {
   "codemirror_mode": {
    "name": "ipython",
    "version": 3
   },
   "file_extension": ".py",
   "mimetype": "text/x-python",
   "name": "python",
   "nbconvert_exporter": "python",
   "pygments_lexer": "ipython3",
   "version": "3.6.1"
  }
 },
 "nbformat": 4,
 "nbformat_minor": 1
}
