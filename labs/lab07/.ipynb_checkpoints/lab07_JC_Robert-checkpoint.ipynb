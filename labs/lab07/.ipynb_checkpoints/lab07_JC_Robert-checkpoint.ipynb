{
 "cells": [
  {
   "cell_type": "markdown",
   "metadata": {},
   "source": [
    "# Milikan Oil Drop Experiment\n",
    "Jelena Colon and Alex Orellano"
   ]
  },
  {
   "cell_type": "markdown",
   "metadata": {},
   "source": [
    "# Abstract\n",
    "\n",
    "\n",
    "The purpose of this experiment was to "
   ]
  },
  {
   "cell_type": "markdown",
   "metadata": {},
   "source": [
    "# Introduction \n",
    "\n",
    "\n",
    "The oil drop experiment was originally performed by Robert Millikan in 1909 with the intent of measuring the charge of an electron. In the experiment Milikan and his team observed charged droplets of oil moving between two parallel plates of a capacitor. At first the oil drops are in free fall between the plates because there is no electric field. Once the voltage is turned on and an electric field is produced you can select a single drop and balance it in the field by manipulating the voltage. If the oil drop is balanced the electric force (Fe) is equal to the force of gravity (Fg).\n",
    "\n",
    "                                                       Fe = Fg            \n",
    "                                                 qE = mg  and  E = V/d\n",
    "                                                     (qV)/d = mg\n",
    "q = charge of electron\n",
    "E = electric field\n",
    "m = mass of electron\n",
    "V = voltage\n",
    "d = seperation of plates\n",
    "\n",
    "From here you are able to calculate the charge of an electron\n",
    "\n",
    "\n",
    "\n",
    "\n",
    "\n",
    "\n",
    "\n",
    "\n",
    "\n",
    "\n",
    "By repeating the experiment for many droplets, they confirmed that the charges were all small integer multiples of a certain base value, which was found to be 1.5924(17)×10−19 C, about 0.6% difference from the currently accepted value of 1.602176487(40)×10−19 C.[1] They proposed that this was the magnitude of the negative charge of a single electron.\n",
    "\n",
    "\n",
    "\n",
    "\n",
    "\n",
    "<img src=\"figure1.jpg\">\n",
    "\n",
    "Figure 1: Franck-Hertz curve"
   ]
  },
  {
   "cell_type": "markdown",
   "metadata": {},
   "source": [
    "# Procedure\n"
   ]
  },
  {
   "cell_type": "markdown",
   "metadata": {},
   "source": [
    "<img src=\".jpg\">\n",
    "\n",
    "Figure 2: Setup"
   ]
  },
  {
   "cell_type": "markdown",
   "metadata": {
    "collapsed": true
   },
   "source": [
    "First, a voltage was applied, producing an electric field. Then the drops were released by a sprayer and "
   ]
  },
  {
   "cell_type": "markdown",
   "metadata": {},
   "source": [
    "# Data"
   ]
  },
  {
   "cell_type": "markdown",
   "metadata": {},
   "source": []
  },
  {
   "cell_type": "markdown",
   "metadata": {},
   "source": [
    "# Analysis / Calculations\n"
   ]
  },
  {
   "cell_type": "markdown",
   "metadata": {},
   "source": []
  },
  {
   "cell_type": "markdown",
   "metadata": {},
   "source": [
    "# Conclusion\n",
    "\n"
   ]
  },
  {
   "cell_type": "markdown",
   "metadata": {},
   "source": [
    "# Acknowledgments"
   ]
  },
  {
   "cell_type": "markdown",
   "metadata": {},
   "source": [
    "Figure 1: Franck-Hertz Experiment, Klinger Educational Products Corp.\n",
    "\n"
   ]
  }
 ],
 "metadata": {
  "kernelspec": {
   "display_name": "Python 3",
   "language": "python",
   "name": "python3"
  },
  "language_info": {
   "codemirror_mode": {
    "name": "ipython",
    "version": 3
   },
   "file_extension": ".py",
   "mimetype": "text/x-python",
   "name": "python",
   "nbconvert_exporter": "python",
   "pygments_lexer": "ipython3",
   "version": "3.6.1"
  }
 },
 "nbformat": 4,
 "nbformat_minor": 1
}
