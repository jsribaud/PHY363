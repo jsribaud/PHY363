{
 "cells": [
  {
   "cell_type": "markdown",
   "metadata": {},
   "source": [
    "# Milikan Oil Drop Experiment\n",
    "Jelena Colon and Alex Orellano"
   ]
  },
  {
   "cell_type": "markdown",
   "metadata": {},
   "source": [
    "# Abstract\n",
    "\n",
    "\n",
    "The purpose of this experiment was to reproduce the Milikan oil drop experiment in which the charge of an electron was found. We determined the charge of an electron to be \" \" which is \" \" of the accepted value of 1.60×10^-19 Coulombs."
   ]
  },
  {
   "cell_type": "markdown",
   "metadata": {},
   "source": [
    "# Introduction \n",
    "\n",
    "\n",
    "The oil drop experiment was originally performed by Robert Millikan in 1909 with the intent of measuring the charge of an electron. In the experiment Milikan and his team observed charged droplets of oil moving between two parallel plates of a capacitor. At first the oil drops are in free fall between the plates because there is no electric field. Once the voltage is turned on and an electric field is produced you can select a single drop and balance it in the field. By manipulating the voltage you could get the drop to move upward or downward and measure its velocities. By repeating the experiment for multiple droplets, Milikan found the charge of the electron.\n",
    "<img src=\"jc_ro.png\">\n",
    "\n",
    "Figure 1: Milikan Oil Drop Experiment, (https://notes.tyrocity.com/millikan-oil-drop-experiment/)"
   ]
  },
  {
   "cell_type": "markdown",
   "metadata": {},
   "source": [
    "If the oil drop is balanced the electric force (Fe) is equal to the force of gravity (Fg).\n",
    "                                           Fe = Fg            \n",
    "                                           Eq = mg  \n",
    "q = charge of electron\n",
    "E = electric field\n",
    "m = mass of electron\n",
    "\n",
    "When the drop is moving upward the equation of motion can be calculated as Eq - mg = air resistance and when the drop is moving downward the equation of motion can be calculated as Eq + mg = air resistance.\n",
    "                                   air resistance = 6*pi*n*r*s\n",
    "\n",
    "n = viscosity of air\n",
    "r = radius of sphere\n",
    "s = terminal speed\n",
    "\n",
    "After adding the two equations of motion and further manipulation, the charge of the electron can be calculated using the equation\n",
    "                                      q = 3*pi*n*r*deltaV\n",
    "                                      \n",
    "deltaV = the difference in terminal velocities\n"
   ]
  },
  {
   "cell_type": "markdown",
   "metadata": {},
   "source": [
    "# Procedure\n"
   ]
  },
  {
   "cell_type": "markdown",
   "metadata": {},
   "source": [
    "<img src=\"httpimg0114o.psstatic.com162610766_three-uchida-millikan-apparatus-tm-15.jpg\">\n",
    "\n",
    "Figure 2: lab setup (http://img0112.popscreencdn.com/162624050_three-uchida-millikan-apparatus-tm-15.jpg)"
   ]
  },
  {
   "cell_type": "markdown",
   "metadata": {
    "collapsed": true
   },
   "source": [
    "First, a voltage was applied, producing an electric field. Then, the drops were released by a sprayer and observed entering the field through the microscope. Next, a drop was selected and the voltage was manipulated such that the drop began to move upward. The time it took the drop to move between two measured segments was recorded. Next, the electric field was manipulated once more so that the same drop began to move downward in conjunction with the force of gravity and the electric field. The time it took the drop to move between two measured segments was again recorded. These steps were repeated for multiple drops."
   ]
  },
  {
   "cell_type": "markdown",
   "metadata": {},
   "source": [
    "# Data"
   ]
  },
  {
   "cell_type": "code",
   "execution_count": 3,
   "metadata": {},
   "outputs": [
    {
     "name": "stdout",
     "output_type": "stream",
     "text": [
      "ï»¿t+  t- \n",
      "----- ----\n",
      " 1.27 0.59\n",
      " 1.71 0.52\n",
      "  1.2 0.45\n",
      " 1.61 0.24\n",
      " 1.56 0.74\n",
      " 1.09 0.48\n",
      " 1.09 0.47\n",
      " 1.07 0.37\n",
      "  1.3 0.77\n",
      " 0.65 0.35\n",
      "  ...  ...\n",
      " 1.05 0.43\n",
      "  0.6 0.25\n",
      " 0.93 0.56\n",
      " 1.19 0.25\n",
      " 2.83 1.21\n",
      " 2.96 0.75\n",
      " 2.71 0.31\n",
      " 1.42 0.46\n",
      " 1.86 0.93\n",
      " 1.65 0.44\n",
      " 1.15  0.6\n",
      "Length = 37 rows\n"
     ]
    }
   ],
   "source": [
    "from astropy.io import ascii\n",
    "data = ascii.read('JC_RO_OILDATA1.csv')\n",
    "print(data)"
   ]
  },
  {
   "cell_type": "markdown",
   "metadata": {},
   "source": [
    "# Analysis / Calculations\n"
   ]
  },
  {
   "cell_type": "markdown",
   "metadata": {},
   "source": []
  },
  {
   "cell_type": "markdown",
   "metadata": {},
   "source": [
    "# Conclusion\n",
    "\n"
   ]
  },
  {
   "cell_type": "markdown",
   "metadata": {},
   "source": [
    "# Acknowledgments"
   ]
  }
 ],
 "metadata": {
  "kernelspec": {
   "display_name": "Python 3",
   "language": "python",
   "name": "python3"
  },
  "language_info": {
   "codemirror_mode": {
    "name": "ipython",
    "version": 3
   },
   "file_extension": ".py",
   "mimetype": "text/x-python",
   "name": "python",
   "nbconvert_exporter": "python",
   "pygments_lexer": "ipython3",
   "version": "3.6.1"
  }
 },
 "nbformat": 4,
 "nbformat_minor": 1
}
