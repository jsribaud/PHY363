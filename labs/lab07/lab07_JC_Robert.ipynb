{
 "cells": [
  {
   "cell_type": "markdown",
   "metadata": {},
   "source": [
    "# Milikan Oil Drop Experiment\n",
    "Jelena Colon and Alex Orellano"
   ]
  },
  {
   "cell_type": "markdown",
   "metadata": {},
   "source": [
    "# Abstract\n",
    "\n",
    "\n",
    "The purpose of this experiment was to reproduce the Milikan oil drop experiment in which the charge of an electron was found. We determined the charge of an electron to be -1.49x10^-19 Coulombs which is 7.03126050077 % of the accepted value of -1.60×10^-19 Coulombs."
   ]
  },
  {
   "cell_type": "markdown",
   "metadata": {},
   "source": [
    "# Introduction \n",
    "\n",
    "\n",
    "The oil drop experiment was originally performed by Robert Millikan in 1909 with the intent of measuring the charge of an electron. In the experiment Milikan and his team observed charged droplets of oil moving between two parallel plates of a capacitor. At first the oil drops are in free fall between the plates because there is no electric field. Once the voltage is turned on and an electric field is produced you can select a single drop and balance it in the field. By manipulating the voltage you could get the drop to move upward or downward and measure its velocities. By repeating the experiment for multiple droplets, Milikan found the charge of the electron.\n",
    "<img src=\"jc_ro.png\">\n",
    "\n",
    "Figure 1: Milikan Oil Drop Experiment, (https://notes.tyrocity.com/millikan-oil-drop-experiment/)"
   ]
  },
  {
   "cell_type": "markdown",
   "metadata": {},
   "source": [
    "If the oil drop is balanced the electric force (Fe) is equal to the force of gravity (Fg).\n",
    "                                           \n",
    "                                           Fe = Fg     \n",
    "                                           Eq = mg\n",
    "                                           \n",
    "q = charge of electron\n",
    "\n",
    "E = electric field\n",
    "\n",
    "m = mass of electron\n",
    "\n",
    "When the drop is moving upward the equation of motion can be calculated as Eq - mg = air resistance and when the drop is moving downward the equation of motion can be calculated as Eq + mg = air resistance.\n",
    "\n",
    "                                   air resistance = 6*pi*n*r*s\n",
    "\n",
    "n = viscosity of air\n",
    "\n",
    "r = radius of sphere\n",
    "\n",
    "s = terminal speed\n",
    "\n",
    "After adding the two equations of motion and further manipulation, the charge of the electron can be calculated using the equation\n",
    "\n",
    "                                      q = (3*pi*n*r*deltaV*D)/V\n",
    "\n",
    "                                      \n",
    "deltaV = the difference in terminal velocities\n",
    "\n",
    "D = seperation between the plates\n",
    "\n",
    "V = voltage\n"
   ]
  },
  {
   "cell_type": "markdown",
   "metadata": {},
   "source": [
    "# Procedure\n"
   ]
  },
  {
   "cell_type": "markdown",
   "metadata": {},
   "source": [
    "<img src=\"httpimg0114o.psstatic.com162610766_three-uchida-millikan-apparatus-tm-15.jpg\">\n",
    "\n",
    "Figure 2: lab setup (http://img0112.popscreencdn.com/162624050_three-uchida-millikan-apparatus-tm-15.jpg)"
   ]
  },
  {
   "cell_type": "markdown",
   "metadata": {
    "collapsed": true
   },
   "source": [
    "First, a voltage was applied, producing an electric field. Then, the drops were released by a sprayer and observed entering the field through the microscope. Next, a drop was selected and the voltage was manipulated such that the drop began to move upward. The time it took the drop to move between two measured segments was recorded. Next, the electric field was manipulated once more so that the same drop began to move downward in conjunction with the force of gravity and the electric field. The time it took the drop to move between two measured segments was again recorded. These steps were repeated for multiple drops."
   ]
  },
  {
   "cell_type": "markdown",
   "metadata": {},
   "source": [
    "# Data"
   ]
  },
  {
   "cell_type": "code",
   "execution_count": 1,
   "metadata": {},
   "outputs": [
    {
     "data": {
      "text/html": [
       "&lt;Table length=37&gt;\n",
       "<table id=\"table4461034632\" class=\"table-striped table-bordered table-condensed\">\n",
       "<thead><tr><th>tu</th><th>td</th></tr></thead>\n",
       "<thead><tr><th>float64</th><th>float64</th></tr></thead>\n",
       "<tr><td>1.27</td><td>0.59</td></tr>\n",
       "<tr><td>1.71</td><td>0.52</td></tr>\n",
       "<tr><td>1.2</td><td>0.45</td></tr>\n",
       "<tr><td>1.61</td><td>0.24</td></tr>\n",
       "<tr><td>1.56</td><td>0.74</td></tr>\n",
       "<tr><td>1.09</td><td>0.48</td></tr>\n",
       "<tr><td>1.09</td><td>0.47</td></tr>\n",
       "<tr><td>1.07</td><td>0.37</td></tr>\n",
       "<tr><td>1.3</td><td>0.77</td></tr>\n",
       "<tr><td>0.65</td><td>0.35</td></tr>\n",
       "<tr><td>...</td><td>...</td></tr>\n",
       "<tr><td>0.6</td><td>0.25</td></tr>\n",
       "<tr><td>0.93</td><td>0.56</td></tr>\n",
       "<tr><td>1.19</td><td>0.25</td></tr>\n",
       "<tr><td>2.83</td><td>1.21</td></tr>\n",
       "<tr><td>2.96</td><td>0.75</td></tr>\n",
       "<tr><td>2.71</td><td>0.31</td></tr>\n",
       "<tr><td>1.42</td><td>0.46</td></tr>\n",
       "<tr><td>1.86</td><td>0.93</td></tr>\n",
       "<tr><td>1.65</td><td>0.44</td></tr>\n",
       "<tr><td>1.15</td><td>0.6</td></tr>\n",
       "</table>"
      ],
      "text/plain": [
       "<Table length=37>\n",
       "   tu      td  \n",
       "float64 float64\n",
       "------- -------\n",
       "   1.27    0.59\n",
       "   1.71    0.52\n",
       "    1.2    0.45\n",
       "   1.61    0.24\n",
       "   1.56    0.74\n",
       "   1.09    0.48\n",
       "   1.09    0.47\n",
       "   1.07    0.37\n",
       "    1.3    0.77\n",
       "   0.65    0.35\n",
       "    ...     ...\n",
       "    0.6    0.25\n",
       "   0.93    0.56\n",
       "   1.19    0.25\n",
       "   2.83    1.21\n",
       "   2.96    0.75\n",
       "   2.71    0.31\n",
       "   1.42    0.46\n",
       "   1.86    0.93\n",
       "   1.65    0.44\n",
       "   1.15     0.6"
      ]
     },
     "execution_count": 1,
     "metadata": {},
     "output_type": "execute_result"
    }
   ],
   "source": [
    "from astropy.io import ascii\n",
    "data = ascii.read('JC_RO_OILDATA1.csv')\n",
    "data"
   ]
  },
  {
   "cell_type": "markdown",
   "metadata": {},
   "source": [
    "# Analysis / Calculations\n"
   ]
  },
  {
   "cell_type": "code",
   "execution_count": 46,
   "metadata": {},
   "outputs": [
    {
     "name": "stdout",
     "output_type": "stream",
     "text": [
      "The value for the charge of an electron was found to be -1.48749983199e-19\n",
      "The percent error is 7.03126050077 %\n"
     ]
    }
   ],
   "source": [
    "import numpy as np\n",
    "import matplotlib.pyplot as plt\n",
    "from astropy import units as u\n",
    "from scipy.optimize import curve_fit\n",
    "from matplotlib import pyplot\n",
    "from statistics import mean\n",
    "%matplotlib inline\n",
    "\n",
    "#assign variables to data\n",
    "td = mean (data['td'])\n",
    "tu = mean (data['tu'])\n",
    "\n",
    "#define variables\n",
    "d = .00005 #m\n",
    "D = .005 #m\n",
    "pi = 3.14\n",
    "n = .000018\n",
    "r = .00000055 #m\n",
    "V = 200 #V\n",
    "\n",
    "#calculate terminal velocities\n",
    "vu = d/tu\n",
    "vd = d/td\n",
    "\n",
    "#calculate deltaV\n",
    "deltaV = (vu-vd)\n",
    "\n",
    "#calculate the charge of e\n",
    "q = (3*pi*n*r*deltaV*D)/V\n",
    "\n",
    "print ('The value for the charge of an electron was found to be', q)\n",
    "\n",
    "\n",
    "#percent error\n",
    "qa = -1.6*10**-19 #accepted value\n",
    "\n",
    "error = ((qa-q)/qa)*100\n",
    "\n",
    "print ('The percent error is', error, '%')"
   ]
  },
  {
   "attachments": {},
   "cell_type": "markdown",
   "metadata": {},
   "source": [
    "# Conclusion\n",
    "\n",
    "In conclusion we were able to calculate a value for the charge of an electron to be approximately -1.49 X 10^-19 c with a percent error of less than 8%. The uncertainty in our value for the charge of the electron comes from a lack of familiarity with the equipment and the reaction time in which we timed the latex sphere to cross the measurable distance in the sight. An area we could improve on would be to try and have one-person time and measure the latex sphere instead of a relay style of passing data. Also, taking more data at different voltages, than compairing multiple series of data to see how they relate to eachother. To show that the charge of an electron is constant.\n",
    "\n",
    "\n",
    "Note: The real question is how do you spell milikan? On one handout it is spelled with one 'L' and on the other it is spelled with two."
   ]
  },
  {
   "cell_type": "markdown",
   "metadata": {},
   "source": [
    "# Acknowledgments\n",
    "\n",
    "Figure 1: Milikan Oil Drop Experiment, (https://notes.tyrocity.com/millikan-oil-drop-experiment/)\n",
    "\n",
    "Figure 2: lab setup (http://img0112.popscreencdn.com/162624050_three-uchida-millikan-apparatus-tm-15.jpg)\n",
    "\n",
    "Operating Instructions handout\n",
    "\n",
    "Instruction Manual handout"
   ]
  }
 ],
 "metadata": {
  "kernelspec": {
   "display_name": "Python 3",
   "language": "python",
   "name": "python3"
  },
  "language_info": {
   "codemirror_mode": {
    "name": "ipython",
    "version": 3
   },
   "file_extension": ".py",
   "mimetype": "text/x-python",
   "name": "python",
   "nbconvert_exporter": "python",
   "pygments_lexer": "ipython3",
   "version": "3.6.1"
  }
 },
 "nbformat": 4,
 "nbformat_minor": 1
}
