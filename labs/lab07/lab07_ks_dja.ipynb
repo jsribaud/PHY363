{
 "cells": [
  {
   "cell_type": "markdown",
   "metadata": {},
   "source": [
    "# Lab 7: Millikan Oil Drop Experiment\n",
    "Kollin Schultz, Dan Alfeo"
   ]
  },
  {
   "cell_type": "markdown",
   "metadata": {},
   "source": [
    "# Abstract\n",
    "The UCHIDA Millikan Apparatus TM-15 was used for this experiment following guidelines provided in the UCHIDA 133-1110 Millikan Apparatus Model TM-15 Instruction Manual. An accelerating voltage of 300V was used  There was difficulty encountered when trying to get drops to appear visible in the microscope. This was due to a damaged bulb pump in one instance, and an improper alignment of the container and the projector with the microscope in another instance. Our calculated value for e was 4.928x10-20 couloumbs with a percent error of 69.24%. This error was likely due to the varying speeds of the drops and some uncertainty in aspects of measuring such as the simultaneity of reversing the voltage and lapping the stopwatch, observing drops to be exactly at a certain position at a certain time, and not having enough time in the semester to take many more data values. If this experiment were performed again, we would choose slowly moving drops of roughly similar speeds, rather than have some very fast drops and some very slow drops, as well as taking a much larger number of observations."
   ]
  },
  {
   "cell_type": "markdown",
   "metadata": {},
   "source": [
    "# Introduction\n",
    "This experiment was originally conducted by American physicist Robert Andrews Millikan using drops of oil instead of liquid latex spheres. Millikan wanted to determine whether electrical charges occurred in discrete units and, if so, whether there was an elementary charge. A small charged ball (oil/latex) which is too small to be seen with the naked eye is observed moving vertically between two metal plates as a small dot of light using a projector and a microscope. With no accelerating voltage, the spheres fall slowly an steadily due to gravity, quickly reaching a terminal velocity. When the voltage is applied, the terminal velocity is affected by gravity and the electric force acting on the spheres. Knowing the density of a sphere, the terminal velocity under gravity alone, and the charge on the metal plates, it is possible to find the force produced by the electric charge on the ball. A set of observations produces a group of terminal velocity values which are seen to be multiples of a lowest value. So it is possible to determine the elementary unit of charge. This is now known as the electron (e) with value 1.602 x 10^-19 coulombs."
   ]
  },
  {
   "cell_type": "markdown",
   "metadata": {},
   "source": [
    "# Methods\n",
    "The setup of the experiment as shown in Figure 1 was established by UCHIDA and prepared following guidelines provided by the UCHIDA 133-1110 Millikan Apparatus Model TM-15 Instruction Manual. Some other notable materials for this experiment are a stopwatch, latex balls of diameter 1/1000 mm, a bulb pump, a switch that allows the voltage to the electrode to be easily switched, an electrode container that can be disassembled for adjustments and cleaning, and light shielding around the electrode to permit easy operation. It is important to that the optimum angle of microscope, projector, and electrode container are fixed prior to conducting the experiment. It has been seen that a great deal of difficulties can come from not properly aligning the container and the light. Having the slightest error in alignment could cause there to be nearly zero visible drops. Some difficulty could also arise with a faulty or damaged bulb pump. When taking measurements, make sure to select drops such that the direction of movement by gravity alone matches the direction of gravity. When observing, use the same start/end point and turning point for each drop. Observe each drop beginning at the starting point and apply an accelerating voltage while starting the timer simultaneously. Then as the drop touches the turning point, switch the voltage while simultaneously pressing the \"Lap\" button on the timer. As the drop returns to the starting horizontal line, stop the timer and find the time for the lap and the total time. The time spent traveling in the first direction is the lap time, and the time spend traveling in the second direction is difference of the total time and the lap time. If working with a partner, it may be wise to have one person operating the stopwatch while also observing the drop in the microscope. These tasks could be divided using communication, but it could yield a greater error in measurements due to extra time taken to start or lap the timer. It is recommended to take a large amount of data values (roughly 100)\n",
    "![A local image](lab07_Dan_Kollin_image.jpg)\n",
    "\n",
    "Figure 1: A visual of the lab equipment used, and the basic experimental setup."
   ]
  },
  {
   "cell_type": "markdown",
   "metadata": {},
   "source": [
    "# Results and Analysis\n",
    "\n",
    "The motion of a charged latex drop used in the Millikan experiment can be calculated with the equation: \\begin{equation} mg-6 \\pi \\eta rs=0 \\end{equation}\n",
    "\n",
    "Where:\n",
    "\n",
    "m= the mass of the drop\n",
    "\n",
    "g= the force of gravity\n",
    "\n",
    "$\\eta$= the coefficient of viscosity of air\n",
    "\n",
    "r= the radius of the sphere\n",
    "\n",
    "s= terminal speed\n",
    "\n",
    "When an electric change of intensity E is created between two metal plates around the drop, the motion equation becomes: \\begin{equation} Eq-mg=6 \\pi \\eta rs^+ \\end{equation}\n",
    "\n",
    "Where: \n",
    "\n",
    "q= the charge of the latex drop\n",
    "\n",
    "s<sup>+</sup>= the terminal speed in the upward direction\n",
    "\n",
    "Changing the polarity of the electric field moves the sphere in the downward direction with motion that can be calculated by the equation: \\begin{equation} Eq+mg=6 \\pi \\eta rs^- \\end{equation}\n",
    "\n",
    "Adding the equations together removes the gravity force. Changing the speeds to velocities gives: \\begin{equation} Eq=3 \\pi \\eta r(v^+ - v^-) \\end{equation}\n",
    "\n",
    "The diffence in velocities should result in distinct steps that are evenly separated. The value of the separation can be used in place of the velocity difference, and solving the equation for e gives: \\begin{equation} e=3 \\pi \\eta rdv\n",
    "/V \\end{equation}\n",
    "\n"
   ]
  },
  {
   "cell_type": "code",
   "execution_count": 17,
   "metadata": {
    "scrolled": true
   },
   "outputs": [
    {
     "name": "stdout",
     "output_type": "stream",
     "text": [
      "3.1692662065e-05\n",
      "2.1889517314e-05\n"
     ]
    },
    {
     "data": {
      "image/png": "[encoded data removed]",
      "text/plain": [
       "<matplotlib.figure.Figure at 0x1101ef780>"
      ]
     },
     "metadata": {},
     "output_type": "display_data"
    }
   ],
   "source": [
    "#Imported software with analysis and plotting functions.\n",
    "import numpy as np\n",
    "import matplotlib.pyplot as plt\n",
    "from astropy.io import ascii\n",
    "from scipy.optimize import curve_fit\n",
    "\n",
    "\n",
    "#Imported data from a csv file.\n",
    "data=ascii.read('lab07_data_ks_da.csv')\n",
    "\n",
    "vd=(-0.00005/data['dt'])\n",
    "vu=(0.00005/data['ut'])\n",
    "v=vu-vd\n",
    "\n",
    "#Sorted data to fit the graph properly.\n",
    "sv=sorted(v)\n",
    "av=np.mean(v)\n",
    "print(av)\n",
    "\n",
    "#Determined the standard deviation of the data.\n",
    "ysig=np.std(v)\n",
    "print(ysig)\n",
    "\n",
    "#Defined function form for the trendline.\n",
    "def func (x, a, b):\n",
    "    return a*x + b\n",
    "\n",
    "popt, pcov=curve_fit(func, v, v, absolute_sigma=ysig)\n",
    "\n",
    "#Formatted the plot for visual representation.\n",
    "plt.plot(sv, 'ro')\n",
    "plt.ylabel('Difference in velocity (m/s)')\n",
    "plt.xlabel('Measurement')\n",
    "plt.show()"
   ]
  },
  {
   "cell_type": "code",
   "execution_count": 10,
   "metadata": {},
   "outputs": [
    {
     "name": "stdout",
     "output_type": "stream",
     "text": [
      "4.92848899865e-20\n",
      "69.2353995091\n"
     ]
    }
   ],
   "source": [
    "import numpy as np\n",
    "\n",
    "eta=(1.8*10**-5)\n",
    "r=(5.5*10**-7)\n",
    "d=(5*10**-3)\n",
    "V=(300)\n",
    "v=(av)\n",
    "pi=np.pi\n",
    "\n",
    "e=(3*pi*eta*r*d*v)/V\n",
    "\n",
    "print(e)\n",
    "\n",
    "#Calculated Percent error.\n",
    "a=1.602*10**-19\n",
    "pe=(abs(e-a)/a)*100\n",
    "print(pe)"
   ]
  },
  {
   "cell_type": "markdown",
   "metadata": {},
   "source": [
    "## Conclusion\n",
    "\n",
    "Our experiment determined e=4.928x10<sup>-20</sup>, with a percent error of 69.24%. This was a highly inaccurate calculation. The error is likely from the high variability in our measurement of v, shown by the standard deviation of 2.189x10<sup>-5</sup>. If we were to redo the lab, we would be more careful with which drops we followed."
   ]
  },
  {
   "cell_type": "markdown",
   "metadata": {
    "collapsed": true
   },
   "source": [
    "# Acknowledgements\n",
    "\n"
   ]
  },
  {
   "cell_type": "markdown",
   "metadata": {
    "collapsed": true
   },
   "source": [
    "We would like to thank Dr. Ribaudo for providing us a lab manual containing all of the mathematical formulas."
   ]
  }
 ],
 "metadata": {
  "kernelspec": {
   "display_name": "Python 3",
   "language": "python",
   "name": "python3"
  },
  "language_info": {
   "codemirror_mode": {
    "name": "ipython",
    "version": 3
   },
   "file_extension": ".py",
   "mimetype": "text/x-python",
   "name": "python",
   "nbconvert_exporter": "python",
   "pygments_lexer": "ipython3",
   "version": "3.6.1"
  }
 },
 "nbformat": 4,
 "nbformat_minor": 1
}
