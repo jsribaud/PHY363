{
 "cells": [
  {
   "cell_type": "markdown",
   "metadata": {},
   "source": [
    "# Lab 7: Millikan Oil Drop Experiment\n",
    "Kollin Schultz, Dan Alfeo"
   ]
  },
  {
   "cell_type": "markdown",
   "metadata": {},
   "source": [
    "# Abstract\n"
   ]
  },
  {
   "cell_type": "markdown",
   "metadata": {},
   "source": [
    "# Introduction\n"
   ]
  },
  {
   "cell_type": "markdown",
   "metadata": {},
   "source": [
    "# Methods\n",
    "\n",
    "\n",
    "![A local image](lab07_Dan_Kollin_image.jpg)\n",
    "\n",
    "Figure 1: A visual of the lab equipment used, and the basic experimental setup."
   ]
  },
  {
   "cell_type": "markdown",
   "metadata": {},
   "source": [
    "# Results and Analysis\n",
    "\n",
    "The motion of a charged latex drop used in the Millikan experiment can be calculated with the equation: \\begin{equation} mg-6 \\pi \\eta rs=0 \\end{equation}\n",
    "\n",
    "Where:\n",
    "\n",
    "m= the mass of the drop\n",
    "\n",
    "g= the force of gravity\n",
    "\n",
    "$\\eta$= the coefficient of viscosity of air\n",
    "\n",
    "r= the radius of the sphere\n",
    "\n",
    "s= terminal speed\n",
    "\n",
    "When an electric change of intensity E is created between two metal plates around the drop, the motion equation becomes: \\begin{equation} Eq-mg=6 \\pi \\eta rs^+ \\end{equation}\n",
    "\n",
    "Where: \n",
    "\n",
    "q= the charge of the latex drop\n",
    "\n",
    "s<sup>+</sup>= the terminal speed in the upward direction\n",
    "\n",
    "Changing the polarity of the electric field moves the sphere in the downward direction with motion that can be calculated by the equation: \\begin{equation} Eq+mg=6 \\pi \\eta rs^- \\end{equation}\n",
    "\n",
    "Adding the equations together removes the gravity force. Changing the speeds to velocities gives: \\begin{equation} Eq=3 \\pi \\eta r(v^+ - v^-) \\end{equation}\n",
    "\n",
    "The diffence in velocities should result in distinct steps that are evenly separated. The value of the separation can be used in place of the velocity difference, and solving the equation for e gives: \\begin{equation} e=3 \\pi \\eta rdv\n",
    "/V \\end{equation}\n",
    "\n"
   ]
  },
  {
   "cell_type": "code",
   "execution_count": 99,
   "metadata": {
    "scrolled": true
   },
   "outputs": [
    {
     "name": "stdout",
     "output_type": "stream",
     "text": [
      "-2.5943836336e-06\n",
      "2.59484183849e-06\n"
     ]
    },
    {
     "data": {
      "image/png": "[encoded data removed]",
      "text/plain": [
       "<matplotlib.figure.Figure at 0x119555048>"
      ]
     },
     "metadata": {},
     "output_type": "display_data"
    }
   ],
   "source": [
    "#Imported software with analysis and plotting functions.\n",
    "import numpy as np\n",
    "import matplotlib.pyplot as plt\n",
    "from astropy.io import ascii\n",
    "from scipy.optimize import curve_fit\n",
    "\n",
    "\n",
    "#Imported data from a csv file.\n",
    "data=ascii.read('lab07_data_ks_da.csv')\n",
    "\n",
    "vd=(0.00005/data['dt'])\n",
    "vu=(0.00005/data['ut'])\n",
    "v=vu-vd\n",
    "#Sorted data to fit the graph properly.\n",
    "x=0.00005/1\n",
    "sv=sorted(v)\n",
    "av=np.mean(v)\n",
    "print(av)\n",
    "\n",
    "#Determined the standard deviation of the data.\n",
    "ysig=np.std(v)\n",
    "print(ysig)\n",
    "\n",
    "#Defined function form for the trendline.\n",
    "def func (x, a, b):\n",
    "    return a*x + b\n",
    "\n",
    "popt, pcov=curve_fit(func, dv, uv, absolute_sigma=ysig)\n",
    "\n",
    "#Formatted the plot for visual representation.\n",
    "#plt.hist(v)\n",
    "plt.plot(sv, 'ro')\n",
    "#plt.errorbar(sv, yerr=ysig, fmt='ro')\n",
    "#plt.plot(dsv, np.polyval(popt, sv), 'b-')\n",
    "#plt.text(0.07, 1900, r\"a = {0:.9f} +/- {1:.9f}\".format(popt[0], pcov[0,0]**0.5))\n",
    "#plt.text(0.07, 1600, r\"b = {0:.3f} +/- {1:.3f}\".format(popt[1], pcov[1,1]**0.5))\n",
    "#plt.text(0, -1000, 'Figure 2:Plot of the measured radius squared, against one over the current squared.')\n",
    "plt.ylabel('Difference in velocity (m/s)')\n",
    "plt.xlabel('Measurement')\n",
    "plt.show()"
   ]
  },
  {
   "cell_type": "code",
   "execution_count": 98,
   "metadata": {},
   "outputs": [
    {
     "name": "stdout",
     "output_type": "stream",
     "text": [
      "-1.21034873974e-20\n"
     ]
    }
   ],
   "source": [
    "import numpy as np\n",
    "\n",
    "eta=(1.8*10**-5)\n",
    "r=(5.5*10**-7)\n",
    "d=(5*10**-3)\n",
    "V=(300)\n",
    "v=(av)\n",
    "pi=np.pi\n",
    "\n",
    "e=(3*pi*eta*r*d*v)/V\n",
    "\n",
    "print(e)\n"
   ]
  },
  {
   "cell_type": "markdown",
   "metadata": {},
   "source": [
    "## Conclusion\n",
    "\n",
    "Our calculation of the mercury radiation wavelength resulted in a value of $\\lambda$=234.4 nm. This result has a 7.6% error from the accepted value of $\\lambda$=253.7 nm. The inaccuracy of this calculation is likely due to the uncertainty in the measurement. The measured E value that results in the accepted wavelength is, E=4.9 eV, but our measured E=5.2874 eV. With the low uncertainty of the equipment used, the high uncertainty in the measurement is likely the reason for the inaccuracy of our experiment."
   ]
  },
  {
   "cell_type": "markdown",
   "metadata": {
    "collapsed": true
   },
   "source": [
    "# Acknowledgements\n",
    "\n"
   ]
  },
  {
   "cell_type": "markdown",
   "metadata": {
    "collapsed": true
   },
   "source": [
    "We would like to thank Dr. Ribaudo for his assistance with the oscilloscope."
   ]
  },
  {
   "cell_type": "code",
   "execution_count": null,
   "metadata": {
    "collapsed": true
   },
   "outputs": [],
   "source": []
  }
 ],
 "metadata": {
  "kernelspec": {
   "display_name": "Python 3",
   "language": "python",
   "name": "python3"
  },
  "language_info": {
   "codemirror_mode": {
    "name": "ipython",
    "version": 3
   },
   "file_extension": ".py",
   "mimetype": "text/x-python",
   "name": "python",
   "nbconvert_exporter": "python",
   "pygments_lexer": "ipython3",
   "version": "3.6.1"
  }
 },
 "nbformat": 4,
 "nbformat_minor": 1
}
