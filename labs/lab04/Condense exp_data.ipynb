{
 "cells": [
  {
   "cell_type": "code",
   "execution_count": 1,
   "metadata": {
    "scrolled": true
   },
   "outputs": [],
   "source": [
    "from os import listdir\n",
    "from os.path import isfile, join\n",
    "from astropy.io import ascii\n",
    "\n",
    "onlyfiles = [f for f in listdir(\"./exp_data/\") if isfile(join(\"./exp_data/\", f))]\n",
    "\n",
    "with open('exp_data.csv','w') as fle:#below 40,000\n",
    "    fle.write(\"delta_t,timestamp\\n\")\n",
    "    data = []\n",
    "    raw = []\n",
    "    for f in onlyfiles:\n",
    "        with open('./exp_data/'+f, 'r') as fl:\n",
    "            temp = fl.read()\n",
    "            raw = raw + temp.split('\\n')\n",
    "    for r in raw:\n",
    "        temp = r.split('\\t')\n",
    "        if temp[0]:\n",
    "            if int(temp[0]) < 40000:\n",
    "                data.append(\",\".join(temp))\n",
    "    final = '\\n'.join(data)\n",
    "    fle.write(final)"
   ]
  },
  {
   "cell_type": "code",
   "execution_count": null,
   "metadata": {
    "collapsed": true
   },
   "outputs": [],
   "source": []
  }
 ],
 "metadata": {
  "kernelspec": {
   "display_name": "Python 3",
   "language": "python",
   "name": "python3"
  },
  "language_info": {
   "codemirror_mode": {
    "name": "ipython",
    "version": 3
   },
   "file_extension": ".py",
   "mimetype": "text/x-python",
   "name": "python",
   "nbconvert_exporter": "python",
   "pygments_lexer": "ipython3",
   "version": "3.6.2"
  }
 },
 "nbformat": 4,
 "nbformat_minor": 2
}
