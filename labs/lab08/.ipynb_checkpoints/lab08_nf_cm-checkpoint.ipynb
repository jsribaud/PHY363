{
 "cells": [
  {
   "cell_type": "markdown",
   "metadata": {},
   "source": [
    "# Franck-Hertz Experiment"
   ]
  },
  {
   "cell_type": "markdown",
   "metadata": {},
   "source": [
    "###### Chelsey McMichael and Nathaniel Flower"
   ]
  },
  {
   "cell_type": "markdown",
   "metadata": {},
   "source": [
    "# Abstract"
   ]
  },
  {
   "cell_type": "markdown",
   "metadata": {
    "collapsed": true
   },
   "source": [
    "For this experiment, we measured the peaks and troughs of the waves on an oscilloscope. This gave us the ability to find the accellerating voltages, which allowed us to determine the change in energy from one energy state to the other to be 5.33 eV. Have this value and other known values such as the speed of light and Planck's constant, allowed us to find the   "
   ]
  },
  {
   "cell_type": "markdown",
   "metadata": {},
   "source": [
    "# Introduction"
   ]
  },
  {
   "cell_type": "markdown",
   "metadata": {
    "collapsed": true
   },
   "source": [
    "The German physicists James Franck and Gustav Hertz performed an experiment involving Mercury atoms that experimentally proved the existence of quanitzed energy levels at the atommic level. It also revealed that these quantized energy levels deduced from electron bombardment were consistent with those deduced from optical line spectra. This was instrumental in creating the modern atomic theory and confiming Bohr's postulates."
   ]
  },
  {
   "cell_type": "markdown",
   "metadata": {},
   "source": [
    "# Procedure"
   ]
  },
  {
   "cell_type": "markdown",
   "metadata": {},
   "source": [
    "<p>We started this experiment by turning everything on and waiting for things to warm up. We set the dial on the oven to 200. After giving the oven time to warm up to 250 degrees C, we turned down off the resistance voltage. This created a sinusoidal wave on the oscilloscope. We measured the differences between the local maxima and minima on the oscilloscope.</p>"
   ]
  },
  {
   "cell_type": "markdown",
   "metadata": {},
   "source": [
    "# Data "
   ]
  },
  {
   "cell_type": "markdown",
   "metadata": {
    "collapsed": true
   },
   "source": [
    "###### Table 1. Local Maxima and Minima Measurements\n",
    "**Trial**|**Maxima (mV)**|**Minima (mV)**\n",
    ":-----:|:-----:|:-----:\n",
    "1|480|520\n",
    "2|550|550\n",
    "3|540|560"
   ]
  },
  {
   "cell_type": "markdown",
   "metadata": {},
   "source": [
    "# Calculations"
   ]
  },
  {
   "cell_type": "code",
   "execution_count": 1,
   "metadata": {},
   "outputs": [
    {
     "name": "stdout",
     "output_type": "stream",
     "text": [
      "The average of the minima is: 543.333mV.\n",
      "The average of the maxima is: 523.333mV.\n",
      "The average of the two quantities is: 533.333mV.\n",
      "The change in energy is: 5.333eV.\n"
     ]
    }
   ],
   "source": [
    "# here we are calculating the average of of the minima and the maxima\n",
    "from astropy.io import ascii\n",
    "\n",
    "data=ascii.read(\"data_cm.csv\") #bring in the csv\n",
    "\n",
    "peak=data['peak']     #these are the two measurements we did \n",
    "trough=data['trough']\n",
    "\n",
    "avg_min = sum(trough)/len(trough)  #both of these give us the average of the three data points of each column\n",
    "\n",
    "avg_max = sum(peak)/len(trough)\n",
    "\n",
    "print(\"The average of the minima is: {:.3f}mV.\".format(avg_min))\n",
    "print(\"The average of the maxima is: {:.3f}mV.\".format(avg_max))\n",
    "\n",
    "avg = (avg_min + avg_max)/ 2 #The adjacent minima and maxima separations are averaged to give the change in voltage \n",
    "print(\"The average of the two quantities is: {:.3f}mV.\".format(avg))\n",
    "\n",
    "d_energy = (avg)*10**-2 #since the change in Energy =  charge multiplied by the voltage, and the charge is simply e!\n",
    "\n",
    "\n",
    "print(\"The change in energy is: {:.3f}eV.\".format(d_energy))"
   ]
  },
  {
   "cell_type": "markdown",
   "metadata": {},
   "source": [
    "###### From the calculations above, we discovered: \n",
    "\\begin{equation}\n",
    "\\Delta{E} = 5.33~eV\n",
    "\\end{equation}\n",
    "###### Using the following formula, we were able to find the value of the wavelength, as well as the frequency of  a photon\n",
    "\\begin{equation}\n",
    "\\Delta{E} = hf = \\frac {hc}{\\lambda} \n",
    "\\end{equation}\n",
    "\n",
    "###### Where the wavelength can be computed using the following formula:\n",
    "\\begin{equation}\n",
    "\\lambda = \\frac {hc}{\\Delta{E}} = \\frac {1240~eVnm}{5.33~eV} = 232.5~nm\n",
    "\\end{equation}\n",
    "\n",
    "###### The frequency of the photon can be computed using the formula:\n",
    "\\begin{equation}\n",
    "f = \\frac {\\Delta{E}}{h} = \\frac {5.33~eV}{4.136~X~10^{-15}~eVs}  = 1.28949065119~X~10^{15}~Hz\n",
    "\\end{equation}\n",
    "\n",
    "###### Below, the calcululations using these two formulas have been performed:"
   ]
  },
  {
   "cell_type": "code",
   "execution_count": 2,
   "metadata": {},
   "outputs": [
    {
     "name": "stdout",
     "output_type": "stream",
     "text": [
      "The experimental value of the wavelength is: 232.500nm.\n",
      "The experimental value of the frequency is: 1289490651192779.000Hz.\n",
      "The theoretical values of the wavelength and frequency at this excited energy are 253.061nm, and 1184719535783365.500Hz.\n",
      "The percent error of the change in energy was: 8.844%\n",
      "The percent error in the value of the wavelngth of the photon was: 8.125%.\n",
      "The percent error in the frequency of the photon was: 8.844%.\n"
     ]
    }
   ],
   "source": [
    "#Define the known values that are given by the book\n",
    "\n",
    "hc = 1240 #units are eV*nm # this helped us calculate the wavelength in nanometers, hence the underscore of \"nm\"\n",
    "                                #this is just planck's constant multiplied by the speed of light \n",
    "\n",
    "h = 4.136 * 10**-15 #units are eV*s #this will be used to calculate the frequency\n",
    "\n",
    "\n",
    "lamb_exp= (hc)/(d_energy) #find the experimental value of the lambda\n",
    "print(\"The experimental value of the wavelength is: {:.3f}nm.\".format(lamb_exp))\n",
    "\n",
    "freq_exp= (d_energy)/(h) #frequency of our experiment in Hz\n",
    "\n",
    "print(\"The experimental value of the frequency is: {:.3f}Hz.\".format(freq_exp))\n",
    "\n",
    "#### NOW WE SHOULD FIND THE PERCENT ERROR IN OUR VALUES OF THE CHANGE IN ENERGY, THE WAVELENGTH, AND THE FREQUENCY\n",
    "# DEFINE THE THEORETICAL VALUES OF THE FRANCK-HERTZ EXPERIMENT\n",
    "\n",
    "d_energy_theo = 4.9 #ev, reminder that this is the theoretical value given by the textbook\n",
    "\n",
    "lamb_theo = (hc)/(d_energy_theo) #this will be the theoretical wavelength in nanometers\n",
    "freq_theo = (d_energy_theo)/(h)  #this will give the theoretical frequency in Hz\n",
    "\n",
    "print(\"The theoretical values of the wavelength and frequency at this excited energy are {0:.3f}nm, and {1:.3f}Hz.\".format(lamb_theo,freq_theo))\n",
    "\n",
    "#Now find the percent error in these values between the theoretical and measured value\n",
    "\n",
    "error_energy = (((d_energy)-(d_energy_theo))/(d_energy_theo))*100\n",
    "print(\"The percent error of the change in energy was: {:.3f}%\".format(error_energy))\n",
    "\n",
    "error_wave = abs(((lamb_exp)-(lamb_theo))/(lamb_theo))*100 #this was negative so it needed the absoluted value of the calculation\n",
    "print(\"The percent error in the value of the wavelngth of the photon was: {:.3f}%.\".format(error_wave))\n",
    "\n",
    "error_freq = (((freq_exp)-(freq_theo))/(freq_theo))*100\n",
    "print(\"The percent error in the frequency of the photon was: {:.3f}%.\".format(error_freq))"
   ]
  },
  {
   "cell_type": "markdown",
   "metadata": {},
   "source": [
    "# Conclusion "
   ]
  },
  {
   "cell_type": "markdown",
   "metadata": {
    "collapsed": true
   },
   "source": [
    "In this experiment, we calculated the average of both the peaks and troughs and converted this to a change in energy which we determined to be 5.33 eV. Compared to the theoretical value of the change in energy of the theoretical value, there was a percent error of 8.84%. The frequency was calculated to be 1.29X10^15 Hz, which had the same percent error as the change in energy. Lastly, for the wavelength, the percent error was calculated to be 8.125% where the experimental value of the wavelength was 232.5 nm. The reason for this error could be due to the fact that the there was a very limited amount of data to use. If there were more minima and maxima to measure on the oscilloscope. "
   ]
  },
  {
   "cell_type": "markdown",
   "metadata": {},
   "source": [
    "# References"
   ]
  },
  {
   "cell_type": "markdown",
   "metadata": {
    "collapsed": true
   },
   "source": [
    "Experimental Manual: Franck Hertz Experiment\n",
    "\n",
    "Franck-Hertz Experiment: Operating instructions\n",
    "\n",
    "Serway, R. A., Moses, C. J., & Moyer, C. A. (2004). Modern Physics (3rd ed.)."
   ]
  }
 ],
 "metadata": {
  "kernelspec": {
   "display_name": "Python 3",
   "language": "python",
   "name": "python3"
  },
  "language_info": {
   "codemirror_mode": {
    "name": "ipython",
    "version": 3
   },
   "file_extension": ".py",
   "mimetype": "text/x-python",
   "name": "python",
   "nbconvert_exporter": "python",
   "pygments_lexer": "ipython3",
   "version": "3.6.2"
  }
 },
 "nbformat": 4,
 "nbformat_minor": 2
}
