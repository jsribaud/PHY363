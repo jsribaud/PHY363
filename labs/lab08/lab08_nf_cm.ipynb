{
 "cells": [
  {
   "cell_type": "markdown",
   "metadata": {},
   "source": [
    "# Franck-Hertz Experiment"
   ]
  },
  {
   "cell_type": "markdown",
   "metadata": {},
   "source": [
    "###### Chelsey McMichael and Nathaniel Flower"
   ]
  },
  {
   "cell_type": "markdown",
   "metadata": {},
   "source": [
    "# Abstract"
   ]
  },
  {
   "cell_type": "markdown",
   "metadata": {
    "collapsed": true
   },
   "source": []
  },
  {
   "cell_type": "markdown",
   "metadata": {},
   "source": [
    "# Introduction"
   ]
  },
  {
   "cell_type": "markdown",
   "metadata": {
    "collapsed": true
   },
   "source": [
    "The German physicists James Franck and Gustav Hertz performed an experiment involving Mercury atoms that experimentally proved the existence of quanitzed energy levels at the atommic level. It also revealed that these quantized energy levels deduced from electron bombardment were consistent with those deduced from optical line spectra. This was instrumental in creating the modern atomic theory and confiming Bohr's postulates. "
   ]
  },
  {
   "cell_type": "markdown",
   "metadata": {},
   "source": [
    "# Procedure"
   ]
  },
  {
   "cell_type": "markdown",
   "metadata": {},
   "source": []
  },
  {
   "cell_type": "markdown",
   "metadata": {},
   "source": [
    "# Data "
   ]
  },
  {
   "cell_type": "markdown",
   "metadata": {
    "collapsed": true
   },
   "source": [
    "###### Table 1. Trough and Peak Measurements\n",
    "**Trial**|**Maxima (mV)**|**Minima (mV)**\n",
    ":-----:|:-----:|:-----:\n",
    "1|480|520\n",
    "2|550|550\n",
    "3|540|560"
   ]
  },
  {
   "cell_type": "code",
   "execution_count": 9,
   "metadata": {},
   "outputs": [
    {
     "name": "stdout",
     "output_type": "stream",
     "text": [
      "The average of the minima is 543.333333333 mV.\n",
      "The average of the maxima is 523.333333333 mV.\n",
      "The average of the two quantities is 533.333333333 mV.\n"
     ]
    }
   ],
   "source": [
    "# here we are calculating the average of of the minima and the maxima\n",
    "from astropy.io import ascii\n",
    "\n",
    "data=ascii.read(\"data_cm.csv\") #bring in the csv\n",
    "\n",
    "peak=data['peak']     #these are the two measurements we did \n",
    "trough=data['trough']\n",
    "\n",
    "avg_min = sum(trough)/3  #both of these give us the average of the three data points of each column\n",
    "\n",
    "avg_max = sum(peak)/3\n",
    "\n",
    "print(\"The average of the minima is\",avg_min,\"mV.\")\n",
    "print(\"The average of the maxima is\", avg_max,\"mV.\")\n",
    "\n",
    "avg = (avg_min + avg_max)/ 2\n",
    "print(\"The average of the two quantities is\", avg,\"mV.\")"
   ]
  },
  {
   "cell_type": "markdown",
   "metadata": {},
   "source": [
    "# Calculations"
   ]
  },
  {
   "cell_type": "code",
   "execution_count": null,
   "metadata": {
    "collapsed": true
   },
   "outputs": [],
   "source": []
  },
  {
   "cell_type": "markdown",
   "metadata": {},
   "source": [
    "# Conclusion "
   ]
  },
  {
   "cell_type": "code",
   "execution_count": null,
   "metadata": {
    "collapsed": true
   },
   "outputs": [],
   "source": []
  },
  {
   "cell_type": "markdown",
   "metadata": {},
   "source": [
    "# References"
   ]
  },
  {
   "cell_type": "markdown",
   "metadata": {
    "collapsed": true
   },
   "source": [
    "Experimental Manual: Franck Hertz Experiment\n",
    "\n",
    "Franck-Hertz Experiment: Operating instructions\n",
    "\n",
    "Serway, R. A., Moses, C. J., & Moyer, C. A. (2004). Modern Physics (3rd ed.)."
   ]
  }
 ],
 "metadata": {
  "kernelspec": {
   "display_name": "Python 3",
   "language": "python",
   "name": "python3"
  },
  "language_info": {
   "codemirror_mode": {
    "name": "ipython",
    "version": 3
   },
   "file_extension": ".py",
   "mimetype": "text/x-python",
   "name": "python",
   "nbconvert_exporter": "python",
   "pygments_lexer": "ipython3",
   "version": "3.6.2"
  }
 },
 "nbformat": 4,
 "nbformat_minor": 2
}
