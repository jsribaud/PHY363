{
 "cells": [
  {
   "cell_type": "markdown",
   "metadata": {},
   "source": [
    "# Baffon Needle Experiment: Daniel Alfeo & Justin Houle"
   ]
  },
  {
   "cell_type": "markdown",
   "metadata": {},
   "source": [
    "# Abstract"
   ]
  },
  {
   "cell_type": "markdown",
   "metadata": {},
   "source": [
    "In this lab, we are given only straight rigid objects and a grid whose space between are the length of the object. We are to drop the straight objects in the grid and find an experimental probability of the objects to intersect with parallel lines in the grid. We are then to find how the probability relates to the value of pi."
   ]
  },
  {
   "cell_type": "markdown",
   "metadata": {},
   "source": [
    "# Introduction"
   ]
  },
  {
   "cell_type": "markdown",
   "metadata": {},
   "source": [
    "This experiment is based off of the Baffon Needle experiment. The original experiment was intended to find the probability of long rigid objects, such as needles, intersecting the gridlines. We were told that the probability given by # of hits / # of total attempts is related to pi. With no way to measure angles or circles in the experiment, one is left with a probability from a experiment of random drops to try and calculate the value of pi. It tests an ability to gather a value using very limited resources. If we can find an expression for this probability in terms of pi and other known values using a little bit of calculus, then we can calculate the actual value of pi."
   ]
  },
  {
   "cell_type": "markdown",
   "metadata": {},
   "source": [
    "# Data"
   ]
  },
  {
   "cell_type": "markdown",
   "metadata": {},
   "source": [
    "We dropped a bundle of eight sticks for a total of twenty attempts. This gives us 160 sticks being tested in total. Our end result was 117 confirmed hits out of 160 total attempted sticks. This gives a probability of 0.73125, or 73.125% chance of a dropped stick hitting the grid-lines."
   ]
  },
  {
   "cell_type": "markdown",
   "metadata": {},
   "source": [
    "# Analysis"
   ]
  },
  {
   "cell_type": "markdown",
   "metadata": {},
   "source": [
    "In this experiment there are two variables. The first variable, d, is the shortest distance from the center of the stick to the nearest gridline. The second variable is the angle, θ, at which the stick lines up with respect to the parallel gridlines. We have a constant value, D, which represents the length of the stick as well as the perpendicular distance between gridlines.\n",
    "\n",
    "Using this information, we can use calculus to derive a function for all the possible values of d (landing locations) and a function for all the possible values of θ (landing orientation with-respect-to the gridlines).\n",
    "We end up with upper and lower bounds for d and θ, 0 < d < D/2, -π/2 < θ < π/2.\n",
    "\n",
    "Using calculus to find the span of values for d, we end up with the simple integral of dx on the interval from 0 to D/2 which is simply D/2.\n",
    "\n",
    "For θ, we know only care about the horizontal distance given from (D/2)cosθ.\n",
    "\n",
    "Using this information, we can find the span of values for θ if we take the integral of (D/2)cos(θ)dθ on the interval from -π/2 to π/2. This intergral turns out to equal πD/2.\n",
    "\n",
    "This is value tells us where the stick must land and in order for it to be an intersection with the gridlines. Now, we can say that the experimental probability we found earlier should be represented by the total possible landing area divided by the area where the stick must land, or D/(πD/2).\n",
    "\n",
    "This gives us D/(πD/2)= 0.73125 <==> 2/π = 0.73125 <==> π = 2.735\n",
    "\n",
    "So the value we calculated for pi is 2.735. We know that the true value of pi is roughly 3.1415, so we can find our error to be (3.1415 - 2.735)/3.1415 = 12.9% error."
   ]
  },
  {
   "cell_type": "markdown",
   "metadata": {},
   "source": [
    "# Results"
   ]
  },
  {
   "cell_type": "markdown",
   "metadata": {},
   "source": [
    "By the end of the experiment our calculated value was close to pi, but was not within a 10% error frame. This shows that the experiment has validity to it, but that there may have been some procedural error when we were collecting data. Perhaps instead of dropping 8 sticks per attempt, it is instead better to only do one stick per attempt. Even though it would give less numbers, the possibility of numbers being skewed from sticks colliding is taken out. Another possible source for this error could have been that our drops of the sticks were not random or scattered enough, but that they began to take on some sort of trend that caused more or less of the sticks to intersect than should actually be the case. The final source of error could have been due to not having an extended look at the grid (for sticks that would end up far from the set-up), so some sticks that seem to intersect or not intersect, may in fact be doing the opposite."
   ]
  }
 ],
 "metadata": {
  "kernelspec": {
   "display_name": "Python 3",
   "language": "python",
   "name": "python3"
  },
  "language_info": {
   "codemirror_mode": {
    "name": "ipython",
    "version": 3
   },
   "file_extension": ".py",
   "mimetype": "text/x-python",
   "name": "python",
   "nbconvert_exporter": "python",
   "pygments_lexer": "ipython3",
   "version": "3.6.1"
  }
 },
 "nbformat": 4,
 "nbformat_minor": 1
}
